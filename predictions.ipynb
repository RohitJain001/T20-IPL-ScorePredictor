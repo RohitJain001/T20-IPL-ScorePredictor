{
 "cells": [
  {
   "cell_type": "code",
   "execution_count": 1,
   "id": "similar-motion",
   "metadata": {},
   "outputs": [],
   "source": [
    "import pandas as pd\n",
    "import numpy as np\n",
    "import joblib"
   ]
  },
  {
   "cell_type": "code",
   "execution_count": 2,
   "id": "associate-swimming",
   "metadata": {},
   "outputs": [],
   "source": [
    "with open('lasso.joblib','rb') as f:\n",
    "    lasso_regressor = joblib.load(f)\n",
    "with open('encoder_bat.joblib','rb') as f:\n",
    "    encoder = joblib.load(f)\n",
    "with open('encoder_bowl.joblib','rb') as f:\n",
    "    encoder1 = joblib.load(f)\n",
    "with open('encoder_team.joblib','rb') as f:\n",
    "    encoder2 = joblib.load(f)\n",
    "with open('encoder_venue.joblib','rb') as f:\n",
    "    encoder3 = joblib.load(f)"
   ]
  },
  {
   "cell_type": "code",
   "execution_count": 3,
   "id": "paperback-charleston",
   "metadata": {},
   "outputs": [],
   "source": [
    "#predict_runs"
   ]
  },
  {
   "cell_type": "code",
   "execution_count": 4,
   "id": "abroad-attack",
   "metadata": {},
   "outputs": [],
   "source": [
    "data = pd.read_csv('./21_inn1.csv')"
   ]
  },
  {
   "cell_type": "code",
   "execution_count": 5,
   "id": "european-imaging",
   "metadata": {},
   "outputs": [
    {
     "data": {
      "text/html": [
       "<div>\n",
       "<style scoped>\n",
       "    .dataframe tbody tr th:only-of-type {\n",
       "        vertical-align: middle;\n",
       "    }\n",
       "\n",
       "    .dataframe tbody tr th {\n",
       "        vertical-align: top;\n",
       "    }\n",
       "\n",
       "    .dataframe thead th {\n",
       "        text-align: right;\n",
       "    }\n",
       "</style>\n",
       "<table border=\"1\" class=\"dataframe\">\n",
       "  <thead>\n",
       "    <tr style=\"text-align: right;\">\n",
       "      <th></th>\n",
       "      <th>venue</th>\n",
       "      <th>innings</th>\n",
       "      <th>batting_team</th>\n",
       "      <th>bowling_team</th>\n",
       "      <th>batsmen</th>\n",
       "      <th>bowlers</th>\n",
       "    </tr>\n",
       "  </thead>\n",
       "  <tbody>\n",
       "    <tr>\n",
       "      <th>0</th>\n",
       "      <td>Narendra Modi Stadium</td>\n",
       "      <td>1</td>\n",
       "      <td>Punjab Kings</td>\n",
       "      <td>Kolkata Knight Riders</td>\n",
       "      <td>MA Agarwal,KL Rahul,CH Gayle</td>\n",
       "      <td>Shivam Mavi,PJ Cummins,SP Narine</td>\n",
       "    </tr>\n",
       "  </tbody>\n",
       "</table>\n",
       "</div>"
      ],
      "text/plain": [
       "                   venue  innings  batting_team           bowling_team  \\\n",
       "0  Narendra Modi Stadium        1  Punjab Kings  Kolkata Knight Riders   \n",
       "\n",
       "                        batsmen                           bowlers  \n",
       "0  MA Agarwal,KL Rahul,CH Gayle  Shivam Mavi,PJ Cummins,SP Narine  "
      ]
     },
     "execution_count": 5,
     "metadata": {},
     "output_type": "execute_result"
    }
   ],
   "source": [
    "data.head()"
   ]
  },
  {
   "cell_type": "code",
   "execution_count": 6,
   "id": "steady-blind",
   "metadata": {},
   "outputs": [],
   "source": [
    "#data.dtypes\n",
    "#dic\n",
    "#dic"
   ]
  },
  {
   "cell_type": "code",
   "execution_count": 7,
   "id": "informed-report",
   "metadata": {},
   "outputs": [],
   "source": [
    "dic = dict(zip(encoder.classes_, encoder.transform(encoder.classes_)))\n",
    "dic1 = dict(zip(encoder1.classes_, encoder1.transform(encoder1.classes_)))"
   ]
  },
  {
   "cell_type": "code",
   "execution_count": 8,
   "id": "numerical-globe",
   "metadata": {},
   "outputs": [],
   "source": [
    "#data = pd.get_dummies(data=data, columns=['batting_team', 'bowling_team', 'venue'])\n",
    "data['batsmen'] = data['batsmen'].str.split(',')\n",
    "#x=len(data['batsmen'])\n",
    "data = data.join(pd.DataFrame(data.batsmen.values.tolist(), data.index).add_prefix('batsmen'))\n",
    "data['bowlers'] = data['bowlers'].str.split(',')\n",
    "data = data.join(pd.DataFrame(data.bowlers.values.tolist(), data.index).add_prefix('bowlers'))"
   ]
  },
  {
   "cell_type": "code",
   "execution_count": 9,
   "id": "quarterly-cartridge",
   "metadata": {},
   "outputs": [],
   "source": [
    "data['batting_team'] = encoder2.transform(data['batting_team'])\n",
    "data['bowling_team'] = encoder2.transform(data['bowling_team'])\n",
    "data['venue'] = encoder3.transform(data['venue'])"
   ]
  },
  {
   "cell_type": "code",
   "execution_count": 10,
   "id": "negative-james",
   "metadata": {},
   "outputs": [
    {
     "data": {
      "text/plain": [
       "Index(['venue', 'innings', 'batting_team', 'bowling_team', 'batsmen',\n",
       "       'bowlers', 'batsmen0', 'batsmen1', 'batsmen2', 'bowlers0', 'bowlers1',\n",
       "       'bowlers2'],\n",
       "      dtype='object')"
      ]
     },
     "execution_count": 10,
     "metadata": {},
     "output_type": "execute_result"
    }
   ],
   "source": [
    "#dic1\n",
    "data.columns"
   ]
  },
  {
   "cell_type": "code",
   "execution_count": 11,
   "id": "metallic-martin",
   "metadata": {},
   "outputs": [],
   "source": [
    "data['batsmen0'] = data['batsmen0'].map(dic) if ('batsmen0' in data.columns) else 0\n",
    "data['batsmen1'] = data['batsmen1'].map(dic) if ('batsmen1' in data.columns) else 0\n",
    "data['batsmen2'] = data['batsmen2'].map(dic) if ('batsmen2' in data.columns) else 0\n",
    "data['batsmen3'] = data['batsmen3'].map(dic) if ('batsmen3' in data.columns) else 0\n",
    "data['batsmen4'] = data['batsmen4'].map(dic) if ('batsmen4' in data.columns) else 0\n",
    "data['batsmen5'] = data['batsmen5'].map(dic) if ('batsmen5' in data.columns) else 0\n",
    "data['batsmen6'] = data['batsmen6'].map(dic) if ('batsmen6' in data.columns) else 0\n",
    "data['batsmen7'] = data['batsmen7'].map(dic) if ('batsmen7' in data.columns) else 0\n",
    "data['batsmen8'] = data['batsmen8'].map(dic) if ('batsmen8' in data.columns) else 0\n",
    "\n",
    "\n",
    "data['bowlers0'] = data['bowlers0'].map(dic1) if ('bowlers0' in data.columns) else 0\n",
    "data['bowlers1'] = data['bowlers1'].map(dic1) if ('bowlers1' in data.columns) else 0\n",
    "data['bowlers2'] = data['bowlers2'].map(dic1) if ('bowlers2' in data.columns) else 0\n",
    "data['bowlers3'] = data['bowlers3'].map(dic1) if ('bowlers3' in data.columns) else 0\n",
    "data['bowlers4'] = data['bowlers4'].map(dic1) if ('bowlers4' in data.columns) else 0"
   ]
  },
  {
   "cell_type": "code",
   "execution_count": 12,
   "id": "recognized-toner",
   "metadata": {},
   "outputs": [],
   "source": [
    "data.drop(['batsmen','bowlers'],axis=1,inplace=True)"
   ]
  },
  {
   "cell_type": "code",
   "execution_count": 13,
   "id": "ranking-kuwait",
   "metadata": {},
   "outputs": [
    {
     "data": {
      "text/html": [
       "<div>\n",
       "<style scoped>\n",
       "    .dataframe tbody tr th:only-of-type {\n",
       "        vertical-align: middle;\n",
       "    }\n",
       "\n",
       "    .dataframe tbody tr th {\n",
       "        vertical-align: top;\n",
       "    }\n",
       "\n",
       "    .dataframe thead th {\n",
       "        text-align: right;\n",
       "    }\n",
       "</style>\n",
       "<table border=\"1\" class=\"dataframe\">\n",
       "  <thead>\n",
       "    <tr style=\"text-align: right;\">\n",
       "      <th></th>\n",
       "      <th>venue</th>\n",
       "      <th>innings</th>\n",
       "      <th>batting_team</th>\n",
       "      <th>bowling_team</th>\n",
       "      <th>batsmen0</th>\n",
       "      <th>batsmen1</th>\n",
       "      <th>batsmen2</th>\n",
       "      <th>bowlers0</th>\n",
       "      <th>bowlers1</th>\n",
       "      <th>bowlers2</th>\n",
       "      <th>batsmen3</th>\n",
       "      <th>batsmen4</th>\n",
       "      <th>batsmen5</th>\n",
       "      <th>batsmen6</th>\n",
       "      <th>batsmen7</th>\n",
       "      <th>batsmen8</th>\n",
       "      <th>bowlers3</th>\n",
       "      <th>bowlers4</th>\n",
       "    </tr>\n",
       "  </thead>\n",
       "  <tbody>\n",
       "    <tr>\n",
       "      <th>0</th>\n",
       "      <td>4</td>\n",
       "      <td>1</td>\n",
       "      <td>4</td>\n",
       "      <td>2</td>\n",
       "      <td>200</td>\n",
       "      <td>166</td>\n",
       "      <td>66</td>\n",
       "      <td>266</td>\n",
       "      <td>193</td>\n",
       "      <td>257</td>\n",
       "      <td>0</td>\n",
       "      <td>0</td>\n",
       "      <td>0</td>\n",
       "      <td>0</td>\n",
       "      <td>0</td>\n",
       "      <td>0</td>\n",
       "      <td>0</td>\n",
       "      <td>0</td>\n",
       "    </tr>\n",
       "  </tbody>\n",
       "</table>\n",
       "</div>"
      ],
      "text/plain": [
       "   venue  innings  batting_team  bowling_team  batsmen0  batsmen1  batsmen2  \\\n",
       "0      4        1             4             2       200       166        66   \n",
       "\n",
       "   bowlers0  bowlers1  bowlers2  batsmen3  batsmen4  batsmen5  batsmen6  \\\n",
       "0       266       193       257         0         0         0         0   \n",
       "\n",
       "   batsmen7  batsmen8  bowlers3  bowlers4  \n",
       "0         0         0         0         0  "
      ]
     },
     "execution_count": 13,
     "metadata": {},
     "output_type": "execute_result"
    }
   ],
   "source": [
    "data.head()"
   ]
  },
  {
   "cell_type": "code",
   "execution_count": 29,
   "id": "spoken-married",
   "metadata": {},
   "outputs": [],
   "source": [
    "data = data.fillna(0)\n",
    "for i in data.columns:\n",
    "    #if data[i].dtype == 'float64':\n",
    "    data[i]=data[i].astype('int64')\n"
   ]
  },
  {
   "cell_type": "code",
   "execution_count": 30,
   "id": "cutting-fashion",
   "metadata": {},
   "outputs": [
    {
     "data": {
      "text/html": [
       "<div>\n",
       "<style scoped>\n",
       "    .dataframe tbody tr th:only-of-type {\n",
       "        vertical-align: middle;\n",
       "    }\n",
       "\n",
       "    .dataframe tbody tr th {\n",
       "        vertical-align: top;\n",
       "    }\n",
       "\n",
       "    .dataframe thead th {\n",
       "        text-align: right;\n",
       "    }\n",
       "</style>\n",
       "<table border=\"1\" class=\"dataframe\">\n",
       "  <thead>\n",
       "    <tr style=\"text-align: right;\">\n",
       "      <th></th>\n",
       "      <th>venue</th>\n",
       "      <th>innings</th>\n",
       "      <th>batting_team</th>\n",
       "      <th>bowling_team</th>\n",
       "      <th>batsmen0</th>\n",
       "      <th>batsmen1</th>\n",
       "      <th>batsmen2</th>\n",
       "      <th>bowlers0</th>\n",
       "      <th>bowlers1</th>\n",
       "      <th>bowlers2</th>\n",
       "      <th>batsmen3</th>\n",
       "      <th>batsmen4</th>\n",
       "      <th>batsmen5</th>\n",
       "      <th>batsmen6</th>\n",
       "      <th>batsmen7</th>\n",
       "      <th>batsmen8</th>\n",
       "      <th>bowlers3</th>\n",
       "      <th>bowlers4</th>\n",
       "    </tr>\n",
       "  </thead>\n",
       "  <tbody>\n",
       "    <tr>\n",
       "      <th>0</th>\n",
       "      <td>4</td>\n",
       "      <td>1</td>\n",
       "      <td>4</td>\n",
       "      <td>2</td>\n",
       "      <td>200</td>\n",
       "      <td>166</td>\n",
       "      <td>66</td>\n",
       "      <td>266</td>\n",
       "      <td>193</td>\n",
       "      <td>257</td>\n",
       "      <td>0</td>\n",
       "      <td>0</td>\n",
       "      <td>0</td>\n",
       "      <td>0</td>\n",
       "      <td>0</td>\n",
       "      <td>0</td>\n",
       "      <td>0</td>\n",
       "      <td>0</td>\n",
       "    </tr>\n",
       "  </tbody>\n",
       "</table>\n",
       "</div>"
      ],
      "text/plain": [
       "   venue  innings  batting_team  bowling_team  batsmen0  batsmen1  batsmen2  \\\n",
       "0      4        1             4             2       200       166        66   \n",
       "\n",
       "   bowlers0  bowlers1  bowlers2  batsmen3  batsmen4  batsmen5  batsmen6  \\\n",
       "0       266       193       257         0         0         0         0   \n",
       "\n",
       "   batsmen7  batsmen8  bowlers3  bowlers4  \n",
       "0         0         0         0         0  "
      ]
     },
     "execution_count": 30,
     "metadata": {},
     "output_type": "execute_result"
    }
   ],
   "source": [
    "#data = data.apply(pd.to_numeric, errors='ignore')\n",
    "data.head()"
   ]
  },
  {
   "cell_type": "code",
   "execution_count": 31,
   "id": "framed-poland",
   "metadata": {},
   "outputs": [],
   "source": [
    "predictions = lasso_regressor.predict(data)"
   ]
  },
  {
   "cell_type": "code",
   "execution_count": 32,
   "id": "ranking-taylor",
   "metadata": {},
   "outputs": [],
   "source": [
    "predictions = predictions.round(0).astype(int)"
   ]
  },
  {
   "cell_type": "code",
   "execution_count": 33,
   "id": "acting-packaging",
   "metadata": {},
   "outputs": [
    {
     "name": "stdout",
     "output_type": "stream",
     "text": [
      "[41]\n"
     ]
    }
   ],
   "source": [
    "print(predictions)"
   ]
  },
  {
   "cell_type": "code",
   "execution_count": 26,
   "id": "international-northwest",
   "metadata": {},
   "outputs": [
    {
     "ename": "SyntaxError",
     "evalue": "Missing parentheses in call to 'print'. Did you mean print(predictions[0])? (<ipython-input-26-2cb6f18cc22b>, line 2)",
     "output_type": "error",
     "traceback": [
      "\u001b[1;36m  File \u001b[1;32m\"<ipython-input-26-2cb6f18cc22b>\"\u001b[1;36m, line \u001b[1;32m2\u001b[0m\n\u001b[1;33m    print predictions[0]\u001b[0m\n\u001b[1;37m                    ^\u001b[0m\n\u001b[1;31mSyntaxError\u001b[0m\u001b[1;31m:\u001b[0m Missing parentheses in call to 'print'. Did you mean print(predictions[0])?\n"
     ]
    }
   ],
   "source": [
    "if len(predictions)==1:\n",
    "    return predictions[0]\n",
    "else:\n",
    "    return predictions"
   ]
  },
  {
   "cell_type": "code",
   "execution_count": 2,
   "id": "iraqi-retreat",
   "metadata": {},
   "outputs": [
    {
     "data": {
      "text/plain": [
       "'0.21.2'"
      ]
     },
     "execution_count": 2,
     "metadata": {},
     "output_type": "execute_result"
    }
   ],
   "source": [
    "import sklearn\n",
    "sklearn.__version__"
   ]
  },
  {
   "cell_type": "code",
   "execution_count": null,
   "id": "practical-hughes",
   "metadata": {},
   "outputs": [],
   "source": []
  }
 ],
 "metadata": {
  "kernelspec": {
   "display_name": "Python 3",
   "language": "python",
   "name": "python3"
  },
  "language_info": {
   "codemirror_mode": {
    "name": "ipython",
    "version": 3
   },
   "file_extension": ".py",
   "mimetype": "text/x-python",
   "name": "python",
   "nbconvert_exporter": "python",
   "pygments_lexer": "ipython3",
   "version": "3.7.3"
  }
 },
 "nbformat": 4,
 "nbformat_minor": 5
}
