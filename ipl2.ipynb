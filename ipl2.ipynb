{
 "cells": [
  {
   "cell_type": "code",
   "execution_count": 1,
   "id": "hundred-occupation",
   "metadata": {},
   "outputs": [],
   "source": [
    "import pandas as pd\n",
    "import numpy as np\n",
    "#print(pd.__version__)"
   ]
  },
  {
   "cell_type": "code",
   "execution_count": 2,
   "id": "paperback-civilian",
   "metadata": {},
   "outputs": [],
   "source": [
    "#import sklearn\n",
    "#print(sklearn.__version__)"
   ]
  },
  {
   "cell_type": "code",
   "execution_count": 3,
   "id": "looking-macintosh",
   "metadata": {},
   "outputs": [],
   "source": [
    "import tensorflow as tf"
   ]
  },
  {
   "cell_type": "code",
   "execution_count": 4,
   "id": "unusual-repeat",
   "metadata": {},
   "outputs": [],
   "source": [
    "#import glob"
   ]
  },
  {
   "cell_type": "code",
   "execution_count": 5,
   "id": "instant-aaron",
   "metadata": {},
   "outputs": [
    {
     "name": "stderr",
     "output_type": "stream",
     "text": [
      "C:\\Users\\DELL\\Anaconda3\\lib\\site-packages\\IPython\\core\\interactiveshell.py:3057: DtypeWarning: Columns (1) have mixed types.Specify dtype option on import or set low_memory=False.\n",
      "  interactivity=interactivity, compiler=compiler, result=result)\n"
     ]
    }
   ],
   "source": [
    "#all_files = glob.glob('./ipl_csv2/*.csv')\n",
    "#df_from_each_file = (pd.read_csv(f) for f in all_files)\n",
    "#df = pd.concat(df_from_each_file, ignore_index=True)\n",
    "df = pd.read_csv('./all_matches.csv')"
   ]
  },
  {
   "cell_type": "code",
   "execution_count": 6,
   "id": "thick-attribute",
   "metadata": {},
   "outputs": [
    {
     "data": {
      "text/plain": [
       "match_id                    int64\n",
       "season                     object\n",
       "start_date                 object\n",
       "venue                      object\n",
       "innings                     int64\n",
       "ball                      float64\n",
       "batting_team               object\n",
       "bowling_team               object\n",
       "striker                    object\n",
       "non_striker                object\n",
       "bowler                     object\n",
       "runs_off_bat                int64\n",
       "extras                      int64\n",
       "wides                     float64\n",
       "noballs                   float64\n",
       "byes                      float64\n",
       "legbyes                   float64\n",
       "penalty                   float64\n",
       "wicket_type                object\n",
       "player_dismissed           object\n",
       "other_wicket_type         float64\n",
       "other_player_dismissed    float64\n",
       "dtype: object"
      ]
     },
     "execution_count": 6,
     "metadata": {},
     "output_type": "execute_result"
    }
   ],
   "source": [
    "df.dtypes"
   ]
  },
  {
   "cell_type": "code",
   "execution_count": 7,
   "id": "federal-smell",
   "metadata": {},
   "outputs": [],
   "source": [
    "df.drop(['other_player_dismissed','other_wicket_type', 'penalty','player_dismissed','start_date'], axis=1, inplace=True)"
   ]
  },
  {
   "cell_type": "code",
   "execution_count": 8,
   "id": "pending-brisbane",
   "metadata": {},
   "outputs": [],
   "source": [
    "df['total_runs'] = df.iloc[:,-7:-2].sum(axis=1)"
   ]
  },
  {
   "cell_type": "code",
   "execution_count": 9,
   "id": "acquired-positive",
   "metadata": {},
   "outputs": [],
   "source": [
    "df.drop(['runs_off_bat','wides','noballs','extras','byes','legbyes'],axis=1, inplace=True)"
   ]
  },
  {
   "cell_type": "code",
   "execution_count": 10,
   "id": "sexual-creativity",
   "metadata": {},
   "outputs": [],
   "source": [
    "df.drop('season',inplace=True,axis=1)"
   ]
  },
  {
   "cell_type": "code",
   "execution_count": 11,
   "id": "threaded-bicycle",
   "metadata": {},
   "outputs": [
    {
     "data": {
      "text/plain": [
       "array(['Kolkata Knight Riders', 'Royal Challengers Bangalore',\n",
       "       'Chennai Super Kings', 'Kings XI Punjab', 'Rajasthan Royals',\n",
       "       'Delhi Daredevils', 'Deccan Chargers', 'Mumbai Indians',\n",
       "       'Kochi Tuskers Kerala', 'Pune Warriors', 'Sunrisers Hyderabad',\n",
       "       'Rising Pune Supergiants', 'Gujarat Lions',\n",
       "       'Rising Pune Supergiant', 'Delhi Capitals'], dtype=object)"
      ]
     },
     "execution_count": 11,
     "metadata": {},
     "output_type": "execute_result"
    }
   ],
   "source": [
    "df['batting_team'].unique()"
   ]
  },
  {
   "cell_type": "code",
   "execution_count": 12,
   "id": "voluntary-helicopter",
   "metadata": {},
   "outputs": [],
   "source": [
    "df['batting_team'] = df['batting_team'].replace(['Delhi Daredevils'],'Delhi Capitals')\n",
    "df['bowling_team'] = df['bowling_team'].replace(['Delhi Daredevils'],'Delhi Capitals')\n",
    "df['batting_team'] = df['batting_team'].replace(['Kings XI Punjab'],'Punjab Kings')\n",
    "df['bowling_team'] = df['bowling_team'].replace(['Kings XI Punjab'],'Punjab Kings')"
   ]
  },
  {
   "cell_type": "code",
   "execution_count": 13,
   "id": "extended-rating",
   "metadata": {},
   "outputs": [],
   "source": [
    "current_teams = ['Sunrisers Hyderabad', 'Royal Challengers Bangalore', 'Mumbai Indians', 'Kolkata Knight Riders', 'Chennai Super Kings', 'Rajasthan Royals', 'Delhi Capitals', 'Punjab Kings']"
   ]
  },
  {
   "cell_type": "code",
   "execution_count": 14,
   "id": "formal-commonwealth",
   "metadata": {},
   "outputs": [],
   "source": [
    "df = df[(df['batting_team'].isin(current_teams)) &(df['bowling_team'].isin(current_teams))]"
   ]
  },
  {
   "cell_type": "code",
   "execution_count": 15,
   "id": "generous-authentication",
   "metadata": {},
   "outputs": [
    {
     "data": {
      "text/plain": [
       "array(['M Chinnaswamy Stadium',\n",
       "       'Punjab Cricket Association Stadium, Mohali', 'Feroz Shah Kotla',\n",
       "       'Wankhede Stadium', 'Sawai Mansingh Stadium',\n",
       "       'MA Chidambaram Stadium, Chepauk', 'Eden Gardens',\n",
       "       'Dr DY Patil Sports Academy', 'Newlands', \"St George's Park\",\n",
       "       'Kingsmead', 'SuperSport Park', 'Buffalo Park',\n",
       "       'New Wanderers Stadium', 'De Beers Diamond Oval',\n",
       "       'OUTsurance Oval', 'Brabourne Stadium',\n",
       "       'Sardar Patel Stadium, Motera',\n",
       "       'Himachal Pradesh Cricket Association Stadium',\n",
       "       'Subrata Roy Sahara Stadium',\n",
       "       'Rajiv Gandhi International Stadium, Uppal',\n",
       "       'Shaheed Veer Narayan Singh International Stadium',\n",
       "       'JSCA International Stadium Complex', 'Sheikh Zayed Stadium',\n",
       "       'Sharjah Cricket Stadium', 'Dubai International Cricket Stadium',\n",
       "       'Barabati Stadium', 'Maharashtra Cricket Association Stadium',\n",
       "       'Dr. Y.S. Rajasekhara Reddy ACA-VDCA Cricket Stadium',\n",
       "       'Punjab Cricket Association IS Bindra Stadium, Mohali',\n",
       "       'M.Chinnaswamy Stadium', 'Holkar Cricket Stadium',\n",
       "       'MA Chidambaram Stadium', 'Arun Jaitley Stadium',\n",
       "       'Rajiv Gandhi International Stadium',\n",
       "       'Punjab Cricket Association IS Bindra Stadium',\n",
       "       'MA Chidambaram Stadium, Chepauk, Chennai',\n",
       "       'Wankhede Stadium, Mumbai'], dtype=object)"
      ]
     },
     "execution_count": 15,
     "metadata": {},
     "output_type": "execute_result"
    }
   ],
   "source": [
    "df['venue'].unique()"
   ]
  },
  {
   "cell_type": "code",
   "execution_count": 16,
   "id": "essential-house",
   "metadata": {},
   "outputs": [],
   "source": [
    "df['venue'] = df['venue'].replace(['MA Chidambaram Stadium, Chepauk, Chennai'],'MA Chidambaram Stadium')\n",
    "df['venue'] = df['venue'].replace(['MA Chidambaram Stadium, Chepauk'],'MA Chidambaram Stadium')\n",
    "df['venue'] = df['venue'].replace(['M.Chinnaswamy Stadium'],'M Chinnaswamy Stadium')\n",
    "df['venue'] = df['venue'].replace(['Sardar Patel Stadium, Motera'],'Narendra Modi Stadium')"
   ]
  },
  {
   "cell_type": "code",
   "execution_count": 17,
   "id": "behind-reviewer",
   "metadata": {},
   "outputs": [],
   "source": [
    "current_stadium = ['Wankhede Stadium, Mumbai', 'MA Chidambaram Stadium', 'M Chinnaswamy Stadium', 'Eden Gardens', 'Arun Jaitley Stadium', 'Narendra Modi Stadium']"
   ]
  },
  {
   "cell_type": "code",
   "execution_count": 18,
   "id": "serious-lafayette",
   "metadata": {},
   "outputs": [],
   "source": [
    "df = df[df['venue'].isin(current_stadium)]"
   ]
  },
  {
   "cell_type": "code",
   "execution_count": 19,
   "id": "backed-lincoln",
   "metadata": {},
   "outputs": [
    {
     "data": {
      "text/plain": [
       "50115"
      ]
     },
     "execution_count": 19,
     "metadata": {},
     "output_type": "execute_result"
    }
   ],
   "source": [
    "len(df)"
   ]
  },
  {
   "cell_type": "code",
   "execution_count": 20,
   "id": "instrumental-consciousness",
   "metadata": {},
   "outputs": [],
   "source": [
    "df.drop('wicket_type', axis=1, inplace=True)"
   ]
  },
  {
   "cell_type": "code",
   "execution_count": 21,
   "id": "conventional-color",
   "metadata": {},
   "outputs": [],
   "source": [
    "df = df[df['innings'] <=2]"
   ]
  },
  {
   "cell_type": "code",
   "execution_count": 22,
   "id": "powerful-rubber",
   "metadata": {},
   "outputs": [
    {
     "data": {
      "text/html": [
       "<div>\n",
       "<style scoped>\n",
       "    .dataframe tbody tr th:only-of-type {\n",
       "        vertical-align: middle;\n",
       "    }\n",
       "\n",
       "    .dataframe tbody tr th {\n",
       "        vertical-align: top;\n",
       "    }\n",
       "\n",
       "    .dataframe thead th {\n",
       "        text-align: right;\n",
       "    }\n",
       "</style>\n",
       "<table border=\"1\" class=\"dataframe\">\n",
       "  <thead>\n",
       "    <tr style=\"text-align: right;\">\n",
       "      <th></th>\n",
       "      <th>match_id</th>\n",
       "      <th>venue</th>\n",
       "      <th>innings</th>\n",
       "      <th>ball</th>\n",
       "      <th>batting_team</th>\n",
       "      <th>bowling_team</th>\n",
       "      <th>striker</th>\n",
       "      <th>non_striker</th>\n",
       "      <th>bowler</th>\n",
       "      <th>total_runs</th>\n",
       "    </tr>\n",
       "  </thead>\n",
       "  <tbody>\n",
       "    <tr>\n",
       "      <th>0</th>\n",
       "      <td>335982</td>\n",
       "      <td>M Chinnaswamy Stadium</td>\n",
       "      <td>1</td>\n",
       "      <td>0.1</td>\n",
       "      <td>Kolkata Knight Riders</td>\n",
       "      <td>Royal Challengers Bangalore</td>\n",
       "      <td>SC Ganguly</td>\n",
       "      <td>BB McCullum</td>\n",
       "      <td>P Kumar</td>\n",
       "      <td>1.0</td>\n",
       "    </tr>\n",
       "    <tr>\n",
       "      <th>1</th>\n",
       "      <td>335982</td>\n",
       "      <td>M Chinnaswamy Stadium</td>\n",
       "      <td>1</td>\n",
       "      <td>0.2</td>\n",
       "      <td>Kolkata Knight Riders</td>\n",
       "      <td>Royal Challengers Bangalore</td>\n",
       "      <td>BB McCullum</td>\n",
       "      <td>SC Ganguly</td>\n",
       "      <td>P Kumar</td>\n",
       "      <td>0.0</td>\n",
       "    </tr>\n",
       "    <tr>\n",
       "      <th>2</th>\n",
       "      <td>335982</td>\n",
       "      <td>M Chinnaswamy Stadium</td>\n",
       "      <td>1</td>\n",
       "      <td>0.3</td>\n",
       "      <td>Kolkata Knight Riders</td>\n",
       "      <td>Royal Challengers Bangalore</td>\n",
       "      <td>BB McCullum</td>\n",
       "      <td>SC Ganguly</td>\n",
       "      <td>P Kumar</td>\n",
       "      <td>2.0</td>\n",
       "    </tr>\n",
       "    <tr>\n",
       "      <th>3</th>\n",
       "      <td>335982</td>\n",
       "      <td>M Chinnaswamy Stadium</td>\n",
       "      <td>1</td>\n",
       "      <td>0.4</td>\n",
       "      <td>Kolkata Knight Riders</td>\n",
       "      <td>Royal Challengers Bangalore</td>\n",
       "      <td>BB McCullum</td>\n",
       "      <td>SC Ganguly</td>\n",
       "      <td>P Kumar</td>\n",
       "      <td>0.0</td>\n",
       "    </tr>\n",
       "    <tr>\n",
       "      <th>4</th>\n",
       "      <td>335982</td>\n",
       "      <td>M Chinnaswamy Stadium</td>\n",
       "      <td>1</td>\n",
       "      <td>0.5</td>\n",
       "      <td>Kolkata Knight Riders</td>\n",
       "      <td>Royal Challengers Bangalore</td>\n",
       "      <td>BB McCullum</td>\n",
       "      <td>SC Ganguly</td>\n",
       "      <td>P Kumar</td>\n",
       "      <td>0.0</td>\n",
       "    </tr>\n",
       "    <tr>\n",
       "      <th>5</th>\n",
       "      <td>335982</td>\n",
       "      <td>M Chinnaswamy Stadium</td>\n",
       "      <td>1</td>\n",
       "      <td>0.6</td>\n",
       "      <td>Kolkata Knight Riders</td>\n",
       "      <td>Royal Challengers Bangalore</td>\n",
       "      <td>BB McCullum</td>\n",
       "      <td>SC Ganguly</td>\n",
       "      <td>P Kumar</td>\n",
       "      <td>0.0</td>\n",
       "    </tr>\n",
       "    <tr>\n",
       "      <th>6</th>\n",
       "      <td>335982</td>\n",
       "      <td>M Chinnaswamy Stadium</td>\n",
       "      <td>1</td>\n",
       "      <td>0.7</td>\n",
       "      <td>Kolkata Knight Riders</td>\n",
       "      <td>Royal Challengers Bangalore</td>\n",
       "      <td>BB McCullum</td>\n",
       "      <td>SC Ganguly</td>\n",
       "      <td>P Kumar</td>\n",
       "      <td>1.0</td>\n",
       "    </tr>\n",
       "    <tr>\n",
       "      <th>7</th>\n",
       "      <td>335982</td>\n",
       "      <td>M Chinnaswamy Stadium</td>\n",
       "      <td>1</td>\n",
       "      <td>1.1</td>\n",
       "      <td>Kolkata Knight Riders</td>\n",
       "      <td>Royal Challengers Bangalore</td>\n",
       "      <td>BB McCullum</td>\n",
       "      <td>SC Ganguly</td>\n",
       "      <td>Z Khan</td>\n",
       "      <td>0.0</td>\n",
       "    </tr>\n",
       "    <tr>\n",
       "      <th>8</th>\n",
       "      <td>335982</td>\n",
       "      <td>M Chinnaswamy Stadium</td>\n",
       "      <td>1</td>\n",
       "      <td>1.2</td>\n",
       "      <td>Kolkata Knight Riders</td>\n",
       "      <td>Royal Challengers Bangalore</td>\n",
       "      <td>BB McCullum</td>\n",
       "      <td>SC Ganguly</td>\n",
       "      <td>Z Khan</td>\n",
       "      <td>4.0</td>\n",
       "    </tr>\n",
       "    <tr>\n",
       "      <th>9</th>\n",
       "      <td>335982</td>\n",
       "      <td>M Chinnaswamy Stadium</td>\n",
       "      <td>1</td>\n",
       "      <td>1.3</td>\n",
       "      <td>Kolkata Knight Riders</td>\n",
       "      <td>Royal Challengers Bangalore</td>\n",
       "      <td>BB McCullum</td>\n",
       "      <td>SC Ganguly</td>\n",
       "      <td>Z Khan</td>\n",
       "      <td>4.0</td>\n",
       "    </tr>\n",
       "    <tr>\n",
       "      <th>10</th>\n",
       "      <td>335982</td>\n",
       "      <td>M Chinnaswamy Stadium</td>\n",
       "      <td>1</td>\n",
       "      <td>1.4</td>\n",
       "      <td>Kolkata Knight Riders</td>\n",
       "      <td>Royal Challengers Bangalore</td>\n",
       "      <td>BB McCullum</td>\n",
       "      <td>SC Ganguly</td>\n",
       "      <td>Z Khan</td>\n",
       "      <td>6.0</td>\n",
       "    </tr>\n",
       "    <tr>\n",
       "      <th>11</th>\n",
       "      <td>335982</td>\n",
       "      <td>M Chinnaswamy Stadium</td>\n",
       "      <td>1</td>\n",
       "      <td>1.5</td>\n",
       "      <td>Kolkata Knight Riders</td>\n",
       "      <td>Royal Challengers Bangalore</td>\n",
       "      <td>BB McCullum</td>\n",
       "      <td>SC Ganguly</td>\n",
       "      <td>Z Khan</td>\n",
       "      <td>4.0</td>\n",
       "    </tr>\n",
       "    <tr>\n",
       "      <th>12</th>\n",
       "      <td>335982</td>\n",
       "      <td>M Chinnaswamy Stadium</td>\n",
       "      <td>1</td>\n",
       "      <td>1.6</td>\n",
       "      <td>Kolkata Knight Riders</td>\n",
       "      <td>Royal Challengers Bangalore</td>\n",
       "      <td>BB McCullum</td>\n",
       "      <td>SC Ganguly</td>\n",
       "      <td>Z Khan</td>\n",
       "      <td>0.0</td>\n",
       "    </tr>\n",
       "    <tr>\n",
       "      <th>13</th>\n",
       "      <td>335982</td>\n",
       "      <td>M Chinnaswamy Stadium</td>\n",
       "      <td>1</td>\n",
       "      <td>2.1</td>\n",
       "      <td>Kolkata Knight Riders</td>\n",
       "      <td>Royal Challengers Bangalore</td>\n",
       "      <td>SC Ganguly</td>\n",
       "      <td>BB McCullum</td>\n",
       "      <td>P Kumar</td>\n",
       "      <td>0.0</td>\n",
       "    </tr>\n",
       "    <tr>\n",
       "      <th>14</th>\n",
       "      <td>335982</td>\n",
       "      <td>M Chinnaswamy Stadium</td>\n",
       "      <td>1</td>\n",
       "      <td>2.2</td>\n",
       "      <td>Kolkata Knight Riders</td>\n",
       "      <td>Royal Challengers Bangalore</td>\n",
       "      <td>SC Ganguly</td>\n",
       "      <td>BB McCullum</td>\n",
       "      <td>P Kumar</td>\n",
       "      <td>0.0</td>\n",
       "    </tr>\n",
       "  </tbody>\n",
       "</table>\n",
       "</div>"
      ],
      "text/plain": [
       "    match_id                  venue  innings  ball           batting_team  \\\n",
       "0     335982  M Chinnaswamy Stadium        1   0.1  Kolkata Knight Riders   \n",
       "1     335982  M Chinnaswamy Stadium        1   0.2  Kolkata Knight Riders   \n",
       "2     335982  M Chinnaswamy Stadium        1   0.3  Kolkata Knight Riders   \n",
       "3     335982  M Chinnaswamy Stadium        1   0.4  Kolkata Knight Riders   \n",
       "4     335982  M Chinnaswamy Stadium        1   0.5  Kolkata Knight Riders   \n",
       "5     335982  M Chinnaswamy Stadium        1   0.6  Kolkata Knight Riders   \n",
       "6     335982  M Chinnaswamy Stadium        1   0.7  Kolkata Knight Riders   \n",
       "7     335982  M Chinnaswamy Stadium        1   1.1  Kolkata Knight Riders   \n",
       "8     335982  M Chinnaswamy Stadium        1   1.2  Kolkata Knight Riders   \n",
       "9     335982  M Chinnaswamy Stadium        1   1.3  Kolkata Knight Riders   \n",
       "10    335982  M Chinnaswamy Stadium        1   1.4  Kolkata Knight Riders   \n",
       "11    335982  M Chinnaswamy Stadium        1   1.5  Kolkata Knight Riders   \n",
       "12    335982  M Chinnaswamy Stadium        1   1.6  Kolkata Knight Riders   \n",
       "13    335982  M Chinnaswamy Stadium        1   2.1  Kolkata Knight Riders   \n",
       "14    335982  M Chinnaswamy Stadium        1   2.2  Kolkata Knight Riders   \n",
       "\n",
       "                   bowling_team      striker  non_striker   bowler  total_runs  \n",
       "0   Royal Challengers Bangalore   SC Ganguly  BB McCullum  P Kumar         1.0  \n",
       "1   Royal Challengers Bangalore  BB McCullum   SC Ganguly  P Kumar         0.0  \n",
       "2   Royal Challengers Bangalore  BB McCullum   SC Ganguly  P Kumar         2.0  \n",
       "3   Royal Challengers Bangalore  BB McCullum   SC Ganguly  P Kumar         0.0  \n",
       "4   Royal Challengers Bangalore  BB McCullum   SC Ganguly  P Kumar         0.0  \n",
       "5   Royal Challengers Bangalore  BB McCullum   SC Ganguly  P Kumar         0.0  \n",
       "6   Royal Challengers Bangalore  BB McCullum   SC Ganguly  P Kumar         1.0  \n",
       "7   Royal Challengers Bangalore  BB McCullum   SC Ganguly   Z Khan         0.0  \n",
       "8   Royal Challengers Bangalore  BB McCullum   SC Ganguly   Z Khan         4.0  \n",
       "9   Royal Challengers Bangalore  BB McCullum   SC Ganguly   Z Khan         4.0  \n",
       "10  Royal Challengers Bangalore  BB McCullum   SC Ganguly   Z Khan         6.0  \n",
       "11  Royal Challengers Bangalore  BB McCullum   SC Ganguly   Z Khan         4.0  \n",
       "12  Royal Challengers Bangalore  BB McCullum   SC Ganguly   Z Khan         0.0  \n",
       "13  Royal Challengers Bangalore   SC Ganguly  BB McCullum  P Kumar         0.0  \n",
       "14  Royal Challengers Bangalore   SC Ganguly  BB McCullum  P Kumar         0.0  "
      ]
     },
     "execution_count": 22,
     "metadata": {},
     "output_type": "execute_result"
    }
   ],
   "source": [
    "df.head(15)"
   ]
  },
  {
   "cell_type": "code",
   "execution_count": 23,
   "id": "macro-portal",
   "metadata": {},
   "outputs": [
    {
     "data": {
      "text/plain": [
       "50071"
      ]
     },
     "execution_count": 23,
     "metadata": {},
     "output_type": "execute_result"
    }
   ],
   "source": [
    "len(df)"
   ]
  },
  {
   "cell_type": "code",
   "execution_count": null,
   "id": "operational-madison",
   "metadata": {},
   "outputs": [],
   "source": []
  },
  {
   "cell_type": "code",
   "execution_count": null,
   "id": "fundamental-newfoundland",
   "metadata": {},
   "outputs": [],
   "source": []
  },
  {
   "cell_type": "code",
   "execution_count": 24,
   "id": "paperback-dodge",
   "metadata": {},
   "outputs": [],
   "source": [
    "#encoder.fit_transform(df['non_striker'])"
   ]
  },
  {
   "cell_type": "code",
   "execution_count": 25,
   "id": "adopted-jerusalem",
   "metadata": {},
   "outputs": [],
   "source": [
    "#encoder.transform(df['striker'])"
   ]
  },
  {
   "cell_type": "code",
   "execution_count": 26,
   "id": "liberal-superior",
   "metadata": {},
   "outputs": [],
   "source": [
    "from sklearn.preprocessing import LabelEncoder\n",
    "encoder = LabelEncoder()\n",
    "encoder1 = LabelEncoder()\n",
    "bat = pd.concat([df['striker'], df['non_striker']])\n",
    "encoder.fit(bat)\n",
    "dic = dict(zip(encoder.classes_, encoder.transform(encoder.classes_)))\n",
    "encoder1.fit(df['bowler'])\n",
    "dic1 = dict(zip(encoder1.classes_, encoder1.transform(encoder1.classes_)))"
   ]
  },
  {
   "cell_type": "code",
   "execution_count": 27,
   "id": "bigger-conservative",
   "metadata": {},
   "outputs": [
    {
     "data": {
      "text/plain": [
       "{'A Ashish Reddy': 0,\n",
       " 'A Chandila': 1,\n",
       " 'A Chopra': 2,\n",
       " 'A Choudhary': 3,\n",
       " 'A Kumble': 4,\n",
       " 'A Mishra': 5,\n",
       " 'A Mithun': 6,\n",
       " 'A Mukund': 7,\n",
       " 'A Nehra': 8,\n",
       " 'A Singh': 9,\n",
       " 'A Uniyal': 10,\n",
       " 'AA Jhunjhunwala': 11,\n",
       " 'AA Noffke': 12,\n",
       " 'AB Agarkar': 13,\n",
       " 'AB Dinda': 14,\n",
       " 'AB McDonald': 15,\n",
       " 'AB de Villiers': 16,\n",
       " 'AC Blizzard': 17,\n",
       " 'AC Gilchrist': 18,\n",
       " 'AC Voges': 19,\n",
       " 'AD Hales': 20,\n",
       " 'AD Mascarenhas': 21,\n",
       " 'AD Mathews': 22,\n",
       " 'AD Nath': 23,\n",
       " 'AD Russell': 24,\n",
       " 'AG Paunikar': 25,\n",
       " 'AJ Finch': 26,\n",
       " 'AJ Tye': 27,\n",
       " 'AL Menaria': 28,\n",
       " 'AM Nayar': 29,\n",
       " 'AM Rahane': 30,\n",
       " 'AN Ahmed': 31,\n",
       " 'AP Tare': 32,\n",
       " 'AR Bawne': 33,\n",
       " 'AR Patel': 34,\n",
       " 'AS Rajpoot': 35,\n",
       " 'AS Raut': 36,\n",
       " 'AT Rayudu': 37,\n",
       " 'AUK Pathan': 38,\n",
       " 'Abdul Samad': 39,\n",
       " 'Abhishek Sharma': 40,\n",
       " 'Ankit Sharma': 41,\n",
       " 'Anureet Singh': 42,\n",
       " 'Azhar Mahmood': 43,\n",
       " 'B Akhil': 44,\n",
       " 'B Chipli': 45,\n",
       " 'B Kumar': 46,\n",
       " 'B Laughlin': 47,\n",
       " 'B Lee': 48,\n",
       " 'BA Bhatt': 49,\n",
       " 'BA Stokes': 50,\n",
       " 'BAW Mendis': 51,\n",
       " 'BB McCullum': 52,\n",
       " 'BB Samantray': 53,\n",
       " 'BB Sran': 54,\n",
       " 'BCJ Cutting': 55,\n",
       " 'BJ Haddin': 56,\n",
       " 'BJ Hodge': 57,\n",
       " 'BJ Rohrer': 58,\n",
       " 'Bipul Sharma': 59,\n",
       " 'C Ganapathy': 60,\n",
       " 'C Munro': 61,\n",
       " 'C de Grandhomme': 62,\n",
       " 'CA Ingram': 63,\n",
       " 'CA Lynn': 64,\n",
       " 'CA Pujara': 65,\n",
       " 'CH Gayle': 66,\n",
       " 'CH Morris': 67,\n",
       " 'CJ Anderson': 68,\n",
       " 'CJ Jordan': 69,\n",
       " 'CL White': 70,\n",
       " 'CM Gautam': 71,\n",
       " 'CR Brathwaite': 72,\n",
       " 'CR Woakes': 73,\n",
       " 'D Wiese': 74,\n",
       " 'DA Miller': 75,\n",
       " 'DA Warner': 76,\n",
       " 'DAJ Bracewell': 77,\n",
       " 'DB Das': 78,\n",
       " 'DB Ravi Teja': 79,\n",
       " 'DE Bollinger': 80,\n",
       " 'DH Yagnik': 81,\n",
       " 'DJ Bravo': 82,\n",
       " 'DJ Hooda': 83,\n",
       " 'DJ Hussey': 84,\n",
       " 'DJ Jacobs': 85,\n",
       " 'DJ Muthuswami': 86,\n",
       " 'DJG Sammy': 87,\n",
       " 'DJM Short': 88,\n",
       " 'DL Chahar': 89,\n",
       " 'DL Vettori': 90,\n",
       " 'DP Nannes': 91,\n",
       " 'DPMD Jayawardene': 92,\n",
       " 'DR Martyn': 93,\n",
       " 'DR Shorey': 94,\n",
       " 'DR Smith': 95,\n",
       " 'DS Kulkarni': 96,\n",
       " 'DT Christian': 97,\n",
       " 'DT Patil': 98,\n",
       " 'DW Steyn': 99,\n",
       " 'E Lewis': 100,\n",
       " 'EJG Morgan': 101,\n",
       " 'F Behardien': 102,\n",
       " 'F du Plessis': 103,\n",
       " 'FY Fazal': 104,\n",
       " 'G Gambhir': 105,\n",
       " 'GB Hogg': 106,\n",
       " 'GC Smith': 107,\n",
       " 'GC Viljoen': 108,\n",
       " 'GD McGrath': 109,\n",
       " 'GH Vihari': 110,\n",
       " 'GJ Bailey': 111,\n",
       " 'GJ Maxwell': 112,\n",
       " 'Gurkeerat Singh': 113,\n",
       " 'H Klaasen': 114,\n",
       " 'HF Gurney': 115,\n",
       " 'HH Gibbs': 116,\n",
       " 'HH Pandya': 117,\n",
       " 'HM Amla': 118,\n",
       " 'HV Patel': 119,\n",
       " 'Harbhajan Singh': 120,\n",
       " 'Harmeet Singh': 121,\n",
       " 'Harpreet Brar': 122,\n",
       " 'I Sharma': 123,\n",
       " 'IK Pathan': 124,\n",
       " 'IR Jaggi': 125,\n",
       " 'IS Sodhi': 126,\n",
       " 'Imran Tahir': 127,\n",
       " 'Iqbal Abdulla': 128,\n",
       " 'Ishan Kishan': 129,\n",
       " 'J Arunkumar': 130,\n",
       " 'J Botha': 131,\n",
       " 'J Suchith': 132,\n",
       " 'J Syed Mohammad': 133,\n",
       " 'J Theron': 134,\n",
       " 'JA Morkel': 135,\n",
       " 'JC Archer': 136,\n",
       " 'JC Buttler': 137,\n",
       " 'JD Unadkat': 138,\n",
       " 'JDP Oram': 139,\n",
       " 'JEC Franklin': 140,\n",
       " 'JH Kallis': 141,\n",
       " 'JJ Bumrah': 142,\n",
       " 'JJ Roy': 143,\n",
       " 'JJ van der Wath': 144,\n",
       " 'JL Denly': 145,\n",
       " 'JM Bairstow': 146,\n",
       " 'JO Holder': 147,\n",
       " 'JP Duminy': 148,\n",
       " 'JP Faulkner': 149,\n",
       " 'JPR Scantlebury-Searles': 150,\n",
       " 'JR Hopes': 151,\n",
       " 'Joginder Sharma': 152,\n",
       " 'K Goel': 153,\n",
       " 'K Gowtham': 154,\n",
       " 'K Rabada': 155,\n",
       " 'KA Jamieson': 156,\n",
       " 'KA Pollard': 157,\n",
       " 'KB Arun Karthik': 158,\n",
       " 'KC Cariappa': 159,\n",
       " 'KC Sangakkara': 160,\n",
       " 'KD Karthik': 161,\n",
       " 'KH Pandya': 162,\n",
       " 'KJ Abbott': 163,\n",
       " 'KK Cooper': 164,\n",
       " 'KK Nair': 165,\n",
       " 'KL Rahul': 166,\n",
       " 'KM Jadhav': 167,\n",
       " 'KMA Paul': 168,\n",
       " 'KMDN Kulasekara': 169,\n",
       " 'KP Pietersen': 170,\n",
       " 'KS Williamson': 171,\n",
       " 'KV Sharma': 172,\n",
       " 'KW Richardson': 173,\n",
       " 'Kamran Akmal': 174,\n",
       " 'Kamran Khan': 175,\n",
       " 'Karanveer Singh': 176,\n",
       " 'Kuldeep Yadav': 177,\n",
       " 'L Ablish': 178,\n",
       " 'L Balaji': 179,\n",
       " 'L Ronchi': 180,\n",
       " 'LA Pomersbach': 181,\n",
       " 'LE Plunkett': 182,\n",
       " 'LMP Simmons': 183,\n",
       " 'LR Shukla': 184,\n",
       " 'LRPL Taylor': 185,\n",
       " 'LS Livingstone': 186,\n",
       " 'M Ashwin': 187,\n",
       " 'M Jansen': 188,\n",
       " 'M Kaif': 189,\n",
       " 'M Kartik': 190,\n",
       " 'M Manhas': 191,\n",
       " 'M Markande': 192,\n",
       " 'M Morkel': 193,\n",
       " 'M Muralitharan': 194,\n",
       " 'M Ntini': 195,\n",
       " 'M Prasidh Krishna': 196,\n",
       " 'M Rawat': 197,\n",
       " 'M Vijay': 198,\n",
       " 'M Vohra': 199,\n",
       " 'MA Agarwal': 200,\n",
       " 'MA Khote': 201,\n",
       " 'MA Starc': 202,\n",
       " 'MC Henriques': 203,\n",
       " 'MC Juneja': 204,\n",
       " 'MEK Hussey': 205,\n",
       " 'MF Maharoof': 206,\n",
       " 'MG Johnson': 207,\n",
       " 'MJ Guptill': 208,\n",
       " 'MJ Lumb': 209,\n",
       " 'MJ McClenaghan': 210,\n",
       " 'MJ Santner': 211,\n",
       " 'MK Lomror': 212,\n",
       " 'MK Pandey': 213,\n",
       " 'MK Tiwary': 214,\n",
       " 'ML Hayden': 215,\n",
       " 'MM Ali': 216,\n",
       " 'MM Patel': 217,\n",
       " 'MM Sharma': 218,\n",
       " 'MP Stoinis': 219,\n",
       " 'MS Bisla': 220,\n",
       " 'MS Dhoni': 221,\n",
       " 'MS Gony': 222,\n",
       " 'MV Boucher': 223,\n",
       " 'Mandeep Singh': 224,\n",
       " 'Misbah-ul-Haq': 225,\n",
       " 'Mohammad Hafeez': 226,\n",
       " 'Mohammad Nabi': 227,\n",
       " 'Mohammed Shami': 228,\n",
       " 'Mohammed Siraj': 229,\n",
       " 'Mujeeb Ur Rahman': 230,\n",
       " 'Mustafizur Rahman': 231,\n",
       " 'N Pooran': 232,\n",
       " 'N Rana': 233,\n",
       " 'N Saini': 234,\n",
       " 'NA Saini': 235,\n",
       " 'NJ Maddinson': 236,\n",
       " 'NLTC Perera': 237,\n",
       " 'NM Coulter-Nile': 238,\n",
       " 'NS Naik': 239,\n",
       " 'NV Ojha': 240,\n",
       " 'OA Shah': 241,\n",
       " 'P Awana': 242,\n",
       " 'P Dogra': 243,\n",
       " 'P Kumar': 244,\n",
       " 'P Negi': 245,\n",
       " 'PA Patel': 246,\n",
       " 'PA Reddy': 247,\n",
       " 'PC Valthaty': 248,\n",
       " 'PD Collingwood': 249,\n",
       " 'PJ Cummins': 250,\n",
       " 'PJ Sangwan': 251,\n",
       " 'PP Chawla': 252,\n",
       " 'PP Ojha': 253,\n",
       " 'PP Shaw': 254,\n",
       " 'PV Tambe': 255,\n",
       " 'Pankaj Singh': 256,\n",
       " 'Parvez Rasool': 257,\n",
       " 'Q de Kock': 258,\n",
       " 'R Ashwin': 259,\n",
       " 'R Bhatia': 260,\n",
       " 'R Dhawan': 261,\n",
       " 'R Dravid': 262,\n",
       " 'R McLaren': 263,\n",
       " 'R Parag': 264,\n",
       " 'R Rampaul': 265,\n",
       " 'R Sathish': 266,\n",
       " 'R Shukla': 267,\n",
       " 'R Tewatia': 268,\n",
       " 'R Vinay Kumar': 269,\n",
       " 'RA Jadeja': 270,\n",
       " 'RA Tripathi': 271,\n",
       " 'RD Chahar': 272,\n",
       " 'RD Gaikwad': 273,\n",
       " 'RE Levi': 274,\n",
       " 'RE van der Merwe': 275,\n",
       " 'RG More': 276,\n",
       " 'RG Sharma': 277,\n",
       " 'RJ Harris': 278,\n",
       " 'RK Singh': 279,\n",
       " 'RM Patidar': 280,\n",
       " 'RN ten Doeschate': 281,\n",
       " 'RP Singh': 282,\n",
       " 'RR Bhatkal': 283,\n",
       " 'RR Pant': 284,\n",
       " 'RR Powar': 285,\n",
       " 'RR Rossouw': 286,\n",
       " 'RR Sarwan': 287,\n",
       " 'RS Bopara': 288,\n",
       " 'RS Gavaskar': 289,\n",
       " 'RT Ponting': 290,\n",
       " 'RV Uthappa': 291,\n",
       " 'Rashid Khan': 292,\n",
       " 'S Anirudha': 293,\n",
       " 'S Aravind': 294,\n",
       " 'S Badree': 295,\n",
       " 'S Badrinath': 296,\n",
       " 'S Chanderpaul': 297,\n",
       " 'S Dhawan': 298,\n",
       " 'S Dube': 299,\n",
       " 'S Gopal': 300,\n",
       " 'S Kaul': 301,\n",
       " 'S Nadeem': 302,\n",
       " 'S Narwal': 303,\n",
       " 'S Rana': 304,\n",
       " 'S Sreesanth': 305,\n",
       " 'S Sriram': 306,\n",
       " 'S Vidyut': 307,\n",
       " 'SA Abbott': 308,\n",
       " 'SA Asnodkar': 309,\n",
       " 'SA Yadav': 310,\n",
       " 'SB Jakati': 311,\n",
       " 'SB Joshi': 312,\n",
       " 'SB Styris': 313,\n",
       " 'SC Ganguly': 314,\n",
       " 'SE Bond': 315,\n",
       " 'SE Marsh': 316,\n",
       " 'SE Rutherford': 317,\n",
       " 'SK Raina': 318,\n",
       " 'SK Trivedi': 319,\n",
       " 'SK Warne': 320,\n",
       " 'SL Malinga': 321,\n",
       " 'SM Curran': 322,\n",
       " 'SM Pollock': 323,\n",
       " 'SMSM Senanayake': 324,\n",
       " 'SN Khan': 325,\n",
       " 'SN Thakur': 326,\n",
       " 'SO Hetmyer': 327,\n",
       " 'SP Fleming': 328,\n",
       " 'SP Goswami': 329,\n",
       " 'SP Jackson': 330,\n",
       " 'SP Narine': 331,\n",
       " 'SPD Smith': 332,\n",
       " 'SR Tendulkar': 333,\n",
       " 'SR Watson': 334,\n",
       " 'SS Iyer': 335,\n",
       " 'SS Tiwary': 336,\n",
       " 'ST Jayasuriya': 337,\n",
       " 'STR Binny': 338,\n",
       " 'SV Samson': 339,\n",
       " 'SW Billings': 340,\n",
       " 'SW Tait': 341,\n",
       " 'Sachin Baby': 342,\n",
       " 'Salman Butt': 343,\n",
       " 'Sandeep Sharma': 344,\n",
       " 'Shahbaz Ahmed': 345,\n",
       " 'Shakib Al Hasan': 346,\n",
       " 'Shivam Mavi': 347,\n",
       " 'Shivam Sharma': 348,\n",
       " 'Shubman Gill': 349,\n",
       " 'Sohail Tanvir': 350,\n",
       " 'Sunny Gupta': 351,\n",
       " 'Sunny Singh': 352,\n",
       " 'Swapnil Singh': 353,\n",
       " 'T Kohli': 354,\n",
       " 'T Taibu': 355,\n",
       " 'T Thushara': 356,\n",
       " 'TA Boult': 357,\n",
       " 'TG Southee': 358,\n",
       " 'TK Curran': 359,\n",
       " 'TL Suman': 360,\n",
       " 'TM Dilshan': 361,\n",
       " 'TM Head': 362,\n",
       " 'TM Srivastava': 363,\n",
       " 'TS Mills': 364,\n",
       " 'U Kaul': 365,\n",
       " 'UBT Chand': 366,\n",
       " 'UT Yadav': 367,\n",
       " 'Umar Gul': 368,\n",
       " 'V Kohli': 369,\n",
       " 'V Sehwag': 370,\n",
       " 'V Shankar': 371,\n",
       " 'VH Zol': 372,\n",
       " 'VR Aaron': 373,\n",
       " 'VRV Singh': 374,\n",
       " 'VY Mahesh': 375,\n",
       " 'Vishnu Vinod': 376,\n",
       " 'W Jaffer': 377,\n",
       " 'WP Saha': 378,\n",
       " 'Washington Sundar': 379,\n",
       " 'X Thalaivan Sargunam': 380,\n",
       " 'Y Nagar': 381,\n",
       " 'Y Venugopal Rao': 382,\n",
       " 'YK Pathan': 383,\n",
       " 'YS Chahal': 384,\n",
       " 'YV Takawale': 385,\n",
       " 'Yuvraj Singh': 386,\n",
       " 'Z Khan': 387}"
      ]
     },
     "execution_count": 27,
     "metadata": {},
     "output_type": "execute_result"
    }
   ],
   "source": [
    "dic"
   ]
  },
  {
   "cell_type": "code",
   "execution_count": 28,
   "id": "forbidden-landing",
   "metadata": {},
   "outputs": [
    {
     "data": {
      "text/plain": [
       "{'A Ashish Reddy': 0,\n",
       " 'A Chandila': 1,\n",
       " 'A Choudhary': 2,\n",
       " 'A Kumble': 3,\n",
       " 'A Mishra': 4,\n",
       " 'A Mithun': 5,\n",
       " 'A Nehra': 6,\n",
       " 'A Singh': 7,\n",
       " 'A Uniyal': 8,\n",
       " 'AA Chavan': 9,\n",
       " 'AA Jhunjhunwala': 10,\n",
       " 'AA Noffke': 11,\n",
       " 'AB Agarkar': 12,\n",
       " 'AB Dinda': 13,\n",
       " 'AB McDonald': 14,\n",
       " 'AC Voges': 15,\n",
       " 'AD Mascarenhas': 16,\n",
       " 'AD Mathews': 17,\n",
       " 'AD Russell': 18,\n",
       " 'AF Milne': 19,\n",
       " 'AG Murtaza': 20,\n",
       " 'AJ Finch': 21,\n",
       " 'AJ Tye': 22,\n",
       " 'AL Menaria': 23,\n",
       " 'AM Nayar': 24,\n",
       " 'AN Ahmed': 25,\n",
       " 'AR Patel': 26,\n",
       " 'AS Rajpoot': 27,\n",
       " 'AS Roy': 28,\n",
       " 'AUK Pathan': 29,\n",
       " 'Ankit Sharma': 30,\n",
       " 'Anureet Singh': 31,\n",
       " 'Avesh Khan': 32,\n",
       " 'Azhar Mahmood': 33,\n",
       " 'B Akhil': 34,\n",
       " 'B Kumar': 35,\n",
       " 'B Laughlin': 36,\n",
       " 'B Lee': 37,\n",
       " 'B Stanlake': 38,\n",
       " 'BA Bhatt': 39,\n",
       " 'BA Stokes': 40,\n",
       " 'BAW Mendis': 41,\n",
       " 'BB Sran': 42,\n",
       " 'BCJ Cutting': 43,\n",
       " 'BE Hendricks': 44,\n",
       " 'BJ Hodge': 45,\n",
       " 'BW Hilfenhaus': 46,\n",
       " 'Basil Thampi': 47,\n",
       " 'Bipul Sharma': 48,\n",
       " 'C Ganapathy': 49,\n",
       " 'C Munro': 50,\n",
       " 'C de Grandhomme': 51,\n",
       " 'CH Gayle': 52,\n",
       " 'CH Morris': 53,\n",
       " 'CJ Anderson': 54,\n",
       " 'CJ Dala': 55,\n",
       " 'CJ Jordan': 56,\n",
       " 'CK Kapugedera': 57,\n",
       " 'CK Langeveldt': 58,\n",
       " 'CL White': 59,\n",
       " 'CR Brathwaite': 60,\n",
       " 'CR Woakes': 61,\n",
       " 'CRD Fernando': 62,\n",
       " 'CV Varun': 63,\n",
       " 'D Salunkhe': 64,\n",
       " 'D Wiese': 65,\n",
       " 'DAJ Bracewell': 66,\n",
       " 'DE Bollinger': 67,\n",
       " 'DJ Bravo': 68,\n",
       " 'DJ Hooda': 69,\n",
       " 'DJ Hussey': 70,\n",
       " 'DJ Muthuswami': 71,\n",
       " 'DJG Sammy': 72,\n",
       " 'DJM Short': 73,\n",
       " 'DL Chahar': 74,\n",
       " 'DL Vettori': 75,\n",
       " 'DP Nannes': 76,\n",
       " 'DR Smith': 77,\n",
       " 'DS Kulkarni': 78,\n",
       " 'DT Christian': 79,\n",
       " 'DW Steyn': 80,\n",
       " 'FY Fazal': 81,\n",
       " 'GB Hogg': 82,\n",
       " 'GC Viljoen': 83,\n",
       " 'GD McGrath': 84,\n",
       " 'GH Vihari': 85,\n",
       " 'GJ Maxwell': 86,\n",
       " 'Gagandeep Singh': 87,\n",
       " 'Gurkeerat Singh': 88,\n",
       " 'HF Gurney': 89,\n",
       " 'HH Pandya': 90,\n",
       " 'HV Patel': 91,\n",
       " 'Harbhajan Singh': 92,\n",
       " 'Harmeet Singh': 93,\n",
       " 'Harpreet Brar': 94,\n",
       " 'I Sharma': 95,\n",
       " 'IC Pandey': 96,\n",
       " 'IK Pathan': 97,\n",
       " 'IS Sodhi': 98,\n",
       " 'Imran Tahir': 99,\n",
       " 'Iqbal Abdulla': 100,\n",
       " 'J Botha': 101,\n",
       " 'J Suchith': 102,\n",
       " 'J Syed Mohammad': 103,\n",
       " 'J Theron': 104,\n",
       " 'J Yadav': 105,\n",
       " 'JA Morkel': 106,\n",
       " 'JC Archer': 107,\n",
       " 'JD Unadkat': 108,\n",
       " 'JDP Oram': 109,\n",
       " 'JEC Franklin': 110,\n",
       " 'JH Kallis': 111,\n",
       " 'JJ Bumrah': 112,\n",
       " 'JJ van der Wath': 113,\n",
       " 'JM Kemp': 114,\n",
       " 'JO Holder': 115,\n",
       " 'JP Duminy': 116,\n",
       " 'JP Faulkner': 117,\n",
       " 'JPR Scantlebury-Searles': 118,\n",
       " 'JR Hopes': 119,\n",
       " 'JW Hastings': 120,\n",
       " 'Joginder Sharma': 121,\n",
       " 'K Gowtham': 122,\n",
       " 'K Khejroliya': 123,\n",
       " 'K Rabada': 124,\n",
       " 'K Santokie': 125,\n",
       " 'KA Jamieson': 126,\n",
       " 'KA Pollard': 127,\n",
       " 'KC Cariappa': 128,\n",
       " 'KH Pandya': 129,\n",
       " 'KJ Abbott': 130,\n",
       " 'KK Ahmed': 131,\n",
       " 'KK Cooper': 132,\n",
       " 'KM Asif': 133,\n",
       " 'KMA Paul': 134,\n",
       " 'KMDN Kulasekara': 135,\n",
       " 'KP Appanna': 136,\n",
       " 'KP Pietersen': 137,\n",
       " 'KS Williamson': 138,\n",
       " 'KV Sharma': 139,\n",
       " 'KW Richardson': 140,\n",
       " 'Kamran Khan': 141,\n",
       " 'Karanveer Singh': 142,\n",
       " 'Kuldeep Yadav': 143,\n",
       " 'L Ablish': 144,\n",
       " 'L Balaji': 145,\n",
       " 'L Ngidi': 146,\n",
       " 'LE Plunkett': 147,\n",
       " 'LH Ferguson': 148,\n",
       " 'LR Shukla': 149,\n",
       " 'M Ashwin': 150,\n",
       " 'M Jansen': 151,\n",
       " 'M Kartik': 152,\n",
       " 'M Markande': 153,\n",
       " 'M Morkel': 154,\n",
       " 'M Muralitharan': 155,\n",
       " 'M Ntini': 156,\n",
       " 'M Prasidh Krishna': 157,\n",
       " 'M de Lange': 158,\n",
       " 'MA Khote': 159,\n",
       " 'MA Starc': 160,\n",
       " 'MC Henriques': 161,\n",
       " 'MF Maharoof': 162,\n",
       " 'MG Johnson': 163,\n",
       " 'MJ McClenaghan': 164,\n",
       " 'MJ Santner': 165,\n",
       " 'MK Tiwary': 166,\n",
       " 'MM Ali': 167,\n",
       " 'MM Patel': 168,\n",
       " 'MM Sharma': 169,\n",
       " 'MP Stoinis': 170,\n",
       " 'MS Gony': 171,\n",
       " 'Mandeep Singh': 172,\n",
       " 'Mohammad Asif': 173,\n",
       " 'Mohammad Hafeez': 174,\n",
       " 'Mohammad Nabi': 175,\n",
       " 'Mohammed Shami': 176,\n",
       " 'Mohammed Siraj': 177,\n",
       " 'Mujeeb Ur Rahman': 178,\n",
       " 'Mustafizur Rahman': 179,\n",
       " 'N Rana': 180,\n",
       " 'NA Saini': 181,\n",
       " 'ND Doshi': 182,\n",
       " 'NLTC Perera': 183,\n",
       " 'NM Coulter-Nile': 184,\n",
       " 'O Thomas': 185,\n",
       " 'P Amarnath': 186,\n",
       " 'P Awana': 187,\n",
       " 'P Kumar': 188,\n",
       " 'P Negi': 189,\n",
       " 'P Suyal': 190,\n",
       " 'PC Valthaty': 191,\n",
       " 'PD Collingwood': 192,\n",
       " 'PJ Cummins': 193,\n",
       " 'PJ Sangwan': 194,\n",
       " 'PP Chawla': 195,\n",
       " 'PP Ojha': 196,\n",
       " 'PV Tambe': 197,\n",
       " 'Pankaj Singh': 198,\n",
       " 'Parvez Rasool': 199,\n",
       " 'R Ashwin': 200,\n",
       " 'R Bhatia': 201,\n",
       " 'R Dhawan': 202,\n",
       " 'R McLaren': 203,\n",
       " 'R Ninan': 204,\n",
       " 'R Parag': 205,\n",
       " 'R Rampaul': 206,\n",
       " 'R Sathish': 207,\n",
       " 'R Shukla': 208,\n",
       " 'R Tewatia': 209,\n",
       " 'R Vinay Kumar': 210,\n",
       " 'RA Jadeja': 211,\n",
       " 'RD Chahar': 212,\n",
       " 'RE van der Merwe': 213,\n",
       " 'RG More': 214,\n",
       " 'RG Sharma': 215,\n",
       " 'RJ Harris': 216,\n",
       " 'RN ten Doeschate': 217,\n",
       " 'RP Singh': 218,\n",
       " 'RR Bhatkal': 219,\n",
       " 'RR Powar': 220,\n",
       " 'RS Bopara': 221,\n",
       " 'RS Gavaskar': 222,\n",
       " 'RW Price': 223,\n",
       " 'Rashid Khan': 224,\n",
       " 'S Aravind': 225,\n",
       " 'S Badree': 226,\n",
       " 'S Dube': 227,\n",
       " 'S Gopal': 228,\n",
       " 'S Kaul': 229,\n",
       " 'S Ladda': 230,\n",
       " 'S Lamichhane': 231,\n",
       " 'S Nadeem': 232,\n",
       " 'S Narwal': 233,\n",
       " 'S Rana': 234,\n",
       " 'S Randiv': 235,\n",
       " 'S Sandeep Warrier': 236,\n",
       " 'S Sreesanth': 237,\n",
       " 'S Sriram': 238,\n",
       " 'S Tyagi': 239,\n",
       " 'SA Abbott': 240,\n",
       " 'SB Jakati': 241,\n",
       " 'SB Joshi': 242,\n",
       " 'SB Wagh': 243,\n",
       " 'SC Ganguly': 244,\n",
       " 'SC Kuggeleijn': 245,\n",
       " 'SE Bond': 246,\n",
       " 'SE Rutherford': 247,\n",
       " 'SJ Srivastava': 248,\n",
       " 'SK Raina': 249,\n",
       " 'SK Trivedi': 250,\n",
       " 'SK Warne': 251,\n",
       " 'SL Malinga': 252,\n",
       " 'SM Curran': 253,\n",
       " 'SM Pollock': 254,\n",
       " 'SMSM Senanayake': 255,\n",
       " 'SN Thakur': 256,\n",
       " 'SP Narine': 257,\n",
       " 'SR Watson': 258,\n",
       " 'ST Jayasuriya': 259,\n",
       " 'STR Binny': 260,\n",
       " 'SW Tait': 261,\n",
       " 'Sachin Baby': 262,\n",
       " 'Sandeep Sharma': 263,\n",
       " 'Shahbaz Ahmed': 264,\n",
       " 'Shakib Al Hasan': 265,\n",
       " 'Shivam Mavi': 266,\n",
       " 'Shivam Sharma': 267,\n",
       " 'Shoaib Akhtar': 268,\n",
       " 'Shoaib Malik': 269,\n",
       " 'Sohail Tanvir': 270,\n",
       " 'Sunny Gupta': 271,\n",
       " 'Swapnil Singh': 272,\n",
       " 'T Natarajan': 273,\n",
       " 'T Shamsi': 274,\n",
       " 'T Thushara': 275,\n",
       " 'TA Boult': 276,\n",
       " 'TG Southee': 277,\n",
       " 'TK Curran': 278,\n",
       " 'TM Dilshan': 279,\n",
       " 'TM Head': 280,\n",
       " 'TS Mills': 281,\n",
       " 'UT Yadav': 282,\n",
       " 'Umar Gul': 283,\n",
       " 'V Kohli': 284,\n",
       " 'V Sehwag': 285,\n",
       " 'V Shankar': 286,\n",
       " 'VR Aaron': 287,\n",
       " 'VRV Singh': 288,\n",
       " 'VS Malik': 289,\n",
       " 'VS Yeligati': 290,\n",
       " 'VY Mahesh': 291,\n",
       " 'Washington Sundar': 292,\n",
       " 'Y Prithvi Raj': 293,\n",
       " 'YA Abdulla': 294,\n",
       " 'YK Pathan': 295,\n",
       " 'YS Chahal': 296,\n",
       " 'Yuvraj Singh': 297,\n",
       " 'Z Khan': 298}"
      ]
     },
     "execution_count": 28,
     "metadata": {},
     "output_type": "execute_result"
    }
   ],
   "source": [
    "dic1"
   ]
  },
  {
   "cell_type": "code",
   "execution_count": 29,
   "id": "smooth-minister",
   "metadata": {},
   "outputs": [],
   "source": [
    "df = df[df['ball'] <=6.0]"
   ]
  },
  {
   "cell_type": "code",
   "execution_count": 30,
   "id": "average-azerbaijan",
   "metadata": {},
   "outputs": [],
   "source": [
    "#bat = pd.concat([df['striker'], df['non_striker']]).unique()"
   ]
  },
  {
   "cell_type": "code",
   "execution_count": 31,
   "id": "offensive-group",
   "metadata": {},
   "outputs": [],
   "source": [
    "#bat"
   ]
  },
  {
   "cell_type": "code",
   "execution_count": null,
   "id": "swedish-bankruptcy",
   "metadata": {},
   "outputs": [],
   "source": []
  },
  {
   "cell_type": "code",
   "execution_count": 32,
   "id": "norman-cause",
   "metadata": {},
   "outputs": [],
   "source": [
    "#df['striker'] = encoder.transform(df['striker'])\n",
    "#df['non_striker'] = encoder.transform(df['non_striker'])"
   ]
  },
  {
   "cell_type": "code",
   "execution_count": 33,
   "id": "alleged-somalia",
   "metadata": {},
   "outputs": [
    {
     "data": {
      "text/html": [
       "<div>\n",
       "<style scoped>\n",
       "    .dataframe tbody tr th:only-of-type {\n",
       "        vertical-align: middle;\n",
       "    }\n",
       "\n",
       "    .dataframe tbody tr th {\n",
       "        vertical-align: top;\n",
       "    }\n",
       "\n",
       "    .dataframe thead th {\n",
       "        text-align: right;\n",
       "    }\n",
       "</style>\n",
       "<table border=\"1\" class=\"dataframe\">\n",
       "  <thead>\n",
       "    <tr style=\"text-align: right;\">\n",
       "      <th></th>\n",
       "      <th>match_id</th>\n",
       "      <th>venue</th>\n",
       "      <th>innings</th>\n",
       "      <th>ball</th>\n",
       "      <th>batting_team</th>\n",
       "      <th>bowling_team</th>\n",
       "      <th>striker</th>\n",
       "      <th>non_striker</th>\n",
       "      <th>bowler</th>\n",
       "      <th>total_runs</th>\n",
       "    </tr>\n",
       "  </thead>\n",
       "  <tbody>\n",
       "    <tr>\n",
       "      <th>0</th>\n",
       "      <td>335982</td>\n",
       "      <td>M Chinnaswamy Stadium</td>\n",
       "      <td>1</td>\n",
       "      <td>0.1</td>\n",
       "      <td>Kolkata Knight Riders</td>\n",
       "      <td>Royal Challengers Bangalore</td>\n",
       "      <td>SC Ganguly</td>\n",
       "      <td>BB McCullum</td>\n",
       "      <td>P Kumar</td>\n",
       "      <td>1.0</td>\n",
       "    </tr>\n",
       "    <tr>\n",
       "      <th>1</th>\n",
       "      <td>335982</td>\n",
       "      <td>M Chinnaswamy Stadium</td>\n",
       "      <td>1</td>\n",
       "      <td>0.2</td>\n",
       "      <td>Kolkata Knight Riders</td>\n",
       "      <td>Royal Challengers Bangalore</td>\n",
       "      <td>BB McCullum</td>\n",
       "      <td>SC Ganguly</td>\n",
       "      <td>P Kumar</td>\n",
       "      <td>0.0</td>\n",
       "    </tr>\n",
       "    <tr>\n",
       "      <th>2</th>\n",
       "      <td>335982</td>\n",
       "      <td>M Chinnaswamy Stadium</td>\n",
       "      <td>1</td>\n",
       "      <td>0.3</td>\n",
       "      <td>Kolkata Knight Riders</td>\n",
       "      <td>Royal Challengers Bangalore</td>\n",
       "      <td>BB McCullum</td>\n",
       "      <td>SC Ganguly</td>\n",
       "      <td>P Kumar</td>\n",
       "      <td>2.0</td>\n",
       "    </tr>\n",
       "    <tr>\n",
       "      <th>3</th>\n",
       "      <td>335982</td>\n",
       "      <td>M Chinnaswamy Stadium</td>\n",
       "      <td>1</td>\n",
       "      <td>0.4</td>\n",
       "      <td>Kolkata Knight Riders</td>\n",
       "      <td>Royal Challengers Bangalore</td>\n",
       "      <td>BB McCullum</td>\n",
       "      <td>SC Ganguly</td>\n",
       "      <td>P Kumar</td>\n",
       "      <td>0.0</td>\n",
       "    </tr>\n",
       "    <tr>\n",
       "      <th>4</th>\n",
       "      <td>335982</td>\n",
       "      <td>M Chinnaswamy Stadium</td>\n",
       "      <td>1</td>\n",
       "      <td>0.5</td>\n",
       "      <td>Kolkata Knight Riders</td>\n",
       "      <td>Royal Challengers Bangalore</td>\n",
       "      <td>BB McCullum</td>\n",
       "      <td>SC Ganguly</td>\n",
       "      <td>P Kumar</td>\n",
       "      <td>0.0</td>\n",
       "    </tr>\n",
       "  </tbody>\n",
       "</table>\n",
       "</div>"
      ],
      "text/plain": [
       "   match_id                  venue  innings  ball           batting_team  \\\n",
       "0    335982  M Chinnaswamy Stadium        1   0.1  Kolkata Knight Riders   \n",
       "1    335982  M Chinnaswamy Stadium        1   0.2  Kolkata Knight Riders   \n",
       "2    335982  M Chinnaswamy Stadium        1   0.3  Kolkata Knight Riders   \n",
       "3    335982  M Chinnaswamy Stadium        1   0.4  Kolkata Knight Riders   \n",
       "4    335982  M Chinnaswamy Stadium        1   0.5  Kolkata Knight Riders   \n",
       "\n",
       "                  bowling_team      striker  non_striker   bowler  total_runs  \n",
       "0  Royal Challengers Bangalore   SC Ganguly  BB McCullum  P Kumar         1.0  \n",
       "1  Royal Challengers Bangalore  BB McCullum   SC Ganguly  P Kumar         0.0  \n",
       "2  Royal Challengers Bangalore  BB McCullum   SC Ganguly  P Kumar         2.0  \n",
       "3  Royal Challengers Bangalore  BB McCullum   SC Ganguly  P Kumar         0.0  \n",
       "4  Royal Challengers Bangalore  BB McCullum   SC Ganguly  P Kumar         0.0  "
      ]
     },
     "execution_count": 33,
     "metadata": {},
     "output_type": "execute_result"
    }
   ],
   "source": [
    "df.head()"
   ]
  },
  {
   "cell_type": "code",
   "execution_count": 34,
   "id": "typical-creek",
   "metadata": {},
   "outputs": [],
   "source": [
    "#encoder.classes_"
   ]
  },
  {
   "cell_type": "code",
   "execution_count": 35,
   "id": "gentle-belief",
   "metadata": {},
   "outputs": [],
   "source": [
    "#from collections import defaultdict\n",
    "#d = defaultdict(encoder)\n",
    "#print(dict(d))"
   ]
  },
  {
   "cell_type": "code",
   "execution_count": 36,
   "id": "municipal-occasion",
   "metadata": {},
   "outputs": [],
   "source": [
    "#len(df)"
   ]
  },
  {
   "cell_type": "code",
   "execution_count": null,
   "id": "imperial-spectrum",
   "metadata": {},
   "outputs": [],
   "source": []
  },
  {
   "cell_type": "code",
   "execution_count": 37,
   "id": "reduced-horizon",
   "metadata": {},
   "outputs": [],
   "source": [
    "#len(df)"
   ]
  },
  {
   "cell_type": "code",
   "execution_count": 38,
   "id": "norman-pantyhose",
   "metadata": {},
   "outputs": [],
   "source": [
    "#data = df.groupby(['match_id','innings'])"
   ]
  },
  {
   "cell_type": "code",
   "execution_count": 39,
   "id": "neural-trustee",
   "metadata": {},
   "outputs": [],
   "source": [
    "#data.head()"
   ]
  },
  {
   "cell_type": "code",
   "execution_count": null,
   "id": "another-secret",
   "metadata": {},
   "outputs": [],
   "source": []
  },
  {
   "cell_type": "code",
   "execution_count": 40,
   "id": "adopted-helena",
   "metadata": {},
   "outputs": [],
   "source": [
    "#encoder1 = LabelEncoder()"
   ]
  },
  {
   "cell_type": "code",
   "execution_count": 41,
   "id": "distinguished-emergency",
   "metadata": {},
   "outputs": [],
   "source": [
    "#encoder1.fit(df['bowler'])"
   ]
  },
  {
   "cell_type": "code",
   "execution_count": 42,
   "id": "severe-queue",
   "metadata": {},
   "outputs": [
    {
     "data": {
      "text/html": [
       "<div>\n",
       "<style scoped>\n",
       "    .dataframe tbody tr th:only-of-type {\n",
       "        vertical-align: middle;\n",
       "    }\n",
       "\n",
       "    .dataframe tbody tr th {\n",
       "        vertical-align: top;\n",
       "    }\n",
       "\n",
       "    .dataframe thead th {\n",
       "        text-align: right;\n",
       "    }\n",
       "</style>\n",
       "<table border=\"1\" class=\"dataframe\">\n",
       "  <thead>\n",
       "    <tr style=\"text-align: right;\">\n",
       "      <th></th>\n",
       "      <th>match_id</th>\n",
       "      <th>venue</th>\n",
       "      <th>innings</th>\n",
       "      <th>ball</th>\n",
       "      <th>batting_team</th>\n",
       "      <th>bowling_team</th>\n",
       "      <th>striker</th>\n",
       "      <th>non_striker</th>\n",
       "      <th>bowler</th>\n",
       "      <th>total_runs</th>\n",
       "    </tr>\n",
       "  </thead>\n",
       "  <tbody>\n",
       "    <tr>\n",
       "      <th>0</th>\n",
       "      <td>335982</td>\n",
       "      <td>M Chinnaswamy Stadium</td>\n",
       "      <td>1</td>\n",
       "      <td>0.1</td>\n",
       "      <td>Kolkata Knight Riders</td>\n",
       "      <td>Royal Challengers Bangalore</td>\n",
       "      <td>SC Ganguly</td>\n",
       "      <td>BB McCullum</td>\n",
       "      <td>P Kumar</td>\n",
       "      <td>1.0</td>\n",
       "    </tr>\n",
       "    <tr>\n",
       "      <th>1</th>\n",
       "      <td>335982</td>\n",
       "      <td>M Chinnaswamy Stadium</td>\n",
       "      <td>1</td>\n",
       "      <td>0.2</td>\n",
       "      <td>Kolkata Knight Riders</td>\n",
       "      <td>Royal Challengers Bangalore</td>\n",
       "      <td>BB McCullum</td>\n",
       "      <td>SC Ganguly</td>\n",
       "      <td>P Kumar</td>\n",
       "      <td>0.0</td>\n",
       "    </tr>\n",
       "    <tr>\n",
       "      <th>2</th>\n",
       "      <td>335982</td>\n",
       "      <td>M Chinnaswamy Stadium</td>\n",
       "      <td>1</td>\n",
       "      <td>0.3</td>\n",
       "      <td>Kolkata Knight Riders</td>\n",
       "      <td>Royal Challengers Bangalore</td>\n",
       "      <td>BB McCullum</td>\n",
       "      <td>SC Ganguly</td>\n",
       "      <td>P Kumar</td>\n",
       "      <td>2.0</td>\n",
       "    </tr>\n",
       "    <tr>\n",
       "      <th>3</th>\n",
       "      <td>335982</td>\n",
       "      <td>M Chinnaswamy Stadium</td>\n",
       "      <td>1</td>\n",
       "      <td>0.4</td>\n",
       "      <td>Kolkata Knight Riders</td>\n",
       "      <td>Royal Challengers Bangalore</td>\n",
       "      <td>BB McCullum</td>\n",
       "      <td>SC Ganguly</td>\n",
       "      <td>P Kumar</td>\n",
       "      <td>0.0</td>\n",
       "    </tr>\n",
       "    <tr>\n",
       "      <th>4</th>\n",
       "      <td>335982</td>\n",
       "      <td>M Chinnaswamy Stadium</td>\n",
       "      <td>1</td>\n",
       "      <td>0.5</td>\n",
       "      <td>Kolkata Knight Riders</td>\n",
       "      <td>Royal Challengers Bangalore</td>\n",
       "      <td>BB McCullum</td>\n",
       "      <td>SC Ganguly</td>\n",
       "      <td>P Kumar</td>\n",
       "      <td>0.0</td>\n",
       "    </tr>\n",
       "    <tr>\n",
       "      <th>5</th>\n",
       "      <td>335982</td>\n",
       "      <td>M Chinnaswamy Stadium</td>\n",
       "      <td>1</td>\n",
       "      <td>0.6</td>\n",
       "      <td>Kolkata Knight Riders</td>\n",
       "      <td>Royal Challengers Bangalore</td>\n",
       "      <td>BB McCullum</td>\n",
       "      <td>SC Ganguly</td>\n",
       "      <td>P Kumar</td>\n",
       "      <td>0.0</td>\n",
       "    </tr>\n",
       "    <tr>\n",
       "      <th>6</th>\n",
       "      <td>335982</td>\n",
       "      <td>M Chinnaswamy Stadium</td>\n",
       "      <td>1</td>\n",
       "      <td>0.7</td>\n",
       "      <td>Kolkata Knight Riders</td>\n",
       "      <td>Royal Challengers Bangalore</td>\n",
       "      <td>BB McCullum</td>\n",
       "      <td>SC Ganguly</td>\n",
       "      <td>P Kumar</td>\n",
       "      <td>1.0</td>\n",
       "    </tr>\n",
       "    <tr>\n",
       "      <th>7</th>\n",
       "      <td>335982</td>\n",
       "      <td>M Chinnaswamy Stadium</td>\n",
       "      <td>1</td>\n",
       "      <td>1.1</td>\n",
       "      <td>Kolkata Knight Riders</td>\n",
       "      <td>Royal Challengers Bangalore</td>\n",
       "      <td>BB McCullum</td>\n",
       "      <td>SC Ganguly</td>\n",
       "      <td>Z Khan</td>\n",
       "      <td>0.0</td>\n",
       "    </tr>\n",
       "    <tr>\n",
       "      <th>8</th>\n",
       "      <td>335982</td>\n",
       "      <td>M Chinnaswamy Stadium</td>\n",
       "      <td>1</td>\n",
       "      <td>1.2</td>\n",
       "      <td>Kolkata Knight Riders</td>\n",
       "      <td>Royal Challengers Bangalore</td>\n",
       "      <td>BB McCullum</td>\n",
       "      <td>SC Ganguly</td>\n",
       "      <td>Z Khan</td>\n",
       "      <td>4.0</td>\n",
       "    </tr>\n",
       "    <tr>\n",
       "      <th>9</th>\n",
       "      <td>335982</td>\n",
       "      <td>M Chinnaswamy Stadium</td>\n",
       "      <td>1</td>\n",
       "      <td>1.3</td>\n",
       "      <td>Kolkata Knight Riders</td>\n",
       "      <td>Royal Challengers Bangalore</td>\n",
       "      <td>BB McCullum</td>\n",
       "      <td>SC Ganguly</td>\n",
       "      <td>Z Khan</td>\n",
       "      <td>4.0</td>\n",
       "    </tr>\n",
       "  </tbody>\n",
       "</table>\n",
       "</div>"
      ],
      "text/plain": [
       "   match_id                  venue  innings  ball           batting_team  \\\n",
       "0    335982  M Chinnaswamy Stadium        1   0.1  Kolkata Knight Riders   \n",
       "1    335982  M Chinnaswamy Stadium        1   0.2  Kolkata Knight Riders   \n",
       "2    335982  M Chinnaswamy Stadium        1   0.3  Kolkata Knight Riders   \n",
       "3    335982  M Chinnaswamy Stadium        1   0.4  Kolkata Knight Riders   \n",
       "4    335982  M Chinnaswamy Stadium        1   0.5  Kolkata Knight Riders   \n",
       "5    335982  M Chinnaswamy Stadium        1   0.6  Kolkata Knight Riders   \n",
       "6    335982  M Chinnaswamy Stadium        1   0.7  Kolkata Knight Riders   \n",
       "7    335982  M Chinnaswamy Stadium        1   1.1  Kolkata Knight Riders   \n",
       "8    335982  M Chinnaswamy Stadium        1   1.2  Kolkata Knight Riders   \n",
       "9    335982  M Chinnaswamy Stadium        1   1.3  Kolkata Knight Riders   \n",
       "\n",
       "                  bowling_team      striker  non_striker   bowler  total_runs  \n",
       "0  Royal Challengers Bangalore   SC Ganguly  BB McCullum  P Kumar         1.0  \n",
       "1  Royal Challengers Bangalore  BB McCullum   SC Ganguly  P Kumar         0.0  \n",
       "2  Royal Challengers Bangalore  BB McCullum   SC Ganguly  P Kumar         2.0  \n",
       "3  Royal Challengers Bangalore  BB McCullum   SC Ganguly  P Kumar         0.0  \n",
       "4  Royal Challengers Bangalore  BB McCullum   SC Ganguly  P Kumar         0.0  \n",
       "5  Royal Challengers Bangalore  BB McCullum   SC Ganguly  P Kumar         0.0  \n",
       "6  Royal Challengers Bangalore  BB McCullum   SC Ganguly  P Kumar         1.0  \n",
       "7  Royal Challengers Bangalore  BB McCullum   SC Ganguly   Z Khan         0.0  \n",
       "8  Royal Challengers Bangalore  BB McCullum   SC Ganguly   Z Khan         4.0  \n",
       "9  Royal Challengers Bangalore  BB McCullum   SC Ganguly   Z Khan         4.0  "
      ]
     },
     "execution_count": 42,
     "metadata": {},
     "output_type": "execute_result"
    }
   ],
   "source": [
    "df.head(10)"
   ]
  },
  {
   "cell_type": "code",
   "execution_count": 43,
   "id": "legislative-spider",
   "metadata": {},
   "outputs": [
    {
     "name": "stderr",
     "output_type": "stream",
     "text": [
      "C:\\Users\\DELL\\Anaconda3\\lib\\site-packages\\ipykernel_launcher.py:1: FutureWarning: Indexing with multiple keys (implicitly converted to a tuple of keys) will be deprecated, use a list instead.\n",
      "  \"\"\"Entry point for launching an IPython kernel.\n"
     ]
    }
   ],
   "source": [
    "data1 = df.groupby(['match_id','innings'])['striker','non_striker'].apply(lambda x: list(np.unique(x)))\n",
    "data1 = data1.to_frame('batsmen')\n",
    "\n",
    "data2 = df.groupby(['match_id','innings'])['bowler'].apply(lambda x: list(np.unique(x)))\n",
    "data2 = data2.to_frame('bowlers')"
   ]
  },
  {
   "cell_type": "code",
   "execution_count": 44,
   "id": "brazilian-photography",
   "metadata": {},
   "outputs": [
    {
     "data": {
      "text/html": [
       "<div>\n",
       "<style scoped>\n",
       "    .dataframe tbody tr th:only-of-type {\n",
       "        vertical-align: middle;\n",
       "    }\n",
       "\n",
       "    .dataframe tbody tr th {\n",
       "        vertical-align: top;\n",
       "    }\n",
       "\n",
       "    .dataframe thead th {\n",
       "        text-align: right;\n",
       "    }\n",
       "</style>\n",
       "<table border=\"1\" class=\"dataframe\">\n",
       "  <thead>\n",
       "    <tr style=\"text-align: right;\">\n",
       "      <th></th>\n",
       "      <th></th>\n",
       "      <th>batsmen</th>\n",
       "    </tr>\n",
       "    <tr>\n",
       "      <th>match_id</th>\n",
       "      <th>innings</th>\n",
       "      <th></th>\n",
       "    </tr>\n",
       "  </thead>\n",
       "  <tbody>\n",
       "    <tr>\n",
       "      <th rowspan=\"2\" valign=\"top\">335982</th>\n",
       "      <th>1</th>\n",
       "      <td>[BB McCullum, RT Ponting, SC Ganguly]</td>\n",
       "    </tr>\n",
       "    <tr>\n",
       "      <th>2</th>\n",
       "      <td>[CL White, JH Kallis, MV Boucher, R Dravid, V ...</td>\n",
       "    </tr>\n",
       "    <tr>\n",
       "      <th rowspan=\"2\" valign=\"top\">335989</th>\n",
       "      <th>1</th>\n",
       "      <td>[MEK Hussey, ML Hayden, PA Patel, SK Raina]</td>\n",
       "    </tr>\n",
       "    <tr>\n",
       "      <th>2</th>\n",
       "      <td>[L Ronchi, RV Uthappa, SM Pollock, ST Jayasuriya]</td>\n",
       "    </tr>\n",
       "    <tr>\n",
       "      <th>335992</th>\n",
       "      <th>1</th>\n",
       "      <td>[JH Kallis, LRPL Taylor, R Dravid, S Chanderpaul]</td>\n",
       "    </tr>\n",
       "  </tbody>\n",
       "</table>\n",
       "</div>"
      ],
      "text/plain": [
       "                                                            batsmen\n",
       "match_id innings                                                   \n",
       "335982   1                    [BB McCullum, RT Ponting, SC Ganguly]\n",
       "         2        [CL White, JH Kallis, MV Boucher, R Dravid, V ...\n",
       "335989   1              [MEK Hussey, ML Hayden, PA Patel, SK Raina]\n",
       "         2        [L Ronchi, RV Uthappa, SM Pollock, ST Jayasuriya]\n",
       "335992   1        [JH Kallis, LRPL Taylor, R Dravid, S Chanderpaul]"
      ]
     },
     "execution_count": 44,
     "metadata": {},
     "output_type": "execute_result"
    }
   ],
   "source": [
    "data1.head()"
   ]
  },
  {
   "cell_type": "code",
   "execution_count": 45,
   "id": "convinced-guitar",
   "metadata": {},
   "outputs": [],
   "source": [
    "data3 = df.groupby(['match_id','innings'])['total_runs'].sum()"
   ]
  },
  {
   "cell_type": "code",
   "execution_count": 46,
   "id": "million-chemical",
   "metadata": {},
   "outputs": [],
   "source": [
    "data4 = df.groupby(['match_id','innings'])['batting_team'].apply(lambda x: np.unique(x)).str[0]"
   ]
  },
  {
   "cell_type": "code",
   "execution_count": 47,
   "id": "thick-skill",
   "metadata": {},
   "outputs": [],
   "source": [
    "data5 = df.groupby(['match_id','innings'])['bowling_team'].apply(lambda x: np.unique(x)).str[0]"
   ]
  },
  {
   "cell_type": "code",
   "execution_count": 48,
   "id": "renewable-greek",
   "metadata": {},
   "outputs": [],
   "source": [
    "data6 = df.groupby(['match_id','innings'])['venue'].apply(lambda x: np.unique(x)).str[0]"
   ]
  },
  {
   "cell_type": "code",
   "execution_count": 49,
   "id": "alpine-distributor",
   "metadata": {},
   "outputs": [],
   "source": [
    "data = pd.concat([data1,data2,data3,data4,data5,data6],axis=1)"
   ]
  },
  {
   "cell_type": "code",
   "execution_count": 50,
   "id": "built-fifty",
   "metadata": {},
   "outputs": [],
   "source": [
    "#data.head()"
   ]
  },
  {
   "cell_type": "code",
   "execution_count": 51,
   "id": "opposite-lithuania",
   "metadata": {},
   "outputs": [],
   "source": [
    "#data9 = df.groupby(['match_id','innings'])['striker','non_striker'].apply(lambda x: list(np.unique(x)))\n",
    "#data9 = data9.reset_index()\n",
    "#data9 = data9.to_frame('batsmen')\n",
    "#data.reset_index()\n",
    "#data9.dtypes"
   ]
  },
  {
   "cell_type": "code",
   "execution_count": 52,
   "id": "imperial-springer",
   "metadata": {},
   "outputs": [],
   "source": [
    "#data9.head()"
   ]
  },
  {
   "cell_type": "code",
   "execution_count": 53,
   "id": "anticipated-costume",
   "metadata": {},
   "outputs": [],
   "source": [
    "#data.drop('match_id',axis=1,inplace=True)"
   ]
  },
  {
   "cell_type": "code",
   "execution_count": null,
   "id": "romantic-panel",
   "metadata": {},
   "outputs": [],
   "source": []
  },
  {
   "cell_type": "code",
   "execution_count": 54,
   "id": "separated-creator",
   "metadata": {},
   "outputs": [
    {
     "data": {
      "text/html": [
       "<div>\n",
       "<style scoped>\n",
       "    .dataframe tbody tr th:only-of-type {\n",
       "        vertical-align: middle;\n",
       "    }\n",
       "\n",
       "    .dataframe tbody tr th {\n",
       "        vertical-align: top;\n",
       "    }\n",
       "\n",
       "    .dataframe thead th {\n",
       "        text-align: right;\n",
       "    }\n",
       "</style>\n",
       "<table border=\"1\" class=\"dataframe\">\n",
       "  <thead>\n",
       "    <tr style=\"text-align: right;\">\n",
       "      <th></th>\n",
       "      <th></th>\n",
       "      <th>batsmen</th>\n",
       "      <th>bowlers</th>\n",
       "      <th>total_runs</th>\n",
       "      <th>batting_team</th>\n",
       "      <th>bowling_team</th>\n",
       "      <th>venue</th>\n",
       "    </tr>\n",
       "    <tr>\n",
       "      <th>match_id</th>\n",
       "      <th>innings</th>\n",
       "      <th></th>\n",
       "      <th></th>\n",
       "      <th></th>\n",
       "      <th></th>\n",
       "      <th></th>\n",
       "      <th></th>\n",
       "    </tr>\n",
       "  </thead>\n",
       "  <tbody>\n",
       "    <tr>\n",
       "      <th rowspan=\"2\" valign=\"top\">335982</th>\n",
       "      <th>1</th>\n",
       "      <td>[BB McCullum, RT Ponting, SC Ganguly]</td>\n",
       "      <td>[AA Noffke, P Kumar, Z Khan]</td>\n",
       "      <td>67.0</td>\n",
       "      <td>Kolkata Knight Riders</td>\n",
       "      <td>Royal Challengers Bangalore</td>\n",
       "      <td>M Chinnaswamy Stadium</td>\n",
       "    </tr>\n",
       "    <tr>\n",
       "      <th>2</th>\n",
       "      <td>[CL White, JH Kallis, MV Boucher, R Dravid, V ...</td>\n",
       "      <td>[AB Agarkar, AB Dinda, I Sharma]</td>\n",
       "      <td>28.0</td>\n",
       "      <td>Royal Challengers Bangalore</td>\n",
       "      <td>Kolkata Knight Riders</td>\n",
       "      <td>M Chinnaswamy Stadium</td>\n",
       "    </tr>\n",
       "    <tr>\n",
       "      <th rowspan=\"2\" valign=\"top\">335989</th>\n",
       "      <th>1</th>\n",
       "      <td>[MEK Hussey, ML Hayden, PA Patel, SK Raina]</td>\n",
       "      <td>[A Nehra, DS Kulkarni, SM Pollock]</td>\n",
       "      <td>60.0</td>\n",
       "      <td>Chennai Super Kings</td>\n",
       "      <td>Mumbai Indians</td>\n",
       "      <td>MA Chidambaram Stadium</td>\n",
       "    </tr>\n",
       "    <tr>\n",
       "      <th>2</th>\n",
       "      <td>[L Ronchi, RV Uthappa, SM Pollock, ST Jayasuriya]</td>\n",
       "      <td>[JDP Oram, MS Gony]</td>\n",
       "      <td>54.0</td>\n",
       "      <td>Mumbai Indians</td>\n",
       "      <td>Chennai Super Kings</td>\n",
       "      <td>MA Chidambaram Stadium</td>\n",
       "    </tr>\n",
       "    <tr>\n",
       "      <th>335992</th>\n",
       "      <th>1</th>\n",
       "      <td>[JH Kallis, LRPL Taylor, R Dravid, S Chanderpaul]</td>\n",
       "      <td>[MM Patel, SR Watson, Sohail Tanvir]</td>\n",
       "      <td>58.0</td>\n",
       "      <td>Royal Challengers Bangalore</td>\n",
       "      <td>Rajasthan Royals</td>\n",
       "      <td>M Chinnaswamy Stadium</td>\n",
       "    </tr>\n",
       "  </tbody>\n",
       "</table>\n",
       "</div>"
      ],
      "text/plain": [
       "                                                            batsmen  \\\n",
       "match_id innings                                                      \n",
       "335982   1                    [BB McCullum, RT Ponting, SC Ganguly]   \n",
       "         2        [CL White, JH Kallis, MV Boucher, R Dravid, V ...   \n",
       "335989   1              [MEK Hussey, ML Hayden, PA Patel, SK Raina]   \n",
       "         2        [L Ronchi, RV Uthappa, SM Pollock, ST Jayasuriya]   \n",
       "335992   1        [JH Kallis, LRPL Taylor, R Dravid, S Chanderpaul]   \n",
       "\n",
       "                                               bowlers  total_runs  \\\n",
       "match_id innings                                                     \n",
       "335982   1                [AA Noffke, P Kumar, Z Khan]        67.0   \n",
       "         2            [AB Agarkar, AB Dinda, I Sharma]        28.0   \n",
       "335989   1          [A Nehra, DS Kulkarni, SM Pollock]        60.0   \n",
       "         2                         [JDP Oram, MS Gony]        54.0   \n",
       "335992   1        [MM Patel, SR Watson, Sohail Tanvir]        58.0   \n",
       "\n",
       "                                 batting_team                 bowling_team  \\\n",
       "match_id innings                                                             \n",
       "335982   1              Kolkata Knight Riders  Royal Challengers Bangalore   \n",
       "         2        Royal Challengers Bangalore        Kolkata Knight Riders   \n",
       "335989   1                Chennai Super Kings               Mumbai Indians   \n",
       "         2                     Mumbai Indians          Chennai Super Kings   \n",
       "335992   1        Royal Challengers Bangalore             Rajasthan Royals   \n",
       "\n",
       "                                   venue  \n",
       "match_id innings                          \n",
       "335982   1         M Chinnaswamy Stadium  \n",
       "         2         M Chinnaswamy Stadium  \n",
       "335989   1        MA Chidambaram Stadium  \n",
       "         2        MA Chidambaram Stadium  \n",
       "335992   1         M Chinnaswamy Stadium  "
      ]
     },
     "execution_count": 54,
     "metadata": {},
     "output_type": "execute_result"
    }
   ],
   "source": [
    "data.head()"
   ]
  },
  {
   "cell_type": "code",
   "execution_count": null,
   "id": "advised-process",
   "metadata": {},
   "outputs": [],
   "source": []
  },
  {
   "cell_type": "code",
   "execution_count": 55,
   "id": "threaded-budapest",
   "metadata": {},
   "outputs": [],
   "source": [
    "#data['batsmen'][0][0]"
   ]
  },
  {
   "cell_type": "code",
   "execution_count": 56,
   "id": "underlying-hughes",
   "metadata": {},
   "outputs": [],
   "source": [
    "#data.head()"
   ]
  },
  {
   "cell_type": "code",
   "execution_count": 57,
   "id": "jewish-farmer",
   "metadata": {},
   "outputs": [],
   "source": [
    "from sklearn.model_selection import train_test_split\n"
   ]
  },
  {
   "cell_type": "code",
   "execution_count": 58,
   "id": "exact-granny",
   "metadata": {},
   "outputs": [],
   "source": [
    "encoder2 = LabelEncoder()\n",
    "#team = pd.concat([df['batting_team'], df['bowling_team']])\n",
    "data['batting_team'] = encoder2.fit_transform(data['batting_team'])\n",
    "data['bowling_team'] = encoder2.transform(data['bowling_team'])\n",
    "#dic2 = dict(zip(encoder.classes_, encoder.transform(encoder.classes_)))\n"
   ]
  },
  {
   "cell_type": "code",
   "execution_count": 59,
   "id": "indirect-stevens",
   "metadata": {},
   "outputs": [],
   "source": [
    "encoder3 = LabelEncoder()\n",
    "data['venue'] = encoder3.fit_transform(data['venue'])\n"
   ]
  },
  {
   "cell_type": "code",
   "execution_count": 60,
   "id": "metric-bridge",
   "metadata": {},
   "outputs": [],
   "source": [
    "#"
   ]
  },
  {
   "cell_type": "code",
   "execution_count": 61,
   "id": "affected-parliament",
   "metadata": {},
   "outputs": [],
   "source": [
    "\n",
    "#data = pd.get_dummies(data=data, columns=['batting_team', 'bowling_team', 'venue'])\n",
    "data = data.join(pd.DataFrame(data.batsmen.values.tolist(), data.index).add_prefix('batsmen'))\n",
    "data = data.join(pd.DataFrame(data.bowlers.values.tolist(), data.index).add_prefix('bowlers'))\n",
    "\n"
   ]
  },
  {
   "cell_type": "code",
   "execution_count": 62,
   "id": "spectacular-nature",
   "metadata": {},
   "outputs": [],
   "source": [
    "data['batsmen0'] = data['batsmen0'].map(dic)\n",
    "data['batsmen1'] = data['batsmen1'].map(dic)\n",
    "data['batsmen2'] = data['batsmen2'].map(dic)\n",
    "data['batsmen3'] = data['batsmen3'].map(dic)\n",
    "data['batsmen4'] = data['batsmen4'].map(dic)\n",
    "data['batsmen5'] = data['batsmen5'].map(dic)\n",
    "data['batsmen6'] = data['batsmen6'].map(dic)\n",
    "data['batsmen7'] = data['batsmen7'].map(dic)\n",
    "data['batsmen8'] = data['batsmen8'].map(dic)\n",
    "\n",
    "\n",
    "data['bowlers0'] = data['bowlers0'].map(dic1)\n",
    "data['bowlers1'] = data['bowlers1'].map(dic1)\n",
    "data['bowlers2'] = data['bowlers2'].map(dic1)\n",
    "data['bowlers3'] = data['bowlers3'].map(dic1)\n",
    "data['bowlers4'] = data['bowlers4'].map(dic1)\n",
    "\n",
    "data.drop(['batsmen','bowlers'],axis=1,inplace=True)\n",
    "data = data.fillna(0)\n",
    "for i in data.columns:\n",
    "    data[i]=data[i].astype('int64')\n",
    "#return data1"
   ]
  },
  {
   "cell_type": "code",
   "execution_count": 63,
   "id": "induced-infection",
   "metadata": {},
   "outputs": [],
   "source": [
    "#data = data.apply(pd.to_numeric)\n",
    "#data.head()\n",
    "#data[:][0] = 0"
   ]
  },
  {
   "cell_type": "code",
   "execution_count": 64,
   "id": "virgin-inclusion",
   "metadata": {},
   "outputs": [],
   "source": [
    "data = data.reset_index()"
   ]
  },
  {
   "cell_type": "code",
   "execution_count": 65,
   "id": "difficult-pepper",
   "metadata": {},
   "outputs": [],
   "source": [
    "data.drop('match_id',axis=1,inplace=True)"
   ]
  },
  {
   "cell_type": "code",
   "execution_count": 66,
   "id": "cordless-lingerie",
   "metadata": {},
   "outputs": [
    {
     "data": {
      "text/plain": [
       "innings         int64\n",
       "total_runs      int64\n",
       "batting_team    int64\n",
       "bowling_team    int64\n",
       "venue           int64\n",
       "batsmen0        int64\n",
       "batsmen1        int64\n",
       "batsmen2        int64\n",
       "batsmen3        int64\n",
       "batsmen4        int64\n",
       "batsmen5        int64\n",
       "batsmen6        int64\n",
       "batsmen7        int64\n",
       "batsmen8        int64\n",
       "bowlers0        int64\n",
       "bowlers1        int64\n",
       "bowlers2        int64\n",
       "bowlers3        int64\n",
       "bowlers4        int64\n",
       "dtype: object"
      ]
     },
     "execution_count": 66,
     "metadata": {},
     "output_type": "execute_result"
    }
   ],
   "source": [
    "#data.drop('match_id',axis=1,inplace=True)\n",
    "#del data['match_id']\n",
    "data.dtypes"
   ]
  },
  {
   "cell_type": "code",
   "execution_count": 67,
   "id": "actual-athens",
   "metadata": {},
   "outputs": [],
   "source": [
    "X = data.drop('total_runs',axis=1)\n",
    "y = data['total_runs']\n",
    "X_train, X_test, y_train, y_test = train_test_split(X, y, test_size=0.20)\n",
    "\n"
   ]
  },
  {
   "cell_type": "code",
   "execution_count": 68,
   "id": "sudden-wrestling",
   "metadata": {},
   "outputs": [
    {
     "data": {
      "text/plain": [
       "innings         int64\n",
       "batting_team    int64\n",
       "bowling_team    int64\n",
       "venue           int64\n",
       "batsmen0        int64\n",
       "batsmen1        int64\n",
       "batsmen2        int64\n",
       "batsmen3        int64\n",
       "batsmen4        int64\n",
       "batsmen5        int64\n",
       "batsmen6        int64\n",
       "batsmen7        int64\n",
       "batsmen8        int64\n",
       "bowlers0        int64\n",
       "bowlers1        int64\n",
       "bowlers2        int64\n",
       "bowlers3        int64\n",
       "bowlers4        int64\n",
       "dtype: object"
      ]
     },
     "execution_count": 68,
     "metadata": {},
     "output_type": "execute_result"
    }
   ],
   "source": [
    "\n",
    "X.dtypes"
   ]
  },
  {
   "cell_type": "code",
   "execution_count": 69,
   "id": "italian-gathering",
   "metadata": {},
   "outputs": [],
   "source": [
    "#from sklearn.linear_model import Lasso\n",
    "#from sklearn.model_selection import GridSearchCV\n",
    "#lasso=Lasso()\n",
    "#parameters={'alpha':[1e-15,1e-10,1e-8,1e-3,1e-2,1,5,10,20,30,35,40]}\n",
    "#lasso_regressor=GridSearchCV(lasso,parameters,scoring='r2',cv=5)\n",
    "#lasso_regressor.fit(X_train,y_train)\n",
    "#print(lasso_regressor.best_params_)\n",
    "#print(lasso_regressor.best_score_)\n",
    "#prediction = lasso_regressor.predict(X_test)"
   ]
  },
  {
   "cell_type": "code",
   "execution_count": 70,
   "id": "distinguished-argument",
   "metadata": {},
   "outputs": [
    {
     "name": "stdout",
     "output_type": "stream",
     "text": [
      "{'n_estimators': [200, 400, 600, 800], 'max_features': ['auto', 'sqrt'], 'max_depth': [10, 20, 30, 40, 50, 60, None], 'min_samples_split': [2, 5, 10], 'min_samples_leaf': [1, 2, 4], 'bootstrap': [True, False]}\n"
     ]
    }
   ],
   "source": [
    "from sklearn.model_selection import RandomizedSearchCV\n",
    "# Number of trees in random forest\n",
    "n_estimators = [int(x) for x in np.linspace(start = 200, stop = 800, num = 4)]\n",
    "# Number of features to consider at every split\n",
    "max_features = ['auto', 'sqrt']\n",
    "# Maximum number of levels in tree\n",
    "max_depth = [int(x) for x in np.linspace(10, 60, num = 6)]\n",
    "max_depth.append(None)\n",
    "# Minimum number of samples required to split a node\n",
    "min_samples_split = [2, 5, 10]\n",
    "# Minimum number of samples required at each leaf node\n",
    "min_samples_leaf = [1, 2, 4]\n",
    "# Method of selecting samples for training each tree\n",
    "bootstrap = [True, False]\n",
    "# Create the random grid\n",
    "random_grid = {'n_estimators': n_estimators,\n",
    "               'max_features': max_features,\n",
    "               'max_depth': max_depth,\n",
    "               'min_samples_split': min_samples_split,\n",
    "               'min_samples_leaf': min_samples_leaf,\n",
    "               'bootstrap': bootstrap}\n",
    "print(random_grid)"
   ]
  },
  {
   "cell_type": "code",
   "execution_count": 71,
   "id": "general-promotion",
   "metadata": {},
   "outputs": [
    {
     "name": "stdout",
     "output_type": "stream",
     "text": [
      "Fitting 3 folds for each of 30 candidates, totalling 90 fits\n",
      "{'n_estimators': 400, 'min_samples_split': 10, 'min_samples_leaf': 4, 'max_features': 'sqrt', 'max_depth': 30, 'bootstrap': True}\n"
     ]
    }
   ],
   "source": [
    "from sklearn.ensemble import RandomForestRegressor\n",
    "rf = RandomForestRegressor()\n",
    "# Random search of parameters, using 3 fold cross validation, \n",
    "# search across 100 different combinations, and use all available cores\n",
    "rf_random = RandomizedSearchCV(estimator = rf, param_distributions = random_grid, n_iter = 30, cv = 3, verbose=2, random_state=42, n_jobs = -1)\n",
    "# Fit the random search model\n",
    "rf_random.fit(X_train, y_train)\n",
    "\n",
    "print(rf_random.best_params_)\n",
    "prediction = rf_random.predict(X_test)"
   ]
  },
  {
   "cell_type": "code",
   "execution_count": 72,
   "id": "mysterious-clinic",
   "metadata": {},
   "outputs": [],
   "source": [
    "#data1 = preprocess(data1)"
   ]
  },
  {
   "cell_type": "code",
   "execution_count": null,
   "id": "grand-craft",
   "metadata": {},
   "outputs": [],
   "source": []
  },
  {
   "cell_type": "code",
   "execution_count": null,
   "id": "quarterly-denmark",
   "metadata": {},
   "outputs": [],
   "source": []
  },
  {
   "cell_type": "code",
   "execution_count": null,
   "id": "sunrise-belle",
   "metadata": {},
   "outputs": [],
   "source": []
  },
  {
   "cell_type": "code",
   "execution_count": 73,
   "id": "engaged-equality",
   "metadata": {},
   "outputs": [],
   "source": [
    "#"
   ]
  },
  {
   "cell_type": "code",
   "execution_count": 74,
   "id": "solved-tourist",
   "metadata": {},
   "outputs": [],
   "source": [
    "#data.drop(['batsmen','bowlers'],axis=1,inplace=True)"
   ]
  },
  {
   "cell_type": "code",
   "execution_count": 75,
   "id": "minimal-drink",
   "metadata": {},
   "outputs": [],
   "source": [
    "#data.columns"
   ]
  },
  {
   "cell_type": "code",
   "execution_count": 76,
   "id": "departmental-latino",
   "metadata": {},
   "outputs": [],
   "source": [
    "#data['batsmen0'] = data['batsmen0'].map(dic)"
   ]
  },
  {
   "cell_type": "code",
   "execution_count": 77,
   "id": "terminal-inside",
   "metadata": {},
   "outputs": [],
   "source": [
    "#print(dic)\n",
    "#data['batsmen0'].head(20)"
   ]
  },
  {
   "cell_type": "code",
   "execution_count": null,
   "id": "political-extension",
   "metadata": {},
   "outputs": [],
   "source": []
  },
  {
   "cell_type": "code",
   "execution_count": 78,
   "id": "working-lunch",
   "metadata": {},
   "outputs": [],
   "source": [
    "#data.head()"
   ]
  },
  {
   "cell_type": "code",
   "execution_count": null,
   "id": "corporate-parent",
   "metadata": {},
   "outputs": [],
   "source": []
  },
  {
   "cell_type": "code",
   "execution_count": 79,
   "id": "collective-bracelet",
   "metadata": {},
   "outputs": [],
   "source": [
    "#data.head()"
   ]
  },
  {
   "cell_type": "code",
   "execution_count": null,
   "id": "overhead-south",
   "metadata": {},
   "outputs": [],
   "source": []
  },
  {
   "cell_type": "code",
   "execution_count": 80,
   "id": "amazing-following",
   "metadata": {},
   "outputs": [],
   "source": [
    "#data.dtypes"
   ]
  },
  {
   "cell_type": "code",
   "execution_count": 81,
   "id": "absent-fashion",
   "metadata": {},
   "outputs": [],
   "source": [
    "#data.total_runs = data.total_runs.astype(int)"
   ]
  },
  {
   "cell_type": "code",
   "execution_count": null,
   "id": "fabulous-stephen",
   "metadata": {},
   "outputs": [],
   "source": []
  },
  {
   "cell_type": "code",
   "execution_count": null,
   "id": "proved-cattle",
   "metadata": {},
   "outputs": [],
   "source": []
  },
  {
   "cell_type": "code",
   "execution_count": null,
   "id": "creative-annual",
   "metadata": {},
   "outputs": [],
   "source": []
  },
  {
   "cell_type": "code",
   "execution_count": 82,
   "id": "stunning-editing",
   "metadata": {},
   "outputs": [],
   "source": [
    "#X.head()"
   ]
  },
  {
   "cell_type": "code",
   "execution_count": 83,
   "id": "controlled-raise",
   "metadata": {},
   "outputs": [],
   "source": [
    "#y.head()"
   ]
  },
  {
   "cell_type": "code",
   "execution_count": null,
   "id": "false-prize",
   "metadata": {},
   "outputs": [],
   "source": []
  },
  {
   "cell_type": "code",
   "execution_count": 84,
   "id": "higher-marks",
   "metadata": {},
   "outputs": [],
   "source": [
    "#data.head()"
   ]
  },
  {
   "cell_type": "code",
   "execution_count": null,
   "id": "ancient-craft",
   "metadata": {},
   "outputs": [],
   "source": []
  },
  {
   "cell_type": "code",
   "execution_count": 85,
   "id": "anticipated-hearing",
   "metadata": {},
   "outputs": [],
   "source": [
    "#import seaborn as sns"
   ]
  },
  {
   "cell_type": "code",
   "execution_count": 86,
   "id": "institutional-amateur",
   "metadata": {},
   "outputs": [],
   "source": [
    "#from sklearn import metrics\n",
    "#print(sns.distplot(y_test-prediction))\n",
    "#print('MAE:', metrics.mean_absolute_error(y_test, prediction))\n",
    "#print('MSE:', metrics.mean_squared_error(y_test, prediction))\n",
    "#print('RMSE:', np.sqrt(metrics.mean_squared_error(y_test, prediction)))"
   ]
  },
  {
   "cell_type": "code",
   "execution_count": 87,
   "id": "proprietary-direction",
   "metadata": {},
   "outputs": [
    {
     "name": "stdout",
     "output_type": "stream",
     "text": [
      "[39.67705026 39.53802389 50.60583909 51.54487107 43.12192572 48.59283338\n",
      " 40.4772094  51.27423254 47.30434853 55.95056875 55.96813654 46.71326278\n",
      " 48.32785105 45.34016457 50.84782346 46.62627604 50.52803643 51.22981108\n",
      " 48.25236599 51.13070858 50.71776993 41.61113971 49.8020863  50.04432801\n",
      " 49.59995249 57.9157841  51.75056282 47.85532445 43.50545507 43.88836264\n",
      " 49.541884   42.39213977 46.74025741 49.85431034 48.81880009 43.26499646\n",
      " 52.32462599 52.64890075 50.73169505 47.11397533 53.38170038 41.84334507\n",
      " 56.07049518 51.29859168 51.22317112 46.5194281  43.91160475 49.41719662\n",
      " 41.53005714 51.57060509 47.42950015 42.60153356 48.04182493 49.62625742\n",
      " 48.23671899 44.85669063 44.33681332 42.98159257 54.62490166 51.74879173\n",
      " 51.31129526 47.59268572 51.76286302 47.98444855 51.64666527 43.1956035\n",
      " 47.00465826 48.03502826 43.62218342 39.96873734 51.23959599 49.98031741\n",
      " 52.85977704 49.79195058 43.5883069  52.21035018 46.19454708 48.25651527\n",
      " 51.21413993 52.74997928 50.21705168 39.43000139 53.57496907 46.29169419\n",
      " 53.24888542]\n"
     ]
    }
   ],
   "source": [
    "print(prediction)"
   ]
  },
  {
   "cell_type": "code",
   "execution_count": 88,
   "id": "encouraging-fence",
   "metadata": {},
   "outputs": [],
   "source": [
    "prediction = prediction.astype(int)"
   ]
  },
  {
   "cell_type": "code",
   "execution_count": 89,
   "id": "accompanied-multimedia",
   "metadata": {},
   "outputs": [
    {
     "data": {
      "text/plain": [
       "array([39, 39, 50, 51, 43, 48, 40, 51, 47, 55, 55, 46, 48, 45, 50, 46, 50,\n",
       "       51, 48, 51, 50, 41, 49, 50, 49, 57, 51, 47, 43, 43, 49, 42, 46, 49,\n",
       "       48, 43, 52, 52, 50, 47, 53, 41, 56, 51, 51, 46, 43, 49, 41, 51, 47,\n",
       "       42, 48, 49, 48, 44, 44, 42, 54, 51, 51, 47, 51, 47, 51, 43, 47, 48,\n",
       "       43, 39, 51, 49, 52, 49, 43, 52, 46, 48, 51, 52, 50, 39, 53, 46, 53])"
      ]
     },
     "execution_count": 89,
     "metadata": {},
     "output_type": "execute_result"
    }
   ],
   "source": [
    "prediction"
   ]
  },
  {
   "cell_type": "code",
   "execution_count": null,
   "id": "arctic-motion",
   "metadata": {},
   "outputs": [],
   "source": []
  },
  {
   "cell_type": "code",
   "execution_count": null,
   "id": "incoming-defendant",
   "metadata": {},
   "outputs": [],
   "source": []
  },
  {
   "cell_type": "code",
   "execution_count": null,
   "id": "involved-logging",
   "metadata": {},
   "outputs": [],
   "source": []
  },
  {
   "cell_type": "code",
   "execution_count": 91,
   "id": "dramatic-jamaica",
   "metadata": {},
   "outputs": [],
   "source": [
    "import joblib"
   ]
  },
  {
   "cell_type": "code",
   "execution_count": 92,
   "id": "foreign-makeup",
   "metadata": {},
   "outputs": [
    {
     "data": {
      "text/plain": [
       "['encoder_venue.joblib']"
      ]
     },
     "execution_count": 92,
     "metadata": {},
     "output_type": "execute_result"
    }
   ],
   "source": [
    "joblib.dump(rf_random, 'lasso.joblib')\n",
    "joblib.dump(encoder, 'encoder_bat.joblib')\n",
    "joblib.dump(encoder1, 'encoder_bowl.joblib')\n",
    "joblib.dump(encoder2, 'encoder_team.joblib')\n",
    "joblib.dump(encoder3, 'encoder_venue.joblib')"
   ]
  },
  {
   "cell_type": "code",
   "execution_count": 90,
   "id": "atomic-moldova",
   "metadata": {},
   "outputs": [],
   "source": [
    "#data.head(10)"
   ]
  },
  {
   "cell_type": "code",
   "execution_count": null,
   "id": "amber-butter",
   "metadata": {},
   "outputs": [],
   "source": []
  },
  {
   "cell_type": "code",
   "execution_count": null,
   "id": "surgical-shell",
   "metadata": {},
   "outputs": [],
   "source": []
  },
  {
   "cell_type": "code",
   "execution_count": null,
   "id": "voluntary-prior",
   "metadata": {},
   "outputs": [],
   "source": []
  },
  {
   "cell_type": "code",
   "execution_count": null,
   "id": "possible-herald",
   "metadata": {},
   "outputs": [],
   "source": []
  },
  {
   "cell_type": "code",
   "execution_count": null,
   "id": "potential-lyric",
   "metadata": {},
   "outputs": [],
   "source": []
  },
  {
   "cell_type": "code",
   "execution_count": null,
   "id": "unknown-stewart",
   "metadata": {},
   "outputs": [],
   "source": []
  },
  {
   "cell_type": "code",
   "execution_count": null,
   "id": "south-hazard",
   "metadata": {},
   "outputs": [],
   "source": []
  },
  {
   "cell_type": "code",
   "execution_count": null,
   "id": "outside-wonder",
   "metadata": {},
   "outputs": [],
   "source": []
  },
  {
   "cell_type": "code",
   "execution_count": null,
   "id": "moving-tunnel",
   "metadata": {},
   "outputs": [],
   "source": []
  },
  {
   "cell_type": "code",
   "execution_count": null,
   "id": "developmental-decrease",
   "metadata": {},
   "outputs": [],
   "source": []
  },
  {
   "cell_type": "code",
   "execution_count": null,
   "id": "internal-elements",
   "metadata": {},
   "outputs": [],
   "source": []
  },
  {
   "cell_type": "code",
   "execution_count": null,
   "id": "residential-franklin",
   "metadata": {},
   "outputs": [],
   "source": []
  },
  {
   "cell_type": "code",
   "execution_count": null,
   "id": "false-special",
   "metadata": {},
   "outputs": [],
   "source": []
  },
  {
   "cell_type": "code",
   "execution_count": null,
   "id": "lined-hebrew",
   "metadata": {},
   "outputs": [],
   "source": []
  },
  {
   "cell_type": "code",
   "execution_count": null,
   "id": "interstate-alberta",
   "metadata": {},
   "outputs": [],
   "source": []
  },
  {
   "cell_type": "code",
   "execution_count": null,
   "id": "confused-database",
   "metadata": {},
   "outputs": [],
   "source": []
  },
  {
   "cell_type": "code",
   "execution_count": null,
   "id": "antique-sender",
   "metadata": {},
   "outputs": [],
   "source": []
  },
  {
   "cell_type": "code",
   "execution_count": null,
   "id": "neither-wagon",
   "metadata": {},
   "outputs": [],
   "source": []
  },
  {
   "cell_type": "code",
   "execution_count": null,
   "id": "appointed-fourth",
   "metadata": {},
   "outputs": [],
   "source": []
  },
  {
   "cell_type": "code",
   "execution_count": null,
   "id": "based-perception",
   "metadata": {},
   "outputs": [],
   "source": []
  },
  {
   "cell_type": "code",
   "execution_count": null,
   "id": "substantial-puppy",
   "metadata": {},
   "outputs": [],
   "source": []
  },
  {
   "cell_type": "code",
   "execution_count": null,
   "id": "recorded-comfort",
   "metadata": {},
   "outputs": [],
   "source": []
  },
  {
   "cell_type": "code",
   "execution_count": null,
   "id": "preceding-swimming",
   "metadata": {},
   "outputs": [],
   "source": []
  },
  {
   "cell_type": "code",
   "execution_count": null,
   "id": "thousand-prevention",
   "metadata": {},
   "outputs": [],
   "source": []
  },
  {
   "cell_type": "code",
   "execution_count": null,
   "id": "peripheral-delta",
   "metadata": {},
   "outputs": [],
   "source": []
  }
 ],
 "metadata": {
  "kernelspec": {
   "display_name": "Python 3",
   "language": "python",
   "name": "python3"
  },
  "language_info": {
   "codemirror_mode": {
    "name": "ipython",
    "version": 3
   },
   "file_extension": ".py",
   "mimetype": "text/x-python",
   "name": "python",
   "nbconvert_exporter": "python",
   "pygments_lexer": "ipython3",
   "version": "3.7.3"
  }
 },
 "nbformat": 4,
 "nbformat_minor": 5
}
