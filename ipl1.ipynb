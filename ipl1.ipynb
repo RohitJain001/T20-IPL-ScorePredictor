{
 "cells": [
  {
   "cell_type": "code",
   "execution_count": 1,
   "id": "foreign-induction",
   "metadata": {},
   "outputs": [],
   "source": [
    "import pandas as pd\n",
    "import numpy as np\n",
    "import matplotlib.pyplot as plt\n",
    "import seaborn as sns"
   ]
  },
  {
   "cell_type": "code",
   "execution_count": 2,
   "id": "hispanic-preservation",
   "metadata": {},
   "outputs": [],
   "source": [
    "import tensorflow as tf"
   ]
  },
  {
   "cell_type": "code",
   "execution_count": 3,
   "id": "median-signature",
   "metadata": {},
   "outputs": [],
   "source": [
    "import glob"
   ]
  },
  {
   "cell_type": "code",
   "execution_count": 4,
   "id": "possible-dinner",
   "metadata": {},
   "outputs": [],
   "source": [
    "all_files = glob.glob('./ipl_csv2/*.csv')\n",
    "df_from_each_file = (pd.read_csv(f) for f in all_files)\n",
    "df = pd.concat(df_from_each_file, ignore_index=True)"
   ]
  },
  {
   "cell_type": "code",
   "execution_count": 5,
   "id": "legitimate-diary",
   "metadata": {},
   "outputs": [
    {
     "data": {
      "text/plain": [
       "match_id                    int64\n",
       "season                     object\n",
       "start_date                 object\n",
       "venue                      object\n",
       "innings                     int64\n",
       "ball                      float64\n",
       "batting_team               object\n",
       "bowling_team               object\n",
       "striker                    object\n",
       "non_striker                object\n",
       "bowler                     object\n",
       "runs_off_bat                int64\n",
       "extras                      int64\n",
       "wides                     float64\n",
       "noballs                   float64\n",
       "byes                      float64\n",
       "legbyes                   float64\n",
       "penalty                   float64\n",
       "wicket_type                object\n",
       "player_dismissed           object\n",
       "other_wicket_type         float64\n",
       "other_player_dismissed    float64\n",
       "dtype: object"
      ]
     },
     "execution_count": 5,
     "metadata": {},
     "output_type": "execute_result"
    }
   ],
   "source": [
    "df.dtypes"
   ]
  },
  {
   "cell_type": "code",
   "execution_count": 6,
   "id": "simplified-haven",
   "metadata": {},
   "outputs": [
    {
     "data": {
      "text/plain": [
       "array([2017, 2018, 2019, '2020/21', 2021, '2007/08', 2009, '2009/10',\n",
       "       2011, 2012, 2013, 2014, 2015, 2016], dtype=object)"
      ]
     },
     "execution_count": 6,
     "metadata": {},
     "output_type": "execute_result"
    }
   ],
   "source": [
    "df['season'].unique()"
   ]
  },
  {
   "cell_type": "code",
   "execution_count": 7,
   "id": "offshore-shade",
   "metadata": {},
   "outputs": [],
   "source": [
    "df.drop(['other_player_dismissed','other_wicket_type', 'penalty','player_dismissed','start_date'], axis=1, inplace=True)"
   ]
  },
  {
   "cell_type": "code",
   "execution_count": 8,
   "id": "logical-action",
   "metadata": {},
   "outputs": [
    {
     "data": {
      "text/plain": [
       "match_id          int64\n",
       "season           object\n",
       "venue            object\n",
       "innings           int64\n",
       "ball            float64\n",
       "batting_team     object\n",
       "bowling_team     object\n",
       "striker          object\n",
       "non_striker      object\n",
       "bowler           object\n",
       "runs_off_bat      int64\n",
       "extras            int64\n",
       "wides           float64\n",
       "noballs         float64\n",
       "byes            float64\n",
       "legbyes         float64\n",
       "wicket_type      object\n",
       "dtype: object"
      ]
     },
     "execution_count": 8,
     "metadata": {},
     "output_type": "execute_result"
    }
   ],
   "source": [
    "df.dtypes"
   ]
  },
  {
   "cell_type": "code",
   "execution_count": 9,
   "id": "tropical-favorite",
   "metadata": {},
   "outputs": [],
   "source": [
    "df['total_runs'] = df.iloc[:,-7:-2].sum(axis=1)"
   ]
  },
  {
   "cell_type": "code",
   "execution_count": 10,
   "id": "three-bottom",
   "metadata": {},
   "outputs": [],
   "source": [
    "df.drop(['runs_off_bat','wides','noballs','extras','byes','legbyes'],axis=1, inplace=True)"
   ]
  },
  {
   "cell_type": "code",
   "execution_count": 11,
   "id": "brave-substance",
   "metadata": {},
   "outputs": [
    {
     "data": {
      "text/plain": [
       "match_id          int64\n",
       "season           object\n",
       "venue            object\n",
       "innings           int64\n",
       "ball            float64\n",
       "batting_team     object\n",
       "bowling_team     object\n",
       "striker          object\n",
       "non_striker      object\n",
       "bowler           object\n",
       "wicket_type      object\n",
       "total_runs      float64\n",
       "dtype: object"
      ]
     },
     "execution_count": 11,
     "metadata": {},
     "output_type": "execute_result"
    }
   ],
   "source": [
    "df.dtypes"
   ]
  },
  {
   "cell_type": "code",
   "execution_count": 12,
   "id": "qualified-gentleman",
   "metadata": {},
   "outputs": [],
   "source": [
    "df['year'] = df['season'].astype(str).str.slice(0,4).astype(int)"
   ]
  },
  {
   "cell_type": "code",
   "execution_count": 13,
   "id": "applied-wales",
   "metadata": {},
   "outputs": [
    {
     "data": {
      "text/plain": [
       "array([2017, 2018, 2019, 2020, 2021, 2007, 2009, 2011, 2012, 2013, 2014,\n",
       "       2015, 2016], dtype=int64)"
      ]
     },
     "execution_count": 13,
     "metadata": {},
     "output_type": "execute_result"
    }
   ],
   "source": [
    "df['year'].unique()"
   ]
  },
  {
   "cell_type": "code",
   "execution_count": 14,
   "id": "genetic-bachelor",
   "metadata": {},
   "outputs": [],
   "source": [
    "df.drop('season',inplace=True,axis=1)"
   ]
  },
  {
   "cell_type": "code",
   "execution_count": 15,
   "id": "activated-fighter",
   "metadata": {},
   "outputs": [
    {
     "data": {
      "text/plain": [
       "match_id          int64\n",
       "venue            object\n",
       "innings           int64\n",
       "ball            float64\n",
       "batting_team     object\n",
       "bowling_team     object\n",
       "striker          object\n",
       "non_striker      object\n",
       "bowler           object\n",
       "wicket_type      object\n",
       "total_runs      float64\n",
       "year              int32\n",
       "dtype: object"
      ]
     },
     "execution_count": 15,
     "metadata": {},
     "output_type": "execute_result"
    }
   ],
   "source": [
    "df.dtypes"
   ]
  },
  {
   "cell_type": "code",
   "execution_count": 16,
   "id": "rural-digest",
   "metadata": {},
   "outputs": [
    {
     "data": {
      "text/plain": [
       "array([1, 2, 3, 4, 5, 6], dtype=int64)"
      ]
     },
     "execution_count": 16,
     "metadata": {},
     "output_type": "execute_result"
    }
   ],
   "source": [
    "df['innings'].unique()"
   ]
  },
  {
   "cell_type": "code",
   "execution_count": 17,
   "id": "growing-return",
   "metadata": {},
   "outputs": [
    {
     "data": {
      "text/plain": [
       "array(['Sunrisers Hyderabad', 'Royal Challengers Bangalore',\n",
       "       'Mumbai Indians', 'Rising Pune Supergiant', 'Gujarat Lions',\n",
       "       'Kolkata Knight Riders', 'Kings XI Punjab', 'Delhi Daredevils',\n",
       "       'Chennai Super Kings', 'Rajasthan Royals', 'Delhi Capitals',\n",
       "       'Deccan Chargers', 'Kochi Tuskers Kerala', 'Pune Warriors',\n",
       "       'Rising Pune Supergiants'], dtype=object)"
      ]
     },
     "execution_count": 17,
     "metadata": {},
     "output_type": "execute_result"
    }
   ],
   "source": [
    "df['batting_team'].unique()"
   ]
  },
  {
   "cell_type": "code",
   "execution_count": 18,
   "id": "dedicated-secretary",
   "metadata": {},
   "outputs": [],
   "source": [
    "df['batting_team'] = df['batting_team'].replace(['Delhi Daredevils'],'Delhi Capitals')\n",
    "df['bowling_team'] = df['bowling_team'].replace(['Delhi Daredevils'],'Delhi Capitals')\n",
    "df['batting_team'] = df['batting_team'].replace(['Kings XI Punjab'],'Punjab Kings')\n",
    "df['bowling_team'] = df['bowling_team'].replace(['Kings XI Punjab'],'Punjab Kings')"
   ]
  },
  {
   "cell_type": "code",
   "execution_count": 19,
   "id": "broken-constraint",
   "metadata": {},
   "outputs": [],
   "source": [
    "current_teams = ['Sunrisers Hyderabad', 'Royal Challengers Bangalore', 'Mumbai Indians', 'Kolkata Knight Riders', 'Chennai Super Kings', 'Rajasthan Royals', 'Delhi Capitals', 'Punjab Kings']"
   ]
  },
  {
   "cell_type": "code",
   "execution_count": 20,
   "id": "realistic-service",
   "metadata": {},
   "outputs": [],
   "source": [
    "df = df[(df['batting_team'].isin(current_teams)) &(df['bowling_team'].isin(current_teams))]"
   ]
  },
  {
   "cell_type": "code",
   "execution_count": null,
   "id": "prescription-array",
   "metadata": {},
   "outputs": [],
   "source": []
  },
  {
   "cell_type": "code",
   "execution_count": 21,
   "id": "medical-relief",
   "metadata": {},
   "outputs": [],
   "source": [
    "data1 = df.groupby(['match_id','innings'])['striker','non_striker'].apply(lambda x: list(np.unique(x)))\n",
    "data1 = data1.to_frame('batsmen')\n",
    "#data1['batsmen'] = str(data1['batsmen'])[1:-1]"
   ]
  },
  {
   "cell_type": "code",
   "execution_count": 22,
   "id": "fallen-rouge",
   "metadata": {},
   "outputs": [],
   "source": [
    "data2 = df.groupby(['match_id','innings'])['bowler'].apply(lambda x: list(np.unique(x)))\n",
    "data2 = data2.to_frame('bowlers')\n",
    "#data2['bowlers'] = str(data2['bowlers'])[1:-1]"
   ]
  },
  {
   "cell_type": "code",
   "execution_count": 23,
   "id": "remarkable-dealing",
   "metadata": {},
   "outputs": [
    {
     "data": {
      "text/plain": [
       "1293"
      ]
     },
     "execution_count": 23,
     "metadata": {},
     "output_type": "execute_result"
    }
   ],
   "source": [
    "len(data2)"
   ]
  },
  {
   "cell_type": "code",
   "execution_count": 24,
   "id": "expensive-ordering",
   "metadata": {},
   "outputs": [],
   "source": [
    "#current_players= pd.read_csv('./playersList.csv')"
   ]
  },
  {
   "cell_type": "code",
   "execution_count": 25,
   "id": "conscious-shirt",
   "metadata": {},
   "outputs": [],
   "source": [
    "#current_players.head()"
   ]
  },
  {
   "cell_type": "code",
   "execution_count": 26,
   "id": "stupid-blocking",
   "metadata": {},
   "outputs": [],
   "source": [
    "#current_players['Players'][0]"
   ]
  },
  {
   "cell_type": "code",
   "execution_count": 27,
   "id": "acquired-doctrine",
   "metadata": {},
   "outputs": [],
   "source": [
    "#df = df[(df['current_players'].isin(current_players))]"
   ]
  },
  {
   "cell_type": "code",
   "execution_count": null,
   "id": "public-scheme",
   "metadata": {},
   "outputs": [],
   "source": []
  },
  {
   "cell_type": "code",
   "execution_count": 28,
   "id": "classical-portuguese",
   "metadata": {},
   "outputs": [],
   "source": [
    "df = df[df['ball'] <=6.0]"
   ]
  },
  {
   "cell_type": "code",
   "execution_count": null,
   "id": "insured-calcium",
   "metadata": {},
   "outputs": [],
   "source": []
  },
  {
   "cell_type": "markdown",
   "id": "amazing-refund",
   "metadata": {},
   "source": [
    "#"
   ]
  },
  {
   "cell_type": "code",
   "execution_count": 29,
   "id": "absolute-fifth",
   "metadata": {},
   "outputs": [
    {
     "data": {
      "text/plain": [
       "1293"
      ]
     },
     "execution_count": 29,
     "metadata": {},
     "output_type": "execute_result"
    }
   ],
   "source": [
    "len(data1)"
   ]
  },
  {
   "cell_type": "code",
   "execution_count": 30,
   "id": "experienced-question",
   "metadata": {},
   "outputs": [
    {
     "data": {
      "text/plain": [
       "47466"
      ]
     },
     "execution_count": 30,
     "metadata": {},
     "output_type": "execute_result"
    }
   ],
   "source": [
    "len(df)"
   ]
  },
  {
   "cell_type": "code",
   "execution_count": 31,
   "id": "dietary-senior",
   "metadata": {},
   "outputs": [
    {
     "data": {
      "text/plain": [
       "match_id          int64\n",
       "venue            object\n",
       "innings           int64\n",
       "ball            float64\n",
       "batting_team     object\n",
       "bowling_team     object\n",
       "striker          object\n",
       "non_striker      object\n",
       "bowler           object\n",
       "wicket_type      object\n",
       "total_runs      float64\n",
       "year              int32\n",
       "dtype: object"
      ]
     },
     "execution_count": 31,
     "metadata": {},
     "output_type": "execute_result"
    }
   ],
   "source": [
    "df.dtypes"
   ]
  },
  {
   "cell_type": "code",
   "execution_count": 32,
   "id": "caroline-gateway",
   "metadata": {},
   "outputs": [],
   "source": [
    "#df.drop('venue', axis=1, inplace=True)"
   ]
  },
  {
   "cell_type": "code",
   "execution_count": 33,
   "id": "favorite-european",
   "metadata": {},
   "outputs": [
    {
     "data": {
      "text/plain": [
       "match_id          int64\n",
       "venue            object\n",
       "innings           int64\n",
       "ball            float64\n",
       "batting_team     object\n",
       "bowling_team     object\n",
       "striker          object\n",
       "non_striker      object\n",
       "bowler           object\n",
       "wicket_type      object\n",
       "total_runs      float64\n",
       "year              int32\n",
       "dtype: object"
      ]
     },
     "execution_count": 33,
     "metadata": {},
     "output_type": "execute_result"
    }
   ],
   "source": [
    "df.dtypes"
   ]
  },
  {
   "cell_type": "code",
   "execution_count": 34,
   "id": "danish-administrator",
   "metadata": {},
   "outputs": [
    {
     "data": {
      "text/plain": [
       "array([1, 2, 3, 4, 5, 6], dtype=int64)"
      ]
     },
     "execution_count": 34,
     "metadata": {},
     "output_type": "execute_result"
    }
   ],
   "source": [
    "df['innings'].unique()"
   ]
  },
  {
   "cell_type": "code",
   "execution_count": null,
   "id": "polished-volleyball",
   "metadata": {},
   "outputs": [],
   "source": []
  },
  {
   "cell_type": "code",
   "execution_count": null,
   "id": "parliamentary-blood",
   "metadata": {},
   "outputs": [],
   "source": []
  },
  {
   "cell_type": "code",
   "execution_count": 35,
   "id": "private-scheme",
   "metadata": {},
   "outputs": [
    {
     "data": {
      "text/plain": [
       "array(['Rajiv Gandhi International Stadium, Uppal',\n",
       "       'M.Chinnaswamy Stadium', 'Wankhede Stadium',\n",
       "       'Holkar Cricket Stadium', 'Eden Gardens', 'M Chinnaswamy Stadium',\n",
       "       'Feroz Shah Kotla',\n",
       "       'Punjab Cricket Association IS Bindra Stadium, Mohali',\n",
       "       'Punjab Cricket Association IS Bindra Stadium',\n",
       "       'Rajiv Gandhi International Stadium', 'MA Chidambaram Stadium',\n",
       "       'Sawai Mansingh Stadium',\n",
       "       'Maharashtra Cricket Association Stadium', 'Arun Jaitley Stadium',\n",
       "       'Dr. Y.S. Rajasekhara Reddy ACA-VDCA Cricket Stadium',\n",
       "       'Sheikh Zayed Stadium', 'Dubai International Cricket Stadium',\n",
       "       'Sharjah Cricket Stadium',\n",
       "       'MA Chidambaram Stadium, Chepauk, Chennai',\n",
       "       'Wankhede Stadium, Mumbai',\n",
       "       'Punjab Cricket Association Stadium, Mohali',\n",
       "       'MA Chidambaram Stadium, Chepauk', 'Dr DY Patil Sports Academy',\n",
       "       'Newlands', \"St George's Park\", 'Kingsmead', 'SuperSport Park',\n",
       "       'Buffalo Park', 'New Wanderers Stadium', 'De Beers Diamond Oval',\n",
       "       'OUTsurance Oval', 'Brabourne Stadium',\n",
       "       'Sardar Patel Stadium, Motera',\n",
       "       'Himachal Pradesh Cricket Association Stadium',\n",
       "       'Subrata Roy Sahara Stadium',\n",
       "       'Shaheed Veer Narayan Singh International Stadium',\n",
       "       'JSCA International Stadium Complex', 'Barabati Stadium'],\n",
       "      dtype=object)"
      ]
     },
     "execution_count": 35,
     "metadata": {},
     "output_type": "execute_result"
    }
   ],
   "source": [
    "df['venue'].unique()"
   ]
  },
  {
   "cell_type": "code",
   "execution_count": 36,
   "id": "hazardous-tribune",
   "metadata": {},
   "outputs": [],
   "source": [
    "df['venue'] = df['venue'].replace(['MA Chidambaram Stadium, Chepauk, Chennai'],'MA Chidambaram Stadium')\n",
    "df['venue'] = df['venue'].replace(['MA Chidambaram Stadium, Chepauk'],'MA Chidambaram Stadium')\n",
    "df['venue'] = df['venue'].replace(['M.Chinnaswamy Stadium'],'M Chinnaswamy Stadium')"
   ]
  },
  {
   "cell_type": "code",
   "execution_count": 37,
   "id": "hungry-beginning",
   "metadata": {},
   "outputs": [],
   "source": [
    "current_stadium = ['Wankhede Stadium, Mumbai', 'MA Chidambaram Stadium', 'M Chinnaswamy Stadium', 'Eden Gardens', 'Arun Jaitley Stadium', 'Narendra Modi']"
   ]
  },
  {
   "cell_type": "code",
   "execution_count": 38,
   "id": "exclusive-asset",
   "metadata": {},
   "outputs": [],
   "source": [
    "df = df[df['venue'].isin(current_stadium)]"
   ]
  },
  {
   "cell_type": "code",
   "execution_count": 39,
   "id": "verified-humanitarian",
   "metadata": {},
   "outputs": [
    {
     "data": {
      "text/plain": [
       "15044"
      ]
     },
     "execution_count": 39,
     "metadata": {},
     "output_type": "execute_result"
    }
   ],
   "source": [
    "len(df)"
   ]
  },
  {
   "cell_type": "code",
   "execution_count": 40,
   "id": "failing-navigation",
   "metadata": {},
   "outputs": [],
   "source": [
    "data = df.groupby(['match_id','innings'])['striker','non_striker'].apply(lambda x: list(np.unique(x)))"
   ]
  },
  {
   "cell_type": "code",
   "execution_count": 41,
   "id": "pediatric-evolution",
   "metadata": {},
   "outputs": [
    {
     "data": {
      "text/plain": [
       "match_id  innings\n",
       "335982    1                      [BB McCullum, RT Ponting, SC Ganguly]\n",
       "          2          [CL White, JH Kallis, MV Boucher, R Dravid, V ...\n",
       "335989    1                [MEK Hussey, ML Hayden, PA Patel, SK Raina]\n",
       "          2          [L Ronchi, RV Uthappa, SM Pollock, ST Jayasuriya]\n",
       "335992    1          [JH Kallis, LRPL Taylor, R Dravid, S Chanderpaul]\n",
       "dtype: object"
      ]
     },
     "execution_count": 41,
     "metadata": {},
     "output_type": "execute_result"
    }
   ],
   "source": [
    "data.head(5)"
   ]
  },
  {
   "cell_type": "code",
   "execution_count": 42,
   "id": "elect-ghana",
   "metadata": {},
   "outputs": [
    {
     "data": {
      "text/plain": [
       "match_id          int64\n",
       "venue            object\n",
       "innings           int64\n",
       "ball            float64\n",
       "batting_team     object\n",
       "bowling_team     object\n",
       "striker          object\n",
       "non_striker      object\n",
       "bowler           object\n",
       "wicket_type      object\n",
       "total_runs      float64\n",
       "year              int32\n",
       "dtype: object"
      ]
     },
     "execution_count": 42,
     "metadata": {},
     "output_type": "execute_result"
    }
   ],
   "source": [
    "df.dtypes"
   ]
  },
  {
   "cell_type": "code",
   "execution_count": 43,
   "id": "asian-vertex",
   "metadata": {},
   "outputs": [],
   "source": [
    "#df = pd.get_dummies(data=df, columns=['batting_team', 'bowling_team', 'venue'])"
   ]
  },
  {
   "cell_type": "code",
   "execution_count": 44,
   "id": "intermediate-dimension",
   "metadata": {},
   "outputs": [
    {
     "data": {
      "text/plain": [
       "Index(['match_id', 'venue', 'innings', 'ball', 'batting_team', 'bowling_team',\n",
       "       'striker', 'non_striker', 'bowler', 'wicket_type', 'total_runs',\n",
       "       'year'],\n",
       "      dtype='object')"
      ]
     },
     "execution_count": 44,
     "metadata": {},
     "output_type": "execute_result"
    }
   ],
   "source": [
    "df.columns"
   ]
  },
  {
   "cell_type": "code",
   "execution_count": 45,
   "id": "happy-ordering",
   "metadata": {},
   "outputs": [],
   "source": [
    "df.drop('wicket_type', axis=1, inplace=True)"
   ]
  },
  {
   "cell_type": "code",
   "execution_count": 46,
   "id": "regular-stick",
   "metadata": {},
   "outputs": [
    {
     "data": {
      "text/plain": [
       "match_id          int64\n",
       "venue            object\n",
       "innings           int64\n",
       "ball            float64\n",
       "batting_team     object\n",
       "bowling_team     object\n",
       "striker          object\n",
       "non_striker      object\n",
       "bowler           object\n",
       "total_runs      float64\n",
       "year              int32\n",
       "dtype: object"
      ]
     },
     "execution_count": 46,
     "metadata": {},
     "output_type": "execute_result"
    }
   ],
   "source": [
    "df.dtypes"
   ]
  },
  {
   "cell_type": "code",
   "execution_count": 47,
   "id": "rough-prime",
   "metadata": {},
   "outputs": [
    {
     "data": {
      "text/plain": [
       "array(['Z Khan', 'CH Morris', 'PJ Cummins', 'S Nadeem', 'B Stanlake',\n",
       "       'YS Chahal', 'Iqbal Abdulla', 'TS Mills', 'TA Boult', 'UT Yadav',\n",
       "       'CR Woakes', 'SP Narine', 'PP Chawla', 'Sandeep Sharma',\n",
       "       'I Sharma', 'GJ Maxwell', 'VR Aaron', 'TG Southee',\n",
       "       'Harbhajan Singh', 'MJ McClenaghan', 'S Badree', 'STR Binny',\n",
       "       'S Aravind', 'B Kumar', 'A Nehra', 'BCJ Cutting', 'Rashid Khan',\n",
       "       'Kuldeep Yadav', 'NM Coulter-Nile', 'K Rabada', 'CJ Anderson',\n",
       "       'A Choudhary', 'SR Watson', 'T Natarajan', 'C de Grandhomme',\n",
       "       'MG Johnson', 'KV Sharma', 'CJ Jordan', 'S Kaul', 'Bipul Sharma',\n",
       "       'JJ Bumrah', 'SL Malinga', 'R Vinay Kumar', 'Washington Sundar',\n",
       "       'DL Chahar', 'RA Jadeja', 'Imran Tahir', 'AD Russell', 'TK Curran',\n",
       "       'K Khejroliya', 'AR Patel', 'R Ashwin', 'Mujeeb Ur Rahman',\n",
       "       'AJ Tye', 'K Gowtham', 'DS Kulkarni', 'JD Unadkat', 'BA Stokes',\n",
       "       'Shivam Mavi', 'AS Rajpoot', 'BB Sran', 'N Rana', 'Avesh Khan',\n",
       "       'LE Plunkett', 'SN Thakur', 'P Negi', 'Mohammed Siraj',\n",
       "       'JP Duminy', 'KH Pandya', 'JC Archer', 'S Gopal', 'A Mishra',\n",
       "       'L Ngidi', 'KM Asif', 'M Prasidh Krishna', 'HH Pandya',\n",
       "       'Shakib Al Hasan', 'HV Patel', 'S Lamichhane', 'CJ Dala',\n",
       "       'Mustafizur Rahman', 'KK Ahmed', 'NA Saini', 'MM Ali',\n",
       "       'LH Ferguson', 'Mohammed Shami', 'CV Varun', 'GC Viljoen',\n",
       "       'MJ Santner', 'Mohammad Nabi', 'SM Curran', 'SC Kuggeleijn',\n",
       "       'HF Gurney', 'KMA Paul', 'RD Chahar', 'J Yadav', 'DW Steyn',\n",
       "       'Harpreet Brar', 'O Thomas', 'CR Brathwaite', 'Y Prithvi Raj',\n",
       "       'S Sandeep Warrier', 'R Parag', 'J Suchith', 'IS Sodhi',\n",
       "       'KA Jamieson', 'M Jansen', 'P Kumar', 'AA Noffke', 'AB Dinda',\n",
       "       'AB Agarkar', 'SM Pollock', 'JDP Oram', 'MS Gony', 'Sohail Tanvir',\n",
       "       'MM Patel', 'P Amarnath', 'CRD Fernando', 'DJ Bravo', 'GD McGrath',\n",
       "       'Mohammad Asif', 'VY Mahesh', 'PJ Sangwan', 'M Ntini', 'JA Morkel',\n",
       "       'S Sreesanth', 'IK Pathan', 'Gagandeep Singh', 'JH Kallis',\n",
       "       'Umar Gul', 'SC Ganguly', 'A Kumble', 'VRV Singh', 'Shoaib Akhtar',\n",
       "       'YK Pathan', 'Pankaj Singh', 'BAW Mendis', 'RR Powar',\n",
       "       'CK Langeveldt', 'AD Mathews', 'M Kartik', 'YA Abdulla', 'SE Bond',\n",
       "       'LR Shukla', 'L Balaji', 'M Morkel', 'SK Warne', 'SJ Srivastava',\n",
       "       'J Theron', 'M Muralitharan', 'S Tyagi', 'DP Nannes', 'T Thushara',\n",
       "       'S Narwal', 'SW Tait', 'SB Wagh', 'DE Bollinger', 'CH Gayle',\n",
       "       'R McLaren', 'MF Maharoof', 'DL Vettori', 'Kamran Khan',\n",
       "       'AG Murtaza', 'S Randiv', 'KA Pollard', 'A Mithun',\n",
       "       'JJ van der Wath', 'TM Dilshan', 'B Lee', 'J Syed Mohammad',\n",
       "       'BA Bhatt', 'DJ Hussey', 'RJ Harris', 'ND Doshi', 'J Botha',\n",
       "       'SK Trivedi', 'AB McDonald', 'AN Ahmed', 'RW Price',\n",
       "       'JEC Franklin', 'RE van der Merwe', 'M de Lange', 'DAJ Bracewell',\n",
       "       'RR Bhatkal', 'A Singh', 'AA Chavan', 'AD Mascarenhas',\n",
       "       'KMDN Kulasekara', 'AL Menaria', 'KK Cooper', 'GB Hogg',\n",
       "       'SB Jakati', 'P Awana', 'Azhar Mahmood', 'KP Appanna', 'PP Ojha',\n",
       "       'BW Hilfenhaus', 'RP Singh', 'Sunny Gupta', 'DT Christian',\n",
       "       'MC Henriques', 'MM Sharma', 'R Rampaul', 'GH Vihari',\n",
       "       'NLTC Perera', 'SMSM Senanayake', 'A Chandila', 'JP Faulkner',\n",
       "       'JO Holder', 'R Shukla', 'DJG Sammy', 'R Dhawan', 'VS Malik',\n",
       "       'MA Starc', 'KW Richardson', 'PV Tambe', 'IC Pandey',\n",
       "       'DJ Muthuswami', 'SA Abbott', 'KC Cariappa', 'D Wiese',\n",
       "       'Karanveer Singh', 'Anureet Singh', 'BE Hendricks', 'Ankit Sharma',\n",
       "       'JW Hastings', 'AF Milne', 'Parvez Rasool', 'MP Stoinis',\n",
       "       'KJ Abbott', 'KS Williamson', 'DJ Hooda'], dtype=object)"
      ]
     },
     "execution_count": 47,
     "metadata": {},
     "output_type": "execute_result"
    }
   ],
   "source": [
    "df['bowler'].unique()"
   ]
  },
  {
   "cell_type": "code",
   "execution_count": null,
   "id": "interracial-palestinian",
   "metadata": {},
   "outputs": [],
   "source": []
  },
  {
   "cell_type": "code",
   "execution_count": null,
   "id": "adjacent-houston",
   "metadata": {},
   "outputs": [],
   "source": []
  },
  {
   "cell_type": "code",
   "execution_count": 48,
   "id": "classical-fraction",
   "metadata": {},
   "outputs": [],
   "source": [
    "#df['total_runs'] = df['total_runs'].astype(np.int)"
   ]
  },
  {
   "cell_type": "code",
   "execution_count": 49,
   "id": "square-morning",
   "metadata": {},
   "outputs": [],
   "source": [
    "data3 = df.groupby(['match_id','innings'])['total_runs'].sum()"
   ]
  },
  {
   "cell_type": "code",
   "execution_count": 50,
   "id": "loose-representation",
   "metadata": {},
   "outputs": [],
   "source": [
    "#data3.head(10)"
   ]
  },
  {
   "cell_type": "code",
   "execution_count": 51,
   "id": "literary-relative",
   "metadata": {},
   "outputs": [],
   "source": [
    "#df.dtypes"
   ]
  },
  {
   "cell_type": "code",
   "execution_count": 52,
   "id": "inside-emission",
   "metadata": {},
   "outputs": [],
   "source": [
    "#df[['match_id','innings', 'total_runs', 'ball']].head(40)"
   ]
  },
  {
   "cell_type": "code",
   "execution_count": 53,
   "id": "exclusive-street",
   "metadata": {},
   "outputs": [
    {
     "data": {
      "text/plain": [
       "match_id  innings\n",
       "335982    1          67.0\n",
       "          2          28.0\n",
       "335989    1          60.0\n",
       "          2          54.0\n",
       "335992    1          58.0\n",
       "Name: total_runs, dtype: float64"
      ]
     },
     "execution_count": 53,
     "metadata": {},
     "output_type": "execute_result"
    }
   ],
   "source": [
    "data3.head()"
   ]
  },
  {
   "cell_type": "code",
   "execution_count": 54,
   "id": "worst-place",
   "metadata": {},
   "outputs": [
    {
     "data": {
      "text/plain": [
       "409"
      ]
     },
     "execution_count": 54,
     "metadata": {},
     "output_type": "execute_result"
    }
   ],
   "source": [
    "len(data3)"
   ]
  },
  {
   "cell_type": "code",
   "execution_count": 55,
   "id": "conservative-subdivision",
   "metadata": {},
   "outputs": [
    {
     "data": {
      "text/plain": [
       "match_id          int64\n",
       "venue            object\n",
       "innings           int64\n",
       "ball            float64\n",
       "batting_team     object\n",
       "bowling_team     object\n",
       "striker          object\n",
       "non_striker      object\n",
       "bowler           object\n",
       "total_runs      float64\n",
       "year              int32\n",
       "dtype: object"
      ]
     },
     "execution_count": 55,
     "metadata": {},
     "output_type": "execute_result"
    }
   ],
   "source": [
    "df.dtypes"
   ]
  },
  {
   "cell_type": "code",
   "execution_count": null,
   "id": "biological-saturn",
   "metadata": {},
   "outputs": [],
   "source": []
  },
  {
   "cell_type": "code",
   "execution_count": null,
   "id": "starting-grocery",
   "metadata": {},
   "outputs": [],
   "source": []
  },
  {
   "cell_type": "code",
   "execution_count": 56,
   "id": "identified-crown",
   "metadata": {},
   "outputs": [],
   "source": [
    "#data2 = data2.to_frame('bowlers')\n",
    "#data3 = data3.to_frame('runs')"
   ]
  },
  {
   "cell_type": "code",
   "execution_count": 57,
   "id": "infectious-costs",
   "metadata": {},
   "outputs": [],
   "source": [
    "data4 = df.groupby(['match_id','innings'])"
   ]
  },
  {
   "cell_type": "code",
   "execution_count": 58,
   "id": "found-russell",
   "metadata": {},
   "outputs": [],
   "source": [
    "#df.drop(['striker','non_striker','bowler'],axis=1,inplace=True)"
   ]
  },
  {
   "cell_type": "code",
   "execution_count": 59,
   "id": "completed-cloud",
   "metadata": {},
   "outputs": [
    {
     "data": {
      "text/plain": [
       "match_id          int64\n",
       "venue            object\n",
       "innings           int64\n",
       "ball            float64\n",
       "batting_team     object\n",
       "bowling_team     object\n",
       "striker          object\n",
       "non_striker      object\n",
       "bowler           object\n",
       "total_runs      float64\n",
       "year              int32\n",
       "dtype: object"
      ]
     },
     "execution_count": 59,
     "metadata": {},
     "output_type": "execute_result"
    }
   ],
   "source": [
    "df.dtypes"
   ]
  },
  {
   "cell_type": "code",
   "execution_count": 60,
   "id": "little-cradle",
   "metadata": {},
   "outputs": [],
   "source": [
    "df.drop('total_runs',axis=1,inplace=True)"
   ]
  },
  {
   "cell_type": "code",
   "execution_count": 61,
   "id": "surprising-european",
   "metadata": {},
   "outputs": [],
   "source": [
    "#df.drop(['match_id','innings'],axis=1,inplace=True)"
   ]
  },
  {
   "cell_type": "code",
   "execution_count": 62,
   "id": "applied-sacramento",
   "metadata": {},
   "outputs": [],
   "source": [
    "#data4 = df.groupby(['match_id','innings'])['year'].apply(lambda x:np.unique(x))"
   ]
  },
  {
   "cell_type": "code",
   "execution_count": 63,
   "id": "virtual-plate",
   "metadata": {},
   "outputs": [],
   "source": [
    "#data4.head()"
   ]
  },
  {
   "cell_type": "code",
   "execution_count": 64,
   "id": "sticky-reflection",
   "metadata": {},
   "outputs": [],
   "source": [
    "data4 = df.groupby(['match_id','innings'])['batting_team'].apply(lambda x: np.unique(x)).str[0]"
   ]
  },
  {
   "cell_type": "code",
   "execution_count": 65,
   "id": "closed-vacation",
   "metadata": {},
   "outputs": [
    {
     "data": {
      "text/plain": [
       "match_id  innings\n",
       "335982    1                Kolkata Knight Riders\n",
       "          2          Royal Challengers Bangalore\n",
       "335989    1                  Chennai Super Kings\n",
       "          2                       Mumbai Indians\n",
       "335992    1          Royal Challengers Bangalore\n",
       "Name: batting_team, dtype: object"
      ]
     },
     "execution_count": 65,
     "metadata": {},
     "output_type": "execute_result"
    }
   ],
   "source": [
    "data4.head()"
   ]
  },
  {
   "cell_type": "code",
   "execution_count": 66,
   "id": "intense-appearance",
   "metadata": {},
   "outputs": [],
   "source": [
    "data5 = df.groupby(['match_id','innings'])['bowling_team'].apply(lambda x: np.unique(x)).str[0]"
   ]
  },
  {
   "cell_type": "code",
   "execution_count": 67,
   "id": "frozen-painting",
   "metadata": {},
   "outputs": [],
   "source": [
    "df.drop(['batting_team','bowling_team'],axis=1,inplace=True)"
   ]
  },
  {
   "cell_type": "code",
   "execution_count": 68,
   "id": "accessible-diagram",
   "metadata": {},
   "outputs": [
    {
     "data": {
      "text/plain": [
       "match_id         int64\n",
       "venue           object\n",
       "innings          int64\n",
       "ball           float64\n",
       "striker         object\n",
       "non_striker     object\n",
       "bowler          object\n",
       "year             int32\n",
       "dtype: object"
      ]
     },
     "execution_count": 68,
     "metadata": {},
     "output_type": "execute_result"
    }
   ],
   "source": [
    "df.dtypes"
   ]
  },
  {
   "cell_type": "code",
   "execution_count": 69,
   "id": "fiscal-things",
   "metadata": {},
   "outputs": [],
   "source": [
    "data6 = df.groupby(['match_id','innings'])['venue'].apply(lambda x: np.unique(x)).str[0]"
   ]
  },
  {
   "cell_type": "code",
   "execution_count": 70,
   "id": "sharp-affiliation",
   "metadata": {},
   "outputs": [],
   "source": [
    "data7 = df.groupby(['match_id','innings'])['year'].apply(lambda x: np.unique(x)).str[0]"
   ]
  },
  {
   "cell_type": "code",
   "execution_count": 71,
   "id": "productive-sensitivity",
   "metadata": {},
   "outputs": [
    {
     "data": {
      "text/plain": [
       "match_id  innings\n",
       "335982    1          67.0\n",
       "          2          28.0\n",
       "335989    1          60.0\n",
       "          2          54.0\n",
       "335992    1          58.0\n",
       "Name: total_runs, dtype: float64"
      ]
     },
     "execution_count": 71,
     "metadata": {},
     "output_type": "execute_result"
    }
   ],
   "source": [
    "data3.head()"
   ]
  },
  {
   "cell_type": "code",
   "execution_count": 72,
   "id": "discrete-comparative",
   "metadata": {},
   "outputs": [],
   "source": [
    "concat_data = pd.concat([data1,data2,data3,data4,data5,data6,data7],axis=1)"
   ]
  },
  {
   "cell_type": "code",
   "execution_count": 73,
   "id": "earlier-certificate",
   "metadata": {},
   "outputs": [
    {
     "data": {
      "text/html": [
       "<div>\n",
       "<style scoped>\n",
       "    .dataframe tbody tr th:only-of-type {\n",
       "        vertical-align: middle;\n",
       "    }\n",
       "\n",
       "    .dataframe tbody tr th {\n",
       "        vertical-align: top;\n",
       "    }\n",
       "\n",
       "    .dataframe thead th {\n",
       "        text-align: right;\n",
       "    }\n",
       "</style>\n",
       "<table border=\"1\" class=\"dataframe\">\n",
       "  <thead>\n",
       "    <tr style=\"text-align: right;\">\n",
       "      <th></th>\n",
       "      <th></th>\n",
       "      <th>batsmen</th>\n",
       "      <th>bowlers</th>\n",
       "      <th>total_runs</th>\n",
       "      <th>batting_team</th>\n",
       "      <th>bowling_team</th>\n",
       "      <th>venue</th>\n",
       "      <th>year</th>\n",
       "    </tr>\n",
       "    <tr>\n",
       "      <th>match_id</th>\n",
       "      <th>innings</th>\n",
       "      <th></th>\n",
       "      <th></th>\n",
       "      <th></th>\n",
       "      <th></th>\n",
       "      <th></th>\n",
       "      <th></th>\n",
       "      <th></th>\n",
       "    </tr>\n",
       "  </thead>\n",
       "  <tbody>\n",
       "    <tr>\n",
       "      <th rowspan=\"2\" valign=\"top\">335982</th>\n",
       "      <th>1</th>\n",
       "      <td>[BB McCullum, DJ Hussey, Mohammad Hafeez, RT P...</td>\n",
       "      <td>[AA Noffke, CL White, JH Kallis, P Kumar, SB J...</td>\n",
       "      <td>67.0</td>\n",
       "      <td>Kolkata Knight Riders</td>\n",
       "      <td>Royal Challengers Bangalore</td>\n",
       "      <td>M Chinnaswamy Stadium</td>\n",
       "      <td>2007.0</td>\n",
       "    </tr>\n",
       "    <tr>\n",
       "      <th>2</th>\n",
       "      <td>[AA Noffke, B Akhil, CL White, JH Kallis, MV B...</td>\n",
       "      <td>[AB Agarkar, AB Dinda, I Sharma, LR Shukla, SC...</td>\n",
       "      <td>28.0</td>\n",
       "      <td>Royal Challengers Bangalore</td>\n",
       "      <td>Kolkata Knight Riders</td>\n",
       "      <td>M Chinnaswamy Stadium</td>\n",
       "      <td>2007.0</td>\n",
       "    </tr>\n",
       "    <tr>\n",
       "      <th rowspan=\"2\" valign=\"top\">335983</th>\n",
       "      <th>1</th>\n",
       "      <td>[JDP Oram, MEK Hussey, ML Hayden, MS Dhoni, PA...</td>\n",
       "      <td>[B Lee, IK Pathan, JR Hopes, K Goel, PP Chawla...</td>\n",
       "      <td>NaN</td>\n",
       "      <td>NaN</td>\n",
       "      <td>NaN</td>\n",
       "      <td>NaN</td>\n",
       "      <td>NaN</td>\n",
       "    </tr>\n",
       "    <tr>\n",
       "      <th>2</th>\n",
       "      <td>[IK Pathan, JR Hopes, K Goel, KC Sangakkara, S...</td>\n",
       "      <td>[JDP Oram, Joginder Sharma, M Muralitharan, MS...</td>\n",
       "      <td>NaN</td>\n",
       "      <td>NaN</td>\n",
       "      <td>NaN</td>\n",
       "      <td>NaN</td>\n",
       "      <td>NaN</td>\n",
       "    </tr>\n",
       "    <tr>\n",
       "      <th rowspan=\"2\" valign=\"top\">335984</th>\n",
       "      <th>1</th>\n",
       "      <td>[D Salunkhe, DS Lehmann, M Kaif, M Rawat, RA J...</td>\n",
       "      <td>[B Geeves, DL Vettori, GD McGrath, MF Maharoof...</td>\n",
       "      <td>NaN</td>\n",
       "      <td>NaN</td>\n",
       "      <td>NaN</td>\n",
       "      <td>NaN</td>\n",
       "      <td>NaN</td>\n",
       "    </tr>\n",
       "    <tr>\n",
       "      <th>2</th>\n",
       "      <td>[G Gambhir, S Dhawan, V Sehwag]</td>\n",
       "      <td>[D Salunkhe, MM Patel, SK Trivedi, SK Warne, S...</td>\n",
       "      <td>NaN</td>\n",
       "      <td>NaN</td>\n",
       "      <td>NaN</td>\n",
       "      <td>NaN</td>\n",
       "      <td>NaN</td>\n",
       "    </tr>\n",
       "    <tr>\n",
       "      <th rowspan=\"2\" valign=\"top\">335985</th>\n",
       "      <th>1</th>\n",
       "      <td>[AM Nayar, DJ Thornely, Harbhajan Singh, L Ron...</td>\n",
       "      <td>[B Akhil, JH Kallis, P Kumar, R Vinay Kumar, S...</td>\n",
       "      <td>NaN</td>\n",
       "      <td>NaN</td>\n",
       "      <td>NaN</td>\n",
       "      <td>NaN</td>\n",
       "      <td>NaN</td>\n",
       "    </tr>\n",
       "    <tr>\n",
       "      <th>2</th>\n",
       "      <td>[B Akhil, JH Kallis, LRPL Taylor, MV Boucher, ...</td>\n",
       "      <td>[A Nehra, AM Nayar, DS Kulkarni, Harbhajan Sin...</td>\n",
       "      <td>NaN</td>\n",
       "      <td>NaN</td>\n",
       "      <td>NaN</td>\n",
       "      <td>NaN</td>\n",
       "      <td>NaN</td>\n",
       "    </tr>\n",
       "    <tr>\n",
       "      <th rowspan=\"2\" valign=\"top\">335987</th>\n",
       "      <th>1</th>\n",
       "      <td>[B Lee, DPMD Jayawardene, IK Pathan, JR Hopes,...</td>\n",
       "      <td>[D Salunkhe, MM Patel, Pankaj Singh, SK Trived...</td>\n",
       "      <td>NaN</td>\n",
       "      <td>NaN</td>\n",
       "      <td>NaN</td>\n",
       "      <td>NaN</td>\n",
       "      <td>NaN</td>\n",
       "    </tr>\n",
       "    <tr>\n",
       "      <th>2</th>\n",
       "      <td>[DS Lehmann, Kamran Akmal, M Kaif, RA Jadeja, ...</td>\n",
       "      <td>[B Lee, IK Pathan, JR Hopes, PP Chawla, S Sree...</td>\n",
       "      <td>NaN</td>\n",
       "      <td>NaN</td>\n",
       "      <td>NaN</td>\n",
       "      <td>NaN</td>\n",
       "      <td>NaN</td>\n",
       "    </tr>\n",
       "    <tr>\n",
       "      <th rowspan=\"2\" valign=\"top\">335989</th>\n",
       "      <th>1</th>\n",
       "      <td>[JDP Oram, MEK Hussey, ML Hayden, MS Dhoni, PA...</td>\n",
       "      <td>[A Nehra, AM Nayar, DJ Bravo, DS Kulkarni, Har...</td>\n",
       "      <td>60.0</td>\n",
       "      <td>Chennai Super Kings</td>\n",
       "      <td>Mumbai Indians</td>\n",
       "      <td>MA Chidambaram Stadium</td>\n",
       "      <td>2007.0</td>\n",
       "    </tr>\n",
       "    <tr>\n",
       "      <th>2</th>\n",
       "      <td>[A Nehra, AM Nayar, DJ Bravo, Harbhajan Singh,...</td>\n",
       "      <td>[JDP Oram, Joginder Sharma, M Muralitharan, MS...</td>\n",
       "      <td>54.0</td>\n",
       "      <td>Mumbai Indians</td>\n",
       "      <td>Chennai Super Kings</td>\n",
       "      <td>MA Chidambaram Stadium</td>\n",
       "      <td>2007.0</td>\n",
       "    </tr>\n",
       "    <tr>\n",
       "      <th rowspan=\"2\" valign=\"top\">335991</th>\n",
       "      <th>1</th>\n",
       "      <td>[B Lee, DPMD Jayawardene, IK Pathan, K Goel, K...</td>\n",
       "      <td>[A Nehra, DJ Bravo, DS Kulkarni, Harbhajan Sin...</td>\n",
       "      <td>NaN</td>\n",
       "      <td>NaN</td>\n",
       "      <td>NaN</td>\n",
       "      <td>NaN</td>\n",
       "      <td>NaN</td>\n",
       "    </tr>\n",
       "    <tr>\n",
       "      <th>2</th>\n",
       "      <td>[A Nehra, AM Nayar, DJ Bravo, DS Kulkarni, Har...</td>\n",
       "      <td>[B Lee, IK Pathan, PP Chawla, S Sreesanth, VRV...</td>\n",
       "      <td>NaN</td>\n",
       "      <td>NaN</td>\n",
       "      <td>NaN</td>\n",
       "      <td>NaN</td>\n",
       "      <td>NaN</td>\n",
       "    </tr>\n",
       "    <tr>\n",
       "      <th rowspan=\"2\" valign=\"top\">335992</th>\n",
       "      <th>1</th>\n",
       "      <td>[JH Kallis, LRPL Taylor, MV Boucher, P Kumar, ...</td>\n",
       "      <td>[MM Patel, SK Trivedi, SK Warne, SR Watson, So...</td>\n",
       "      <td>58.0</td>\n",
       "      <td>Royal Challengers Bangalore</td>\n",
       "      <td>Rajasthan Royals</td>\n",
       "      <td>M Chinnaswamy Stadium</td>\n",
       "      <td>2007.0</td>\n",
       "    </tr>\n",
       "    <tr>\n",
       "      <th>2</th>\n",
       "      <td>[GC Smith, M Kaif, M Rawat, SR Watson, YK Pathan]</td>\n",
       "      <td>[A Kumble, JH Kallis, P Kumar, R Vinay Kumar, ...</td>\n",
       "      <td>46.0</td>\n",
       "      <td>Rajasthan Royals</td>\n",
       "      <td>Royal Challengers Bangalore</td>\n",
       "      <td>M Chinnaswamy Stadium</td>\n",
       "      <td>2007.0</td>\n",
       "    </tr>\n",
       "    <tr>\n",
       "      <th rowspan=\"2\" valign=\"top\">335993</th>\n",
       "      <th>1</th>\n",
       "      <td>[AB Agarkar, AB Dinda, BB McCullum, DJ Hussey,...</td>\n",
       "      <td>[JDP Oram, Joginder Sharma, M Muralitharan, MS...</td>\n",
       "      <td>62.0</td>\n",
       "      <td>Kolkata Knight Riders</td>\n",
       "      <td>Chennai Super Kings</td>\n",
       "      <td>MA Chidambaram Stadium</td>\n",
       "      <td>2007.0</td>\n",
       "    </tr>\n",
       "    <tr>\n",
       "      <th>2</th>\n",
       "      <td>[ML Hayden, MS Dhoni, PA Patel]</td>\n",
       "      <td>[AB Agarkar, AB Dinda, DJ Hussey, I Sharma, LR...</td>\n",
       "      <td>52.0</td>\n",
       "      <td>Chennai Super Kings</td>\n",
       "      <td>Kolkata Knight Riders</td>\n",
       "      <td>MA Chidambaram Stadium</td>\n",
       "      <td>2007.0</td>\n",
       "    </tr>\n",
       "    <tr>\n",
       "      <th rowspan=\"2\" valign=\"top\">335995</th>\n",
       "      <th>1</th>\n",
       "      <td>[G Gambhir, KD Karthik, MF Maharoof, MK Tiwary...</td>\n",
       "      <td>[B Lee, IK Pathan, PP Chawla, S Sreesanth, VRV...</td>\n",
       "      <td>NaN</td>\n",
       "      <td>NaN</td>\n",
       "      <td>NaN</td>\n",
       "      <td>NaN</td>\n",
       "      <td>NaN</td>\n",
       "    </tr>\n",
       "    <tr>\n",
       "      <th>2</th>\n",
       "      <td>[B Lee, DPMD Jayawardene, IK Pathan, K Goel, K...</td>\n",
       "      <td>[GD McGrath, MF Maharoof, Mohammad Asif, R Bha...</td>\n",
       "      <td>NaN</td>\n",
       "      <td>NaN</td>\n",
       "      <td>NaN</td>\n",
       "      <td>NaN</td>\n",
       "      <td>NaN</td>\n",
       "    </tr>\n",
       "  </tbody>\n",
       "</table>\n",
       "</div>"
      ],
      "text/plain": [
       "                                                            batsmen  \\\n",
       "match_id innings                                                      \n",
       "335982   1        [BB McCullum, DJ Hussey, Mohammad Hafeez, RT P...   \n",
       "         2        [AA Noffke, B Akhil, CL White, JH Kallis, MV B...   \n",
       "335983   1        [JDP Oram, MEK Hussey, ML Hayden, MS Dhoni, PA...   \n",
       "         2        [IK Pathan, JR Hopes, K Goel, KC Sangakkara, S...   \n",
       "335984   1        [D Salunkhe, DS Lehmann, M Kaif, M Rawat, RA J...   \n",
       "         2                          [G Gambhir, S Dhawan, V Sehwag]   \n",
       "335985   1        [AM Nayar, DJ Thornely, Harbhajan Singh, L Ron...   \n",
       "         2        [B Akhil, JH Kallis, LRPL Taylor, MV Boucher, ...   \n",
       "335987   1        [B Lee, DPMD Jayawardene, IK Pathan, JR Hopes,...   \n",
       "         2        [DS Lehmann, Kamran Akmal, M Kaif, RA Jadeja, ...   \n",
       "335989   1        [JDP Oram, MEK Hussey, ML Hayden, MS Dhoni, PA...   \n",
       "         2        [A Nehra, AM Nayar, DJ Bravo, Harbhajan Singh,...   \n",
       "335991   1        [B Lee, DPMD Jayawardene, IK Pathan, K Goel, K...   \n",
       "         2        [A Nehra, AM Nayar, DJ Bravo, DS Kulkarni, Har...   \n",
       "335992   1        [JH Kallis, LRPL Taylor, MV Boucher, P Kumar, ...   \n",
       "         2        [GC Smith, M Kaif, M Rawat, SR Watson, YK Pathan]   \n",
       "335993   1        [AB Agarkar, AB Dinda, BB McCullum, DJ Hussey,...   \n",
       "         2                          [ML Hayden, MS Dhoni, PA Patel]   \n",
       "335995   1        [G Gambhir, KD Karthik, MF Maharoof, MK Tiwary...   \n",
       "         2        [B Lee, DPMD Jayawardene, IK Pathan, K Goel, K...   \n",
       "\n",
       "                                                            bowlers  \\\n",
       "match_id innings                                                      \n",
       "335982   1        [AA Noffke, CL White, JH Kallis, P Kumar, SB J...   \n",
       "         2        [AB Agarkar, AB Dinda, I Sharma, LR Shukla, SC...   \n",
       "335983   1        [B Lee, IK Pathan, JR Hopes, K Goel, PP Chawla...   \n",
       "         2        [JDP Oram, Joginder Sharma, M Muralitharan, MS...   \n",
       "335984   1        [B Geeves, DL Vettori, GD McGrath, MF Maharoof...   \n",
       "         2        [D Salunkhe, MM Patel, SK Trivedi, SK Warne, S...   \n",
       "335985   1        [B Akhil, JH Kallis, P Kumar, R Vinay Kumar, S...   \n",
       "         2        [A Nehra, AM Nayar, DS Kulkarni, Harbhajan Sin...   \n",
       "335987   1        [D Salunkhe, MM Patel, Pankaj Singh, SK Trived...   \n",
       "         2        [B Lee, IK Pathan, JR Hopes, PP Chawla, S Sree...   \n",
       "335989   1        [A Nehra, AM Nayar, DJ Bravo, DS Kulkarni, Har...   \n",
       "         2        [JDP Oram, Joginder Sharma, M Muralitharan, MS...   \n",
       "335991   1        [A Nehra, DJ Bravo, DS Kulkarni, Harbhajan Sin...   \n",
       "         2        [B Lee, IK Pathan, PP Chawla, S Sreesanth, VRV...   \n",
       "335992   1        [MM Patel, SK Trivedi, SK Warne, SR Watson, So...   \n",
       "         2        [A Kumble, JH Kallis, P Kumar, R Vinay Kumar, ...   \n",
       "335993   1        [JDP Oram, Joginder Sharma, M Muralitharan, MS...   \n",
       "         2        [AB Agarkar, AB Dinda, DJ Hussey, I Sharma, LR...   \n",
       "335995   1        [B Lee, IK Pathan, PP Chawla, S Sreesanth, VRV...   \n",
       "         2        [GD McGrath, MF Maharoof, Mohammad Asif, R Bha...   \n",
       "\n",
       "                  total_runs                 batting_team  \\\n",
       "match_id innings                                            \n",
       "335982   1              67.0        Kolkata Knight Riders   \n",
       "         2              28.0  Royal Challengers Bangalore   \n",
       "335983   1               NaN                          NaN   \n",
       "         2               NaN                          NaN   \n",
       "335984   1               NaN                          NaN   \n",
       "         2               NaN                          NaN   \n",
       "335985   1               NaN                          NaN   \n",
       "         2               NaN                          NaN   \n",
       "335987   1               NaN                          NaN   \n",
       "         2               NaN                          NaN   \n",
       "335989   1              60.0          Chennai Super Kings   \n",
       "         2              54.0               Mumbai Indians   \n",
       "335991   1               NaN                          NaN   \n",
       "         2               NaN                          NaN   \n",
       "335992   1              58.0  Royal Challengers Bangalore   \n",
       "         2              46.0             Rajasthan Royals   \n",
       "335993   1              62.0        Kolkata Knight Riders   \n",
       "         2              52.0          Chennai Super Kings   \n",
       "335995   1               NaN                          NaN   \n",
       "         2               NaN                          NaN   \n",
       "\n",
       "                                 bowling_team                   venue    year  \n",
       "match_id innings                                                               \n",
       "335982   1        Royal Challengers Bangalore   M Chinnaswamy Stadium  2007.0  \n",
       "         2              Kolkata Knight Riders   M Chinnaswamy Stadium  2007.0  \n",
       "335983   1                                NaN                     NaN     NaN  \n",
       "         2                                NaN                     NaN     NaN  \n",
       "335984   1                                NaN                     NaN     NaN  \n",
       "         2                                NaN                     NaN     NaN  \n",
       "335985   1                                NaN                     NaN     NaN  \n",
       "         2                                NaN                     NaN     NaN  \n",
       "335987   1                                NaN                     NaN     NaN  \n",
       "         2                                NaN                     NaN     NaN  \n",
       "335989   1                     Mumbai Indians  MA Chidambaram Stadium  2007.0  \n",
       "         2                Chennai Super Kings  MA Chidambaram Stadium  2007.0  \n",
       "335991   1                                NaN                     NaN     NaN  \n",
       "         2                                NaN                     NaN     NaN  \n",
       "335992   1                   Rajasthan Royals   M Chinnaswamy Stadium  2007.0  \n",
       "         2        Royal Challengers Bangalore   M Chinnaswamy Stadium  2007.0  \n",
       "335993   1                Chennai Super Kings  MA Chidambaram Stadium  2007.0  \n",
       "         2              Kolkata Knight Riders  MA Chidambaram Stadium  2007.0  \n",
       "335995   1                                NaN                     NaN     NaN  \n",
       "         2                                NaN                     NaN     NaN  "
      ]
     },
     "execution_count": 73,
     "metadata": {},
     "output_type": "execute_result"
    }
   ],
   "source": [
    "concat_data.head(20)"
   ]
  },
  {
   "cell_type": "code",
   "execution_count": null,
   "id": "dimensional-implementation",
   "metadata": {},
   "outputs": [],
   "source": []
  },
  {
   "cell_type": "code",
   "execution_count": 74,
   "id": "african-ozone",
   "metadata": {},
   "outputs": [],
   "source": [
    "concat_data.drop('year',axis=1,inplace=True)"
   ]
  },
  {
   "cell_type": "code",
   "execution_count": 75,
   "id": "nasty-modern",
   "metadata": {},
   "outputs": [
    {
     "data": {
      "text/html": [
       "<div>\n",
       "<style scoped>\n",
       "    .dataframe tbody tr th:only-of-type {\n",
       "        vertical-align: middle;\n",
       "    }\n",
       "\n",
       "    .dataframe tbody tr th {\n",
       "        vertical-align: top;\n",
       "    }\n",
       "\n",
       "    .dataframe thead th {\n",
       "        text-align: right;\n",
       "    }\n",
       "</style>\n",
       "<table border=\"1\" class=\"dataframe\">\n",
       "  <thead>\n",
       "    <tr style=\"text-align: right;\">\n",
       "      <th></th>\n",
       "      <th></th>\n",
       "      <th>batsmen</th>\n",
       "      <th>bowlers</th>\n",
       "      <th>total_runs</th>\n",
       "      <th>batting_team</th>\n",
       "      <th>bowling_team</th>\n",
       "      <th>venue</th>\n",
       "    </tr>\n",
       "    <tr>\n",
       "      <th>match_id</th>\n",
       "      <th>innings</th>\n",
       "      <th></th>\n",
       "      <th></th>\n",
       "      <th></th>\n",
       "      <th></th>\n",
       "      <th></th>\n",
       "      <th></th>\n",
       "    </tr>\n",
       "  </thead>\n",
       "  <tbody>\n",
       "    <tr>\n",
       "      <th rowspan=\"2\" valign=\"top\">335982</th>\n",
       "      <th>1</th>\n",
       "      <td>[BB McCullum, DJ Hussey, Mohammad Hafeez, RT P...</td>\n",
       "      <td>[AA Noffke, CL White, JH Kallis, P Kumar, SB J...</td>\n",
       "      <td>67.0</td>\n",
       "      <td>Kolkata Knight Riders</td>\n",
       "      <td>Royal Challengers Bangalore</td>\n",
       "      <td>M Chinnaswamy Stadium</td>\n",
       "    </tr>\n",
       "    <tr>\n",
       "      <th>2</th>\n",
       "      <td>[AA Noffke, B Akhil, CL White, JH Kallis, MV B...</td>\n",
       "      <td>[AB Agarkar, AB Dinda, I Sharma, LR Shukla, SC...</td>\n",
       "      <td>28.0</td>\n",
       "      <td>Royal Challengers Bangalore</td>\n",
       "      <td>Kolkata Knight Riders</td>\n",
       "      <td>M Chinnaswamy Stadium</td>\n",
       "    </tr>\n",
       "    <tr>\n",
       "      <th rowspan=\"2\" valign=\"top\">335983</th>\n",
       "      <th>1</th>\n",
       "      <td>[JDP Oram, MEK Hussey, ML Hayden, MS Dhoni, PA...</td>\n",
       "      <td>[B Lee, IK Pathan, JR Hopes, K Goel, PP Chawla...</td>\n",
       "      <td>NaN</td>\n",
       "      <td>NaN</td>\n",
       "      <td>NaN</td>\n",
       "      <td>NaN</td>\n",
       "    </tr>\n",
       "    <tr>\n",
       "      <th>2</th>\n",
       "      <td>[IK Pathan, JR Hopes, K Goel, KC Sangakkara, S...</td>\n",
       "      <td>[JDP Oram, Joginder Sharma, M Muralitharan, MS...</td>\n",
       "      <td>NaN</td>\n",
       "      <td>NaN</td>\n",
       "      <td>NaN</td>\n",
       "      <td>NaN</td>\n",
       "    </tr>\n",
       "    <tr>\n",
       "      <th>335984</th>\n",
       "      <th>1</th>\n",
       "      <td>[D Salunkhe, DS Lehmann, M Kaif, M Rawat, RA J...</td>\n",
       "      <td>[B Geeves, DL Vettori, GD McGrath, MF Maharoof...</td>\n",
       "      <td>NaN</td>\n",
       "      <td>NaN</td>\n",
       "      <td>NaN</td>\n",
       "      <td>NaN</td>\n",
       "    </tr>\n",
       "  </tbody>\n",
       "</table>\n",
       "</div>"
      ],
      "text/plain": [
       "                                                            batsmen  \\\n",
       "match_id innings                                                      \n",
       "335982   1        [BB McCullum, DJ Hussey, Mohammad Hafeez, RT P...   \n",
       "         2        [AA Noffke, B Akhil, CL White, JH Kallis, MV B...   \n",
       "335983   1        [JDP Oram, MEK Hussey, ML Hayden, MS Dhoni, PA...   \n",
       "         2        [IK Pathan, JR Hopes, K Goel, KC Sangakkara, S...   \n",
       "335984   1        [D Salunkhe, DS Lehmann, M Kaif, M Rawat, RA J...   \n",
       "\n",
       "                                                            bowlers  \\\n",
       "match_id innings                                                      \n",
       "335982   1        [AA Noffke, CL White, JH Kallis, P Kumar, SB J...   \n",
       "         2        [AB Agarkar, AB Dinda, I Sharma, LR Shukla, SC...   \n",
       "335983   1        [B Lee, IK Pathan, JR Hopes, K Goel, PP Chawla...   \n",
       "         2        [JDP Oram, Joginder Sharma, M Muralitharan, MS...   \n",
       "335984   1        [B Geeves, DL Vettori, GD McGrath, MF Maharoof...   \n",
       "\n",
       "                  total_runs                 batting_team  \\\n",
       "match_id innings                                            \n",
       "335982   1              67.0        Kolkata Knight Riders   \n",
       "         2              28.0  Royal Challengers Bangalore   \n",
       "335983   1               NaN                          NaN   \n",
       "         2               NaN                          NaN   \n",
       "335984   1               NaN                          NaN   \n",
       "\n",
       "                                 bowling_team                  venue  \n",
       "match_id innings                                                      \n",
       "335982   1        Royal Challengers Bangalore  M Chinnaswamy Stadium  \n",
       "         2              Kolkata Knight Riders  M Chinnaswamy Stadium  \n",
       "335983   1                                NaN                    NaN  \n",
       "         2                                NaN                    NaN  \n",
       "335984   1                                NaN                    NaN  "
      ]
     },
     "execution_count": 75,
     "metadata": {},
     "output_type": "execute_result"
    }
   ],
   "source": [
    "concat_data.head()"
   ]
  },
  {
   "cell_type": "code",
   "execution_count": null,
   "id": "aquatic-traffic",
   "metadata": {},
   "outputs": [],
   "source": []
  },
  {
   "cell_type": "code",
   "execution_count": 76,
   "id": "configured-modem",
   "metadata": {},
   "outputs": [
    {
     "data": {
      "text/html": [
       "<div>\n",
       "<style scoped>\n",
       "    .dataframe tbody tr th:only-of-type {\n",
       "        vertical-align: middle;\n",
       "    }\n",
       "\n",
       "    .dataframe tbody tr th {\n",
       "        vertical-align: top;\n",
       "    }\n",
       "\n",
       "    .dataframe thead th {\n",
       "        text-align: right;\n",
       "    }\n",
       "</style>\n",
       "<table border=\"1\" class=\"dataframe\">\n",
       "  <thead>\n",
       "    <tr style=\"text-align: right;\">\n",
       "      <th></th>\n",
       "      <th></th>\n",
       "      <th>batsmen</th>\n",
       "      <th>bowlers</th>\n",
       "      <th>total_runs</th>\n",
       "      <th>batting_team</th>\n",
       "      <th>bowling_team</th>\n",
       "      <th>venue</th>\n",
       "    </tr>\n",
       "    <tr>\n",
       "      <th>match_id</th>\n",
       "      <th>innings</th>\n",
       "      <th></th>\n",
       "      <th></th>\n",
       "      <th></th>\n",
       "      <th></th>\n",
       "      <th></th>\n",
       "      <th></th>\n",
       "    </tr>\n",
       "  </thead>\n",
       "  <tbody>\n",
       "    <tr>\n",
       "      <th rowspan=\"2\" valign=\"top\">335982</th>\n",
       "      <th>1</th>\n",
       "      <td>[BB McCullum, DJ Hussey, Mohammad Hafeez, RT P...</td>\n",
       "      <td>[AA Noffke, CL White, JH Kallis, P Kumar, SB J...</td>\n",
       "      <td>67.0</td>\n",
       "      <td>Kolkata Knight Riders</td>\n",
       "      <td>Royal Challengers Bangalore</td>\n",
       "      <td>M Chinnaswamy Stadium</td>\n",
       "    </tr>\n",
       "    <tr>\n",
       "      <th>2</th>\n",
       "      <td>[AA Noffke, B Akhil, CL White, JH Kallis, MV B...</td>\n",
       "      <td>[AB Agarkar, AB Dinda, I Sharma, LR Shukla, SC...</td>\n",
       "      <td>28.0</td>\n",
       "      <td>Royal Challengers Bangalore</td>\n",
       "      <td>Kolkata Knight Riders</td>\n",
       "      <td>M Chinnaswamy Stadium</td>\n",
       "    </tr>\n",
       "    <tr>\n",
       "      <th rowspan=\"2\" valign=\"top\">335983</th>\n",
       "      <th>1</th>\n",
       "      <td>[JDP Oram, MEK Hussey, ML Hayden, MS Dhoni, PA...</td>\n",
       "      <td>[B Lee, IK Pathan, JR Hopes, K Goel, PP Chawla...</td>\n",
       "      <td>NaN</td>\n",
       "      <td>NaN</td>\n",
       "      <td>NaN</td>\n",
       "      <td>NaN</td>\n",
       "    </tr>\n",
       "    <tr>\n",
       "      <th>2</th>\n",
       "      <td>[IK Pathan, JR Hopes, K Goel, KC Sangakkara, S...</td>\n",
       "      <td>[JDP Oram, Joginder Sharma, M Muralitharan, MS...</td>\n",
       "      <td>NaN</td>\n",
       "      <td>NaN</td>\n",
       "      <td>NaN</td>\n",
       "      <td>NaN</td>\n",
       "    </tr>\n",
       "    <tr>\n",
       "      <th rowspan=\"2\" valign=\"top\">335984</th>\n",
       "      <th>1</th>\n",
       "      <td>[D Salunkhe, DS Lehmann, M Kaif, M Rawat, RA J...</td>\n",
       "      <td>[B Geeves, DL Vettori, GD McGrath, MF Maharoof...</td>\n",
       "      <td>NaN</td>\n",
       "      <td>NaN</td>\n",
       "      <td>NaN</td>\n",
       "      <td>NaN</td>\n",
       "    </tr>\n",
       "    <tr>\n",
       "      <th>2</th>\n",
       "      <td>[G Gambhir, S Dhawan, V Sehwag]</td>\n",
       "      <td>[D Salunkhe, MM Patel, SK Trivedi, SK Warne, S...</td>\n",
       "      <td>NaN</td>\n",
       "      <td>NaN</td>\n",
       "      <td>NaN</td>\n",
       "      <td>NaN</td>\n",
       "    </tr>\n",
       "    <tr>\n",
       "      <th rowspan=\"2\" valign=\"top\">335985</th>\n",
       "      <th>1</th>\n",
       "      <td>[AM Nayar, DJ Thornely, Harbhajan Singh, L Ron...</td>\n",
       "      <td>[B Akhil, JH Kallis, P Kumar, R Vinay Kumar, S...</td>\n",
       "      <td>NaN</td>\n",
       "      <td>NaN</td>\n",
       "      <td>NaN</td>\n",
       "      <td>NaN</td>\n",
       "    </tr>\n",
       "    <tr>\n",
       "      <th>2</th>\n",
       "      <td>[B Akhil, JH Kallis, LRPL Taylor, MV Boucher, ...</td>\n",
       "      <td>[A Nehra, AM Nayar, DS Kulkarni, Harbhajan Sin...</td>\n",
       "      <td>NaN</td>\n",
       "      <td>NaN</td>\n",
       "      <td>NaN</td>\n",
       "      <td>NaN</td>\n",
       "    </tr>\n",
       "    <tr>\n",
       "      <th rowspan=\"2\" valign=\"top\">335987</th>\n",
       "      <th>1</th>\n",
       "      <td>[B Lee, DPMD Jayawardene, IK Pathan, JR Hopes,...</td>\n",
       "      <td>[D Salunkhe, MM Patel, Pankaj Singh, SK Trived...</td>\n",
       "      <td>NaN</td>\n",
       "      <td>NaN</td>\n",
       "      <td>NaN</td>\n",
       "      <td>NaN</td>\n",
       "    </tr>\n",
       "    <tr>\n",
       "      <th>2</th>\n",
       "      <td>[DS Lehmann, Kamran Akmal, M Kaif, RA Jadeja, ...</td>\n",
       "      <td>[B Lee, IK Pathan, JR Hopes, PP Chawla, S Sree...</td>\n",
       "      <td>NaN</td>\n",
       "      <td>NaN</td>\n",
       "      <td>NaN</td>\n",
       "      <td>NaN</td>\n",
       "    </tr>\n",
       "    <tr>\n",
       "      <th rowspan=\"2\" valign=\"top\">335989</th>\n",
       "      <th>1</th>\n",
       "      <td>[JDP Oram, MEK Hussey, ML Hayden, MS Dhoni, PA...</td>\n",
       "      <td>[A Nehra, AM Nayar, DJ Bravo, DS Kulkarni, Har...</td>\n",
       "      <td>60.0</td>\n",
       "      <td>Chennai Super Kings</td>\n",
       "      <td>Mumbai Indians</td>\n",
       "      <td>MA Chidambaram Stadium</td>\n",
       "    </tr>\n",
       "    <tr>\n",
       "      <th>2</th>\n",
       "      <td>[A Nehra, AM Nayar, DJ Bravo, Harbhajan Singh,...</td>\n",
       "      <td>[JDP Oram, Joginder Sharma, M Muralitharan, MS...</td>\n",
       "      <td>54.0</td>\n",
       "      <td>Mumbai Indians</td>\n",
       "      <td>Chennai Super Kings</td>\n",
       "      <td>MA Chidambaram Stadium</td>\n",
       "    </tr>\n",
       "    <tr>\n",
       "      <th rowspan=\"2\" valign=\"top\">335991</th>\n",
       "      <th>1</th>\n",
       "      <td>[B Lee, DPMD Jayawardene, IK Pathan, K Goel, K...</td>\n",
       "      <td>[A Nehra, DJ Bravo, DS Kulkarni, Harbhajan Sin...</td>\n",
       "      <td>NaN</td>\n",
       "      <td>NaN</td>\n",
       "      <td>NaN</td>\n",
       "      <td>NaN</td>\n",
       "    </tr>\n",
       "    <tr>\n",
       "      <th>2</th>\n",
       "      <td>[A Nehra, AM Nayar, DJ Bravo, DS Kulkarni, Har...</td>\n",
       "      <td>[B Lee, IK Pathan, PP Chawla, S Sreesanth, VRV...</td>\n",
       "      <td>NaN</td>\n",
       "      <td>NaN</td>\n",
       "      <td>NaN</td>\n",
       "      <td>NaN</td>\n",
       "    </tr>\n",
       "    <tr>\n",
       "      <th rowspan=\"2\" valign=\"top\">335992</th>\n",
       "      <th>1</th>\n",
       "      <td>[JH Kallis, LRPL Taylor, MV Boucher, P Kumar, ...</td>\n",
       "      <td>[MM Patel, SK Trivedi, SK Warne, SR Watson, So...</td>\n",
       "      <td>58.0</td>\n",
       "      <td>Royal Challengers Bangalore</td>\n",
       "      <td>Rajasthan Royals</td>\n",
       "      <td>M Chinnaswamy Stadium</td>\n",
       "    </tr>\n",
       "    <tr>\n",
       "      <th>2</th>\n",
       "      <td>[GC Smith, M Kaif, M Rawat, SR Watson, YK Pathan]</td>\n",
       "      <td>[A Kumble, JH Kallis, P Kumar, R Vinay Kumar, ...</td>\n",
       "      <td>46.0</td>\n",
       "      <td>Rajasthan Royals</td>\n",
       "      <td>Royal Challengers Bangalore</td>\n",
       "      <td>M Chinnaswamy Stadium</td>\n",
       "    </tr>\n",
       "    <tr>\n",
       "      <th rowspan=\"2\" valign=\"top\">335993</th>\n",
       "      <th>1</th>\n",
       "      <td>[AB Agarkar, AB Dinda, BB McCullum, DJ Hussey,...</td>\n",
       "      <td>[JDP Oram, Joginder Sharma, M Muralitharan, MS...</td>\n",
       "      <td>62.0</td>\n",
       "      <td>Kolkata Knight Riders</td>\n",
       "      <td>Chennai Super Kings</td>\n",
       "      <td>MA Chidambaram Stadium</td>\n",
       "    </tr>\n",
       "    <tr>\n",
       "      <th>2</th>\n",
       "      <td>[ML Hayden, MS Dhoni, PA Patel]</td>\n",
       "      <td>[AB Agarkar, AB Dinda, DJ Hussey, I Sharma, LR...</td>\n",
       "      <td>52.0</td>\n",
       "      <td>Chennai Super Kings</td>\n",
       "      <td>Kolkata Knight Riders</td>\n",
       "      <td>MA Chidambaram Stadium</td>\n",
       "    </tr>\n",
       "    <tr>\n",
       "      <th rowspan=\"2\" valign=\"top\">335995</th>\n",
       "      <th>1</th>\n",
       "      <td>[G Gambhir, KD Karthik, MF Maharoof, MK Tiwary...</td>\n",
       "      <td>[B Lee, IK Pathan, PP Chawla, S Sreesanth, VRV...</td>\n",
       "      <td>NaN</td>\n",
       "      <td>NaN</td>\n",
       "      <td>NaN</td>\n",
       "      <td>NaN</td>\n",
       "    </tr>\n",
       "    <tr>\n",
       "      <th>2</th>\n",
       "      <td>[B Lee, DPMD Jayawardene, IK Pathan, K Goel, K...</td>\n",
       "      <td>[GD McGrath, MF Maharoof, Mohammad Asif, R Bha...</td>\n",
       "      <td>NaN</td>\n",
       "      <td>NaN</td>\n",
       "      <td>NaN</td>\n",
       "      <td>NaN</td>\n",
       "    </tr>\n",
       "  </tbody>\n",
       "</table>\n",
       "</div>"
      ],
      "text/plain": [
       "                                                            batsmen  \\\n",
       "match_id innings                                                      \n",
       "335982   1        [BB McCullum, DJ Hussey, Mohammad Hafeez, RT P...   \n",
       "         2        [AA Noffke, B Akhil, CL White, JH Kallis, MV B...   \n",
       "335983   1        [JDP Oram, MEK Hussey, ML Hayden, MS Dhoni, PA...   \n",
       "         2        [IK Pathan, JR Hopes, K Goel, KC Sangakkara, S...   \n",
       "335984   1        [D Salunkhe, DS Lehmann, M Kaif, M Rawat, RA J...   \n",
       "         2                          [G Gambhir, S Dhawan, V Sehwag]   \n",
       "335985   1        [AM Nayar, DJ Thornely, Harbhajan Singh, L Ron...   \n",
       "         2        [B Akhil, JH Kallis, LRPL Taylor, MV Boucher, ...   \n",
       "335987   1        [B Lee, DPMD Jayawardene, IK Pathan, JR Hopes,...   \n",
       "         2        [DS Lehmann, Kamran Akmal, M Kaif, RA Jadeja, ...   \n",
       "335989   1        [JDP Oram, MEK Hussey, ML Hayden, MS Dhoni, PA...   \n",
       "         2        [A Nehra, AM Nayar, DJ Bravo, Harbhajan Singh,...   \n",
       "335991   1        [B Lee, DPMD Jayawardene, IK Pathan, K Goel, K...   \n",
       "         2        [A Nehra, AM Nayar, DJ Bravo, DS Kulkarni, Har...   \n",
       "335992   1        [JH Kallis, LRPL Taylor, MV Boucher, P Kumar, ...   \n",
       "         2        [GC Smith, M Kaif, M Rawat, SR Watson, YK Pathan]   \n",
       "335993   1        [AB Agarkar, AB Dinda, BB McCullum, DJ Hussey,...   \n",
       "         2                          [ML Hayden, MS Dhoni, PA Patel]   \n",
       "335995   1        [G Gambhir, KD Karthik, MF Maharoof, MK Tiwary...   \n",
       "         2        [B Lee, DPMD Jayawardene, IK Pathan, K Goel, K...   \n",
       "\n",
       "                                                            bowlers  \\\n",
       "match_id innings                                                      \n",
       "335982   1        [AA Noffke, CL White, JH Kallis, P Kumar, SB J...   \n",
       "         2        [AB Agarkar, AB Dinda, I Sharma, LR Shukla, SC...   \n",
       "335983   1        [B Lee, IK Pathan, JR Hopes, K Goel, PP Chawla...   \n",
       "         2        [JDP Oram, Joginder Sharma, M Muralitharan, MS...   \n",
       "335984   1        [B Geeves, DL Vettori, GD McGrath, MF Maharoof...   \n",
       "         2        [D Salunkhe, MM Patel, SK Trivedi, SK Warne, S...   \n",
       "335985   1        [B Akhil, JH Kallis, P Kumar, R Vinay Kumar, S...   \n",
       "         2        [A Nehra, AM Nayar, DS Kulkarni, Harbhajan Sin...   \n",
       "335987   1        [D Salunkhe, MM Patel, Pankaj Singh, SK Trived...   \n",
       "         2        [B Lee, IK Pathan, JR Hopes, PP Chawla, S Sree...   \n",
       "335989   1        [A Nehra, AM Nayar, DJ Bravo, DS Kulkarni, Har...   \n",
       "         2        [JDP Oram, Joginder Sharma, M Muralitharan, MS...   \n",
       "335991   1        [A Nehra, DJ Bravo, DS Kulkarni, Harbhajan Sin...   \n",
       "         2        [B Lee, IK Pathan, PP Chawla, S Sreesanth, VRV...   \n",
       "335992   1        [MM Patel, SK Trivedi, SK Warne, SR Watson, So...   \n",
       "         2        [A Kumble, JH Kallis, P Kumar, R Vinay Kumar, ...   \n",
       "335993   1        [JDP Oram, Joginder Sharma, M Muralitharan, MS...   \n",
       "         2        [AB Agarkar, AB Dinda, DJ Hussey, I Sharma, LR...   \n",
       "335995   1        [B Lee, IK Pathan, PP Chawla, S Sreesanth, VRV...   \n",
       "         2        [GD McGrath, MF Maharoof, Mohammad Asif, R Bha...   \n",
       "\n",
       "                  total_runs                 batting_team  \\\n",
       "match_id innings                                            \n",
       "335982   1              67.0        Kolkata Knight Riders   \n",
       "         2              28.0  Royal Challengers Bangalore   \n",
       "335983   1               NaN                          NaN   \n",
       "         2               NaN                          NaN   \n",
       "335984   1               NaN                          NaN   \n",
       "         2               NaN                          NaN   \n",
       "335985   1               NaN                          NaN   \n",
       "         2               NaN                          NaN   \n",
       "335987   1               NaN                          NaN   \n",
       "         2               NaN                          NaN   \n",
       "335989   1              60.0          Chennai Super Kings   \n",
       "         2              54.0               Mumbai Indians   \n",
       "335991   1               NaN                          NaN   \n",
       "         2               NaN                          NaN   \n",
       "335992   1              58.0  Royal Challengers Bangalore   \n",
       "         2              46.0             Rajasthan Royals   \n",
       "335993   1              62.0        Kolkata Knight Riders   \n",
       "         2              52.0          Chennai Super Kings   \n",
       "335995   1               NaN                          NaN   \n",
       "         2               NaN                          NaN   \n",
       "\n",
       "                                 bowling_team                   venue  \n",
       "match_id innings                                                       \n",
       "335982   1        Royal Challengers Bangalore   M Chinnaswamy Stadium  \n",
       "         2              Kolkata Knight Riders   M Chinnaswamy Stadium  \n",
       "335983   1                                NaN                     NaN  \n",
       "         2                                NaN                     NaN  \n",
       "335984   1                                NaN                     NaN  \n",
       "         2                                NaN                     NaN  \n",
       "335985   1                                NaN                     NaN  \n",
       "         2                                NaN                     NaN  \n",
       "335987   1                                NaN                     NaN  \n",
       "         2                                NaN                     NaN  \n",
       "335989   1                     Mumbai Indians  MA Chidambaram Stadium  \n",
       "         2                Chennai Super Kings  MA Chidambaram Stadium  \n",
       "335991   1                                NaN                     NaN  \n",
       "         2                                NaN                     NaN  \n",
       "335992   1                   Rajasthan Royals   M Chinnaswamy Stadium  \n",
       "         2        Royal Challengers Bangalore   M Chinnaswamy Stadium  \n",
       "335993   1                Chennai Super Kings  MA Chidambaram Stadium  \n",
       "         2              Kolkata Knight Riders  MA Chidambaram Stadium  \n",
       "335995   1                                NaN                     NaN  \n",
       "         2                                NaN                     NaN  "
      ]
     },
     "execution_count": 76,
     "metadata": {},
     "output_type": "execute_result"
    }
   ],
   "source": [
    "concat_data.head(20)"
   ]
  },
  {
   "cell_type": "code",
   "execution_count": 77,
   "id": "potential-appearance",
   "metadata": {},
   "outputs": [],
   "source": [
    "#concat_data['batsmen'].unique()"
   ]
  },
  {
   "cell_type": "code",
   "execution_count": 78,
   "id": "bigger-guatemala",
   "metadata": {},
   "outputs": [],
   "source": [
    "#concat_data = pd.get_dummies(data=df, columns=['batting_team', 'bowling_team', 'venue'])"
   ]
  },
  {
   "cell_type": "code",
   "execution_count": 79,
   "id": "defensive-niagara",
   "metadata": {},
   "outputs": [],
   "source": [
    "from sklearn.preprocessing import MultiLabelBinarizer"
   ]
  },
  {
   "cell_type": "code",
   "execution_count": null,
   "id": "geological-alberta",
   "metadata": {},
   "outputs": [],
   "source": []
  },
  {
   "cell_type": "code",
   "execution_count": null,
   "id": "metropolitan-missouri",
   "metadata": {},
   "outputs": [],
   "source": []
  },
  {
   "cell_type": "code",
   "execution_count": 80,
   "id": "found-disco",
   "metadata": {},
   "outputs": [
    {
     "data": {
      "text/html": [
       "<div>\n",
       "<style scoped>\n",
       "    .dataframe tbody tr th:only-of-type {\n",
       "        vertical-align: middle;\n",
       "    }\n",
       "\n",
       "    .dataframe tbody tr th {\n",
       "        vertical-align: top;\n",
       "    }\n",
       "\n",
       "    .dataframe thead th {\n",
       "        text-align: right;\n",
       "    }\n",
       "</style>\n",
       "<table border=\"1\" class=\"dataframe\">\n",
       "  <thead>\n",
       "    <tr style=\"text-align: right;\">\n",
       "      <th></th>\n",
       "      <th></th>\n",
       "      <th>batsmen</th>\n",
       "      <th>bowlers</th>\n",
       "      <th>total_runs</th>\n",
       "      <th>batting_team</th>\n",
       "      <th>bowling_team</th>\n",
       "      <th>venue</th>\n",
       "    </tr>\n",
       "    <tr>\n",
       "      <th>match_id</th>\n",
       "      <th>innings</th>\n",
       "      <th></th>\n",
       "      <th></th>\n",
       "      <th></th>\n",
       "      <th></th>\n",
       "      <th></th>\n",
       "      <th></th>\n",
       "    </tr>\n",
       "  </thead>\n",
       "  <tbody>\n",
       "    <tr>\n",
       "      <th rowspan=\"2\" valign=\"top\">335982</th>\n",
       "      <th>1</th>\n",
       "      <td>[BB McCullum, DJ Hussey, Mohammad Hafeez, RT P...</td>\n",
       "      <td>[AA Noffke, CL White, JH Kallis, P Kumar, SB J...</td>\n",
       "      <td>67.0</td>\n",
       "      <td>Kolkata Knight Riders</td>\n",
       "      <td>Royal Challengers Bangalore</td>\n",
       "      <td>M Chinnaswamy Stadium</td>\n",
       "    </tr>\n",
       "    <tr>\n",
       "      <th>2</th>\n",
       "      <td>[AA Noffke, B Akhil, CL White, JH Kallis, MV B...</td>\n",
       "      <td>[AB Agarkar, AB Dinda, I Sharma, LR Shukla, SC...</td>\n",
       "      <td>28.0</td>\n",
       "      <td>Royal Challengers Bangalore</td>\n",
       "      <td>Kolkata Knight Riders</td>\n",
       "      <td>M Chinnaswamy Stadium</td>\n",
       "    </tr>\n",
       "    <tr>\n",
       "      <th rowspan=\"2\" valign=\"top\">335983</th>\n",
       "      <th>1</th>\n",
       "      <td>[JDP Oram, MEK Hussey, ML Hayden, MS Dhoni, PA...</td>\n",
       "      <td>[B Lee, IK Pathan, JR Hopes, K Goel, PP Chawla...</td>\n",
       "      <td>NaN</td>\n",
       "      <td>NaN</td>\n",
       "      <td>NaN</td>\n",
       "      <td>NaN</td>\n",
       "    </tr>\n",
       "    <tr>\n",
       "      <th>2</th>\n",
       "      <td>[IK Pathan, JR Hopes, K Goel, KC Sangakkara, S...</td>\n",
       "      <td>[JDP Oram, Joginder Sharma, M Muralitharan, MS...</td>\n",
       "      <td>NaN</td>\n",
       "      <td>NaN</td>\n",
       "      <td>NaN</td>\n",
       "      <td>NaN</td>\n",
       "    </tr>\n",
       "    <tr>\n",
       "      <th>335984</th>\n",
       "      <th>1</th>\n",
       "      <td>[D Salunkhe, DS Lehmann, M Kaif, M Rawat, RA J...</td>\n",
       "      <td>[B Geeves, DL Vettori, GD McGrath, MF Maharoof...</td>\n",
       "      <td>NaN</td>\n",
       "      <td>NaN</td>\n",
       "      <td>NaN</td>\n",
       "      <td>NaN</td>\n",
       "    </tr>\n",
       "  </tbody>\n",
       "</table>\n",
       "</div>"
      ],
      "text/plain": [
       "                                                            batsmen  \\\n",
       "match_id innings                                                      \n",
       "335982   1        [BB McCullum, DJ Hussey, Mohammad Hafeez, RT P...   \n",
       "         2        [AA Noffke, B Akhil, CL White, JH Kallis, MV B...   \n",
       "335983   1        [JDP Oram, MEK Hussey, ML Hayden, MS Dhoni, PA...   \n",
       "         2        [IK Pathan, JR Hopes, K Goel, KC Sangakkara, S...   \n",
       "335984   1        [D Salunkhe, DS Lehmann, M Kaif, M Rawat, RA J...   \n",
       "\n",
       "                                                            bowlers  \\\n",
       "match_id innings                                                      \n",
       "335982   1        [AA Noffke, CL White, JH Kallis, P Kumar, SB J...   \n",
       "         2        [AB Agarkar, AB Dinda, I Sharma, LR Shukla, SC...   \n",
       "335983   1        [B Lee, IK Pathan, JR Hopes, K Goel, PP Chawla...   \n",
       "         2        [JDP Oram, Joginder Sharma, M Muralitharan, MS...   \n",
       "335984   1        [B Geeves, DL Vettori, GD McGrath, MF Maharoof...   \n",
       "\n",
       "                  total_runs                 batting_team  \\\n",
       "match_id innings                                            \n",
       "335982   1              67.0        Kolkata Knight Riders   \n",
       "         2              28.0  Royal Challengers Bangalore   \n",
       "335983   1               NaN                          NaN   \n",
       "         2               NaN                          NaN   \n",
       "335984   1               NaN                          NaN   \n",
       "\n",
       "                                 bowling_team                  venue  \n",
       "match_id innings                                                      \n",
       "335982   1        Royal Challengers Bangalore  M Chinnaswamy Stadium  \n",
       "         2              Kolkata Knight Riders  M Chinnaswamy Stadium  \n",
       "335983   1                                NaN                    NaN  \n",
       "         2                                NaN                    NaN  \n",
       "335984   1                                NaN                    NaN  "
      ]
     },
     "execution_count": 80,
     "metadata": {},
     "output_type": "execute_result"
    }
   ],
   "source": [
    "concat_data.head()"
   ]
  },
  {
   "cell_type": "code",
   "execution_count": 81,
   "id": "forbidden-publication",
   "metadata": {},
   "outputs": [],
   "source": [
    "#len(lb.classes_)"
   ]
  },
  {
   "cell_type": "code",
   "execution_count": 82,
   "id": "numeric-marks",
   "metadata": {},
   "outputs": [
    {
     "data": {
      "text/plain": [
       "match_id         int64\n",
       "venue           object\n",
       "innings          int64\n",
       "ball           float64\n",
       "striker         object\n",
       "non_striker     object\n",
       "bowler          object\n",
       "year             int32\n",
       "dtype: object"
      ]
     },
     "execution_count": 82,
     "metadata": {},
     "output_type": "execute_result"
    }
   ],
   "source": [
    "df.dtypes"
   ]
  },
  {
   "cell_type": "code",
   "execution_count": 83,
   "id": "functioning-output",
   "metadata": {},
   "outputs": [],
   "source": [
    "from sklearn.preprocessing import LabelEncoder"
   ]
  },
  {
   "cell_type": "code",
   "execution_count": 84,
   "id": "guilty-farming",
   "metadata": {},
   "outputs": [],
   "source": [
    "le = LabelEncoder()"
   ]
  },
  {
   "cell_type": "code",
   "execution_count": 85,
   "id": "atmospheric-preference",
   "metadata": {},
   "outputs": [
    {
     "data": {
      "text/plain": [
       "LabelEncoder()"
      ]
     },
     "execution_count": 85,
     "metadata": {},
     "output_type": "execute_result"
    }
   ],
   "source": [
    "le.fit(df['striker'])"
   ]
  },
  {
   "cell_type": "code",
   "execution_count": 86,
   "id": "passing-locator",
   "metadata": {},
   "outputs": [
    {
     "data": {
      "text/html": [
       "<div>\n",
       "<style scoped>\n",
       "    .dataframe tbody tr th:only-of-type {\n",
       "        vertical-align: middle;\n",
       "    }\n",
       "\n",
       "    .dataframe tbody tr th {\n",
       "        vertical-align: top;\n",
       "    }\n",
       "\n",
       "    .dataframe thead th {\n",
       "        text-align: right;\n",
       "    }\n",
       "</style>\n",
       "<table border=\"1\" class=\"dataframe\">\n",
       "  <thead>\n",
       "    <tr style=\"text-align: right;\">\n",
       "      <th></th>\n",
       "      <th>match_id</th>\n",
       "      <th>venue</th>\n",
       "      <th>innings</th>\n",
       "      <th>ball</th>\n",
       "      <th>striker</th>\n",
       "      <th>non_striker</th>\n",
       "      <th>bowler</th>\n",
       "      <th>year</th>\n",
       "    </tr>\n",
       "  </thead>\n",
       "  <tbody>\n",
       "    <tr>\n",
       "      <th>960</th>\n",
       "      <td>1082595</td>\n",
       "      <td>M Chinnaswamy Stadium</td>\n",
       "      <td>1</td>\n",
       "      <td>0.1</td>\n",
       "      <td>CH Gayle</td>\n",
       "      <td>SR Watson</td>\n",
       "      <td>Z Khan</td>\n",
       "      <td>2017</td>\n",
       "    </tr>\n",
       "    <tr>\n",
       "      <th>961</th>\n",
       "      <td>1082595</td>\n",
       "      <td>M Chinnaswamy Stadium</td>\n",
       "      <td>1</td>\n",
       "      <td>0.2</td>\n",
       "      <td>SR Watson</td>\n",
       "      <td>CH Gayle</td>\n",
       "      <td>Z Khan</td>\n",
       "      <td>2017</td>\n",
       "    </tr>\n",
       "    <tr>\n",
       "      <th>962</th>\n",
       "      <td>1082595</td>\n",
       "      <td>M Chinnaswamy Stadium</td>\n",
       "      <td>1</td>\n",
       "      <td>0.3</td>\n",
       "      <td>SR Watson</td>\n",
       "      <td>CH Gayle</td>\n",
       "      <td>Z Khan</td>\n",
       "      <td>2017</td>\n",
       "    </tr>\n",
       "    <tr>\n",
       "      <th>963</th>\n",
       "      <td>1082595</td>\n",
       "      <td>M Chinnaswamy Stadium</td>\n",
       "      <td>1</td>\n",
       "      <td>0.4</td>\n",
       "      <td>SR Watson</td>\n",
       "      <td>CH Gayle</td>\n",
       "      <td>Z Khan</td>\n",
       "      <td>2017</td>\n",
       "    </tr>\n",
       "    <tr>\n",
       "      <th>964</th>\n",
       "      <td>1082595</td>\n",
       "      <td>M Chinnaswamy Stadium</td>\n",
       "      <td>1</td>\n",
       "      <td>0.5</td>\n",
       "      <td>SR Watson</td>\n",
       "      <td>CH Gayle</td>\n",
       "      <td>Z Khan</td>\n",
       "      <td>2017</td>\n",
       "    </tr>\n",
       "  </tbody>\n",
       "</table>\n",
       "</div>"
      ],
      "text/plain": [
       "     match_id                  venue  innings  ball    striker non_striker  \\\n",
       "960   1082595  M Chinnaswamy Stadium        1   0.1   CH Gayle   SR Watson   \n",
       "961   1082595  M Chinnaswamy Stadium        1   0.2  SR Watson    CH Gayle   \n",
       "962   1082595  M Chinnaswamy Stadium        1   0.3  SR Watson    CH Gayle   \n",
       "963   1082595  M Chinnaswamy Stadium        1   0.4  SR Watson    CH Gayle   \n",
       "964   1082595  M Chinnaswamy Stadium        1   0.5  SR Watson    CH Gayle   \n",
       "\n",
       "     bowler  year  \n",
       "960  Z Khan  2017  \n",
       "961  Z Khan  2017  \n",
       "962  Z Khan  2017  \n",
       "963  Z Khan  2017  \n",
       "964  Z Khan  2017  "
      ]
     },
     "execution_count": 86,
     "metadata": {},
     "output_type": "execute_result"
    }
   ],
   "source": [
    "df.head()"
   ]
  },
  {
   "cell_type": "code",
   "execution_count": 87,
   "id": "cognitive-halifax",
   "metadata": {},
   "outputs": [],
   "source": [
    "#def trans(data):\n",
    "#    for i in data:\n",
    "#        for j in range(len(data[i])):\n",
    "#            le.fit_transform(data[i][j])"
   ]
  },
  {
   "cell_type": "code",
   "execution_count": 88,
   "id": "potential-fruit",
   "metadata": {},
   "outputs": [
    {
     "data": {
      "text/plain": [
       "1293"
      ]
     },
     "execution_count": 88,
     "metadata": {},
     "output_type": "execute_result"
    }
   ],
   "source": [
    "#trans(concat_data['batsmen'])\n",
    "len(concat_data)"
   ]
  },
  {
   "cell_type": "code",
   "execution_count": 89,
   "id": "strange-olympus",
   "metadata": {},
   "outputs": [
    {
     "data": {
      "text/plain": [
       "1293"
      ]
     },
     "execution_count": 89,
     "metadata": {},
     "output_type": "execute_result"
    }
   ],
   "source": [
    "#concat_data['batsmen'][0][0]\n",
    "len(concat_data['batsmen'])"
   ]
  },
  {
   "cell_type": "code",
   "execution_count": 90,
   "id": "varying-roads",
   "metadata": {},
   "outputs": [
    {
     "data": {
      "text/plain": [
       "batsmen          object\n",
       "bowlers          object\n",
       "total_runs      float64\n",
       "batting_team     object\n",
       "bowling_team     object\n",
       "venue            object\n",
       "dtype: object"
      ]
     },
     "execution_count": 90,
     "metadata": {},
     "output_type": "execute_result"
    }
   ],
   "source": [
    "concat_data.dtypes"
   ]
  },
  {
   "cell_type": "code",
   "execution_count": 91,
   "id": "postal-corner",
   "metadata": {},
   "outputs": [],
   "source": [
    "#for i in range(len(concat_data['batsmen'])):\n",
    "#    concat_data['batsmen'][i] = ','.join(concat_data['batsmen'][i])"
   ]
  },
  {
   "cell_type": "code",
   "execution_count": 92,
   "id": "purple-crest",
   "metadata": {},
   "outputs": [],
   "source": [
    "#for i in range(len(concat_data['bowlers'])):\n",
    "#    concat_data['bowlers'][i] = ','.join(concat_data['bowlers'][i])"
   ]
  },
  {
   "cell_type": "code",
   "execution_count": 93,
   "id": "alpha-hobby",
   "metadata": {},
   "outputs": [
    {
     "data": {
      "text/html": [
       "<div>\n",
       "<style scoped>\n",
       "    .dataframe tbody tr th:only-of-type {\n",
       "        vertical-align: middle;\n",
       "    }\n",
       "\n",
       "    .dataframe tbody tr th {\n",
       "        vertical-align: top;\n",
       "    }\n",
       "\n",
       "    .dataframe thead th {\n",
       "        text-align: right;\n",
       "    }\n",
       "</style>\n",
       "<table border=\"1\" class=\"dataframe\">\n",
       "  <thead>\n",
       "    <tr style=\"text-align: right;\">\n",
       "      <th></th>\n",
       "      <th></th>\n",
       "      <th>batsmen</th>\n",
       "      <th>bowlers</th>\n",
       "      <th>total_runs</th>\n",
       "      <th>batting_team</th>\n",
       "      <th>bowling_team</th>\n",
       "      <th>venue</th>\n",
       "    </tr>\n",
       "    <tr>\n",
       "      <th>match_id</th>\n",
       "      <th>innings</th>\n",
       "      <th></th>\n",
       "      <th></th>\n",
       "      <th></th>\n",
       "      <th></th>\n",
       "      <th></th>\n",
       "      <th></th>\n",
       "    </tr>\n",
       "  </thead>\n",
       "  <tbody>\n",
       "    <tr>\n",
       "      <th rowspan=\"2\" valign=\"top\">335982</th>\n",
       "      <th>1</th>\n",
       "      <td>[BB McCullum, DJ Hussey, Mohammad Hafeez, RT P...</td>\n",
       "      <td>[AA Noffke, CL White, JH Kallis, P Kumar, SB J...</td>\n",
       "      <td>67.0</td>\n",
       "      <td>Kolkata Knight Riders</td>\n",
       "      <td>Royal Challengers Bangalore</td>\n",
       "      <td>M Chinnaswamy Stadium</td>\n",
       "    </tr>\n",
       "    <tr>\n",
       "      <th>2</th>\n",
       "      <td>[AA Noffke, B Akhil, CL White, JH Kallis, MV B...</td>\n",
       "      <td>[AB Agarkar, AB Dinda, I Sharma, LR Shukla, SC...</td>\n",
       "      <td>28.0</td>\n",
       "      <td>Royal Challengers Bangalore</td>\n",
       "      <td>Kolkata Knight Riders</td>\n",
       "      <td>M Chinnaswamy Stadium</td>\n",
       "    </tr>\n",
       "    <tr>\n",
       "      <th rowspan=\"2\" valign=\"top\">335983</th>\n",
       "      <th>1</th>\n",
       "      <td>[JDP Oram, MEK Hussey, ML Hayden, MS Dhoni, PA...</td>\n",
       "      <td>[B Lee, IK Pathan, JR Hopes, K Goel, PP Chawla...</td>\n",
       "      <td>NaN</td>\n",
       "      <td>NaN</td>\n",
       "      <td>NaN</td>\n",
       "      <td>NaN</td>\n",
       "    </tr>\n",
       "    <tr>\n",
       "      <th>2</th>\n",
       "      <td>[IK Pathan, JR Hopes, K Goel, KC Sangakkara, S...</td>\n",
       "      <td>[JDP Oram, Joginder Sharma, M Muralitharan, MS...</td>\n",
       "      <td>NaN</td>\n",
       "      <td>NaN</td>\n",
       "      <td>NaN</td>\n",
       "      <td>NaN</td>\n",
       "    </tr>\n",
       "    <tr>\n",
       "      <th>335984</th>\n",
       "      <th>1</th>\n",
       "      <td>[D Salunkhe, DS Lehmann, M Kaif, M Rawat, RA J...</td>\n",
       "      <td>[B Geeves, DL Vettori, GD McGrath, MF Maharoof...</td>\n",
       "      <td>NaN</td>\n",
       "      <td>NaN</td>\n",
       "      <td>NaN</td>\n",
       "      <td>NaN</td>\n",
       "    </tr>\n",
       "  </tbody>\n",
       "</table>\n",
       "</div>"
      ],
      "text/plain": [
       "                                                            batsmen  \\\n",
       "match_id innings                                                      \n",
       "335982   1        [BB McCullum, DJ Hussey, Mohammad Hafeez, RT P...   \n",
       "         2        [AA Noffke, B Akhil, CL White, JH Kallis, MV B...   \n",
       "335983   1        [JDP Oram, MEK Hussey, ML Hayden, MS Dhoni, PA...   \n",
       "         2        [IK Pathan, JR Hopes, K Goel, KC Sangakkara, S...   \n",
       "335984   1        [D Salunkhe, DS Lehmann, M Kaif, M Rawat, RA J...   \n",
       "\n",
       "                                                            bowlers  \\\n",
       "match_id innings                                                      \n",
       "335982   1        [AA Noffke, CL White, JH Kallis, P Kumar, SB J...   \n",
       "         2        [AB Agarkar, AB Dinda, I Sharma, LR Shukla, SC...   \n",
       "335983   1        [B Lee, IK Pathan, JR Hopes, K Goel, PP Chawla...   \n",
       "         2        [JDP Oram, Joginder Sharma, M Muralitharan, MS...   \n",
       "335984   1        [B Geeves, DL Vettori, GD McGrath, MF Maharoof...   \n",
       "\n",
       "                  total_runs                 batting_team  \\\n",
       "match_id innings                                            \n",
       "335982   1              67.0        Kolkata Knight Riders   \n",
       "         2              28.0  Royal Challengers Bangalore   \n",
       "335983   1               NaN                          NaN   \n",
       "         2               NaN                          NaN   \n",
       "335984   1               NaN                          NaN   \n",
       "\n",
       "                                 bowling_team                  venue  \n",
       "match_id innings                                                      \n",
       "335982   1        Royal Challengers Bangalore  M Chinnaswamy Stadium  \n",
       "         2              Kolkata Knight Riders  M Chinnaswamy Stadium  \n",
       "335983   1                                NaN                    NaN  \n",
       "         2                                NaN                    NaN  \n",
       "335984   1                                NaN                    NaN  "
      ]
     },
     "execution_count": 93,
     "metadata": {},
     "output_type": "execute_result"
    }
   ],
   "source": [
    "concat_data.head()"
   ]
  },
  {
   "cell_type": "code",
   "execution_count": 94,
   "id": "published-purchase",
   "metadata": {},
   "outputs": [
    {
     "data": {
      "text/plain": [
       "['BB McCullum', 'DJ Hussey', 'Mohammad Hafeez', 'RT Ponting', 'SC Ganguly']"
      ]
     },
     "execution_count": 94,
     "metadata": {},
     "output_type": "execute_result"
    }
   ],
   "source": [
    "concat_data['batsmen'][0]"
   ]
  },
  {
   "cell_type": "code",
   "execution_count": 95,
   "id": "handled-leeds",
   "metadata": {},
   "outputs": [],
   "source": [
    "#len(concat_data['batsmen'].unique())"
   ]
  },
  {
   "cell_type": "code",
   "execution_count": 96,
   "id": "solved-fusion",
   "metadata": {},
   "outputs": [],
   "source": [
    "concat_data = concat_data[concat_data['total_runs'].notna()]"
   ]
  },
  {
   "cell_type": "code",
   "execution_count": null,
   "id": "inclusive-student",
   "metadata": {},
   "outputs": [],
   "source": []
  },
  {
   "cell_type": "code",
   "execution_count": 97,
   "id": "sixth-journalist",
   "metadata": {},
   "outputs": [
    {
     "data": {
      "text/html": [
       "<div>\n",
       "<style scoped>\n",
       "    .dataframe tbody tr th:only-of-type {\n",
       "        vertical-align: middle;\n",
       "    }\n",
       "\n",
       "    .dataframe tbody tr th {\n",
       "        vertical-align: top;\n",
       "    }\n",
       "\n",
       "    .dataframe thead th {\n",
       "        text-align: right;\n",
       "    }\n",
       "</style>\n",
       "<table border=\"1\" class=\"dataframe\">\n",
       "  <thead>\n",
       "    <tr style=\"text-align: right;\">\n",
       "      <th></th>\n",
       "      <th></th>\n",
       "      <th>batsmen</th>\n",
       "      <th>bowlers</th>\n",
       "      <th>total_runs</th>\n",
       "      <th>batting_team</th>\n",
       "      <th>bowling_team</th>\n",
       "      <th>venue</th>\n",
       "    </tr>\n",
       "    <tr>\n",
       "      <th>match_id</th>\n",
       "      <th>innings</th>\n",
       "      <th></th>\n",
       "      <th></th>\n",
       "      <th></th>\n",
       "      <th></th>\n",
       "      <th></th>\n",
       "      <th></th>\n",
       "    </tr>\n",
       "  </thead>\n",
       "  <tbody>\n",
       "    <tr>\n",
       "      <th rowspan=\"2\" valign=\"top\">335982</th>\n",
       "      <th>1</th>\n",
       "      <td>[BB McCullum, DJ Hussey, Mohammad Hafeez, RT P...</td>\n",
       "      <td>[AA Noffke, CL White, JH Kallis, P Kumar, SB J...</td>\n",
       "      <td>67.0</td>\n",
       "      <td>Kolkata Knight Riders</td>\n",
       "      <td>Royal Challengers Bangalore</td>\n",
       "      <td>M Chinnaswamy Stadium</td>\n",
       "    </tr>\n",
       "    <tr>\n",
       "      <th>2</th>\n",
       "      <td>[AA Noffke, B Akhil, CL White, JH Kallis, MV B...</td>\n",
       "      <td>[AB Agarkar, AB Dinda, I Sharma, LR Shukla, SC...</td>\n",
       "      <td>28.0</td>\n",
       "      <td>Royal Challengers Bangalore</td>\n",
       "      <td>Kolkata Knight Riders</td>\n",
       "      <td>M Chinnaswamy Stadium</td>\n",
       "    </tr>\n",
       "    <tr>\n",
       "      <th rowspan=\"2\" valign=\"top\">335989</th>\n",
       "      <th>1</th>\n",
       "      <td>[JDP Oram, MEK Hussey, ML Hayden, MS Dhoni, PA...</td>\n",
       "      <td>[A Nehra, AM Nayar, DJ Bravo, DS Kulkarni, Har...</td>\n",
       "      <td>60.0</td>\n",
       "      <td>Chennai Super Kings</td>\n",
       "      <td>Mumbai Indians</td>\n",
       "      <td>MA Chidambaram Stadium</td>\n",
       "    </tr>\n",
       "    <tr>\n",
       "      <th>2</th>\n",
       "      <td>[A Nehra, AM Nayar, DJ Bravo, Harbhajan Singh,...</td>\n",
       "      <td>[JDP Oram, Joginder Sharma, M Muralitharan, MS...</td>\n",
       "      <td>54.0</td>\n",
       "      <td>Mumbai Indians</td>\n",
       "      <td>Chennai Super Kings</td>\n",
       "      <td>MA Chidambaram Stadium</td>\n",
       "    </tr>\n",
       "    <tr>\n",
       "      <th rowspan=\"2\" valign=\"top\">335992</th>\n",
       "      <th>1</th>\n",
       "      <td>[JH Kallis, LRPL Taylor, MV Boucher, P Kumar, ...</td>\n",
       "      <td>[MM Patel, SK Trivedi, SK Warne, SR Watson, So...</td>\n",
       "      <td>58.0</td>\n",
       "      <td>Royal Challengers Bangalore</td>\n",
       "      <td>Rajasthan Royals</td>\n",
       "      <td>M Chinnaswamy Stadium</td>\n",
       "    </tr>\n",
       "    <tr>\n",
       "      <th>2</th>\n",
       "      <td>[GC Smith, M Kaif, M Rawat, SR Watson, YK Pathan]</td>\n",
       "      <td>[A Kumble, JH Kallis, P Kumar, R Vinay Kumar, ...</td>\n",
       "      <td>46.0</td>\n",
       "      <td>Rajasthan Royals</td>\n",
       "      <td>Royal Challengers Bangalore</td>\n",
       "      <td>M Chinnaswamy Stadium</td>\n",
       "    </tr>\n",
       "    <tr>\n",
       "      <th rowspan=\"2\" valign=\"top\">335993</th>\n",
       "      <th>1</th>\n",
       "      <td>[AB Agarkar, AB Dinda, BB McCullum, DJ Hussey,...</td>\n",
       "      <td>[JDP Oram, Joginder Sharma, M Muralitharan, MS...</td>\n",
       "      <td>62.0</td>\n",
       "      <td>Kolkata Knight Riders</td>\n",
       "      <td>Chennai Super Kings</td>\n",
       "      <td>MA Chidambaram Stadium</td>\n",
       "    </tr>\n",
       "    <tr>\n",
       "      <th>2</th>\n",
       "      <td>[ML Hayden, MS Dhoni, PA Patel]</td>\n",
       "      <td>[AB Agarkar, AB Dinda, DJ Hussey, I Sharma, LR...</td>\n",
       "      <td>52.0</td>\n",
       "      <td>Chennai Super Kings</td>\n",
       "      <td>Kolkata Knight Riders</td>\n",
       "      <td>MA Chidambaram Stadium</td>\n",
       "    </tr>\n",
       "    <tr>\n",
       "      <th rowspan=\"2\" valign=\"top\">335996</th>\n",
       "      <th>1</th>\n",
       "      <td>[JDP Oram, MEK Hussey, ML Hayden, MS Dhoni, PA...</td>\n",
       "      <td>[B Akhil, DW Steyn, JH Kallis, P Kumar, Z Khan]</td>\n",
       "      <td>38.0</td>\n",
       "      <td>Chennai Super Kings</td>\n",
       "      <td>Royal Challengers Bangalore</td>\n",
       "      <td>M Chinnaswamy Stadium</td>\n",
       "    </tr>\n",
       "    <tr>\n",
       "      <th>2</th>\n",
       "      <td>[B Akhil, B Chipli, DW Steyn, JH Kallis, LRPL ...</td>\n",
       "      <td>[JA Morkel, JDP Oram, Joginder Sharma, MS Gony...</td>\n",
       "      <td>47.0</td>\n",
       "      <td>Royal Challengers Bangalore</td>\n",
       "      <td>Chennai Super Kings</td>\n",
       "      <td>M Chinnaswamy Stadium</td>\n",
       "    </tr>\n",
       "  </tbody>\n",
       "</table>\n",
       "</div>"
      ],
      "text/plain": [
       "                                                            batsmen  \\\n",
       "match_id innings                                                      \n",
       "335982   1        [BB McCullum, DJ Hussey, Mohammad Hafeez, RT P...   \n",
       "         2        [AA Noffke, B Akhil, CL White, JH Kallis, MV B...   \n",
       "335989   1        [JDP Oram, MEK Hussey, ML Hayden, MS Dhoni, PA...   \n",
       "         2        [A Nehra, AM Nayar, DJ Bravo, Harbhajan Singh,...   \n",
       "335992   1        [JH Kallis, LRPL Taylor, MV Boucher, P Kumar, ...   \n",
       "         2        [GC Smith, M Kaif, M Rawat, SR Watson, YK Pathan]   \n",
       "335993   1        [AB Agarkar, AB Dinda, BB McCullum, DJ Hussey,...   \n",
       "         2                          [ML Hayden, MS Dhoni, PA Patel]   \n",
       "335996   1        [JDP Oram, MEK Hussey, ML Hayden, MS Dhoni, PA...   \n",
       "         2        [B Akhil, B Chipli, DW Steyn, JH Kallis, LRPL ...   \n",
       "\n",
       "                                                            bowlers  \\\n",
       "match_id innings                                                      \n",
       "335982   1        [AA Noffke, CL White, JH Kallis, P Kumar, SB J...   \n",
       "         2        [AB Agarkar, AB Dinda, I Sharma, LR Shukla, SC...   \n",
       "335989   1        [A Nehra, AM Nayar, DJ Bravo, DS Kulkarni, Har...   \n",
       "         2        [JDP Oram, Joginder Sharma, M Muralitharan, MS...   \n",
       "335992   1        [MM Patel, SK Trivedi, SK Warne, SR Watson, So...   \n",
       "         2        [A Kumble, JH Kallis, P Kumar, R Vinay Kumar, ...   \n",
       "335993   1        [JDP Oram, Joginder Sharma, M Muralitharan, MS...   \n",
       "         2        [AB Agarkar, AB Dinda, DJ Hussey, I Sharma, LR...   \n",
       "335996   1          [B Akhil, DW Steyn, JH Kallis, P Kumar, Z Khan]   \n",
       "         2        [JA Morkel, JDP Oram, Joginder Sharma, MS Gony...   \n",
       "\n",
       "                  total_runs                 batting_team  \\\n",
       "match_id innings                                            \n",
       "335982   1              67.0        Kolkata Knight Riders   \n",
       "         2              28.0  Royal Challengers Bangalore   \n",
       "335989   1              60.0          Chennai Super Kings   \n",
       "         2              54.0               Mumbai Indians   \n",
       "335992   1              58.0  Royal Challengers Bangalore   \n",
       "         2              46.0             Rajasthan Royals   \n",
       "335993   1              62.0        Kolkata Knight Riders   \n",
       "         2              52.0          Chennai Super Kings   \n",
       "335996   1              38.0          Chennai Super Kings   \n",
       "         2              47.0  Royal Challengers Bangalore   \n",
       "\n",
       "                                 bowling_team                   venue  \n",
       "match_id innings                                                       \n",
       "335982   1        Royal Challengers Bangalore   M Chinnaswamy Stadium  \n",
       "         2              Kolkata Knight Riders   M Chinnaswamy Stadium  \n",
       "335989   1                     Mumbai Indians  MA Chidambaram Stadium  \n",
       "         2                Chennai Super Kings  MA Chidambaram Stadium  \n",
       "335992   1                   Rajasthan Royals   M Chinnaswamy Stadium  \n",
       "         2        Royal Challengers Bangalore   M Chinnaswamy Stadium  \n",
       "335993   1                Chennai Super Kings  MA Chidambaram Stadium  \n",
       "         2              Kolkata Knight Riders  MA Chidambaram Stadium  \n",
       "335996   1        Royal Challengers Bangalore   M Chinnaswamy Stadium  \n",
       "         2                Chennai Super Kings   M Chinnaswamy Stadium  "
      ]
     },
     "execution_count": 97,
     "metadata": {},
     "output_type": "execute_result"
    }
   ],
   "source": [
    "concat_data.head(10)"
   ]
  },
  {
   "cell_type": "code",
   "execution_count": 98,
   "id": "republican-aviation",
   "metadata": {},
   "outputs": [
    {
     "name": "stdout",
     "output_type": "stream",
     "text": [
      "11\n"
     ]
    }
   ],
   "source": [
    "clen=4\n",
    "for i in concat_data['batsmen']:\n",
    "    if len(i)==11:\n",
    "        clen=len(i)\n",
    "print(clen)"
   ]
  },
  {
   "cell_type": "code",
   "execution_count": 99,
   "id": "indian-harvey",
   "metadata": {},
   "outputs": [
    {
     "data": {
      "text/plain": [
       "'DJ Hussey'"
      ]
     },
     "execution_count": 99,
     "metadata": {},
     "output_type": "execute_result"
    }
   ],
   "source": [
    "concat_data['batsmen'][0][1]"
   ]
  },
  {
   "cell_type": "code",
   "execution_count": null,
   "id": "coated-player",
   "metadata": {},
   "outputs": [],
   "source": []
  },
  {
   "cell_type": "code",
   "execution_count": 100,
   "id": "labeled-polyester",
   "metadata": {},
   "outputs": [],
   "source": [
    "#"
   ]
  },
  {
   "cell_type": "code",
   "execution_count": 101,
   "id": "upper-debut",
   "metadata": {},
   "outputs": [],
   "source": [
    "concat_data = concat_data.join(pd.DataFrame(concat_data.batsmen.values.tolist(), concat_data.index).add_prefix('batsmen'))"
   ]
  },
  {
   "cell_type": "code",
   "execution_count": 102,
   "id": "through-morning",
   "metadata": {},
   "outputs": [
    {
     "data": {
      "text/html": [
       "<div>\n",
       "<style scoped>\n",
       "    .dataframe tbody tr th:only-of-type {\n",
       "        vertical-align: middle;\n",
       "    }\n",
       "\n",
       "    .dataframe tbody tr th {\n",
       "        vertical-align: top;\n",
       "    }\n",
       "\n",
       "    .dataframe thead th {\n",
       "        text-align: right;\n",
       "    }\n",
       "</style>\n",
       "<table border=\"1\" class=\"dataframe\">\n",
       "  <thead>\n",
       "    <tr style=\"text-align: right;\">\n",
       "      <th></th>\n",
       "      <th></th>\n",
       "      <th>batsmen</th>\n",
       "      <th>bowlers</th>\n",
       "      <th>total_runs</th>\n",
       "      <th>batting_team</th>\n",
       "      <th>bowling_team</th>\n",
       "      <th>venue</th>\n",
       "      <th>batsmen0</th>\n",
       "      <th>batsmen1</th>\n",
       "      <th>batsmen2</th>\n",
       "      <th>batsmen3</th>\n",
       "      <th>batsmen4</th>\n",
       "      <th>batsmen5</th>\n",
       "      <th>batsmen6</th>\n",
       "      <th>batsmen7</th>\n",
       "      <th>batsmen8</th>\n",
       "      <th>batsmen9</th>\n",
       "      <th>batsmen10</th>\n",
       "    </tr>\n",
       "    <tr>\n",
       "      <th>match_id</th>\n",
       "      <th>innings</th>\n",
       "      <th></th>\n",
       "      <th></th>\n",
       "      <th></th>\n",
       "      <th></th>\n",
       "      <th></th>\n",
       "      <th></th>\n",
       "      <th></th>\n",
       "      <th></th>\n",
       "      <th></th>\n",
       "      <th></th>\n",
       "      <th></th>\n",
       "      <th></th>\n",
       "      <th></th>\n",
       "      <th></th>\n",
       "      <th></th>\n",
       "      <th></th>\n",
       "      <th></th>\n",
       "    </tr>\n",
       "  </thead>\n",
       "  <tbody>\n",
       "    <tr>\n",
       "      <th rowspan=\"2\" valign=\"top\">335982</th>\n",
       "      <th>1</th>\n",
       "      <td>[BB McCullum, DJ Hussey, Mohammad Hafeez, RT P...</td>\n",
       "      <td>[AA Noffke, CL White, JH Kallis, P Kumar, SB J...</td>\n",
       "      <td>67.0</td>\n",
       "      <td>Kolkata Knight Riders</td>\n",
       "      <td>Royal Challengers Bangalore</td>\n",
       "      <td>M Chinnaswamy Stadium</td>\n",
       "      <td>BB McCullum</td>\n",
       "      <td>DJ Hussey</td>\n",
       "      <td>Mohammad Hafeez</td>\n",
       "      <td>RT Ponting</td>\n",
       "      <td>SC Ganguly</td>\n",
       "      <td>None</td>\n",
       "      <td>None</td>\n",
       "      <td>None</td>\n",
       "      <td>None</td>\n",
       "      <td>None</td>\n",
       "      <td>None</td>\n",
       "    </tr>\n",
       "    <tr>\n",
       "      <th>2</th>\n",
       "      <td>[AA Noffke, B Akhil, CL White, JH Kallis, MV B...</td>\n",
       "      <td>[AB Agarkar, AB Dinda, I Sharma, LR Shukla, SC...</td>\n",
       "      <td>28.0</td>\n",
       "      <td>Royal Challengers Bangalore</td>\n",
       "      <td>Kolkata Knight Riders</td>\n",
       "      <td>M Chinnaswamy Stadium</td>\n",
       "      <td>AA Noffke</td>\n",
       "      <td>B Akhil</td>\n",
       "      <td>CL White</td>\n",
       "      <td>JH Kallis</td>\n",
       "      <td>MV Boucher</td>\n",
       "      <td>P Kumar</td>\n",
       "      <td>R Dravid</td>\n",
       "      <td>SB Joshi</td>\n",
       "      <td>V Kohli</td>\n",
       "      <td>W Jaffer</td>\n",
       "      <td>Z Khan</td>\n",
       "    </tr>\n",
       "    <tr>\n",
       "      <th rowspan=\"2\" valign=\"top\">335989</th>\n",
       "      <th>1</th>\n",
       "      <td>[JDP Oram, MEK Hussey, ML Hayden, MS Dhoni, PA...</td>\n",
       "      <td>[A Nehra, AM Nayar, DJ Bravo, DS Kulkarni, Har...</td>\n",
       "      <td>60.0</td>\n",
       "      <td>Chennai Super Kings</td>\n",
       "      <td>Mumbai Indians</td>\n",
       "      <td>MA Chidambaram Stadium</td>\n",
       "      <td>JDP Oram</td>\n",
       "      <td>MEK Hussey</td>\n",
       "      <td>ML Hayden</td>\n",
       "      <td>MS Dhoni</td>\n",
       "      <td>PA Patel</td>\n",
       "      <td>S Badrinath</td>\n",
       "      <td>SK Raina</td>\n",
       "      <td>None</td>\n",
       "      <td>None</td>\n",
       "      <td>None</td>\n",
       "      <td>None</td>\n",
       "    </tr>\n",
       "    <tr>\n",
       "      <th>2</th>\n",
       "      <td>[A Nehra, AM Nayar, DJ Bravo, Harbhajan Singh,...</td>\n",
       "      <td>[JDP Oram, Joginder Sharma, M Muralitharan, MS...</td>\n",
       "      <td>54.0</td>\n",
       "      <td>Mumbai Indians</td>\n",
       "      <td>Chennai Super Kings</td>\n",
       "      <td>MA Chidambaram Stadium</td>\n",
       "      <td>A Nehra</td>\n",
       "      <td>AM Nayar</td>\n",
       "      <td>DJ Bravo</td>\n",
       "      <td>Harbhajan Singh</td>\n",
       "      <td>L Ronchi</td>\n",
       "      <td>MA Khote</td>\n",
       "      <td>RV Uthappa</td>\n",
       "      <td>SM Pollock</td>\n",
       "      <td>ST Jayasuriya</td>\n",
       "      <td>None</td>\n",
       "      <td>None</td>\n",
       "    </tr>\n",
       "    <tr>\n",
       "      <th>335992</th>\n",
       "      <th>1</th>\n",
       "      <td>[JH Kallis, LRPL Taylor, MV Boucher, P Kumar, ...</td>\n",
       "      <td>[MM Patel, SK Trivedi, SK Warne, SR Watson, So...</td>\n",
       "      <td>58.0</td>\n",
       "      <td>Royal Challengers Bangalore</td>\n",
       "      <td>Rajasthan Royals</td>\n",
       "      <td>M Chinnaswamy Stadium</td>\n",
       "      <td>JH Kallis</td>\n",
       "      <td>LRPL Taylor</td>\n",
       "      <td>MV Boucher</td>\n",
       "      <td>P Kumar</td>\n",
       "      <td>R Dravid</td>\n",
       "      <td>R Vinay Kumar</td>\n",
       "      <td>S Chanderpaul</td>\n",
       "      <td>SB Joshi</td>\n",
       "      <td>V Kohli</td>\n",
       "      <td>Z Khan</td>\n",
       "      <td>None</td>\n",
       "    </tr>\n",
       "  </tbody>\n",
       "</table>\n",
       "</div>"
      ],
      "text/plain": [
       "                                                            batsmen  \\\n",
       "match_id innings                                                      \n",
       "335982   1        [BB McCullum, DJ Hussey, Mohammad Hafeez, RT P...   \n",
       "         2        [AA Noffke, B Akhil, CL White, JH Kallis, MV B...   \n",
       "335989   1        [JDP Oram, MEK Hussey, ML Hayden, MS Dhoni, PA...   \n",
       "         2        [A Nehra, AM Nayar, DJ Bravo, Harbhajan Singh,...   \n",
       "335992   1        [JH Kallis, LRPL Taylor, MV Boucher, P Kumar, ...   \n",
       "\n",
       "                                                            bowlers  \\\n",
       "match_id innings                                                      \n",
       "335982   1        [AA Noffke, CL White, JH Kallis, P Kumar, SB J...   \n",
       "         2        [AB Agarkar, AB Dinda, I Sharma, LR Shukla, SC...   \n",
       "335989   1        [A Nehra, AM Nayar, DJ Bravo, DS Kulkarni, Har...   \n",
       "         2        [JDP Oram, Joginder Sharma, M Muralitharan, MS...   \n",
       "335992   1        [MM Patel, SK Trivedi, SK Warne, SR Watson, So...   \n",
       "\n",
       "                  total_runs                 batting_team  \\\n",
       "match_id innings                                            \n",
       "335982   1              67.0        Kolkata Knight Riders   \n",
       "         2              28.0  Royal Challengers Bangalore   \n",
       "335989   1              60.0          Chennai Super Kings   \n",
       "         2              54.0               Mumbai Indians   \n",
       "335992   1              58.0  Royal Challengers Bangalore   \n",
       "\n",
       "                                 bowling_team                   venue  \\\n",
       "match_id innings                                                        \n",
       "335982   1        Royal Challengers Bangalore   M Chinnaswamy Stadium   \n",
       "         2              Kolkata Knight Riders   M Chinnaswamy Stadium   \n",
       "335989   1                     Mumbai Indians  MA Chidambaram Stadium   \n",
       "         2                Chennai Super Kings  MA Chidambaram Stadium   \n",
       "335992   1                   Rajasthan Royals   M Chinnaswamy Stadium   \n",
       "\n",
       "                     batsmen0     batsmen1         batsmen2         batsmen3  \\\n",
       "match_id innings                                                               \n",
       "335982   1        BB McCullum    DJ Hussey  Mohammad Hafeez       RT Ponting   \n",
       "         2          AA Noffke      B Akhil         CL White        JH Kallis   \n",
       "335989   1           JDP Oram   MEK Hussey        ML Hayden         MS Dhoni   \n",
       "         2            A Nehra     AM Nayar         DJ Bravo  Harbhajan Singh   \n",
       "335992   1          JH Kallis  LRPL Taylor       MV Boucher          P Kumar   \n",
       "\n",
       "                    batsmen4       batsmen5       batsmen6    batsmen7  \\\n",
       "match_id innings                                                         \n",
       "335982   1        SC Ganguly           None           None        None   \n",
       "         2        MV Boucher        P Kumar       R Dravid    SB Joshi   \n",
       "335989   1          PA Patel    S Badrinath       SK Raina        None   \n",
       "         2          L Ronchi       MA Khote     RV Uthappa  SM Pollock   \n",
       "335992   1          R Dravid  R Vinay Kumar  S Chanderpaul    SB Joshi   \n",
       "\n",
       "                       batsmen8  batsmen9 batsmen10  \n",
       "match_id innings                                     \n",
       "335982   1                 None      None      None  \n",
       "         2              V Kohli  W Jaffer    Z Khan  \n",
       "335989   1                 None      None      None  \n",
       "         2        ST Jayasuriya      None      None  \n",
       "335992   1              V Kohli    Z Khan      None  "
      ]
     },
     "execution_count": 102,
     "metadata": {},
     "output_type": "execute_result"
    }
   ],
   "source": [
    "concat_data.head()"
   ]
  },
  {
   "cell_type": "code",
   "execution_count": 103,
   "id": "tutorial-correction",
   "metadata": {},
   "outputs": [],
   "source": [
    "bat = pd.concat([df['striker'], df['non_striker']]).unique()"
   ]
  },
  {
   "cell_type": "code",
   "execution_count": 104,
   "id": "manual-resolution",
   "metadata": {},
   "outputs": [],
   "source": [
    "from sklearn.preprocessing import LabelEncoder"
   ]
  },
  {
   "cell_type": "code",
   "execution_count": 105,
   "id": "objective-sentence",
   "metadata": {},
   "outputs": [],
   "source": [
    "encoder = LabelEncoder()"
   ]
  },
  {
   "cell_type": "code",
   "execution_count": 106,
   "id": "occupied-hepatitis",
   "metadata": {},
   "outputs": [
    {
     "data": {
      "text/plain": [
       "LabelEncoder()"
      ]
     },
     "execution_count": 106,
     "metadata": {},
     "output_type": "execute_result"
    }
   ],
   "source": [
    "encoder.fit(bat)"
   ]
  },
  {
   "cell_type": "code",
   "execution_count": 107,
   "id": "delayed-optimum",
   "metadata": {},
   "outputs": [
    {
     "ename": "ValueError",
     "evalue": "y contains previously unseen labels: 'AA Noffke'",
     "output_type": "error",
     "traceback": [
      "\u001b[1;31m---------------------------------------------------------------------------\u001b[0m",
      "\u001b[1;31mKeyError\u001b[0m                                  Traceback (most recent call last)",
      "\u001b[1;32m~\\Anaconda3\\lib\\site-packages\\sklearn\\preprocessing\\label.py\u001b[0m in \u001b[0;36m_encode_python\u001b[1;34m(values, uniques, encode)\u001b[0m\n\u001b[0;32m     63\u001b[0m         \u001b[1;32mtry\u001b[0m\u001b[1;33m:\u001b[0m\u001b[1;33m\u001b[0m\u001b[1;33m\u001b[0m\u001b[0m\n\u001b[1;32m---> 64\u001b[1;33m             \u001b[0mencoded\u001b[0m \u001b[1;33m=\u001b[0m \u001b[0mnp\u001b[0m\u001b[1;33m.\u001b[0m\u001b[0marray\u001b[0m\u001b[1;33m(\u001b[0m\u001b[1;33m[\u001b[0m\u001b[0mtable\u001b[0m\u001b[1;33m[\u001b[0m\u001b[0mv\u001b[0m\u001b[1;33m]\u001b[0m \u001b[1;32mfor\u001b[0m \u001b[0mv\u001b[0m \u001b[1;32min\u001b[0m \u001b[0mvalues\u001b[0m\u001b[1;33m]\u001b[0m\u001b[1;33m)\u001b[0m\u001b[1;33m\u001b[0m\u001b[1;33m\u001b[0m\u001b[0m\n\u001b[0m\u001b[0;32m     65\u001b[0m         \u001b[1;32mexcept\u001b[0m \u001b[0mKeyError\u001b[0m \u001b[1;32mas\u001b[0m \u001b[0me\u001b[0m\u001b[1;33m:\u001b[0m\u001b[1;33m\u001b[0m\u001b[1;33m\u001b[0m\u001b[0m\n",
      "\u001b[1;32m~\\Anaconda3\\lib\\site-packages\\sklearn\\preprocessing\\label.py\u001b[0m in \u001b[0;36m<listcomp>\u001b[1;34m(.0)\u001b[0m\n\u001b[0;32m     63\u001b[0m         \u001b[1;32mtry\u001b[0m\u001b[1;33m:\u001b[0m\u001b[1;33m\u001b[0m\u001b[1;33m\u001b[0m\u001b[0m\n\u001b[1;32m---> 64\u001b[1;33m             \u001b[0mencoded\u001b[0m \u001b[1;33m=\u001b[0m \u001b[0mnp\u001b[0m\u001b[1;33m.\u001b[0m\u001b[0marray\u001b[0m\u001b[1;33m(\u001b[0m\u001b[1;33m[\u001b[0m\u001b[0mtable\u001b[0m\u001b[1;33m[\u001b[0m\u001b[0mv\u001b[0m\u001b[1;33m]\u001b[0m \u001b[1;32mfor\u001b[0m \u001b[0mv\u001b[0m \u001b[1;32min\u001b[0m \u001b[0mvalues\u001b[0m\u001b[1;33m]\u001b[0m\u001b[1;33m)\u001b[0m\u001b[1;33m\u001b[0m\u001b[1;33m\u001b[0m\u001b[0m\n\u001b[0m\u001b[0;32m     65\u001b[0m         \u001b[1;32mexcept\u001b[0m \u001b[0mKeyError\u001b[0m \u001b[1;32mas\u001b[0m \u001b[0me\u001b[0m\u001b[1;33m:\u001b[0m\u001b[1;33m\u001b[0m\u001b[1;33m\u001b[0m\u001b[0m\n",
      "\u001b[1;31mKeyError\u001b[0m: 'AA Noffke'",
      "\nDuring handling of the above exception, another exception occurred:\n",
      "\u001b[1;31mValueError\u001b[0m                                Traceback (most recent call last)",
      "\u001b[1;32m<ipython-input-107-213f1ce00b3c>\u001b[0m in \u001b[0;36m<module>\u001b[1;34m\u001b[0m\n\u001b[1;32m----> 1\u001b[1;33m \u001b[0mconcat_data\u001b[0m\u001b[1;33m[\u001b[0m\u001b[1;34m'batsmen0'\u001b[0m\u001b[1;33m]\u001b[0m \u001b[1;33m=\u001b[0m \u001b[0mencoder\u001b[0m\u001b[1;33m.\u001b[0m\u001b[0mtransform\u001b[0m\u001b[1;33m(\u001b[0m\u001b[0mconcat_data\u001b[0m\u001b[1;33m[\u001b[0m\u001b[1;34m'batsmen0'\u001b[0m\u001b[1;33m]\u001b[0m\u001b[1;33m)\u001b[0m\u001b[1;33m\u001b[0m\u001b[1;33m\u001b[0m\u001b[0m\n\u001b[0m\u001b[0;32m      2\u001b[0m \u001b[0mconcat_data\u001b[0m\u001b[1;33m[\u001b[0m\u001b[1;34m'batsmen0'\u001b[0m\u001b[1;33m]\u001b[0m \u001b[1;33m=\u001b[0m \u001b[0mencoder\u001b[0m\u001b[1;33m.\u001b[0m\u001b[0mtransform\u001b[0m\u001b[1;33m(\u001b[0m\u001b[0mconcat_data\u001b[0m\u001b[1;33m[\u001b[0m\u001b[1;34m'batsmen0'\u001b[0m\u001b[1;33m]\u001b[0m\u001b[1;33m)\u001b[0m\u001b[1;33m\u001b[0m\u001b[1;33m\u001b[0m\u001b[0m\n\u001b[0;32m      3\u001b[0m \u001b[0mconcat_data\u001b[0m\u001b[1;33m[\u001b[0m\u001b[1;34m'batsmen0'\u001b[0m\u001b[1;33m]\u001b[0m \u001b[1;33m=\u001b[0m \u001b[0mencoder\u001b[0m\u001b[1;33m.\u001b[0m\u001b[0mtransform\u001b[0m\u001b[1;33m(\u001b[0m\u001b[0mconcat_data\u001b[0m\u001b[1;33m[\u001b[0m\u001b[1;34m'batsmen0'\u001b[0m\u001b[1;33m]\u001b[0m\u001b[1;33m)\u001b[0m\u001b[1;33m\u001b[0m\u001b[1;33m\u001b[0m\u001b[0m\n\u001b[0;32m      4\u001b[0m \u001b[0mconcat_data\u001b[0m\u001b[1;33m[\u001b[0m\u001b[1;34m'batsmen0'\u001b[0m\u001b[1;33m]\u001b[0m \u001b[1;33m=\u001b[0m \u001b[0mencoder\u001b[0m\u001b[1;33m.\u001b[0m\u001b[0mtransform\u001b[0m\u001b[1;33m(\u001b[0m\u001b[0mconcat_data\u001b[0m\u001b[1;33m[\u001b[0m\u001b[1;34m'batsmen0'\u001b[0m\u001b[1;33m]\u001b[0m\u001b[1;33m)\u001b[0m\u001b[1;33m\u001b[0m\u001b[1;33m\u001b[0m\u001b[0m\n",
      "\u001b[1;32m~\\Anaconda3\\lib\\site-packages\\sklearn\\preprocessing\\label.py\u001b[0m in \u001b[0;36mtransform\u001b[1;34m(self, y)\u001b[0m\n\u001b[0;32m    255\u001b[0m             \u001b[1;32mreturn\u001b[0m \u001b[0mnp\u001b[0m\u001b[1;33m.\u001b[0m\u001b[0marray\u001b[0m\u001b[1;33m(\u001b[0m\u001b[1;33m[\u001b[0m\u001b[1;33m]\u001b[0m\u001b[1;33m)\u001b[0m\u001b[1;33m\u001b[0m\u001b[1;33m\u001b[0m\u001b[0m\n\u001b[0;32m    256\u001b[0m \u001b[1;33m\u001b[0m\u001b[0m\n\u001b[1;32m--> 257\u001b[1;33m         \u001b[0m_\u001b[0m\u001b[1;33m,\u001b[0m \u001b[0my\u001b[0m \u001b[1;33m=\u001b[0m \u001b[0m_encode\u001b[0m\u001b[1;33m(\u001b[0m\u001b[0my\u001b[0m\u001b[1;33m,\u001b[0m \u001b[0muniques\u001b[0m\u001b[1;33m=\u001b[0m\u001b[0mself\u001b[0m\u001b[1;33m.\u001b[0m\u001b[0mclasses_\u001b[0m\u001b[1;33m,\u001b[0m \u001b[0mencode\u001b[0m\u001b[1;33m=\u001b[0m\u001b[1;32mTrue\u001b[0m\u001b[1;33m)\u001b[0m\u001b[1;33m\u001b[0m\u001b[1;33m\u001b[0m\u001b[0m\n\u001b[0m\u001b[0;32m    258\u001b[0m         \u001b[1;32mreturn\u001b[0m \u001b[0my\u001b[0m\u001b[1;33m\u001b[0m\u001b[1;33m\u001b[0m\u001b[0m\n\u001b[0;32m    259\u001b[0m \u001b[1;33m\u001b[0m\u001b[0m\n",
      "\u001b[1;32m~\\Anaconda3\\lib\\site-packages\\sklearn\\preprocessing\\label.py\u001b[0m in \u001b[0;36m_encode\u001b[1;34m(values, uniques, encode)\u001b[0m\n\u001b[0;32m    103\u001b[0m     \u001b[1;32mif\u001b[0m \u001b[0mvalues\u001b[0m\u001b[1;33m.\u001b[0m\u001b[0mdtype\u001b[0m \u001b[1;33m==\u001b[0m \u001b[0mobject\u001b[0m\u001b[1;33m:\u001b[0m\u001b[1;33m\u001b[0m\u001b[1;33m\u001b[0m\u001b[0m\n\u001b[0;32m    104\u001b[0m         \u001b[1;32mtry\u001b[0m\u001b[1;33m:\u001b[0m\u001b[1;33m\u001b[0m\u001b[1;33m\u001b[0m\u001b[0m\n\u001b[1;32m--> 105\u001b[1;33m             \u001b[0mres\u001b[0m \u001b[1;33m=\u001b[0m \u001b[0m_encode_python\u001b[0m\u001b[1;33m(\u001b[0m\u001b[0mvalues\u001b[0m\u001b[1;33m,\u001b[0m \u001b[0muniques\u001b[0m\u001b[1;33m,\u001b[0m \u001b[0mencode\u001b[0m\u001b[1;33m)\u001b[0m\u001b[1;33m\u001b[0m\u001b[1;33m\u001b[0m\u001b[0m\n\u001b[0m\u001b[0;32m    106\u001b[0m         \u001b[1;32mexcept\u001b[0m \u001b[0mTypeError\u001b[0m\u001b[1;33m:\u001b[0m\u001b[1;33m\u001b[0m\u001b[1;33m\u001b[0m\u001b[0m\n\u001b[0;32m    107\u001b[0m             \u001b[1;32mraise\u001b[0m \u001b[0mTypeError\u001b[0m\u001b[1;33m(\u001b[0m\u001b[1;34m\"argument must be a string or number\"\u001b[0m\u001b[1;33m)\u001b[0m\u001b[1;33m\u001b[0m\u001b[1;33m\u001b[0m\u001b[0m\n",
      "\u001b[1;32m~\\Anaconda3\\lib\\site-packages\\sklearn\\preprocessing\\label.py\u001b[0m in \u001b[0;36m_encode_python\u001b[1;34m(values, uniques, encode)\u001b[0m\n\u001b[0;32m     65\u001b[0m         \u001b[1;32mexcept\u001b[0m \u001b[0mKeyError\u001b[0m \u001b[1;32mas\u001b[0m \u001b[0me\u001b[0m\u001b[1;33m:\u001b[0m\u001b[1;33m\u001b[0m\u001b[1;33m\u001b[0m\u001b[0m\n\u001b[0;32m     66\u001b[0m             raise ValueError(\"y contains previously unseen labels: %s\"\n\u001b[1;32m---> 67\u001b[1;33m                              % str(e))\n\u001b[0m\u001b[0;32m     68\u001b[0m         \u001b[1;32mreturn\u001b[0m \u001b[0muniques\u001b[0m\u001b[1;33m,\u001b[0m \u001b[0mencoded\u001b[0m\u001b[1;33m\u001b[0m\u001b[1;33m\u001b[0m\u001b[0m\n\u001b[0;32m     69\u001b[0m     \u001b[1;32melse\u001b[0m\u001b[1;33m:\u001b[0m\u001b[1;33m\u001b[0m\u001b[1;33m\u001b[0m\u001b[0m\n",
      "\u001b[1;31mValueError\u001b[0m: y contains previously unseen labels: 'AA Noffke'"
     ]
    }
   ],
   "source": [
    "concat_data['batsmen0'] = encoder.transform(concat_data['batsmen0'])\n",
    "concat_data['batsmen0'] = encoder.transform(concat_data['batsmen0'])\n",
    "concat_data['batsmen0'] = encoder.transform(concat_data['batsmen0'])\n",
    "concat_data['batsmen0'] = encoder.transform(concat_data['batsmen0'])"
   ]
  },
  {
   "cell_type": "code",
   "execution_count": null,
   "id": "dutch-silly",
   "metadata": {},
   "outputs": [],
   "source": [
    "#concat_data.head()"
   ]
  },
  {
   "cell_type": "code",
   "execution_count": null,
   "id": "patient-input",
   "metadata": {},
   "outputs": [],
   "source": []
  },
  {
   "cell_type": "code",
   "execution_count": null,
   "id": "economic-composition",
   "metadata": {},
   "outputs": [],
   "source": []
  },
  {
   "cell_type": "code",
   "execution_count": null,
   "id": "played-prairie",
   "metadata": {},
   "outputs": [],
   "source": []
  },
  {
   "cell_type": "code",
   "execution_count": null,
   "id": "remarkable-bikini",
   "metadata": {},
   "outputs": [],
   "source": []
  },
  {
   "cell_type": "code",
   "execution_count": null,
   "id": "indian-grave",
   "metadata": {},
   "outputs": [],
   "source": []
  },
  {
   "cell_type": "code",
   "execution_count": null,
   "id": "enhanced-bracket",
   "metadata": {},
   "outputs": [],
   "source": [
    "concat_data.head(20)"
   ]
  },
  {
   "cell_type": "code",
   "execution_count": null,
   "id": "directed-comment",
   "metadata": {},
   "outputs": [],
   "source": [
    "#lb.classes_"
   ]
  },
  {
   "cell_type": "code",
   "execution_count": null,
   "id": "blind-contemporary",
   "metadata": {},
   "outputs": [],
   "source": [
    "lb.transform(concat_data['batsmen'])"
   ]
  },
  {
   "cell_type": "code",
   "execution_count": null,
   "id": "irish-auditor",
   "metadata": {},
   "outputs": [],
   "source": [
    "concat_data.head()"
   ]
  },
  {
   "cell_type": "code",
   "execution_count": null,
   "id": "accurate-dynamics",
   "metadata": {},
   "outputs": [],
   "source": [
    "len(concat_data)"
   ]
  },
  {
   "cell_type": "code",
   "execution_count": null,
   "id": "innovative-forum",
   "metadata": {},
   "outputs": [],
   "source": []
  },
  {
   "cell_type": "code",
   "execution_count": null,
   "id": "altered-death",
   "metadata": {},
   "outputs": [],
   "source": [
    "len(concat_data)"
   ]
  },
  {
   "cell_type": "code",
   "execution_count": null,
   "id": "comprehensive-incident",
   "metadata": {},
   "outputs": [],
   "source": [
    "concat_data.head(15)"
   ]
  },
  {
   "cell_type": "code",
   "execution_count": null,
   "id": "boxed-yesterday",
   "metadata": {},
   "outputs": [],
   "source": [
    "#for i in range(len(concat_data['batsmen'])):\n",
    "#    concat_data['batsmen'][i] = ','.join(concat_data['batsmen'][i])"
   ]
  },
  {
   "cell_type": "code",
   "execution_count": null,
   "id": "chubby-limitation",
   "metadata": {},
   "outputs": [],
   "source": [
    "#concat_data['batsmen']"
   ]
  },
  {
   "cell_type": "code",
   "execution_count": null,
   "id": "sweet-stockholm",
   "metadata": {},
   "outputs": [],
   "source": [
    "#"
   ]
  },
  {
   "cell_type": "code",
   "execution_count": null,
   "id": "twelve-general",
   "metadata": {},
   "outputs": [],
   "source": [
    "#"
   ]
  },
  {
   "cell_type": "code",
   "execution_count": null,
   "id": "lesser-seating",
   "metadata": {},
   "outputs": [],
   "source": [
    "#"
   ]
  },
  {
   "cell_type": "code",
   "execution_count": null,
   "id": "golden-undergraduate",
   "metadata": {},
   "outputs": [],
   "source": [
    "#"
   ]
  },
  {
   "cell_type": "code",
   "execution_count": null,
   "id": "collect-satin",
   "metadata": {},
   "outputs": [],
   "source": [
    "#\n"
   ]
  },
  {
   "cell_type": "code",
   "execution_count": null,
   "id": "proud-florist",
   "metadata": {},
   "outputs": [],
   "source": [
    "#"
   ]
  },
  {
   "cell_type": "code",
   "execution_count": null,
   "id": "unexpected-static",
   "metadata": {},
   "outputs": [],
   "source": [
    "concat_data.head()"
   ]
  },
  {
   "cell_type": "code",
   "execution_count": null,
   "id": "formed-separate",
   "metadata": {},
   "outputs": [],
   "source": [
    "concat_data.drop(['batsmen','bowlers'], axis=1,inplace=True)"
   ]
  },
  {
   "cell_type": "code",
   "execution_count": null,
   "id": "internal-french",
   "metadata": {},
   "outputs": [],
   "source": [
    "concat_data = pd.get_dummies(data=concat_data, columns=['batting_team', 'bowling_team', 'venue'])"
   ]
  },
  {
   "cell_type": "code",
   "execution_count": null,
   "id": "primary-biotechnology",
   "metadata": {},
   "outputs": [],
   "source": [
    "concat_data.head()"
   ]
  },
  {
   "cell_type": "code",
   "execution_count": null,
   "id": "commercial-colleague",
   "metadata": {},
   "outputs": [],
   "source": [
    "from sklearn.model_selection import train_test_split\n",
    "from sklearn.linear_model import Lasso\n",
    "from sklearn.model_selection import GridSearchCV"
   ]
  },
  {
   "cell_type": "code",
   "execution_count": null,
   "id": "liberal-suspension",
   "metadata": {},
   "outputs": [],
   "source": [
    "#concat_data.drop('match_id',axis=1,inplace=True)\n",
    "#concat_data.columns = concat_data.columns.droplevel()\n",
    "concat_data.rows"
   ]
  },
  {
   "cell_type": "code",
   "execution_count": null,
   "id": "quiet-domestic",
   "metadata": {},
   "outputs": [],
   "source": [
    "X = concat_data.drop('total_runs',axis=1)"
   ]
  },
  {
   "cell_type": "code",
   "execution_count": null,
   "id": "quiet-serve",
   "metadata": {},
   "outputs": [],
   "source": [
    "y = concat_data['total_runs']"
   ]
  },
  {
   "cell_type": "code",
   "execution_count": null,
   "id": "subsequent-croatia",
   "metadata": {},
   "outputs": [],
   "source": [
    "X_train, X_test, y_train, y_test = train_test_split(X, y, test_size=0.20)"
   ]
  },
  {
   "cell_type": "code",
   "execution_count": null,
   "id": "careful-garden",
   "metadata": {},
   "outputs": [],
   "source": [
    "lasso=Lasso()\n",
    "parameters={'alpha':[1e-15,1e-10,1e-8,1e-3,1e-2,1,5,10,20,30,35,40]}\n",
    "lasso_regressor=GridSearchCV(lasso,parameters,scoring='r2',cv=5)"
   ]
  },
  {
   "cell_type": "code",
   "execution_count": null,
   "id": "civic-amplifier",
   "metadata": {},
   "outputs": [],
   "source": [
    "lasso_regressor.fit(X_train,y_train)\n",
    "print(lasso_regressor.best_params_)\n",
    "print(lasso_regressor.best_score_)\n",
    "prediction = lasso_regressor.predict(X_test)"
   ]
  },
  {
   "cell_type": "code",
   "execution_count": null,
   "id": "focal-legislature",
   "metadata": {},
   "outputs": [],
   "source": [
    "from sklearn.metrics import SCORERS"
   ]
  },
  {
   "cell_type": "code",
   "execution_count": null,
   "id": "passing-family",
   "metadata": {},
   "outputs": [],
   "source": [
    "SCORERS.keys()"
   ]
  },
  {
   "cell_type": "code",
   "execution_count": null,
   "id": "sunset-broadway",
   "metadata": {},
   "outputs": [],
   "source": [
    "from sklearn import metrics\n",
    "print(sns.distplot(y_test-prediction))\n",
    "print('MAE:', metrics.mean_absolute_error(y_test, prediction))\n",
    "print('MSE:', metrics.mean_squared_error(y_test, prediction))\n",
    "print('RMSE:', np.sqrt(metrics.mean_squared_error(y_test, prediction)))"
   ]
  },
  {
   "cell_type": "code",
   "execution_count": null,
   "id": "sustainable-development",
   "metadata": {},
   "outputs": [],
   "source": []
  }
 ],
 "metadata": {
  "kernelspec": {
   "display_name": "Python 3",
   "language": "python",
   "name": "python3"
  },
  "language_info": {
   "codemirror_mode": {
    "name": "ipython",
    "version": 3
   },
   "file_extension": ".py",
   "mimetype": "text/x-python",
   "name": "python",
   "nbconvert_exporter": "python",
   "pygments_lexer": "ipython3",
   "version": "3.7.3"
  }
 },
 "nbformat": 4,
 "nbformat_minor": 5
}
