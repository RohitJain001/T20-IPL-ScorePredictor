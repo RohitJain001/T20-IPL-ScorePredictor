{
 "cells": [
  {
   "cell_type": "code",
   "execution_count": 1,
   "id": "considered-howard",
   "metadata": {},
   "outputs": [],
   "source": [
    "import pandas as pd\n",
    "import numpy as np\n",
    "import matplotlib.pyplot as plt\n",
    "import seaborn as sns"
   ]
  },
  {
   "cell_type": "code",
   "execution_count": 2,
   "id": "compact-individual",
   "metadata": {},
   "outputs": [],
   "source": [
    "import tensorflow as tf"
   ]
  },
  {
   "cell_type": "code",
   "execution_count": 3,
   "id": "sitting-victory",
   "metadata": {},
   "outputs": [],
   "source": [
    "import glob"
   ]
  },
  {
   "cell_type": "code",
   "execution_count": 4,
   "id": "southern-fluid",
   "metadata": {},
   "outputs": [],
   "source": [
    "all_files = glob.glob('./ipl_csv2/*.csv')\n",
    "df_from_each_file = (pd.read_csv(f) for f in all_files)\n",
    "df = pd.concat(df_from_each_file, ignore_index=True)"
   ]
  },
  {
   "cell_type": "code",
   "execution_count": 5,
   "id": "every-birth",
   "metadata": {},
   "outputs": [
    {
     "data": {
      "text/plain": [
       "match_id                    int64\n",
       "season                     object\n",
       "start_date                 object\n",
       "venue                      object\n",
       "innings                     int64\n",
       "ball                      float64\n",
       "batting_team               object\n",
       "bowling_team               object\n",
       "striker                    object\n",
       "non_striker                object\n",
       "bowler                     object\n",
       "runs_off_bat                int64\n",
       "extras                      int64\n",
       "wides                     float64\n",
       "noballs                   float64\n",
       "byes                      float64\n",
       "legbyes                   float64\n",
       "penalty                   float64\n",
       "wicket_type                object\n",
       "player_dismissed           object\n",
       "other_wicket_type         float64\n",
       "other_player_dismissed    float64\n",
       "dtype: object"
      ]
     },
     "execution_count": 5,
     "metadata": {},
     "output_type": "execute_result"
    }
   ],
   "source": [
    "df.dtypes"
   ]
  },
  {
   "cell_type": "code",
   "execution_count": 6,
   "id": "tropical-brown",
   "metadata": {},
   "outputs": [
    {
     "data": {
      "text/plain": [
       "array([2017, 2018, 2019, '2020/21', 2021, '2007/08', 2009, '2009/10',\n",
       "       2011, 2012, 2013, 2014, 2015, 2016], dtype=object)"
      ]
     },
     "execution_count": 6,
     "metadata": {},
     "output_type": "execute_result"
    }
   ],
   "source": [
    "df['season'].unique()"
   ]
  },
  {
   "cell_type": "code",
   "execution_count": 7,
   "id": "vulnerable-horizon",
   "metadata": {},
   "outputs": [],
   "source": [
    "df.drop(['other_player_dismissed','other_wicket_type', 'penalty','player_dismissed','start_date'], axis=1, inplace=True)"
   ]
  },
  {
   "cell_type": "code",
   "execution_count": 8,
   "id": "ancient-benjamin",
   "metadata": {},
   "outputs": [
    {
     "data": {
      "text/plain": [
       "match_id          int64\n",
       "season           object\n",
       "venue            object\n",
       "innings           int64\n",
       "ball            float64\n",
       "batting_team     object\n",
       "bowling_team     object\n",
       "striker          object\n",
       "non_striker      object\n",
       "bowler           object\n",
       "runs_off_bat      int64\n",
       "extras            int64\n",
       "wides           float64\n",
       "noballs         float64\n",
       "byes            float64\n",
       "legbyes         float64\n",
       "wicket_type      object\n",
       "dtype: object"
      ]
     },
     "execution_count": 8,
     "metadata": {},
     "output_type": "execute_result"
    }
   ],
   "source": [
    "df.dtypes"
   ]
  },
  {
   "cell_type": "code",
   "execution_count": 9,
   "id": "similar-kelly",
   "metadata": {},
   "outputs": [],
   "source": [
    "df['total_runs'] = df.iloc[:,-7:-2].sum(axis=1)"
   ]
  },
  {
   "cell_type": "code",
   "execution_count": 10,
   "id": "dangerous-socket",
   "metadata": {},
   "outputs": [],
   "source": [
    "df.drop(['runs_off_bat','wides','noballs','extras','byes','legbyes'],axis=1, inplace=True)"
   ]
  },
  {
   "cell_type": "code",
   "execution_count": 11,
   "id": "disabled-giant",
   "metadata": {},
   "outputs": [
    {
     "data": {
      "text/plain": [
       "match_id          int64\n",
       "season           object\n",
       "venue            object\n",
       "innings           int64\n",
       "ball            float64\n",
       "batting_team     object\n",
       "bowling_team     object\n",
       "striker          object\n",
       "non_striker      object\n",
       "bowler           object\n",
       "wicket_type      object\n",
       "total_runs      float64\n",
       "dtype: object"
      ]
     },
     "execution_count": 11,
     "metadata": {},
     "output_type": "execute_result"
    }
   ],
   "source": [
    "df.dtypes"
   ]
  },
  {
   "cell_type": "code",
   "execution_count": 12,
   "id": "vital-carnival",
   "metadata": {},
   "outputs": [],
   "source": [
    "df['year'] = df['season'].astype(str).str.slice(0,4).astype(int)"
   ]
  },
  {
   "cell_type": "code",
   "execution_count": 13,
   "id": "greatest-virgin",
   "metadata": {},
   "outputs": [
    {
     "data": {
      "text/plain": [
       "array([2017, 2018, 2019, 2020, 2021, 2007, 2009, 2011, 2012, 2013, 2014,\n",
       "       2015, 2016], dtype=int64)"
      ]
     },
     "execution_count": 13,
     "metadata": {},
     "output_type": "execute_result"
    }
   ],
   "source": [
    "df['year'].unique()"
   ]
  },
  {
   "cell_type": "code",
   "execution_count": 14,
   "id": "bulgarian-coral",
   "metadata": {},
   "outputs": [],
   "source": [
    "df.drop('season',inplace=True,axis=1)"
   ]
  },
  {
   "cell_type": "code",
   "execution_count": 15,
   "id": "about-metabolism",
   "metadata": {},
   "outputs": [
    {
     "data": {
      "text/plain": [
       "match_id          int64\n",
       "venue            object\n",
       "innings           int64\n",
       "ball            float64\n",
       "batting_team     object\n",
       "bowling_team     object\n",
       "striker          object\n",
       "non_striker      object\n",
       "bowler           object\n",
       "wicket_type      object\n",
       "total_runs      float64\n",
       "year              int32\n",
       "dtype: object"
      ]
     },
     "execution_count": 15,
     "metadata": {},
     "output_type": "execute_result"
    }
   ],
   "source": [
    "df.dtypes"
   ]
  },
  {
   "cell_type": "code",
   "execution_count": 16,
   "id": "moved-grove",
   "metadata": {},
   "outputs": [
    {
     "data": {
      "text/plain": [
       "array([1, 2, 3, 4, 5, 6], dtype=int64)"
      ]
     },
     "execution_count": 16,
     "metadata": {},
     "output_type": "execute_result"
    }
   ],
   "source": [
    "df['innings'].unique()"
   ]
  },
  {
   "cell_type": "code",
   "execution_count": 17,
   "id": "adjusted-seventh",
   "metadata": {},
   "outputs": [
    {
     "data": {
      "text/plain": [
       "array(['Sunrisers Hyderabad', 'Royal Challengers Bangalore',\n",
       "       'Mumbai Indians', 'Rising Pune Supergiant', 'Gujarat Lions',\n",
       "       'Kolkata Knight Riders', 'Kings XI Punjab', 'Delhi Daredevils',\n",
       "       'Chennai Super Kings', 'Rajasthan Royals', 'Delhi Capitals',\n",
       "       'Deccan Chargers', 'Kochi Tuskers Kerala', 'Pune Warriors',\n",
       "       'Rising Pune Supergiants'], dtype=object)"
      ]
     },
     "execution_count": 17,
     "metadata": {},
     "output_type": "execute_result"
    }
   ],
   "source": [
    "df['batting_team'].unique()"
   ]
  },
  {
   "cell_type": "code",
   "execution_count": 18,
   "id": "pressing-officer",
   "metadata": {},
   "outputs": [],
   "source": [
    "df['batting_team'] = df['batting_team'].replace(['Delhi Daredevils'],'Delhi Capitals')\n",
    "df['bowling_team'] = df['bowling_team'].replace(['Delhi Daredevils'],'Delhi Capitals')\n",
    "df['batting_team'] = df['batting_team'].replace(['Kings XI Punjab'],'Punjab Kings')\n",
    "df['bowling_team'] = df['bowling_team'].replace(['Kings XI Punjab'],'Punjab Kings')"
   ]
  },
  {
   "cell_type": "code",
   "execution_count": 19,
   "id": "unavailable-distance",
   "metadata": {},
   "outputs": [],
   "source": [
    "current_teams = ['Sunrisers Hyderabad', 'Royal Challengers Bangalore', 'Mumbai Indians', 'Kolkata Knight Riders', 'Chennai Super Kings', 'Rajasthan Royals', 'Delhi Capitals', 'Punjab Kings']"
   ]
  },
  {
   "cell_type": "code",
   "execution_count": 20,
   "id": "compatible-truck",
   "metadata": {},
   "outputs": [],
   "source": [
    "df = df[(df['batting_team'].isin(current_teams)) &(df['bowling_team'].isin(current_teams))]"
   ]
  },
  {
   "cell_type": "code",
   "execution_count": null,
   "id": "circular-drunk",
   "metadata": {},
   "outputs": [],
   "source": []
  },
  {
   "cell_type": "code",
   "execution_count": 21,
   "id": "closed-steering",
   "metadata": {},
   "outputs": [],
   "source": [
    "data1 = df.groupby(['match_id','innings'])['striker','non_striker'].apply(lambda x: list(np.unique(x)))\n",
    "data1 = data1.to_frame('batsmen')\n",
    "#data1['batsmen'] = str(data1['batsmen'])[1:-1]"
   ]
  },
  {
   "cell_type": "code",
   "execution_count": 22,
   "id": "legislative-victorian",
   "metadata": {},
   "outputs": [],
   "source": [
    "data2 = df.groupby(['match_id','innings'])['bowler'].apply(lambda x: list(np.unique(x)))\n",
    "data2 = data2.to_frame('bowlers')\n",
    "#data2['bowlers'] = str(data2['bowlers'])[1:-1]"
   ]
  },
  {
   "cell_type": "code",
   "execution_count": 23,
   "id": "african-bidder",
   "metadata": {},
   "outputs": [
    {
     "data": {
      "text/plain": [
       "1293"
      ]
     },
     "execution_count": 23,
     "metadata": {},
     "output_type": "execute_result"
    }
   ],
   "source": [
    "len(data2)"
   ]
  },
  {
   "cell_type": "code",
   "execution_count": 105,
   "id": "separated-title",
   "metadata": {},
   "outputs": [],
   "source": [
    "current_players= pd.read_csv('./playersList.csv')"
   ]
  },
  {
   "cell_type": "code",
   "execution_count": 107,
   "id": "structural-rebecca",
   "metadata": {},
   "outputs": [
    {
     "data": {
      "text/html": [
       "<div>\n",
       "<style scoped>\n",
       "    .dataframe tbody tr th:only-of-type {\n",
       "        vertical-align: middle;\n",
       "    }\n",
       "\n",
       "    .dataframe tbody tr th {\n",
       "        vertical-align: top;\n",
       "    }\n",
       "\n",
       "    .dataframe thead th {\n",
       "        text-align: right;\n",
       "    }\n",
       "</style>\n",
       "<table border=\"1\" class=\"dataframe\">\n",
       "  <thead>\n",
       "    <tr style=\"text-align: right;\">\n",
       "      <th></th>\n",
       "      <th>Players</th>\n",
       "    </tr>\n",
       "  </thead>\n",
       "  <tbody>\n",
       "    <tr>\n",
       "      <th>0</th>\n",
       "      <td>AM Rahane</td>\n",
       "    </tr>\n",
       "    <tr>\n",
       "      <th>1</th>\n",
       "      <td>RA Tripathi</td>\n",
       "    </tr>\n",
       "    <tr>\n",
       "      <th>2</th>\n",
       "      <td>MJ McClenaghan</td>\n",
       "    </tr>\n",
       "    <tr>\n",
       "      <th>3</th>\n",
       "      <td>SPD Smith</td>\n",
       "    </tr>\n",
       "    <tr>\n",
       "      <th>4</th>\n",
       "      <td>SL Malinga</td>\n",
       "    </tr>\n",
       "  </tbody>\n",
       "</table>\n",
       "</div>"
      ],
      "text/plain": [
       "          Players\n",
       "0       AM Rahane\n",
       "1     RA Tripathi\n",
       "2  MJ McClenaghan\n",
       "3       SPD Smith\n",
       "4      SL Malinga"
      ]
     },
     "execution_count": 107,
     "metadata": {},
     "output_type": "execute_result"
    }
   ],
   "source": [
    "current_players.head()"
   ]
  },
  {
   "cell_type": "code",
   "execution_count": 108,
   "id": "provincial-morning",
   "metadata": {},
   "outputs": [
    {
     "data": {
      "text/plain": [
       "'AM Rahane'"
      ]
     },
     "execution_count": 108,
     "metadata": {},
     "output_type": "execute_result"
    }
   ],
   "source": [
    "current_players['Players'][0]"
   ]
  },
  {
   "cell_type": "code",
   "execution_count": null,
   "id": "statistical-forge",
   "metadata": {},
   "outputs": [],
   "source": [
    "df = df[(df['current_players'].isin(current_players))]"
   ]
  },
  {
   "cell_type": "code",
   "execution_count": null,
   "id": "instant-spelling",
   "metadata": {},
   "outputs": [],
   "source": []
  },
  {
   "cell_type": "code",
   "execution_count": 24,
   "id": "distributed-siemens",
   "metadata": {},
   "outputs": [],
   "source": [
    "df = df[df['ball'] <=6.0]"
   ]
  },
  {
   "cell_type": "code",
   "execution_count": null,
   "id": "fallen-trauma",
   "metadata": {},
   "outputs": [],
   "source": []
  },
  {
   "cell_type": "markdown",
   "id": "radical-accounting",
   "metadata": {},
   "source": [
    "#"
   ]
  },
  {
   "cell_type": "code",
   "execution_count": 25,
   "id": "pointed-coordinator",
   "metadata": {},
   "outputs": [
    {
     "data": {
      "text/plain": [
       "1293"
      ]
     },
     "execution_count": 25,
     "metadata": {},
     "output_type": "execute_result"
    }
   ],
   "source": [
    "len(data1)"
   ]
  },
  {
   "cell_type": "code",
   "execution_count": 26,
   "id": "continent-stanford",
   "metadata": {},
   "outputs": [
    {
     "data": {
      "text/plain": [
       "47466"
      ]
     },
     "execution_count": 26,
     "metadata": {},
     "output_type": "execute_result"
    }
   ],
   "source": [
    "len(df)"
   ]
  },
  {
   "cell_type": "code",
   "execution_count": 27,
   "id": "dynamic-fitting",
   "metadata": {},
   "outputs": [
    {
     "data": {
      "text/plain": [
       "match_id          int64\n",
       "venue            object\n",
       "innings           int64\n",
       "ball            float64\n",
       "batting_team     object\n",
       "bowling_team     object\n",
       "striker          object\n",
       "non_striker      object\n",
       "bowler           object\n",
       "wicket_type      object\n",
       "total_runs      float64\n",
       "year              int32\n",
       "dtype: object"
      ]
     },
     "execution_count": 27,
     "metadata": {},
     "output_type": "execute_result"
    }
   ],
   "source": [
    "df.dtypes"
   ]
  },
  {
   "cell_type": "code",
   "execution_count": 28,
   "id": "equal-albert",
   "metadata": {},
   "outputs": [],
   "source": [
    "#df.drop('venue', axis=1, inplace=True)"
   ]
  },
  {
   "cell_type": "code",
   "execution_count": 29,
   "id": "proprietary-agriculture",
   "metadata": {},
   "outputs": [
    {
     "data": {
      "text/plain": [
       "match_id          int64\n",
       "venue            object\n",
       "innings           int64\n",
       "ball            float64\n",
       "batting_team     object\n",
       "bowling_team     object\n",
       "striker          object\n",
       "non_striker      object\n",
       "bowler           object\n",
       "wicket_type      object\n",
       "total_runs      float64\n",
       "year              int32\n",
       "dtype: object"
      ]
     },
     "execution_count": 29,
     "metadata": {},
     "output_type": "execute_result"
    }
   ],
   "source": [
    "df.dtypes"
   ]
  },
  {
   "cell_type": "code",
   "execution_count": 30,
   "id": "opposite-lighting",
   "metadata": {},
   "outputs": [
    {
     "data": {
      "text/plain": [
       "array([1, 2, 3, 4, 5, 6], dtype=int64)"
      ]
     },
     "execution_count": 30,
     "metadata": {},
     "output_type": "execute_result"
    }
   ],
   "source": [
    "df['innings'].unique()"
   ]
  },
  {
   "cell_type": "code",
   "execution_count": null,
   "id": "periodic-elimination",
   "metadata": {},
   "outputs": [],
   "source": []
  },
  {
   "cell_type": "code",
   "execution_count": null,
   "id": "informed-sequence",
   "metadata": {},
   "outputs": [],
   "source": []
  },
  {
   "cell_type": "code",
   "execution_count": 31,
   "id": "matched-visibility",
   "metadata": {},
   "outputs": [
    {
     "data": {
      "text/plain": [
       "array(['Rajiv Gandhi International Stadium, Uppal',\n",
       "       'M.Chinnaswamy Stadium', 'Wankhede Stadium',\n",
       "       'Holkar Cricket Stadium', 'Eden Gardens', 'M Chinnaswamy Stadium',\n",
       "       'Feroz Shah Kotla',\n",
       "       'Punjab Cricket Association IS Bindra Stadium, Mohali',\n",
       "       'Punjab Cricket Association IS Bindra Stadium',\n",
       "       'Rajiv Gandhi International Stadium', 'MA Chidambaram Stadium',\n",
       "       'Sawai Mansingh Stadium',\n",
       "       'Maharashtra Cricket Association Stadium', 'Arun Jaitley Stadium',\n",
       "       'Dr. Y.S. Rajasekhara Reddy ACA-VDCA Cricket Stadium',\n",
       "       'Sheikh Zayed Stadium', 'Dubai International Cricket Stadium',\n",
       "       'Sharjah Cricket Stadium',\n",
       "       'MA Chidambaram Stadium, Chepauk, Chennai',\n",
       "       'Wankhede Stadium, Mumbai',\n",
       "       'Punjab Cricket Association Stadium, Mohali',\n",
       "       'MA Chidambaram Stadium, Chepauk', 'Dr DY Patil Sports Academy',\n",
       "       'Newlands', \"St George's Park\", 'Kingsmead', 'SuperSport Park',\n",
       "       'Buffalo Park', 'New Wanderers Stadium', 'De Beers Diamond Oval',\n",
       "       'OUTsurance Oval', 'Brabourne Stadium',\n",
       "       'Sardar Patel Stadium, Motera',\n",
       "       'Himachal Pradesh Cricket Association Stadium',\n",
       "       'Subrata Roy Sahara Stadium',\n",
       "       'Shaheed Veer Narayan Singh International Stadium',\n",
       "       'JSCA International Stadium Complex', 'Barabati Stadium'],\n",
       "      dtype=object)"
      ]
     },
     "execution_count": 31,
     "metadata": {},
     "output_type": "execute_result"
    }
   ],
   "source": [
    "df['venue'].unique()"
   ]
  },
  {
   "cell_type": "code",
   "execution_count": 32,
   "id": "plastic-world",
   "metadata": {},
   "outputs": [],
   "source": [
    "df['venue'] = df['venue'].replace(['MA Chidambaram Stadium, Chepauk, Chennai'],'MA Chidambaram Stadium')\n",
    "df['venue'] = df['venue'].replace(['MA Chidambaram Stadium, Chepauk'],'MA Chidambaram Stadium')\n",
    "df['venue'] = df['venue'].replace(['M.Chinnaswamy Stadium'],'M Chinnaswamy Stadium')"
   ]
  },
  {
   "cell_type": "code",
   "execution_count": 33,
   "id": "particular-footage",
   "metadata": {},
   "outputs": [],
   "source": [
    "current_stadium = ['Wankhede Stadium, Mumbai', 'MA Chidambaram Stadium', 'M Chinnaswamy Stadium', 'Eden Gardens', 'Arun Jaitley Stadium', 'Narendra Modi']"
   ]
  },
  {
   "cell_type": "code",
   "execution_count": 34,
   "id": "dense-sixth",
   "metadata": {},
   "outputs": [],
   "source": [
    "df = df[df['venue'].isin(current_stadium)]"
   ]
  },
  {
   "cell_type": "code",
   "execution_count": 35,
   "id": "figured-gazette",
   "metadata": {},
   "outputs": [
    {
     "data": {
      "text/plain": [
       "15044"
      ]
     },
     "execution_count": 35,
     "metadata": {},
     "output_type": "execute_result"
    }
   ],
   "source": [
    "len(df)"
   ]
  },
  {
   "cell_type": "code",
   "execution_count": 36,
   "id": "flying-huntington",
   "metadata": {},
   "outputs": [],
   "source": [
    "data = df.groupby(['match_id','innings'])['striker','non_striker'].apply(lambda x: list(np.unique(x)))"
   ]
  },
  {
   "cell_type": "code",
   "execution_count": 37,
   "id": "certain-permission",
   "metadata": {},
   "outputs": [
    {
     "data": {
      "text/plain": [
       "match_id  innings\n",
       "335982    1                      [BB McCullum, RT Ponting, SC Ganguly]\n",
       "          2          [CL White, JH Kallis, MV Boucher, R Dravid, V ...\n",
       "335989    1                [MEK Hussey, ML Hayden, PA Patel, SK Raina]\n",
       "          2          [L Ronchi, RV Uthappa, SM Pollock, ST Jayasuriya]\n",
       "335992    1          [JH Kallis, LRPL Taylor, R Dravid, S Chanderpaul]\n",
       "dtype: object"
      ]
     },
     "execution_count": 37,
     "metadata": {},
     "output_type": "execute_result"
    }
   ],
   "source": [
    "data.head(5)"
   ]
  },
  {
   "cell_type": "code",
   "execution_count": 38,
   "id": "incorrect-image",
   "metadata": {},
   "outputs": [
    {
     "data": {
      "text/plain": [
       "match_id          int64\n",
       "venue            object\n",
       "innings           int64\n",
       "ball            float64\n",
       "batting_team     object\n",
       "bowling_team     object\n",
       "striker          object\n",
       "non_striker      object\n",
       "bowler           object\n",
       "wicket_type      object\n",
       "total_runs      float64\n",
       "year              int32\n",
       "dtype: object"
      ]
     },
     "execution_count": 38,
     "metadata": {},
     "output_type": "execute_result"
    }
   ],
   "source": [
    "df.dtypes"
   ]
  },
  {
   "cell_type": "code",
   "execution_count": 39,
   "id": "equal-projection",
   "metadata": {},
   "outputs": [],
   "source": [
    "#df = pd.get_dummies(data=df, columns=['batting_team', 'bowling_team', 'venue'])"
   ]
  },
  {
   "cell_type": "code",
   "execution_count": 40,
   "id": "received-chancellor",
   "metadata": {},
   "outputs": [
    {
     "data": {
      "text/plain": [
       "Index(['match_id', 'venue', 'innings', 'ball', 'batting_team', 'bowling_team',\n",
       "       'striker', 'non_striker', 'bowler', 'wicket_type', 'total_runs',\n",
       "       'year'],\n",
       "      dtype='object')"
      ]
     },
     "execution_count": 40,
     "metadata": {},
     "output_type": "execute_result"
    }
   ],
   "source": [
    "df.columns"
   ]
  },
  {
   "cell_type": "code",
   "execution_count": 41,
   "id": "novel-million",
   "metadata": {},
   "outputs": [],
   "source": [
    "df.drop('wicket_type', axis=1, inplace=True)"
   ]
  },
  {
   "cell_type": "code",
   "execution_count": 42,
   "id": "automatic-bulgarian",
   "metadata": {},
   "outputs": [
    {
     "data": {
      "text/plain": [
       "match_id          int64\n",
       "venue            object\n",
       "innings           int64\n",
       "ball            float64\n",
       "batting_team     object\n",
       "bowling_team     object\n",
       "striker          object\n",
       "non_striker      object\n",
       "bowler           object\n",
       "total_runs      float64\n",
       "year              int32\n",
       "dtype: object"
      ]
     },
     "execution_count": 42,
     "metadata": {},
     "output_type": "execute_result"
    }
   ],
   "source": [
    "df.dtypes"
   ]
  },
  {
   "cell_type": "code",
   "execution_count": 43,
   "id": "seasonal-carolina",
   "metadata": {},
   "outputs": [
    {
     "data": {
      "text/plain": [
       "array(['Z Khan', 'CH Morris', 'PJ Cummins', 'S Nadeem', 'B Stanlake',\n",
       "       'YS Chahal', 'Iqbal Abdulla', 'TS Mills', 'TA Boult', 'UT Yadav',\n",
       "       'CR Woakes', 'SP Narine', 'PP Chawla', 'Sandeep Sharma',\n",
       "       'I Sharma', 'GJ Maxwell', 'VR Aaron', 'TG Southee',\n",
       "       'Harbhajan Singh', 'MJ McClenaghan', 'S Badree', 'STR Binny',\n",
       "       'S Aravind', 'B Kumar', 'A Nehra', 'BCJ Cutting', 'Rashid Khan',\n",
       "       'Kuldeep Yadav', 'NM Coulter-Nile', 'K Rabada', 'CJ Anderson',\n",
       "       'A Choudhary', 'SR Watson', 'T Natarajan', 'C de Grandhomme',\n",
       "       'MG Johnson', 'KV Sharma', 'CJ Jordan', 'S Kaul', 'Bipul Sharma',\n",
       "       'JJ Bumrah', 'SL Malinga', 'R Vinay Kumar', 'Washington Sundar',\n",
       "       'DL Chahar', 'RA Jadeja', 'Imran Tahir', 'AD Russell', 'TK Curran',\n",
       "       'K Khejroliya', 'AR Patel', 'R Ashwin', 'Mujeeb Ur Rahman',\n",
       "       'AJ Tye', 'K Gowtham', 'DS Kulkarni', 'JD Unadkat', 'BA Stokes',\n",
       "       'Shivam Mavi', 'AS Rajpoot', 'BB Sran', 'N Rana', 'Avesh Khan',\n",
       "       'LE Plunkett', 'SN Thakur', 'P Negi', 'Mohammed Siraj',\n",
       "       'JP Duminy', 'KH Pandya', 'JC Archer', 'S Gopal', 'A Mishra',\n",
       "       'L Ngidi', 'KM Asif', 'M Prasidh Krishna', 'HH Pandya',\n",
       "       'Shakib Al Hasan', 'HV Patel', 'S Lamichhane', 'CJ Dala',\n",
       "       'Mustafizur Rahman', 'KK Ahmed', 'NA Saini', 'MM Ali',\n",
       "       'LH Ferguson', 'Mohammed Shami', 'CV Varun', 'GC Viljoen',\n",
       "       'MJ Santner', 'Mohammad Nabi', 'SM Curran', 'SC Kuggeleijn',\n",
       "       'HF Gurney', 'KMA Paul', 'RD Chahar', 'J Yadav', 'DW Steyn',\n",
       "       'Harpreet Brar', 'O Thomas', 'CR Brathwaite', 'Y Prithvi Raj',\n",
       "       'S Sandeep Warrier', 'R Parag', 'J Suchith', 'IS Sodhi',\n",
       "       'KA Jamieson', 'M Jansen', 'P Kumar', 'AA Noffke', 'AB Dinda',\n",
       "       'AB Agarkar', 'SM Pollock', 'JDP Oram', 'MS Gony', 'Sohail Tanvir',\n",
       "       'MM Patel', 'P Amarnath', 'CRD Fernando', 'DJ Bravo', 'GD McGrath',\n",
       "       'Mohammad Asif', 'VY Mahesh', 'PJ Sangwan', 'M Ntini', 'JA Morkel',\n",
       "       'S Sreesanth', 'IK Pathan', 'Gagandeep Singh', 'JH Kallis',\n",
       "       'Umar Gul', 'SC Ganguly', 'A Kumble', 'VRV Singh', 'Shoaib Akhtar',\n",
       "       'YK Pathan', 'Pankaj Singh', 'BAW Mendis', 'RR Powar',\n",
       "       'CK Langeveldt', 'AD Mathews', 'M Kartik', 'YA Abdulla', 'SE Bond',\n",
       "       'LR Shukla', 'L Balaji', 'M Morkel', 'SK Warne', 'SJ Srivastava',\n",
       "       'J Theron', 'M Muralitharan', 'S Tyagi', 'DP Nannes', 'T Thushara',\n",
       "       'S Narwal', 'SW Tait', 'SB Wagh', 'DE Bollinger', 'CH Gayle',\n",
       "       'R McLaren', 'MF Maharoof', 'DL Vettori', 'Kamran Khan',\n",
       "       'AG Murtaza', 'S Randiv', 'KA Pollard', 'A Mithun',\n",
       "       'JJ van der Wath', 'TM Dilshan', 'B Lee', 'J Syed Mohammad',\n",
       "       'BA Bhatt', 'DJ Hussey', 'RJ Harris', 'ND Doshi', 'J Botha',\n",
       "       'SK Trivedi', 'AB McDonald', 'AN Ahmed', 'RW Price',\n",
       "       'JEC Franklin', 'RE van der Merwe', 'M de Lange', 'DAJ Bracewell',\n",
       "       'RR Bhatkal', 'A Singh', 'AA Chavan', 'AD Mascarenhas',\n",
       "       'KMDN Kulasekara', 'AL Menaria', 'KK Cooper', 'GB Hogg',\n",
       "       'SB Jakati', 'P Awana', 'Azhar Mahmood', 'KP Appanna', 'PP Ojha',\n",
       "       'BW Hilfenhaus', 'RP Singh', 'Sunny Gupta', 'DT Christian',\n",
       "       'MC Henriques', 'MM Sharma', 'R Rampaul', 'GH Vihari',\n",
       "       'NLTC Perera', 'SMSM Senanayake', 'A Chandila', 'JP Faulkner',\n",
       "       'JO Holder', 'R Shukla', 'DJG Sammy', 'R Dhawan', 'VS Malik',\n",
       "       'MA Starc', 'KW Richardson', 'PV Tambe', 'IC Pandey',\n",
       "       'DJ Muthuswami', 'SA Abbott', 'KC Cariappa', 'D Wiese',\n",
       "       'Karanveer Singh', 'Anureet Singh', 'BE Hendricks', 'Ankit Sharma',\n",
       "       'JW Hastings', 'AF Milne', 'Parvez Rasool', 'MP Stoinis',\n",
       "       'KJ Abbott', 'KS Williamson', 'DJ Hooda'], dtype=object)"
      ]
     },
     "execution_count": 43,
     "metadata": {},
     "output_type": "execute_result"
    }
   ],
   "source": [
    "df['bowler'].unique()"
   ]
  },
  {
   "cell_type": "code",
   "execution_count": null,
   "id": "fallen-briefing",
   "metadata": {},
   "outputs": [],
   "source": []
  },
  {
   "cell_type": "code",
   "execution_count": null,
   "id": "planned-empty",
   "metadata": {},
   "outputs": [],
   "source": []
  },
  {
   "cell_type": "code",
   "execution_count": 44,
   "id": "infectious-convert",
   "metadata": {},
   "outputs": [],
   "source": [
    "#df['total_runs'] = df['total_runs'].astype(np.int)"
   ]
  },
  {
   "cell_type": "code",
   "execution_count": 45,
   "id": "developed-space",
   "metadata": {},
   "outputs": [],
   "source": [
    "data3 = df.groupby(['match_id','innings'])['total_runs'].sum()"
   ]
  },
  {
   "cell_type": "code",
   "execution_count": 46,
   "id": "expensive-median",
   "metadata": {},
   "outputs": [],
   "source": [
    "#data3.head(10)"
   ]
  },
  {
   "cell_type": "code",
   "execution_count": 47,
   "id": "judicial-absolute",
   "metadata": {},
   "outputs": [],
   "source": [
    "#df.dtypes"
   ]
  },
  {
   "cell_type": "code",
   "execution_count": 48,
   "id": "after-power",
   "metadata": {},
   "outputs": [],
   "source": [
    "#df[['match_id','innings', 'total_runs', 'ball']].head(40)"
   ]
  },
  {
   "cell_type": "code",
   "execution_count": 49,
   "id": "going-cornell",
   "metadata": {},
   "outputs": [
    {
     "data": {
      "text/plain": [
       "match_id  innings\n",
       "335982    1          67.0\n",
       "          2          28.0\n",
       "335989    1          60.0\n",
       "          2          54.0\n",
       "335992    1          58.0\n",
       "Name: total_runs, dtype: float64"
      ]
     },
     "execution_count": 49,
     "metadata": {},
     "output_type": "execute_result"
    }
   ],
   "source": [
    "data3.head()"
   ]
  },
  {
   "cell_type": "code",
   "execution_count": 50,
   "id": "alert-corruption",
   "metadata": {},
   "outputs": [
    {
     "data": {
      "text/plain": [
       "409"
      ]
     },
     "execution_count": 50,
     "metadata": {},
     "output_type": "execute_result"
    }
   ],
   "source": [
    "len(data3)"
   ]
  },
  {
   "cell_type": "code",
   "execution_count": 51,
   "id": "constant-market",
   "metadata": {},
   "outputs": [
    {
     "data": {
      "text/plain": [
       "match_id          int64\n",
       "venue            object\n",
       "innings           int64\n",
       "ball            float64\n",
       "batting_team     object\n",
       "bowling_team     object\n",
       "striker          object\n",
       "non_striker      object\n",
       "bowler           object\n",
       "total_runs      float64\n",
       "year              int32\n",
       "dtype: object"
      ]
     },
     "execution_count": 51,
     "metadata": {},
     "output_type": "execute_result"
    }
   ],
   "source": [
    "df.dtypes"
   ]
  },
  {
   "cell_type": "code",
   "execution_count": null,
   "id": "threaded-portugal",
   "metadata": {},
   "outputs": [],
   "source": []
  },
  {
   "cell_type": "code",
   "execution_count": null,
   "id": "afraid-papua",
   "metadata": {},
   "outputs": [],
   "source": []
  },
  {
   "cell_type": "code",
   "execution_count": 52,
   "id": "critical-african",
   "metadata": {},
   "outputs": [],
   "source": [
    "#data2 = data2.to_frame('bowlers')\n",
    "#data3 = data3.to_frame('runs')"
   ]
  },
  {
   "cell_type": "code",
   "execution_count": 53,
   "id": "utility-radical",
   "metadata": {},
   "outputs": [],
   "source": [
    "data4 = df.groupby(['match_id','innings'])"
   ]
  },
  {
   "cell_type": "code",
   "execution_count": 54,
   "id": "diverse-webcam",
   "metadata": {},
   "outputs": [],
   "source": [
    "#df.drop(['striker','non_striker','bowler'],axis=1,inplace=True)"
   ]
  },
  {
   "cell_type": "code",
   "execution_count": 55,
   "id": "color-inside",
   "metadata": {},
   "outputs": [
    {
     "data": {
      "text/plain": [
       "match_id          int64\n",
       "venue            object\n",
       "innings           int64\n",
       "ball            float64\n",
       "batting_team     object\n",
       "bowling_team     object\n",
       "striker          object\n",
       "non_striker      object\n",
       "bowler           object\n",
       "total_runs      float64\n",
       "year              int32\n",
       "dtype: object"
      ]
     },
     "execution_count": 55,
     "metadata": {},
     "output_type": "execute_result"
    }
   ],
   "source": [
    "df.dtypes"
   ]
  },
  {
   "cell_type": "code",
   "execution_count": 56,
   "id": "mental-fairy",
   "metadata": {},
   "outputs": [],
   "source": [
    "df.drop('total_runs',axis=1,inplace=True)"
   ]
  },
  {
   "cell_type": "code",
   "execution_count": 57,
   "id": "continued-semiconductor",
   "metadata": {},
   "outputs": [],
   "source": [
    "#df.drop(['match_id','innings'],axis=1,inplace=True)"
   ]
  },
  {
   "cell_type": "code",
   "execution_count": 58,
   "id": "mexican-terminal",
   "metadata": {},
   "outputs": [],
   "source": [
    "#data4 = df.groupby(['match_id','innings'])['year'].apply(lambda x:np.unique(x))"
   ]
  },
  {
   "cell_type": "code",
   "execution_count": 59,
   "id": "subject-preference",
   "metadata": {},
   "outputs": [],
   "source": [
    "#data4.head()"
   ]
  },
  {
   "cell_type": "code",
   "execution_count": 60,
   "id": "confidential-power",
   "metadata": {},
   "outputs": [],
   "source": [
    "data4 = df.groupby(['match_id','innings'])['batting_team'].apply(lambda x: np.unique(x)).str[0]"
   ]
  },
  {
   "cell_type": "code",
   "execution_count": 61,
   "id": "organic-gazette",
   "metadata": {},
   "outputs": [
    {
     "data": {
      "text/plain": [
       "match_id  innings\n",
       "335982    1                Kolkata Knight Riders\n",
       "          2          Royal Challengers Bangalore\n",
       "335989    1                  Chennai Super Kings\n",
       "          2                       Mumbai Indians\n",
       "335992    1          Royal Challengers Bangalore\n",
       "Name: batting_team, dtype: object"
      ]
     },
     "execution_count": 61,
     "metadata": {},
     "output_type": "execute_result"
    }
   ],
   "source": [
    "data4.head()"
   ]
  },
  {
   "cell_type": "code",
   "execution_count": 62,
   "id": "moving-phoenix",
   "metadata": {},
   "outputs": [],
   "source": [
    "data5 = df.groupby(['match_id','innings'])['bowling_team'].apply(lambda x: np.unique(x)).str[0]"
   ]
  },
  {
   "cell_type": "code",
   "execution_count": 63,
   "id": "satisfied-society",
   "metadata": {},
   "outputs": [],
   "source": [
    "df.drop(['batting_team','bowling_team'],axis=1,inplace=True)"
   ]
  },
  {
   "cell_type": "code",
   "execution_count": 64,
   "id": "least-straight",
   "metadata": {},
   "outputs": [
    {
     "data": {
      "text/plain": [
       "match_id         int64\n",
       "venue           object\n",
       "innings          int64\n",
       "ball           float64\n",
       "striker         object\n",
       "non_striker     object\n",
       "bowler          object\n",
       "year             int32\n",
       "dtype: object"
      ]
     },
     "execution_count": 64,
     "metadata": {},
     "output_type": "execute_result"
    }
   ],
   "source": [
    "df.dtypes"
   ]
  },
  {
   "cell_type": "code",
   "execution_count": 65,
   "id": "independent-craps",
   "metadata": {},
   "outputs": [],
   "source": [
    "data6 = df.groupby(['match_id','innings'])['venue'].apply(lambda x: np.unique(x)).str[0]"
   ]
  },
  {
   "cell_type": "code",
   "execution_count": 66,
   "id": "frank-scratch",
   "metadata": {},
   "outputs": [],
   "source": [
    "data7 = df.groupby(['match_id','innings'])['year'].apply(lambda x: np.unique(x)).str[0]"
   ]
  },
  {
   "cell_type": "code",
   "execution_count": 67,
   "id": "driven-tissue",
   "metadata": {},
   "outputs": [
    {
     "data": {
      "text/plain": [
       "match_id  innings\n",
       "335982    1          67.0\n",
       "          2          28.0\n",
       "335989    1          60.0\n",
       "          2          54.0\n",
       "335992    1          58.0\n",
       "Name: total_runs, dtype: float64"
      ]
     },
     "execution_count": 67,
     "metadata": {},
     "output_type": "execute_result"
    }
   ],
   "source": [
    "data3.head()"
   ]
  },
  {
   "cell_type": "code",
   "execution_count": 68,
   "id": "optical-diamond",
   "metadata": {},
   "outputs": [],
   "source": [
    "concat_data = pd.concat([data1,data2,data3,data4,data5,data6,data7],axis=1)"
   ]
  },
  {
   "cell_type": "code",
   "execution_count": 69,
   "id": "interesting-cowboy",
   "metadata": {},
   "outputs": [
    {
     "data": {
      "text/html": [
       "<div>\n",
       "<style scoped>\n",
       "    .dataframe tbody tr th:only-of-type {\n",
       "        vertical-align: middle;\n",
       "    }\n",
       "\n",
       "    .dataframe tbody tr th {\n",
       "        vertical-align: top;\n",
       "    }\n",
       "\n",
       "    .dataframe thead th {\n",
       "        text-align: right;\n",
       "    }\n",
       "</style>\n",
       "<table border=\"1\" class=\"dataframe\">\n",
       "  <thead>\n",
       "    <tr style=\"text-align: right;\">\n",
       "      <th></th>\n",
       "      <th></th>\n",
       "      <th>batsmen</th>\n",
       "      <th>bowlers</th>\n",
       "      <th>total_runs</th>\n",
       "      <th>batting_team</th>\n",
       "      <th>bowling_team</th>\n",
       "      <th>venue</th>\n",
       "      <th>year</th>\n",
       "    </tr>\n",
       "    <tr>\n",
       "      <th>match_id</th>\n",
       "      <th>innings</th>\n",
       "      <th></th>\n",
       "      <th></th>\n",
       "      <th></th>\n",
       "      <th></th>\n",
       "      <th></th>\n",
       "      <th></th>\n",
       "      <th></th>\n",
       "    </tr>\n",
       "  </thead>\n",
       "  <tbody>\n",
       "    <tr>\n",
       "      <th rowspan=\"2\" valign=\"top\">335982</th>\n",
       "      <th>1</th>\n",
       "      <td>[BB McCullum, DJ Hussey, Mohammad Hafeez, RT P...</td>\n",
       "      <td>[AA Noffke, CL White, JH Kallis, P Kumar, SB J...</td>\n",
       "      <td>67.0</td>\n",
       "      <td>Kolkata Knight Riders</td>\n",
       "      <td>Royal Challengers Bangalore</td>\n",
       "      <td>M Chinnaswamy Stadium</td>\n",
       "      <td>2007.0</td>\n",
       "    </tr>\n",
       "    <tr>\n",
       "      <th>2</th>\n",
       "      <td>[AA Noffke, B Akhil, CL White, JH Kallis, MV B...</td>\n",
       "      <td>[AB Agarkar, AB Dinda, I Sharma, LR Shukla, SC...</td>\n",
       "      <td>28.0</td>\n",
       "      <td>Royal Challengers Bangalore</td>\n",
       "      <td>Kolkata Knight Riders</td>\n",
       "      <td>M Chinnaswamy Stadium</td>\n",
       "      <td>2007.0</td>\n",
       "    </tr>\n",
       "    <tr>\n",
       "      <th rowspan=\"2\" valign=\"top\">335983</th>\n",
       "      <th>1</th>\n",
       "      <td>[JDP Oram, MEK Hussey, ML Hayden, MS Dhoni, PA...</td>\n",
       "      <td>[B Lee, IK Pathan, JR Hopes, K Goel, PP Chawla...</td>\n",
       "      <td>NaN</td>\n",
       "      <td>NaN</td>\n",
       "      <td>NaN</td>\n",
       "      <td>NaN</td>\n",
       "      <td>NaN</td>\n",
       "    </tr>\n",
       "    <tr>\n",
       "      <th>2</th>\n",
       "      <td>[IK Pathan, JR Hopes, K Goel, KC Sangakkara, S...</td>\n",
       "      <td>[JDP Oram, Joginder Sharma, M Muralitharan, MS...</td>\n",
       "      <td>NaN</td>\n",
       "      <td>NaN</td>\n",
       "      <td>NaN</td>\n",
       "      <td>NaN</td>\n",
       "      <td>NaN</td>\n",
       "    </tr>\n",
       "    <tr>\n",
       "      <th rowspan=\"2\" valign=\"top\">335984</th>\n",
       "      <th>1</th>\n",
       "      <td>[D Salunkhe, DS Lehmann, M Kaif, M Rawat, RA J...</td>\n",
       "      <td>[B Geeves, DL Vettori, GD McGrath, MF Maharoof...</td>\n",
       "      <td>NaN</td>\n",
       "      <td>NaN</td>\n",
       "      <td>NaN</td>\n",
       "      <td>NaN</td>\n",
       "      <td>NaN</td>\n",
       "    </tr>\n",
       "    <tr>\n",
       "      <th>2</th>\n",
       "      <td>[G Gambhir, S Dhawan, V Sehwag]</td>\n",
       "      <td>[D Salunkhe, MM Patel, SK Trivedi, SK Warne, S...</td>\n",
       "      <td>NaN</td>\n",
       "      <td>NaN</td>\n",
       "      <td>NaN</td>\n",
       "      <td>NaN</td>\n",
       "      <td>NaN</td>\n",
       "    </tr>\n",
       "    <tr>\n",
       "      <th rowspan=\"2\" valign=\"top\">335985</th>\n",
       "      <th>1</th>\n",
       "      <td>[AM Nayar, DJ Thornely, Harbhajan Singh, L Ron...</td>\n",
       "      <td>[B Akhil, JH Kallis, P Kumar, R Vinay Kumar, S...</td>\n",
       "      <td>NaN</td>\n",
       "      <td>NaN</td>\n",
       "      <td>NaN</td>\n",
       "      <td>NaN</td>\n",
       "      <td>NaN</td>\n",
       "    </tr>\n",
       "    <tr>\n",
       "      <th>2</th>\n",
       "      <td>[B Akhil, JH Kallis, LRPL Taylor, MV Boucher, ...</td>\n",
       "      <td>[A Nehra, AM Nayar, DS Kulkarni, Harbhajan Sin...</td>\n",
       "      <td>NaN</td>\n",
       "      <td>NaN</td>\n",
       "      <td>NaN</td>\n",
       "      <td>NaN</td>\n",
       "      <td>NaN</td>\n",
       "    </tr>\n",
       "    <tr>\n",
       "      <th rowspan=\"2\" valign=\"top\">335987</th>\n",
       "      <th>1</th>\n",
       "      <td>[B Lee, DPMD Jayawardene, IK Pathan, JR Hopes,...</td>\n",
       "      <td>[D Salunkhe, MM Patel, Pankaj Singh, SK Trived...</td>\n",
       "      <td>NaN</td>\n",
       "      <td>NaN</td>\n",
       "      <td>NaN</td>\n",
       "      <td>NaN</td>\n",
       "      <td>NaN</td>\n",
       "    </tr>\n",
       "    <tr>\n",
       "      <th>2</th>\n",
       "      <td>[DS Lehmann, Kamran Akmal, M Kaif, RA Jadeja, ...</td>\n",
       "      <td>[B Lee, IK Pathan, JR Hopes, PP Chawla, S Sree...</td>\n",
       "      <td>NaN</td>\n",
       "      <td>NaN</td>\n",
       "      <td>NaN</td>\n",
       "      <td>NaN</td>\n",
       "      <td>NaN</td>\n",
       "    </tr>\n",
       "    <tr>\n",
       "      <th rowspan=\"2\" valign=\"top\">335989</th>\n",
       "      <th>1</th>\n",
       "      <td>[JDP Oram, MEK Hussey, ML Hayden, MS Dhoni, PA...</td>\n",
       "      <td>[A Nehra, AM Nayar, DJ Bravo, DS Kulkarni, Har...</td>\n",
       "      <td>60.0</td>\n",
       "      <td>Chennai Super Kings</td>\n",
       "      <td>Mumbai Indians</td>\n",
       "      <td>MA Chidambaram Stadium</td>\n",
       "      <td>2007.0</td>\n",
       "    </tr>\n",
       "    <tr>\n",
       "      <th>2</th>\n",
       "      <td>[A Nehra, AM Nayar, DJ Bravo, Harbhajan Singh,...</td>\n",
       "      <td>[JDP Oram, Joginder Sharma, M Muralitharan, MS...</td>\n",
       "      <td>54.0</td>\n",
       "      <td>Mumbai Indians</td>\n",
       "      <td>Chennai Super Kings</td>\n",
       "      <td>MA Chidambaram Stadium</td>\n",
       "      <td>2007.0</td>\n",
       "    </tr>\n",
       "    <tr>\n",
       "      <th rowspan=\"2\" valign=\"top\">335991</th>\n",
       "      <th>1</th>\n",
       "      <td>[B Lee, DPMD Jayawardene, IK Pathan, K Goel, K...</td>\n",
       "      <td>[A Nehra, DJ Bravo, DS Kulkarni, Harbhajan Sin...</td>\n",
       "      <td>NaN</td>\n",
       "      <td>NaN</td>\n",
       "      <td>NaN</td>\n",
       "      <td>NaN</td>\n",
       "      <td>NaN</td>\n",
       "    </tr>\n",
       "    <tr>\n",
       "      <th>2</th>\n",
       "      <td>[A Nehra, AM Nayar, DJ Bravo, DS Kulkarni, Har...</td>\n",
       "      <td>[B Lee, IK Pathan, PP Chawla, S Sreesanth, VRV...</td>\n",
       "      <td>NaN</td>\n",
       "      <td>NaN</td>\n",
       "      <td>NaN</td>\n",
       "      <td>NaN</td>\n",
       "      <td>NaN</td>\n",
       "    </tr>\n",
       "    <tr>\n",
       "      <th rowspan=\"2\" valign=\"top\">335992</th>\n",
       "      <th>1</th>\n",
       "      <td>[JH Kallis, LRPL Taylor, MV Boucher, P Kumar, ...</td>\n",
       "      <td>[MM Patel, SK Trivedi, SK Warne, SR Watson, So...</td>\n",
       "      <td>58.0</td>\n",
       "      <td>Royal Challengers Bangalore</td>\n",
       "      <td>Rajasthan Royals</td>\n",
       "      <td>M Chinnaswamy Stadium</td>\n",
       "      <td>2007.0</td>\n",
       "    </tr>\n",
       "    <tr>\n",
       "      <th>2</th>\n",
       "      <td>[GC Smith, M Kaif, M Rawat, SR Watson, YK Pathan]</td>\n",
       "      <td>[A Kumble, JH Kallis, P Kumar, R Vinay Kumar, ...</td>\n",
       "      <td>46.0</td>\n",
       "      <td>Rajasthan Royals</td>\n",
       "      <td>Royal Challengers Bangalore</td>\n",
       "      <td>M Chinnaswamy Stadium</td>\n",
       "      <td>2007.0</td>\n",
       "    </tr>\n",
       "    <tr>\n",
       "      <th rowspan=\"2\" valign=\"top\">335993</th>\n",
       "      <th>1</th>\n",
       "      <td>[AB Agarkar, AB Dinda, BB McCullum, DJ Hussey,...</td>\n",
       "      <td>[JDP Oram, Joginder Sharma, M Muralitharan, MS...</td>\n",
       "      <td>62.0</td>\n",
       "      <td>Kolkata Knight Riders</td>\n",
       "      <td>Chennai Super Kings</td>\n",
       "      <td>MA Chidambaram Stadium</td>\n",
       "      <td>2007.0</td>\n",
       "    </tr>\n",
       "    <tr>\n",
       "      <th>2</th>\n",
       "      <td>[ML Hayden, MS Dhoni, PA Patel]</td>\n",
       "      <td>[AB Agarkar, AB Dinda, DJ Hussey, I Sharma, LR...</td>\n",
       "      <td>52.0</td>\n",
       "      <td>Chennai Super Kings</td>\n",
       "      <td>Kolkata Knight Riders</td>\n",
       "      <td>MA Chidambaram Stadium</td>\n",
       "      <td>2007.0</td>\n",
       "    </tr>\n",
       "    <tr>\n",
       "      <th rowspan=\"2\" valign=\"top\">335995</th>\n",
       "      <th>1</th>\n",
       "      <td>[G Gambhir, KD Karthik, MF Maharoof, MK Tiwary...</td>\n",
       "      <td>[B Lee, IK Pathan, PP Chawla, S Sreesanth, VRV...</td>\n",
       "      <td>NaN</td>\n",
       "      <td>NaN</td>\n",
       "      <td>NaN</td>\n",
       "      <td>NaN</td>\n",
       "      <td>NaN</td>\n",
       "    </tr>\n",
       "    <tr>\n",
       "      <th>2</th>\n",
       "      <td>[B Lee, DPMD Jayawardene, IK Pathan, K Goel, K...</td>\n",
       "      <td>[GD McGrath, MF Maharoof, Mohammad Asif, R Bha...</td>\n",
       "      <td>NaN</td>\n",
       "      <td>NaN</td>\n",
       "      <td>NaN</td>\n",
       "      <td>NaN</td>\n",
       "      <td>NaN</td>\n",
       "    </tr>\n",
       "  </tbody>\n",
       "</table>\n",
       "</div>"
      ],
      "text/plain": [
       "                                                            batsmen  \\\n",
       "match_id innings                                                      \n",
       "335982   1        [BB McCullum, DJ Hussey, Mohammad Hafeez, RT P...   \n",
       "         2        [AA Noffke, B Akhil, CL White, JH Kallis, MV B...   \n",
       "335983   1        [JDP Oram, MEK Hussey, ML Hayden, MS Dhoni, PA...   \n",
       "         2        [IK Pathan, JR Hopes, K Goel, KC Sangakkara, S...   \n",
       "335984   1        [D Salunkhe, DS Lehmann, M Kaif, M Rawat, RA J...   \n",
       "         2                          [G Gambhir, S Dhawan, V Sehwag]   \n",
       "335985   1        [AM Nayar, DJ Thornely, Harbhajan Singh, L Ron...   \n",
       "         2        [B Akhil, JH Kallis, LRPL Taylor, MV Boucher, ...   \n",
       "335987   1        [B Lee, DPMD Jayawardene, IK Pathan, JR Hopes,...   \n",
       "         2        [DS Lehmann, Kamran Akmal, M Kaif, RA Jadeja, ...   \n",
       "335989   1        [JDP Oram, MEK Hussey, ML Hayden, MS Dhoni, PA...   \n",
       "         2        [A Nehra, AM Nayar, DJ Bravo, Harbhajan Singh,...   \n",
       "335991   1        [B Lee, DPMD Jayawardene, IK Pathan, K Goel, K...   \n",
       "         2        [A Nehra, AM Nayar, DJ Bravo, DS Kulkarni, Har...   \n",
       "335992   1        [JH Kallis, LRPL Taylor, MV Boucher, P Kumar, ...   \n",
       "         2        [GC Smith, M Kaif, M Rawat, SR Watson, YK Pathan]   \n",
       "335993   1        [AB Agarkar, AB Dinda, BB McCullum, DJ Hussey,...   \n",
       "         2                          [ML Hayden, MS Dhoni, PA Patel]   \n",
       "335995   1        [G Gambhir, KD Karthik, MF Maharoof, MK Tiwary...   \n",
       "         2        [B Lee, DPMD Jayawardene, IK Pathan, K Goel, K...   \n",
       "\n",
       "                                                            bowlers  \\\n",
       "match_id innings                                                      \n",
       "335982   1        [AA Noffke, CL White, JH Kallis, P Kumar, SB J...   \n",
       "         2        [AB Agarkar, AB Dinda, I Sharma, LR Shukla, SC...   \n",
       "335983   1        [B Lee, IK Pathan, JR Hopes, K Goel, PP Chawla...   \n",
       "         2        [JDP Oram, Joginder Sharma, M Muralitharan, MS...   \n",
       "335984   1        [B Geeves, DL Vettori, GD McGrath, MF Maharoof...   \n",
       "         2        [D Salunkhe, MM Patel, SK Trivedi, SK Warne, S...   \n",
       "335985   1        [B Akhil, JH Kallis, P Kumar, R Vinay Kumar, S...   \n",
       "         2        [A Nehra, AM Nayar, DS Kulkarni, Harbhajan Sin...   \n",
       "335987   1        [D Salunkhe, MM Patel, Pankaj Singh, SK Trived...   \n",
       "         2        [B Lee, IK Pathan, JR Hopes, PP Chawla, S Sree...   \n",
       "335989   1        [A Nehra, AM Nayar, DJ Bravo, DS Kulkarni, Har...   \n",
       "         2        [JDP Oram, Joginder Sharma, M Muralitharan, MS...   \n",
       "335991   1        [A Nehra, DJ Bravo, DS Kulkarni, Harbhajan Sin...   \n",
       "         2        [B Lee, IK Pathan, PP Chawla, S Sreesanth, VRV...   \n",
       "335992   1        [MM Patel, SK Trivedi, SK Warne, SR Watson, So...   \n",
       "         2        [A Kumble, JH Kallis, P Kumar, R Vinay Kumar, ...   \n",
       "335993   1        [JDP Oram, Joginder Sharma, M Muralitharan, MS...   \n",
       "         2        [AB Agarkar, AB Dinda, DJ Hussey, I Sharma, LR...   \n",
       "335995   1        [B Lee, IK Pathan, PP Chawla, S Sreesanth, VRV...   \n",
       "         2        [GD McGrath, MF Maharoof, Mohammad Asif, R Bha...   \n",
       "\n",
       "                  total_runs                 batting_team  \\\n",
       "match_id innings                                            \n",
       "335982   1              67.0        Kolkata Knight Riders   \n",
       "         2              28.0  Royal Challengers Bangalore   \n",
       "335983   1               NaN                          NaN   \n",
       "         2               NaN                          NaN   \n",
       "335984   1               NaN                          NaN   \n",
       "         2               NaN                          NaN   \n",
       "335985   1               NaN                          NaN   \n",
       "         2               NaN                          NaN   \n",
       "335987   1               NaN                          NaN   \n",
       "         2               NaN                          NaN   \n",
       "335989   1              60.0          Chennai Super Kings   \n",
       "         2              54.0               Mumbai Indians   \n",
       "335991   1               NaN                          NaN   \n",
       "         2               NaN                          NaN   \n",
       "335992   1              58.0  Royal Challengers Bangalore   \n",
       "         2              46.0             Rajasthan Royals   \n",
       "335993   1              62.0        Kolkata Knight Riders   \n",
       "         2              52.0          Chennai Super Kings   \n",
       "335995   1               NaN                          NaN   \n",
       "         2               NaN                          NaN   \n",
       "\n",
       "                                 bowling_team                   venue    year  \n",
       "match_id innings                                                               \n",
       "335982   1        Royal Challengers Bangalore   M Chinnaswamy Stadium  2007.0  \n",
       "         2              Kolkata Knight Riders   M Chinnaswamy Stadium  2007.0  \n",
       "335983   1                                NaN                     NaN     NaN  \n",
       "         2                                NaN                     NaN     NaN  \n",
       "335984   1                                NaN                     NaN     NaN  \n",
       "         2                                NaN                     NaN     NaN  \n",
       "335985   1                                NaN                     NaN     NaN  \n",
       "         2                                NaN                     NaN     NaN  \n",
       "335987   1                                NaN                     NaN     NaN  \n",
       "         2                                NaN                     NaN     NaN  \n",
       "335989   1                     Mumbai Indians  MA Chidambaram Stadium  2007.0  \n",
       "         2                Chennai Super Kings  MA Chidambaram Stadium  2007.0  \n",
       "335991   1                                NaN                     NaN     NaN  \n",
       "         2                                NaN                     NaN     NaN  \n",
       "335992   1                   Rajasthan Royals   M Chinnaswamy Stadium  2007.0  \n",
       "         2        Royal Challengers Bangalore   M Chinnaswamy Stadium  2007.0  \n",
       "335993   1                Chennai Super Kings  MA Chidambaram Stadium  2007.0  \n",
       "         2              Kolkata Knight Riders  MA Chidambaram Stadium  2007.0  \n",
       "335995   1                                NaN                     NaN     NaN  \n",
       "         2                                NaN                     NaN     NaN  "
      ]
     },
     "execution_count": 69,
     "metadata": {},
     "output_type": "execute_result"
    }
   ],
   "source": [
    "concat_data.head(20)"
   ]
  },
  {
   "cell_type": "code",
   "execution_count": null,
   "id": "painted-irish",
   "metadata": {},
   "outputs": [],
   "source": []
  },
  {
   "cell_type": "code",
   "execution_count": 70,
   "id": "julian-hungary",
   "metadata": {},
   "outputs": [],
   "source": [
    "concat_data.drop('year',axis=1,inplace=True)"
   ]
  },
  {
   "cell_type": "code",
   "execution_count": 71,
   "id": "instrumental-disability",
   "metadata": {},
   "outputs": [
    {
     "data": {
      "text/html": [
       "<div>\n",
       "<style scoped>\n",
       "    .dataframe tbody tr th:only-of-type {\n",
       "        vertical-align: middle;\n",
       "    }\n",
       "\n",
       "    .dataframe tbody tr th {\n",
       "        vertical-align: top;\n",
       "    }\n",
       "\n",
       "    .dataframe thead th {\n",
       "        text-align: right;\n",
       "    }\n",
       "</style>\n",
       "<table border=\"1\" class=\"dataframe\">\n",
       "  <thead>\n",
       "    <tr style=\"text-align: right;\">\n",
       "      <th></th>\n",
       "      <th></th>\n",
       "      <th>batsmen</th>\n",
       "      <th>bowlers</th>\n",
       "      <th>total_runs</th>\n",
       "      <th>batting_team</th>\n",
       "      <th>bowling_team</th>\n",
       "      <th>venue</th>\n",
       "    </tr>\n",
       "    <tr>\n",
       "      <th>match_id</th>\n",
       "      <th>innings</th>\n",
       "      <th></th>\n",
       "      <th></th>\n",
       "      <th></th>\n",
       "      <th></th>\n",
       "      <th></th>\n",
       "      <th></th>\n",
       "    </tr>\n",
       "  </thead>\n",
       "  <tbody>\n",
       "    <tr>\n",
       "      <th rowspan=\"2\" valign=\"top\">335982</th>\n",
       "      <th>1</th>\n",
       "      <td>[BB McCullum, DJ Hussey, Mohammad Hafeez, RT P...</td>\n",
       "      <td>[AA Noffke, CL White, JH Kallis, P Kumar, SB J...</td>\n",
       "      <td>67.0</td>\n",
       "      <td>Kolkata Knight Riders</td>\n",
       "      <td>Royal Challengers Bangalore</td>\n",
       "      <td>M Chinnaswamy Stadium</td>\n",
       "    </tr>\n",
       "    <tr>\n",
       "      <th>2</th>\n",
       "      <td>[AA Noffke, B Akhil, CL White, JH Kallis, MV B...</td>\n",
       "      <td>[AB Agarkar, AB Dinda, I Sharma, LR Shukla, SC...</td>\n",
       "      <td>28.0</td>\n",
       "      <td>Royal Challengers Bangalore</td>\n",
       "      <td>Kolkata Knight Riders</td>\n",
       "      <td>M Chinnaswamy Stadium</td>\n",
       "    </tr>\n",
       "    <tr>\n",
       "      <th rowspan=\"2\" valign=\"top\">335983</th>\n",
       "      <th>1</th>\n",
       "      <td>[JDP Oram, MEK Hussey, ML Hayden, MS Dhoni, PA...</td>\n",
       "      <td>[B Lee, IK Pathan, JR Hopes, K Goel, PP Chawla...</td>\n",
       "      <td>NaN</td>\n",
       "      <td>NaN</td>\n",
       "      <td>NaN</td>\n",
       "      <td>NaN</td>\n",
       "    </tr>\n",
       "    <tr>\n",
       "      <th>2</th>\n",
       "      <td>[IK Pathan, JR Hopes, K Goel, KC Sangakkara, S...</td>\n",
       "      <td>[JDP Oram, Joginder Sharma, M Muralitharan, MS...</td>\n",
       "      <td>NaN</td>\n",
       "      <td>NaN</td>\n",
       "      <td>NaN</td>\n",
       "      <td>NaN</td>\n",
       "    </tr>\n",
       "    <tr>\n",
       "      <th>335984</th>\n",
       "      <th>1</th>\n",
       "      <td>[D Salunkhe, DS Lehmann, M Kaif, M Rawat, RA J...</td>\n",
       "      <td>[B Geeves, DL Vettori, GD McGrath, MF Maharoof...</td>\n",
       "      <td>NaN</td>\n",
       "      <td>NaN</td>\n",
       "      <td>NaN</td>\n",
       "      <td>NaN</td>\n",
       "    </tr>\n",
       "  </tbody>\n",
       "</table>\n",
       "</div>"
      ],
      "text/plain": [
       "                                                            batsmen  \\\n",
       "match_id innings                                                      \n",
       "335982   1        [BB McCullum, DJ Hussey, Mohammad Hafeez, RT P...   \n",
       "         2        [AA Noffke, B Akhil, CL White, JH Kallis, MV B...   \n",
       "335983   1        [JDP Oram, MEK Hussey, ML Hayden, MS Dhoni, PA...   \n",
       "         2        [IK Pathan, JR Hopes, K Goel, KC Sangakkara, S...   \n",
       "335984   1        [D Salunkhe, DS Lehmann, M Kaif, M Rawat, RA J...   \n",
       "\n",
       "                                                            bowlers  \\\n",
       "match_id innings                                                      \n",
       "335982   1        [AA Noffke, CL White, JH Kallis, P Kumar, SB J...   \n",
       "         2        [AB Agarkar, AB Dinda, I Sharma, LR Shukla, SC...   \n",
       "335983   1        [B Lee, IK Pathan, JR Hopes, K Goel, PP Chawla...   \n",
       "         2        [JDP Oram, Joginder Sharma, M Muralitharan, MS...   \n",
       "335984   1        [B Geeves, DL Vettori, GD McGrath, MF Maharoof...   \n",
       "\n",
       "                  total_runs                 batting_team  \\\n",
       "match_id innings                                            \n",
       "335982   1              67.0        Kolkata Knight Riders   \n",
       "         2              28.0  Royal Challengers Bangalore   \n",
       "335983   1               NaN                          NaN   \n",
       "         2               NaN                          NaN   \n",
       "335984   1               NaN                          NaN   \n",
       "\n",
       "                                 bowling_team                  venue  \n",
       "match_id innings                                                      \n",
       "335982   1        Royal Challengers Bangalore  M Chinnaswamy Stadium  \n",
       "         2              Kolkata Knight Riders  M Chinnaswamy Stadium  \n",
       "335983   1                                NaN                    NaN  \n",
       "         2                                NaN                    NaN  \n",
       "335984   1                                NaN                    NaN  "
      ]
     },
     "execution_count": 71,
     "metadata": {},
     "output_type": "execute_result"
    }
   ],
   "source": [
    "concat_data.head()"
   ]
  },
  {
   "cell_type": "code",
   "execution_count": null,
   "id": "vulnerable-excess",
   "metadata": {},
   "outputs": [],
   "source": []
  },
  {
   "cell_type": "code",
   "execution_count": 72,
   "id": "possible-albany",
   "metadata": {},
   "outputs": [
    {
     "data": {
      "text/html": [
       "<div>\n",
       "<style scoped>\n",
       "    .dataframe tbody tr th:only-of-type {\n",
       "        vertical-align: middle;\n",
       "    }\n",
       "\n",
       "    .dataframe tbody tr th {\n",
       "        vertical-align: top;\n",
       "    }\n",
       "\n",
       "    .dataframe thead th {\n",
       "        text-align: right;\n",
       "    }\n",
       "</style>\n",
       "<table border=\"1\" class=\"dataframe\">\n",
       "  <thead>\n",
       "    <tr style=\"text-align: right;\">\n",
       "      <th></th>\n",
       "      <th></th>\n",
       "      <th>batsmen</th>\n",
       "      <th>bowlers</th>\n",
       "      <th>total_runs</th>\n",
       "      <th>batting_team</th>\n",
       "      <th>bowling_team</th>\n",
       "      <th>venue</th>\n",
       "    </tr>\n",
       "    <tr>\n",
       "      <th>match_id</th>\n",
       "      <th>innings</th>\n",
       "      <th></th>\n",
       "      <th></th>\n",
       "      <th></th>\n",
       "      <th></th>\n",
       "      <th></th>\n",
       "      <th></th>\n",
       "    </tr>\n",
       "  </thead>\n",
       "  <tbody>\n",
       "    <tr>\n",
       "      <th rowspan=\"2\" valign=\"top\">335982</th>\n",
       "      <th>1</th>\n",
       "      <td>[BB McCullum, DJ Hussey, Mohammad Hafeez, RT P...</td>\n",
       "      <td>[AA Noffke, CL White, JH Kallis, P Kumar, SB J...</td>\n",
       "      <td>67.0</td>\n",
       "      <td>Kolkata Knight Riders</td>\n",
       "      <td>Royal Challengers Bangalore</td>\n",
       "      <td>M Chinnaswamy Stadium</td>\n",
       "    </tr>\n",
       "    <tr>\n",
       "      <th>2</th>\n",
       "      <td>[AA Noffke, B Akhil, CL White, JH Kallis, MV B...</td>\n",
       "      <td>[AB Agarkar, AB Dinda, I Sharma, LR Shukla, SC...</td>\n",
       "      <td>28.0</td>\n",
       "      <td>Royal Challengers Bangalore</td>\n",
       "      <td>Kolkata Knight Riders</td>\n",
       "      <td>M Chinnaswamy Stadium</td>\n",
       "    </tr>\n",
       "    <tr>\n",
       "      <th rowspan=\"2\" valign=\"top\">335983</th>\n",
       "      <th>1</th>\n",
       "      <td>[JDP Oram, MEK Hussey, ML Hayden, MS Dhoni, PA...</td>\n",
       "      <td>[B Lee, IK Pathan, JR Hopes, K Goel, PP Chawla...</td>\n",
       "      <td>NaN</td>\n",
       "      <td>NaN</td>\n",
       "      <td>NaN</td>\n",
       "      <td>NaN</td>\n",
       "    </tr>\n",
       "    <tr>\n",
       "      <th>2</th>\n",
       "      <td>[IK Pathan, JR Hopes, K Goel, KC Sangakkara, S...</td>\n",
       "      <td>[JDP Oram, Joginder Sharma, M Muralitharan, MS...</td>\n",
       "      <td>NaN</td>\n",
       "      <td>NaN</td>\n",
       "      <td>NaN</td>\n",
       "      <td>NaN</td>\n",
       "    </tr>\n",
       "    <tr>\n",
       "      <th rowspan=\"2\" valign=\"top\">335984</th>\n",
       "      <th>1</th>\n",
       "      <td>[D Salunkhe, DS Lehmann, M Kaif, M Rawat, RA J...</td>\n",
       "      <td>[B Geeves, DL Vettori, GD McGrath, MF Maharoof...</td>\n",
       "      <td>NaN</td>\n",
       "      <td>NaN</td>\n",
       "      <td>NaN</td>\n",
       "      <td>NaN</td>\n",
       "    </tr>\n",
       "    <tr>\n",
       "      <th>2</th>\n",
       "      <td>[G Gambhir, S Dhawan, V Sehwag]</td>\n",
       "      <td>[D Salunkhe, MM Patel, SK Trivedi, SK Warne, S...</td>\n",
       "      <td>NaN</td>\n",
       "      <td>NaN</td>\n",
       "      <td>NaN</td>\n",
       "      <td>NaN</td>\n",
       "    </tr>\n",
       "    <tr>\n",
       "      <th rowspan=\"2\" valign=\"top\">335985</th>\n",
       "      <th>1</th>\n",
       "      <td>[AM Nayar, DJ Thornely, Harbhajan Singh, L Ron...</td>\n",
       "      <td>[B Akhil, JH Kallis, P Kumar, R Vinay Kumar, S...</td>\n",
       "      <td>NaN</td>\n",
       "      <td>NaN</td>\n",
       "      <td>NaN</td>\n",
       "      <td>NaN</td>\n",
       "    </tr>\n",
       "    <tr>\n",
       "      <th>2</th>\n",
       "      <td>[B Akhil, JH Kallis, LRPL Taylor, MV Boucher, ...</td>\n",
       "      <td>[A Nehra, AM Nayar, DS Kulkarni, Harbhajan Sin...</td>\n",
       "      <td>NaN</td>\n",
       "      <td>NaN</td>\n",
       "      <td>NaN</td>\n",
       "      <td>NaN</td>\n",
       "    </tr>\n",
       "    <tr>\n",
       "      <th rowspan=\"2\" valign=\"top\">335987</th>\n",
       "      <th>1</th>\n",
       "      <td>[B Lee, DPMD Jayawardene, IK Pathan, JR Hopes,...</td>\n",
       "      <td>[D Salunkhe, MM Patel, Pankaj Singh, SK Trived...</td>\n",
       "      <td>NaN</td>\n",
       "      <td>NaN</td>\n",
       "      <td>NaN</td>\n",
       "      <td>NaN</td>\n",
       "    </tr>\n",
       "    <tr>\n",
       "      <th>2</th>\n",
       "      <td>[DS Lehmann, Kamran Akmal, M Kaif, RA Jadeja, ...</td>\n",
       "      <td>[B Lee, IK Pathan, JR Hopes, PP Chawla, S Sree...</td>\n",
       "      <td>NaN</td>\n",
       "      <td>NaN</td>\n",
       "      <td>NaN</td>\n",
       "      <td>NaN</td>\n",
       "    </tr>\n",
       "    <tr>\n",
       "      <th rowspan=\"2\" valign=\"top\">335989</th>\n",
       "      <th>1</th>\n",
       "      <td>[JDP Oram, MEK Hussey, ML Hayden, MS Dhoni, PA...</td>\n",
       "      <td>[A Nehra, AM Nayar, DJ Bravo, DS Kulkarni, Har...</td>\n",
       "      <td>60.0</td>\n",
       "      <td>Chennai Super Kings</td>\n",
       "      <td>Mumbai Indians</td>\n",
       "      <td>MA Chidambaram Stadium</td>\n",
       "    </tr>\n",
       "    <tr>\n",
       "      <th>2</th>\n",
       "      <td>[A Nehra, AM Nayar, DJ Bravo, Harbhajan Singh,...</td>\n",
       "      <td>[JDP Oram, Joginder Sharma, M Muralitharan, MS...</td>\n",
       "      <td>54.0</td>\n",
       "      <td>Mumbai Indians</td>\n",
       "      <td>Chennai Super Kings</td>\n",
       "      <td>MA Chidambaram Stadium</td>\n",
       "    </tr>\n",
       "    <tr>\n",
       "      <th rowspan=\"2\" valign=\"top\">335991</th>\n",
       "      <th>1</th>\n",
       "      <td>[B Lee, DPMD Jayawardene, IK Pathan, K Goel, K...</td>\n",
       "      <td>[A Nehra, DJ Bravo, DS Kulkarni, Harbhajan Sin...</td>\n",
       "      <td>NaN</td>\n",
       "      <td>NaN</td>\n",
       "      <td>NaN</td>\n",
       "      <td>NaN</td>\n",
       "    </tr>\n",
       "    <tr>\n",
       "      <th>2</th>\n",
       "      <td>[A Nehra, AM Nayar, DJ Bravo, DS Kulkarni, Har...</td>\n",
       "      <td>[B Lee, IK Pathan, PP Chawla, S Sreesanth, VRV...</td>\n",
       "      <td>NaN</td>\n",
       "      <td>NaN</td>\n",
       "      <td>NaN</td>\n",
       "      <td>NaN</td>\n",
       "    </tr>\n",
       "    <tr>\n",
       "      <th rowspan=\"2\" valign=\"top\">335992</th>\n",
       "      <th>1</th>\n",
       "      <td>[JH Kallis, LRPL Taylor, MV Boucher, P Kumar, ...</td>\n",
       "      <td>[MM Patel, SK Trivedi, SK Warne, SR Watson, So...</td>\n",
       "      <td>58.0</td>\n",
       "      <td>Royal Challengers Bangalore</td>\n",
       "      <td>Rajasthan Royals</td>\n",
       "      <td>M Chinnaswamy Stadium</td>\n",
       "    </tr>\n",
       "    <tr>\n",
       "      <th>2</th>\n",
       "      <td>[GC Smith, M Kaif, M Rawat, SR Watson, YK Pathan]</td>\n",
       "      <td>[A Kumble, JH Kallis, P Kumar, R Vinay Kumar, ...</td>\n",
       "      <td>46.0</td>\n",
       "      <td>Rajasthan Royals</td>\n",
       "      <td>Royal Challengers Bangalore</td>\n",
       "      <td>M Chinnaswamy Stadium</td>\n",
       "    </tr>\n",
       "    <tr>\n",
       "      <th rowspan=\"2\" valign=\"top\">335993</th>\n",
       "      <th>1</th>\n",
       "      <td>[AB Agarkar, AB Dinda, BB McCullum, DJ Hussey,...</td>\n",
       "      <td>[JDP Oram, Joginder Sharma, M Muralitharan, MS...</td>\n",
       "      <td>62.0</td>\n",
       "      <td>Kolkata Knight Riders</td>\n",
       "      <td>Chennai Super Kings</td>\n",
       "      <td>MA Chidambaram Stadium</td>\n",
       "    </tr>\n",
       "    <tr>\n",
       "      <th>2</th>\n",
       "      <td>[ML Hayden, MS Dhoni, PA Patel]</td>\n",
       "      <td>[AB Agarkar, AB Dinda, DJ Hussey, I Sharma, LR...</td>\n",
       "      <td>52.0</td>\n",
       "      <td>Chennai Super Kings</td>\n",
       "      <td>Kolkata Knight Riders</td>\n",
       "      <td>MA Chidambaram Stadium</td>\n",
       "    </tr>\n",
       "    <tr>\n",
       "      <th rowspan=\"2\" valign=\"top\">335995</th>\n",
       "      <th>1</th>\n",
       "      <td>[G Gambhir, KD Karthik, MF Maharoof, MK Tiwary...</td>\n",
       "      <td>[B Lee, IK Pathan, PP Chawla, S Sreesanth, VRV...</td>\n",
       "      <td>NaN</td>\n",
       "      <td>NaN</td>\n",
       "      <td>NaN</td>\n",
       "      <td>NaN</td>\n",
       "    </tr>\n",
       "    <tr>\n",
       "      <th>2</th>\n",
       "      <td>[B Lee, DPMD Jayawardene, IK Pathan, K Goel, K...</td>\n",
       "      <td>[GD McGrath, MF Maharoof, Mohammad Asif, R Bha...</td>\n",
       "      <td>NaN</td>\n",
       "      <td>NaN</td>\n",
       "      <td>NaN</td>\n",
       "      <td>NaN</td>\n",
       "    </tr>\n",
       "  </tbody>\n",
       "</table>\n",
       "</div>"
      ],
      "text/plain": [
       "                                                            batsmen  \\\n",
       "match_id innings                                                      \n",
       "335982   1        [BB McCullum, DJ Hussey, Mohammad Hafeez, RT P...   \n",
       "         2        [AA Noffke, B Akhil, CL White, JH Kallis, MV B...   \n",
       "335983   1        [JDP Oram, MEK Hussey, ML Hayden, MS Dhoni, PA...   \n",
       "         2        [IK Pathan, JR Hopes, K Goel, KC Sangakkara, S...   \n",
       "335984   1        [D Salunkhe, DS Lehmann, M Kaif, M Rawat, RA J...   \n",
       "         2                          [G Gambhir, S Dhawan, V Sehwag]   \n",
       "335985   1        [AM Nayar, DJ Thornely, Harbhajan Singh, L Ron...   \n",
       "         2        [B Akhil, JH Kallis, LRPL Taylor, MV Boucher, ...   \n",
       "335987   1        [B Lee, DPMD Jayawardene, IK Pathan, JR Hopes,...   \n",
       "         2        [DS Lehmann, Kamran Akmal, M Kaif, RA Jadeja, ...   \n",
       "335989   1        [JDP Oram, MEK Hussey, ML Hayden, MS Dhoni, PA...   \n",
       "         2        [A Nehra, AM Nayar, DJ Bravo, Harbhajan Singh,...   \n",
       "335991   1        [B Lee, DPMD Jayawardene, IK Pathan, K Goel, K...   \n",
       "         2        [A Nehra, AM Nayar, DJ Bravo, DS Kulkarni, Har...   \n",
       "335992   1        [JH Kallis, LRPL Taylor, MV Boucher, P Kumar, ...   \n",
       "         2        [GC Smith, M Kaif, M Rawat, SR Watson, YK Pathan]   \n",
       "335993   1        [AB Agarkar, AB Dinda, BB McCullum, DJ Hussey,...   \n",
       "         2                          [ML Hayden, MS Dhoni, PA Patel]   \n",
       "335995   1        [G Gambhir, KD Karthik, MF Maharoof, MK Tiwary...   \n",
       "         2        [B Lee, DPMD Jayawardene, IK Pathan, K Goel, K...   \n",
       "\n",
       "                                                            bowlers  \\\n",
       "match_id innings                                                      \n",
       "335982   1        [AA Noffke, CL White, JH Kallis, P Kumar, SB J...   \n",
       "         2        [AB Agarkar, AB Dinda, I Sharma, LR Shukla, SC...   \n",
       "335983   1        [B Lee, IK Pathan, JR Hopes, K Goel, PP Chawla...   \n",
       "         2        [JDP Oram, Joginder Sharma, M Muralitharan, MS...   \n",
       "335984   1        [B Geeves, DL Vettori, GD McGrath, MF Maharoof...   \n",
       "         2        [D Salunkhe, MM Patel, SK Trivedi, SK Warne, S...   \n",
       "335985   1        [B Akhil, JH Kallis, P Kumar, R Vinay Kumar, S...   \n",
       "         2        [A Nehra, AM Nayar, DS Kulkarni, Harbhajan Sin...   \n",
       "335987   1        [D Salunkhe, MM Patel, Pankaj Singh, SK Trived...   \n",
       "         2        [B Lee, IK Pathan, JR Hopes, PP Chawla, S Sree...   \n",
       "335989   1        [A Nehra, AM Nayar, DJ Bravo, DS Kulkarni, Har...   \n",
       "         2        [JDP Oram, Joginder Sharma, M Muralitharan, MS...   \n",
       "335991   1        [A Nehra, DJ Bravo, DS Kulkarni, Harbhajan Sin...   \n",
       "         2        [B Lee, IK Pathan, PP Chawla, S Sreesanth, VRV...   \n",
       "335992   1        [MM Patel, SK Trivedi, SK Warne, SR Watson, So...   \n",
       "         2        [A Kumble, JH Kallis, P Kumar, R Vinay Kumar, ...   \n",
       "335993   1        [JDP Oram, Joginder Sharma, M Muralitharan, MS...   \n",
       "         2        [AB Agarkar, AB Dinda, DJ Hussey, I Sharma, LR...   \n",
       "335995   1        [B Lee, IK Pathan, PP Chawla, S Sreesanth, VRV...   \n",
       "         2        [GD McGrath, MF Maharoof, Mohammad Asif, R Bha...   \n",
       "\n",
       "                  total_runs                 batting_team  \\\n",
       "match_id innings                                            \n",
       "335982   1              67.0        Kolkata Knight Riders   \n",
       "         2              28.0  Royal Challengers Bangalore   \n",
       "335983   1               NaN                          NaN   \n",
       "         2               NaN                          NaN   \n",
       "335984   1               NaN                          NaN   \n",
       "         2               NaN                          NaN   \n",
       "335985   1               NaN                          NaN   \n",
       "         2               NaN                          NaN   \n",
       "335987   1               NaN                          NaN   \n",
       "         2               NaN                          NaN   \n",
       "335989   1              60.0          Chennai Super Kings   \n",
       "         2              54.0               Mumbai Indians   \n",
       "335991   1               NaN                          NaN   \n",
       "         2               NaN                          NaN   \n",
       "335992   1              58.0  Royal Challengers Bangalore   \n",
       "         2              46.0             Rajasthan Royals   \n",
       "335993   1              62.0        Kolkata Knight Riders   \n",
       "         2              52.0          Chennai Super Kings   \n",
       "335995   1               NaN                          NaN   \n",
       "         2               NaN                          NaN   \n",
       "\n",
       "                                 bowling_team                   venue  \n",
       "match_id innings                                                       \n",
       "335982   1        Royal Challengers Bangalore   M Chinnaswamy Stadium  \n",
       "         2              Kolkata Knight Riders   M Chinnaswamy Stadium  \n",
       "335983   1                                NaN                     NaN  \n",
       "         2                                NaN                     NaN  \n",
       "335984   1                                NaN                     NaN  \n",
       "         2                                NaN                     NaN  \n",
       "335985   1                                NaN                     NaN  \n",
       "         2                                NaN                     NaN  \n",
       "335987   1                                NaN                     NaN  \n",
       "         2                                NaN                     NaN  \n",
       "335989   1                     Mumbai Indians  MA Chidambaram Stadium  \n",
       "         2                Chennai Super Kings  MA Chidambaram Stadium  \n",
       "335991   1                                NaN                     NaN  \n",
       "         2                                NaN                     NaN  \n",
       "335992   1                   Rajasthan Royals   M Chinnaswamy Stadium  \n",
       "         2        Royal Challengers Bangalore   M Chinnaswamy Stadium  \n",
       "335993   1                Chennai Super Kings  MA Chidambaram Stadium  \n",
       "         2              Kolkata Knight Riders  MA Chidambaram Stadium  \n",
       "335995   1                                NaN                     NaN  \n",
       "         2                                NaN                     NaN  "
      ]
     },
     "execution_count": 72,
     "metadata": {},
     "output_type": "execute_result"
    }
   ],
   "source": [
    "concat_data.head(20)"
   ]
  },
  {
   "cell_type": "code",
   "execution_count": 73,
   "id": "authorized-baghdad",
   "metadata": {},
   "outputs": [],
   "source": [
    "#concat_data['batsmen'].unique()"
   ]
  },
  {
   "cell_type": "code",
   "execution_count": 74,
   "id": "wicked-sleeping",
   "metadata": {},
   "outputs": [],
   "source": [
    "#concat_data = pd.get_dummies(data=df, columns=['batting_team', 'bowling_team', 'venue'])"
   ]
  },
  {
   "cell_type": "code",
   "execution_count": 75,
   "id": "steady-chosen",
   "metadata": {},
   "outputs": [],
   "source": [
    "from sklearn.preprocessing import MultiLabelBinarizer"
   ]
  },
  {
   "cell_type": "code",
   "execution_count": null,
   "id": "pediatric-engineer",
   "metadata": {},
   "outputs": [],
   "source": []
  },
  {
   "cell_type": "code",
   "execution_count": null,
   "id": "stone-elder",
   "metadata": {},
   "outputs": [],
   "source": []
  },
  {
   "cell_type": "code",
   "execution_count": 76,
   "id": "recovered-encounter",
   "metadata": {},
   "outputs": [
    {
     "data": {
      "text/html": [
       "<div>\n",
       "<style scoped>\n",
       "    .dataframe tbody tr th:only-of-type {\n",
       "        vertical-align: middle;\n",
       "    }\n",
       "\n",
       "    .dataframe tbody tr th {\n",
       "        vertical-align: top;\n",
       "    }\n",
       "\n",
       "    .dataframe thead th {\n",
       "        text-align: right;\n",
       "    }\n",
       "</style>\n",
       "<table border=\"1\" class=\"dataframe\">\n",
       "  <thead>\n",
       "    <tr style=\"text-align: right;\">\n",
       "      <th></th>\n",
       "      <th></th>\n",
       "      <th>batsmen</th>\n",
       "      <th>bowlers</th>\n",
       "      <th>total_runs</th>\n",
       "      <th>batting_team</th>\n",
       "      <th>bowling_team</th>\n",
       "      <th>venue</th>\n",
       "    </tr>\n",
       "    <tr>\n",
       "      <th>match_id</th>\n",
       "      <th>innings</th>\n",
       "      <th></th>\n",
       "      <th></th>\n",
       "      <th></th>\n",
       "      <th></th>\n",
       "      <th></th>\n",
       "      <th></th>\n",
       "    </tr>\n",
       "  </thead>\n",
       "  <tbody>\n",
       "    <tr>\n",
       "      <th rowspan=\"2\" valign=\"top\">335982</th>\n",
       "      <th>1</th>\n",
       "      <td>[BB McCullum, DJ Hussey, Mohammad Hafeez, RT P...</td>\n",
       "      <td>[AA Noffke, CL White, JH Kallis, P Kumar, SB J...</td>\n",
       "      <td>67.0</td>\n",
       "      <td>Kolkata Knight Riders</td>\n",
       "      <td>Royal Challengers Bangalore</td>\n",
       "      <td>M Chinnaswamy Stadium</td>\n",
       "    </tr>\n",
       "    <tr>\n",
       "      <th>2</th>\n",
       "      <td>[AA Noffke, B Akhil, CL White, JH Kallis, MV B...</td>\n",
       "      <td>[AB Agarkar, AB Dinda, I Sharma, LR Shukla, SC...</td>\n",
       "      <td>28.0</td>\n",
       "      <td>Royal Challengers Bangalore</td>\n",
       "      <td>Kolkata Knight Riders</td>\n",
       "      <td>M Chinnaswamy Stadium</td>\n",
       "    </tr>\n",
       "    <tr>\n",
       "      <th rowspan=\"2\" valign=\"top\">335983</th>\n",
       "      <th>1</th>\n",
       "      <td>[JDP Oram, MEK Hussey, ML Hayden, MS Dhoni, PA...</td>\n",
       "      <td>[B Lee, IK Pathan, JR Hopes, K Goel, PP Chawla...</td>\n",
       "      <td>NaN</td>\n",
       "      <td>NaN</td>\n",
       "      <td>NaN</td>\n",
       "      <td>NaN</td>\n",
       "    </tr>\n",
       "    <tr>\n",
       "      <th>2</th>\n",
       "      <td>[IK Pathan, JR Hopes, K Goel, KC Sangakkara, S...</td>\n",
       "      <td>[JDP Oram, Joginder Sharma, M Muralitharan, MS...</td>\n",
       "      <td>NaN</td>\n",
       "      <td>NaN</td>\n",
       "      <td>NaN</td>\n",
       "      <td>NaN</td>\n",
       "    </tr>\n",
       "    <tr>\n",
       "      <th>335984</th>\n",
       "      <th>1</th>\n",
       "      <td>[D Salunkhe, DS Lehmann, M Kaif, M Rawat, RA J...</td>\n",
       "      <td>[B Geeves, DL Vettori, GD McGrath, MF Maharoof...</td>\n",
       "      <td>NaN</td>\n",
       "      <td>NaN</td>\n",
       "      <td>NaN</td>\n",
       "      <td>NaN</td>\n",
       "    </tr>\n",
       "  </tbody>\n",
       "</table>\n",
       "</div>"
      ],
      "text/plain": [
       "                                                            batsmen  \\\n",
       "match_id innings                                                      \n",
       "335982   1        [BB McCullum, DJ Hussey, Mohammad Hafeez, RT P...   \n",
       "         2        [AA Noffke, B Akhil, CL White, JH Kallis, MV B...   \n",
       "335983   1        [JDP Oram, MEK Hussey, ML Hayden, MS Dhoni, PA...   \n",
       "         2        [IK Pathan, JR Hopes, K Goel, KC Sangakkara, S...   \n",
       "335984   1        [D Salunkhe, DS Lehmann, M Kaif, M Rawat, RA J...   \n",
       "\n",
       "                                                            bowlers  \\\n",
       "match_id innings                                                      \n",
       "335982   1        [AA Noffke, CL White, JH Kallis, P Kumar, SB J...   \n",
       "         2        [AB Agarkar, AB Dinda, I Sharma, LR Shukla, SC...   \n",
       "335983   1        [B Lee, IK Pathan, JR Hopes, K Goel, PP Chawla...   \n",
       "         2        [JDP Oram, Joginder Sharma, M Muralitharan, MS...   \n",
       "335984   1        [B Geeves, DL Vettori, GD McGrath, MF Maharoof...   \n",
       "\n",
       "                  total_runs                 batting_team  \\\n",
       "match_id innings                                            \n",
       "335982   1              67.0        Kolkata Knight Riders   \n",
       "         2              28.0  Royal Challengers Bangalore   \n",
       "335983   1               NaN                          NaN   \n",
       "         2               NaN                          NaN   \n",
       "335984   1               NaN                          NaN   \n",
       "\n",
       "                                 bowling_team                  venue  \n",
       "match_id innings                                                      \n",
       "335982   1        Royal Challengers Bangalore  M Chinnaswamy Stadium  \n",
       "         2              Kolkata Knight Riders  M Chinnaswamy Stadium  \n",
       "335983   1                                NaN                    NaN  \n",
       "         2                                NaN                    NaN  \n",
       "335984   1                                NaN                    NaN  "
      ]
     },
     "execution_count": 76,
     "metadata": {},
     "output_type": "execute_result"
    }
   ],
   "source": [
    "concat_data.head()"
   ]
  },
  {
   "cell_type": "code",
   "execution_count": 78,
   "id": "going-drunk",
   "metadata": {},
   "outputs": [],
   "source": [
    "#len(lb.classes_)"
   ]
  },
  {
   "cell_type": "code",
   "execution_count": 79,
   "id": "loose-injury",
   "metadata": {},
   "outputs": [
    {
     "data": {
      "text/plain": [
       "match_id         int64\n",
       "venue           object\n",
       "innings          int64\n",
       "ball           float64\n",
       "striker         object\n",
       "non_striker     object\n",
       "bowler          object\n",
       "year             int32\n",
       "dtype: object"
      ]
     },
     "execution_count": 79,
     "metadata": {},
     "output_type": "execute_result"
    }
   ],
   "source": [
    "df.dtypes"
   ]
  },
  {
   "cell_type": "code",
   "execution_count": 80,
   "id": "affecting-present",
   "metadata": {},
   "outputs": [],
   "source": [
    "from sklearn.preprocessing import LabelEncoder"
   ]
  },
  {
   "cell_type": "code",
   "execution_count": 81,
   "id": "about-counter",
   "metadata": {},
   "outputs": [],
   "source": [
    "le = LabelEncoder()"
   ]
  },
  {
   "cell_type": "code",
   "execution_count": 82,
   "id": "little-branch",
   "metadata": {},
   "outputs": [
    {
     "data": {
      "text/plain": [
       "LabelEncoder()"
      ]
     },
     "execution_count": 82,
     "metadata": {},
     "output_type": "execute_result"
    }
   ],
   "source": [
    "le.fit(df['striker'])"
   ]
  },
  {
   "cell_type": "code",
   "execution_count": 83,
   "id": "hairy-marker",
   "metadata": {},
   "outputs": [
    {
     "data": {
      "text/html": [
       "<div>\n",
       "<style scoped>\n",
       "    .dataframe tbody tr th:only-of-type {\n",
       "        vertical-align: middle;\n",
       "    }\n",
       "\n",
       "    .dataframe tbody tr th {\n",
       "        vertical-align: top;\n",
       "    }\n",
       "\n",
       "    .dataframe thead th {\n",
       "        text-align: right;\n",
       "    }\n",
       "</style>\n",
       "<table border=\"1\" class=\"dataframe\">\n",
       "  <thead>\n",
       "    <tr style=\"text-align: right;\">\n",
       "      <th></th>\n",
       "      <th>match_id</th>\n",
       "      <th>venue</th>\n",
       "      <th>innings</th>\n",
       "      <th>ball</th>\n",
       "      <th>striker</th>\n",
       "      <th>non_striker</th>\n",
       "      <th>bowler</th>\n",
       "      <th>year</th>\n",
       "    </tr>\n",
       "  </thead>\n",
       "  <tbody>\n",
       "    <tr>\n",
       "      <th>960</th>\n",
       "      <td>1082595</td>\n",
       "      <td>M Chinnaswamy Stadium</td>\n",
       "      <td>1</td>\n",
       "      <td>0.1</td>\n",
       "      <td>CH Gayle</td>\n",
       "      <td>SR Watson</td>\n",
       "      <td>Z Khan</td>\n",
       "      <td>2017</td>\n",
       "    </tr>\n",
       "    <tr>\n",
       "      <th>961</th>\n",
       "      <td>1082595</td>\n",
       "      <td>M Chinnaswamy Stadium</td>\n",
       "      <td>1</td>\n",
       "      <td>0.2</td>\n",
       "      <td>SR Watson</td>\n",
       "      <td>CH Gayle</td>\n",
       "      <td>Z Khan</td>\n",
       "      <td>2017</td>\n",
       "    </tr>\n",
       "    <tr>\n",
       "      <th>962</th>\n",
       "      <td>1082595</td>\n",
       "      <td>M Chinnaswamy Stadium</td>\n",
       "      <td>1</td>\n",
       "      <td>0.3</td>\n",
       "      <td>SR Watson</td>\n",
       "      <td>CH Gayle</td>\n",
       "      <td>Z Khan</td>\n",
       "      <td>2017</td>\n",
       "    </tr>\n",
       "    <tr>\n",
       "      <th>963</th>\n",
       "      <td>1082595</td>\n",
       "      <td>M Chinnaswamy Stadium</td>\n",
       "      <td>1</td>\n",
       "      <td>0.4</td>\n",
       "      <td>SR Watson</td>\n",
       "      <td>CH Gayle</td>\n",
       "      <td>Z Khan</td>\n",
       "      <td>2017</td>\n",
       "    </tr>\n",
       "    <tr>\n",
       "      <th>964</th>\n",
       "      <td>1082595</td>\n",
       "      <td>M Chinnaswamy Stadium</td>\n",
       "      <td>1</td>\n",
       "      <td>0.5</td>\n",
       "      <td>SR Watson</td>\n",
       "      <td>CH Gayle</td>\n",
       "      <td>Z Khan</td>\n",
       "      <td>2017</td>\n",
       "    </tr>\n",
       "  </tbody>\n",
       "</table>\n",
       "</div>"
      ],
      "text/plain": [
       "     match_id                  venue  innings  ball    striker non_striker  \\\n",
       "960   1082595  M Chinnaswamy Stadium        1   0.1   CH Gayle   SR Watson   \n",
       "961   1082595  M Chinnaswamy Stadium        1   0.2  SR Watson    CH Gayle   \n",
       "962   1082595  M Chinnaswamy Stadium        1   0.3  SR Watson    CH Gayle   \n",
       "963   1082595  M Chinnaswamy Stadium        1   0.4  SR Watson    CH Gayle   \n",
       "964   1082595  M Chinnaswamy Stadium        1   0.5  SR Watson    CH Gayle   \n",
       "\n",
       "     bowler  year  \n",
       "960  Z Khan  2017  \n",
       "961  Z Khan  2017  \n",
       "962  Z Khan  2017  \n",
       "963  Z Khan  2017  \n",
       "964  Z Khan  2017  "
      ]
     },
     "execution_count": 83,
     "metadata": {},
     "output_type": "execute_result"
    }
   ],
   "source": [
    "df.head()"
   ]
  },
  {
   "cell_type": "code",
   "execution_count": 84,
   "id": "racial-marina",
   "metadata": {},
   "outputs": [],
   "source": [
    "#def trans(data):\n",
    "#    for i in data:\n",
    "#        for j in range(len(data[i])):\n",
    "#            le.fit_transform(data[i][j])"
   ]
  },
  {
   "cell_type": "code",
   "execution_count": 85,
   "id": "working-lover",
   "metadata": {},
   "outputs": [
    {
     "data": {
      "text/plain": [
       "1293"
      ]
     },
     "execution_count": 85,
     "metadata": {},
     "output_type": "execute_result"
    }
   ],
   "source": [
    "#trans(concat_data['batsmen'])\n",
    "len(concat_data)"
   ]
  },
  {
   "cell_type": "code",
   "execution_count": 86,
   "id": "local-cherry",
   "metadata": {},
   "outputs": [
    {
     "data": {
      "text/plain": [
       "1293"
      ]
     },
     "execution_count": 86,
     "metadata": {},
     "output_type": "execute_result"
    }
   ],
   "source": [
    "#concat_data['batsmen'][0][0]\n",
    "len(concat_data['batsmen'])"
   ]
  },
  {
   "cell_type": "code",
   "execution_count": 87,
   "id": "taken-blues",
   "metadata": {},
   "outputs": [
    {
     "data": {
      "text/plain": [
       "batsmen          object\n",
       "bowlers          object\n",
       "total_runs      float64\n",
       "batting_team     object\n",
       "bowling_team     object\n",
       "venue            object\n",
       "dtype: object"
      ]
     },
     "execution_count": 87,
     "metadata": {},
     "output_type": "execute_result"
    }
   ],
   "source": [
    "concat_data.dtypes"
   ]
  },
  {
   "cell_type": "code",
   "execution_count": 88,
   "id": "square-drill",
   "metadata": {},
   "outputs": [],
   "source": [
    "#for i in range(len(concat_data['batsmen'])):\n",
    "#    concat_data['batsmen'][i] = ','.join(concat_data['batsmen'][i])"
   ]
  },
  {
   "cell_type": "code",
   "execution_count": 89,
   "id": "provincial-fleece",
   "metadata": {},
   "outputs": [],
   "source": [
    "#for i in range(len(concat_data['bowlers'])):\n",
    "#    concat_data['bowlers'][i] = ','.join(concat_data['bowlers'][i])"
   ]
  },
  {
   "cell_type": "code",
   "execution_count": 90,
   "id": "under-invasion",
   "metadata": {},
   "outputs": [
    {
     "data": {
      "text/html": [
       "<div>\n",
       "<style scoped>\n",
       "    .dataframe tbody tr th:only-of-type {\n",
       "        vertical-align: middle;\n",
       "    }\n",
       "\n",
       "    .dataframe tbody tr th {\n",
       "        vertical-align: top;\n",
       "    }\n",
       "\n",
       "    .dataframe thead th {\n",
       "        text-align: right;\n",
       "    }\n",
       "</style>\n",
       "<table border=\"1\" class=\"dataframe\">\n",
       "  <thead>\n",
       "    <tr style=\"text-align: right;\">\n",
       "      <th></th>\n",
       "      <th></th>\n",
       "      <th>batsmen</th>\n",
       "      <th>bowlers</th>\n",
       "      <th>total_runs</th>\n",
       "      <th>batting_team</th>\n",
       "      <th>bowling_team</th>\n",
       "      <th>venue</th>\n",
       "    </tr>\n",
       "    <tr>\n",
       "      <th>match_id</th>\n",
       "      <th>innings</th>\n",
       "      <th></th>\n",
       "      <th></th>\n",
       "      <th></th>\n",
       "      <th></th>\n",
       "      <th></th>\n",
       "      <th></th>\n",
       "    </tr>\n",
       "  </thead>\n",
       "  <tbody>\n",
       "    <tr>\n",
       "      <th rowspan=\"2\" valign=\"top\">335982</th>\n",
       "      <th>1</th>\n",
       "      <td>[BB McCullum, DJ Hussey, Mohammad Hafeez, RT P...</td>\n",
       "      <td>[AA Noffke, CL White, JH Kallis, P Kumar, SB J...</td>\n",
       "      <td>67.0</td>\n",
       "      <td>Kolkata Knight Riders</td>\n",
       "      <td>Royal Challengers Bangalore</td>\n",
       "      <td>M Chinnaswamy Stadium</td>\n",
       "    </tr>\n",
       "    <tr>\n",
       "      <th>2</th>\n",
       "      <td>[AA Noffke, B Akhil, CL White, JH Kallis, MV B...</td>\n",
       "      <td>[AB Agarkar, AB Dinda, I Sharma, LR Shukla, SC...</td>\n",
       "      <td>28.0</td>\n",
       "      <td>Royal Challengers Bangalore</td>\n",
       "      <td>Kolkata Knight Riders</td>\n",
       "      <td>M Chinnaswamy Stadium</td>\n",
       "    </tr>\n",
       "    <tr>\n",
       "      <th rowspan=\"2\" valign=\"top\">335983</th>\n",
       "      <th>1</th>\n",
       "      <td>[JDP Oram, MEK Hussey, ML Hayden, MS Dhoni, PA...</td>\n",
       "      <td>[B Lee, IK Pathan, JR Hopes, K Goel, PP Chawla...</td>\n",
       "      <td>NaN</td>\n",
       "      <td>NaN</td>\n",
       "      <td>NaN</td>\n",
       "      <td>NaN</td>\n",
       "    </tr>\n",
       "    <tr>\n",
       "      <th>2</th>\n",
       "      <td>[IK Pathan, JR Hopes, K Goel, KC Sangakkara, S...</td>\n",
       "      <td>[JDP Oram, Joginder Sharma, M Muralitharan, MS...</td>\n",
       "      <td>NaN</td>\n",
       "      <td>NaN</td>\n",
       "      <td>NaN</td>\n",
       "      <td>NaN</td>\n",
       "    </tr>\n",
       "    <tr>\n",
       "      <th>335984</th>\n",
       "      <th>1</th>\n",
       "      <td>[D Salunkhe, DS Lehmann, M Kaif, M Rawat, RA J...</td>\n",
       "      <td>[B Geeves, DL Vettori, GD McGrath, MF Maharoof...</td>\n",
       "      <td>NaN</td>\n",
       "      <td>NaN</td>\n",
       "      <td>NaN</td>\n",
       "      <td>NaN</td>\n",
       "    </tr>\n",
       "  </tbody>\n",
       "</table>\n",
       "</div>"
      ],
      "text/plain": [
       "                                                            batsmen  \\\n",
       "match_id innings                                                      \n",
       "335982   1        [BB McCullum, DJ Hussey, Mohammad Hafeez, RT P...   \n",
       "         2        [AA Noffke, B Akhil, CL White, JH Kallis, MV B...   \n",
       "335983   1        [JDP Oram, MEK Hussey, ML Hayden, MS Dhoni, PA...   \n",
       "         2        [IK Pathan, JR Hopes, K Goel, KC Sangakkara, S...   \n",
       "335984   1        [D Salunkhe, DS Lehmann, M Kaif, M Rawat, RA J...   \n",
       "\n",
       "                                                            bowlers  \\\n",
       "match_id innings                                                      \n",
       "335982   1        [AA Noffke, CL White, JH Kallis, P Kumar, SB J...   \n",
       "         2        [AB Agarkar, AB Dinda, I Sharma, LR Shukla, SC...   \n",
       "335983   1        [B Lee, IK Pathan, JR Hopes, K Goel, PP Chawla...   \n",
       "         2        [JDP Oram, Joginder Sharma, M Muralitharan, MS...   \n",
       "335984   1        [B Geeves, DL Vettori, GD McGrath, MF Maharoof...   \n",
       "\n",
       "                  total_runs                 batting_team  \\\n",
       "match_id innings                                            \n",
       "335982   1              67.0        Kolkata Knight Riders   \n",
       "         2              28.0  Royal Challengers Bangalore   \n",
       "335983   1               NaN                          NaN   \n",
       "         2               NaN                          NaN   \n",
       "335984   1               NaN                          NaN   \n",
       "\n",
       "                                 bowling_team                  venue  \n",
       "match_id innings                                                      \n",
       "335982   1        Royal Challengers Bangalore  M Chinnaswamy Stadium  \n",
       "         2              Kolkata Knight Riders  M Chinnaswamy Stadium  \n",
       "335983   1                                NaN                    NaN  \n",
       "         2                                NaN                    NaN  \n",
       "335984   1                                NaN                    NaN  "
      ]
     },
     "execution_count": 90,
     "metadata": {},
     "output_type": "execute_result"
    }
   ],
   "source": [
    "concat_data.head()"
   ]
  },
  {
   "cell_type": "code",
   "execution_count": 91,
   "id": "competitive-courtesy",
   "metadata": {},
   "outputs": [
    {
     "data": {
      "text/plain": [
       "['BB McCullum', 'DJ Hussey', 'Mohammad Hafeez', 'RT Ponting', 'SC Ganguly']"
      ]
     },
     "execution_count": 91,
     "metadata": {},
     "output_type": "execute_result"
    }
   ],
   "source": [
    "concat_data['batsmen'][0]"
   ]
  },
  {
   "cell_type": "code",
   "execution_count": 92,
   "id": "valuable-victor",
   "metadata": {},
   "outputs": [],
   "source": [
    "#len(concat_data['batsmen'].unique())"
   ]
  },
  {
   "cell_type": "code",
   "execution_count": 93,
   "id": "ruled-popularity",
   "metadata": {},
   "outputs": [],
   "source": [
    "lb = MultiLabelBinarizer()"
   ]
  },
  {
   "cell_type": "code",
   "execution_count": 94,
   "id": "successful-fever",
   "metadata": {},
   "outputs": [
    {
     "data": {
      "text/plain": [
       "array([[0, 0, 0, ..., 0, 0, 0],\n",
       "       [0, 0, 0, ..., 0, 0, 1],\n",
       "       [0, 0, 0, ..., 0, 0, 0],\n",
       "       ...,\n",
       "       [0, 0, 0, ..., 0, 0, 0],\n",
       "       [0, 0, 0, ..., 0, 0, 0],\n",
       "       [0, 0, 0, ..., 0, 0, 0]])"
      ]
     },
     "execution_count": 94,
     "metadata": {},
     "output_type": "execute_result"
    }
   ],
   "source": [
    "lb.fit_transform(concat_data['batsmen'])"
   ]
  },
  {
   "cell_type": "code",
   "execution_count": 95,
   "id": "excellent-tonight",
   "metadata": {},
   "outputs": [
    {
     "data": {
      "text/html": [
       "<div>\n",
       "<style scoped>\n",
       "    .dataframe tbody tr th:only-of-type {\n",
       "        vertical-align: middle;\n",
       "    }\n",
       "\n",
       "    .dataframe tbody tr th {\n",
       "        vertical-align: top;\n",
       "    }\n",
       "\n",
       "    .dataframe thead th {\n",
       "        text-align: right;\n",
       "    }\n",
       "</style>\n",
       "<table border=\"1\" class=\"dataframe\">\n",
       "  <thead>\n",
       "    <tr style=\"text-align: right;\">\n",
       "      <th></th>\n",
       "      <th></th>\n",
       "      <th>batsmen</th>\n",
       "      <th>bowlers</th>\n",
       "      <th>total_runs</th>\n",
       "      <th>batting_team</th>\n",
       "      <th>bowling_team</th>\n",
       "      <th>venue</th>\n",
       "    </tr>\n",
       "    <tr>\n",
       "      <th>match_id</th>\n",
       "      <th>innings</th>\n",
       "      <th></th>\n",
       "      <th></th>\n",
       "      <th></th>\n",
       "      <th></th>\n",
       "      <th></th>\n",
       "      <th></th>\n",
       "    </tr>\n",
       "  </thead>\n",
       "  <tbody>\n",
       "    <tr>\n",
       "      <th rowspan=\"2\" valign=\"top\">335982</th>\n",
       "      <th>1</th>\n",
       "      <td>[BB McCullum, DJ Hussey, Mohammad Hafeez, RT P...</td>\n",
       "      <td>[AA Noffke, CL White, JH Kallis, P Kumar, SB J...</td>\n",
       "      <td>67.0</td>\n",
       "      <td>Kolkata Knight Riders</td>\n",
       "      <td>Royal Challengers Bangalore</td>\n",
       "      <td>M Chinnaswamy Stadium</td>\n",
       "    </tr>\n",
       "    <tr>\n",
       "      <th>2</th>\n",
       "      <td>[AA Noffke, B Akhil, CL White, JH Kallis, MV B...</td>\n",
       "      <td>[AB Agarkar, AB Dinda, I Sharma, LR Shukla, SC...</td>\n",
       "      <td>28.0</td>\n",
       "      <td>Royal Challengers Bangalore</td>\n",
       "      <td>Kolkata Knight Riders</td>\n",
       "      <td>M Chinnaswamy Stadium</td>\n",
       "    </tr>\n",
       "    <tr>\n",
       "      <th rowspan=\"2\" valign=\"top\">335983</th>\n",
       "      <th>1</th>\n",
       "      <td>[JDP Oram, MEK Hussey, ML Hayden, MS Dhoni, PA...</td>\n",
       "      <td>[B Lee, IK Pathan, JR Hopes, K Goel, PP Chawla...</td>\n",
       "      <td>NaN</td>\n",
       "      <td>NaN</td>\n",
       "      <td>NaN</td>\n",
       "      <td>NaN</td>\n",
       "    </tr>\n",
       "    <tr>\n",
       "      <th>2</th>\n",
       "      <td>[IK Pathan, JR Hopes, K Goel, KC Sangakkara, S...</td>\n",
       "      <td>[JDP Oram, Joginder Sharma, M Muralitharan, MS...</td>\n",
       "      <td>NaN</td>\n",
       "      <td>NaN</td>\n",
       "      <td>NaN</td>\n",
       "      <td>NaN</td>\n",
       "    </tr>\n",
       "    <tr>\n",
       "      <th>335984</th>\n",
       "      <th>1</th>\n",
       "      <td>[D Salunkhe, DS Lehmann, M Kaif, M Rawat, RA J...</td>\n",
       "      <td>[B Geeves, DL Vettori, GD McGrath, MF Maharoof...</td>\n",
       "      <td>NaN</td>\n",
       "      <td>NaN</td>\n",
       "      <td>NaN</td>\n",
       "      <td>NaN</td>\n",
       "    </tr>\n",
       "  </tbody>\n",
       "</table>\n",
       "</div>"
      ],
      "text/plain": [
       "                                                            batsmen  \\\n",
       "match_id innings                                                      \n",
       "335982   1        [BB McCullum, DJ Hussey, Mohammad Hafeez, RT P...   \n",
       "         2        [AA Noffke, B Akhil, CL White, JH Kallis, MV B...   \n",
       "335983   1        [JDP Oram, MEK Hussey, ML Hayden, MS Dhoni, PA...   \n",
       "         2        [IK Pathan, JR Hopes, K Goel, KC Sangakkara, S...   \n",
       "335984   1        [D Salunkhe, DS Lehmann, M Kaif, M Rawat, RA J...   \n",
       "\n",
       "                                                            bowlers  \\\n",
       "match_id innings                                                      \n",
       "335982   1        [AA Noffke, CL White, JH Kallis, P Kumar, SB J...   \n",
       "         2        [AB Agarkar, AB Dinda, I Sharma, LR Shukla, SC...   \n",
       "335983   1        [B Lee, IK Pathan, JR Hopes, K Goel, PP Chawla...   \n",
       "         2        [JDP Oram, Joginder Sharma, M Muralitharan, MS...   \n",
       "335984   1        [B Geeves, DL Vettori, GD McGrath, MF Maharoof...   \n",
       "\n",
       "                  total_runs                 batting_team  \\\n",
       "match_id innings                                            \n",
       "335982   1              67.0        Kolkata Knight Riders   \n",
       "         2              28.0  Royal Challengers Bangalore   \n",
       "335983   1               NaN                          NaN   \n",
       "         2               NaN                          NaN   \n",
       "335984   1               NaN                          NaN   \n",
       "\n",
       "                                 bowling_team                  venue  \n",
       "match_id innings                                                      \n",
       "335982   1        Royal Challengers Bangalore  M Chinnaswamy Stadium  \n",
       "         2              Kolkata Knight Riders  M Chinnaswamy Stadium  \n",
       "335983   1                                NaN                    NaN  \n",
       "         2                                NaN                    NaN  \n",
       "335984   1                                NaN                    NaN  "
      ]
     },
     "execution_count": 95,
     "metadata": {},
     "output_type": "execute_result"
    }
   ],
   "source": [
    "concat_data.head()"
   ]
  },
  {
   "cell_type": "code",
   "execution_count": 96,
   "id": "talented-orleans",
   "metadata": {},
   "outputs": [
    {
     "data": {
      "text/plain": [
       "array(['A Ashish Reddy', 'A Chandila', 'A Chopra', 'A Choudhary',\n",
       "       'A Dananjaya', 'A Flintoff', 'A Kumble', 'A Mishra', 'A Mithun',\n",
       "       'A Mukund', 'A Nehra', 'A Nel', 'A Nortje', 'A Singh', 'A Symonds',\n",
       "       'A Uniyal', 'AA Chavan', 'AA Jhunjhunwala', 'AA Noffke',\n",
       "       'AB Agarkar', 'AB Barath', 'AB Dinda', 'AB McDonald',\n",
       "       'AB de Villiers', 'AC Blizzard', 'AC Gilchrist', 'AC Voges',\n",
       "       'AD Hales', 'AD Mascarenhas', 'AD Mathews', 'AD Nath',\n",
       "       'AD Russell', 'AF Milne', 'AG Murtaza', 'AG Paunikar', 'AJ Finch',\n",
       "       'AJ Turner', 'AJ Tye', 'AL Menaria', 'AM Nayar', 'AM Rahane',\n",
       "       'AN Ahmed', 'AN Ghosh', 'AP Dole', 'AP Tare', 'AR Bawne',\n",
       "       'AR Patel', 'AS Joseph', 'AS Rajpoot', 'AS Raut', 'AT Carey',\n",
       "       'AT Rayudu', 'AUK Pathan', 'Abdul Samad', 'Abdur Razzak',\n",
       "       'Abhishek Sharma', 'Ankit Sharma', 'Anureet Singh',\n",
       "       'Arshdeep Singh', 'Avesh Khan', 'Azhar Mahmood', 'B Akhil',\n",
       "       'B Chipli', 'B Kumar', 'B Laughlin', 'B Lee', 'B Stanlake',\n",
       "       'BA Bhatt', 'BA Stokes', 'BAW Mendis', 'BB McCullum',\n",
       "       'BB Samantray', 'BB Sran', 'BCJ Cutting', 'BE Hendricks',\n",
       "       'BJ Haddin', 'BJ Hodge', 'BJ Rohrer', 'BMAJ Mendis', 'BR Dunk',\n",
       "       'BW Hilfenhaus', 'Basil Thampi', 'Bipul Sharma', 'C Ganapathy',\n",
       "       'C Madan', 'C Munro', 'C Nanda', 'C de Grandhomme', 'CA Ingram',\n",
       "       'CA Lynn', 'CA Pujara', 'CH Gayle', 'CH Morris', 'CJ Anderson',\n",
       "       'CJ Jordan', 'CJ McKay', 'CK Kapugedera', 'CK Langeveldt',\n",
       "       'CL White', 'CM Gautam', 'CR Brathwaite', 'CR Woakes',\n",
       "       'CRD Fernando', 'CV Varun', 'D Padikkal', 'D Salunkhe', 'D Wiese',\n",
       "       'D du Preez', 'DA Miller', 'DA Warner', 'DAJ Bracewell', 'DB Das',\n",
       "       'DB Ravi Teja', 'DE Bollinger', 'DH Yagnik', 'DJ Bravo',\n",
       "       'DJ Hooda', 'DJ Hussey', 'DJ Jacobs', 'DJ Muthuswami',\n",
       "       'DJ Thornely', 'DJG Sammy', 'DJM Short', 'DL Chahar', 'DL Vettori',\n",
       "       'DP Nannes', 'DPMD Jayawardene', 'DR Martyn', 'DR Sams',\n",
       "       'DR Shorey', 'DR Smith', 'DS Kulkarni', 'DS Lehmann',\n",
       "       'DT Christian', 'DT Patil', 'DW Steyn', 'E Lewis', 'EJG Morgan',\n",
       "       'F Behardien', 'F du Plessis', 'FY Fazal', 'G Gambhir', 'GB Hogg',\n",
       "       'GC Smith', 'GC Viljoen', 'GD McGrath', 'GH Vihari', 'GJ Bailey',\n",
       "       'GJ Maxwell', 'GR Napier', 'Gurkeerat Singh', 'H Klaasen',\n",
       "       'HF Gurney', 'HH Gibbs', 'HH Pandya', 'HM Amla', 'HV Patel',\n",
       "       'Harbhajan Singh', 'Harmeet Singh', 'Harpreet Brar', 'I Sharma',\n",
       "       'I Udana', 'IK Pathan', 'IR Jaggi', 'IS Sodhi', 'Imran Tahir',\n",
       "       'Iqbal Abdulla', 'Ishan Kishan', 'J Arunkumar', 'J Botha',\n",
       "       'J Suchith', 'J Syed Mohammad', 'J Theron', 'J Yadav', 'JA Morkel',\n",
       "       'JC Archer', 'JC Buttler', 'JD Ryder', 'JD Unadkat', 'JDP Oram',\n",
       "       'JDS Neesham', 'JEC Franklin', 'JH Kallis', 'JJ Bumrah', 'JJ Roy',\n",
       "       'JJ van der Wath', 'JL Denly', 'JL Pattinson', 'JM Bairstow',\n",
       "       'JM Kemp', 'JO Holder', 'JP Duminy', 'JP Faulkner',\n",
       "       'JPR Scantlebury-Searles', 'JR Hopes', 'JR Philippe',\n",
       "       'Joginder Sharma', 'K Goel', 'K Gowtham', 'K Rabada',\n",
       "       'KA Jamieson', 'KA Pollard', 'KB Arun Karthik', 'KC Cariappa',\n",
       "       'KC Sangakkara', 'KD Karthik', 'KH Pandya', 'KJ Abbott',\n",
       "       'KK Ahmed', 'KK Cooper', 'KK Nair', 'KL Nagarkoti', 'KL Rahul',\n",
       "       'KM Jadhav', 'KMA Paul', 'KMDN Kulasekara', 'KP Appanna',\n",
       "       'KP Pietersen', 'KS Williamson', 'KV Sharma', 'KW Richardson',\n",
       "       'Kamran Akmal', 'Kamran Khan', 'Karanveer Singh', 'Kartik Tyagi',\n",
       "       'Kuldeep Yadav', 'L Ablish', 'L Balaji', 'L Ronchi',\n",
       "       'LA Carseldine', 'LA Pomersbach', 'LE Plunkett', 'LH Ferguson',\n",
       "       'LMP Simmons', 'LR Shukla', 'LRPL Taylor', 'LS Livingstone',\n",
       "       'M Ashwin', 'M Jansen', 'M Kaif', 'M Kartik', 'M Manhas',\n",
       "       'M Markande', 'M Morkel', 'M Muralitharan', 'M Ntini',\n",
       "       'M Prasidh Krishna', 'M Rawat', 'M Vijay', 'M Vohra', 'M de Lange',\n",
       "       'MA Agarwal', 'MA Khote', 'MA Starc', 'MA Wood', 'MC Henriques',\n",
       "       'MC Juneja', 'MDKJ Perera', 'MEK Hussey', 'MF Maharoof',\n",
       "       'MG Johnson', 'MJ Guptill', 'MJ Lumb', 'MJ McClenaghan',\n",
       "       'MJ Santner', 'MK Lomror', 'MK Pandey', 'MK Tiwary', 'ML Hayden',\n",
       "       'MM Ali', 'MM Patel', 'MM Sharma', 'MN Samuels', 'MN van Wyk',\n",
       "       'MP Stoinis', 'MR Marsh', 'MS Bisla', 'MS Dhoni', 'MS Gony',\n",
       "       'MS Wade', 'MV Boucher', 'Mandeep Singh', 'Misbah-ul-Haq',\n",
       "       'Mohammad Ashraful', 'Mohammad Asif', 'Mohammad Hafeez',\n",
       "       'Mohammad Nabi', 'Mohammed Shami', 'Mohammed Siraj',\n",
       "       'Mujeeb Ur Rahman', 'Mustafizur Rahman', 'N Jagadeesan',\n",
       "       'N Pooran', 'N Rana', 'N Saini', 'NA Saini', 'NJ Maddinson',\n",
       "       'NLTC Perera', 'NM Coulter-Nile', 'NS Naik', 'NV Ojha',\n",
       "       'Niraj Patel', 'OA Shah', 'P Awana', 'P Chopra', 'P Dogra',\n",
       "       'P Dubey', 'P Kumar', 'P Negi', 'P Ray Barman', 'P Sahu',\n",
       "       'P Simran Singh', 'PA Patel', 'PA Reddy', 'PC Valthaty',\n",
       "       'PD Collingwood', 'PJ Cummins', 'PJ Sangwan', 'PK Garg',\n",
       "       'PP Chawla', 'PP Ojha', 'PP Shaw', 'PR Shah', 'PV Tambe',\n",
       "       'Pankaj Singh', 'Parvez Rasool', 'Q de Kock', 'R Ashwin',\n",
       "       'R Bhatia', 'R Bishnoi', 'R Dhawan', 'R Dravid', 'R McLaren',\n",
       "       'R Parag', 'R Rampaul', 'R Sathish', 'R Shukla', 'R Tewatia',\n",
       "       'R Vinay Kumar', 'RA Jadeja', 'RA Tripathi', 'RD Chahar',\n",
       "       'RD Gaikwad', 'RE Levi', 'RE van der Merwe', 'RG More',\n",
       "       'RG Sharma', 'RJ Harris', 'RJ Peterson', 'RJ Quiney', 'RK Bhui',\n",
       "       'RK Singh', 'RM Patidar', 'RN ten Doeschate', 'RP Singh',\n",
       "       'RR Bhatkal', 'RR Pant', 'RR Powar', 'RR Raje', 'RR Rossouw',\n",
       "       'RR Sarwan', 'RS Bopara', 'RS Gavaskar', 'RS Sodhi', 'RT Ponting',\n",
       "       'RV Uthappa', 'Rashid Khan', 'Rasikh Salam', 'Ravi Bishnoi',\n",
       "       'S Anirudha', 'S Aravind', 'S Badree', 'S Badrinath',\n",
       "       'S Chanderpaul', 'S Dhawan', 'S Dube', 'S Gopal', 'S Kaul',\n",
       "       'S Ladda', 'S Lamichhane', 'S Nadeem', 'S Narwal', 'S Rana',\n",
       "       'S Randiv', 'S Sohal', 'S Sreesanth', 'S Sriram', 'S Tyagi',\n",
       "       'S Vidyut', 'SA Abbott', 'SA Asnodkar', 'SA Yadav', 'SB Bangar',\n",
       "       'SB Jakati', 'SB Joshi', 'SB Styris', 'SC Ganguly', 'SD Chitnis',\n",
       "       'SD Lad', 'SE Bond', 'SE Marsh', 'SE Rutherford', 'SJ Srivastava',\n",
       "       'SK Raina', 'SK Trivedi', 'SK Warne', 'SL Malinga', 'SM Curran',\n",
       "       'SM Harwood', 'SM Katich', 'SM Pollock', 'SMSM Senanayake',\n",
       "       'SN Khan', 'SN Thakur', 'SO Hetmyer', 'SP Fleming', 'SP Goswami',\n",
       "       'SP Jackson', 'SP Narine', 'SPD Smith', 'SR Tendulkar',\n",
       "       'SR Watson', 'SS Cottrell', 'SS Iyer', 'SS Shaikh', 'SS Tiwary',\n",
       "       'ST Jayasuriya', 'STR Binny', 'SV Samson', 'SW Billings',\n",
       "       'SW Tait', 'Sachin Baby', 'Salman Butt', 'Sandeep Sharma',\n",
       "       'Shahbaz Ahmed', 'Shakib Al Hasan', 'Shivam Mavi', 'Shivam Sharma',\n",
       "       'Shoaib Akhtar', 'Shoaib Malik', 'Shubman Gill', 'Sohail Tanvir',\n",
       "       'Sunny Gupta', 'Sunny Singh', 'Swapnil Singh', 'T Banton',\n",
       "       'T Henderson', 'T Kohli', 'T Natarajan', 'T Taibu', 'T Thushara',\n",
       "       'TA Boult', 'TG Southee', 'TK Curran', 'TL Suman', 'TM Dilshan',\n",
       "       'TM Head', 'TM Srivastava', 'TR Birt', 'TS Mills', 'TU Deshpande',\n",
       "       'U Kaul', 'UBT Chand', 'UT Yadav', 'Umar Gul', 'V Kohli',\n",
       "       'V Sehwag', 'V Shankar', 'VH Zol', 'VR Aaron', 'VRV Singh',\n",
       "       'VS Malik', 'VS Yeligati', 'VY Mahesh', 'Vishnu Vinod', 'W Jaffer',\n",
       "       'WA Mota', 'WD Parnell', 'WP Saha', 'Washington Sundar',\n",
       "       'X Thalaivan Sargunam', 'Y Nagar', 'Y Prithvi Raj',\n",
       "       'Y Venugopal Rao', 'YA Abdulla', 'YBK Jaiswal', 'YK Pathan',\n",
       "       'YS Chahal', 'YV Takawale', 'Yashpal Singh', 'Younis Khan',\n",
       "       'Yuvraj Singh', 'Z Khan'], dtype=object)"
      ]
     },
     "execution_count": 96,
     "metadata": {},
     "output_type": "execute_result"
    }
   ],
   "source": [
    "lb.classes_"
   ]
  },
  {
   "cell_type": "code",
   "execution_count": 97,
   "id": "geological-delicious",
   "metadata": {},
   "outputs": [
    {
     "data": {
      "text/plain": [
       "array([[0, 0, 0, ..., 0, 0, 0],\n",
       "       [0, 0, 0, ..., 0, 0, 1],\n",
       "       [0, 0, 0, ..., 0, 0, 0],\n",
       "       ...,\n",
       "       [0, 0, 0, ..., 0, 0, 0],\n",
       "       [0, 0, 0, ..., 0, 0, 0],\n",
       "       [0, 0, 0, ..., 0, 0, 0]])"
      ]
     },
     "execution_count": 97,
     "metadata": {},
     "output_type": "execute_result"
    }
   ],
   "source": [
    "lb.transform(concat_data['batsmen'])"
   ]
  },
  {
   "cell_type": "code",
   "execution_count": 98,
   "id": "broadband-powell",
   "metadata": {},
   "outputs": [
    {
     "data": {
      "text/html": [
       "<div>\n",
       "<style scoped>\n",
       "    .dataframe tbody tr th:only-of-type {\n",
       "        vertical-align: middle;\n",
       "    }\n",
       "\n",
       "    .dataframe tbody tr th {\n",
       "        vertical-align: top;\n",
       "    }\n",
       "\n",
       "    .dataframe thead th {\n",
       "        text-align: right;\n",
       "    }\n",
       "</style>\n",
       "<table border=\"1\" class=\"dataframe\">\n",
       "  <thead>\n",
       "    <tr style=\"text-align: right;\">\n",
       "      <th></th>\n",
       "      <th></th>\n",
       "      <th>batsmen</th>\n",
       "      <th>bowlers</th>\n",
       "      <th>total_runs</th>\n",
       "      <th>batting_team</th>\n",
       "      <th>bowling_team</th>\n",
       "      <th>venue</th>\n",
       "    </tr>\n",
       "    <tr>\n",
       "      <th>match_id</th>\n",
       "      <th>innings</th>\n",
       "      <th></th>\n",
       "      <th></th>\n",
       "      <th></th>\n",
       "      <th></th>\n",
       "      <th></th>\n",
       "      <th></th>\n",
       "    </tr>\n",
       "  </thead>\n",
       "  <tbody>\n",
       "    <tr>\n",
       "      <th rowspan=\"2\" valign=\"top\">335982</th>\n",
       "      <th>1</th>\n",
       "      <td>[BB McCullum, DJ Hussey, Mohammad Hafeez, RT P...</td>\n",
       "      <td>[AA Noffke, CL White, JH Kallis, P Kumar, SB J...</td>\n",
       "      <td>67.0</td>\n",
       "      <td>Kolkata Knight Riders</td>\n",
       "      <td>Royal Challengers Bangalore</td>\n",
       "      <td>M Chinnaswamy Stadium</td>\n",
       "    </tr>\n",
       "    <tr>\n",
       "      <th>2</th>\n",
       "      <td>[AA Noffke, B Akhil, CL White, JH Kallis, MV B...</td>\n",
       "      <td>[AB Agarkar, AB Dinda, I Sharma, LR Shukla, SC...</td>\n",
       "      <td>28.0</td>\n",
       "      <td>Royal Challengers Bangalore</td>\n",
       "      <td>Kolkata Knight Riders</td>\n",
       "      <td>M Chinnaswamy Stadium</td>\n",
       "    </tr>\n",
       "    <tr>\n",
       "      <th rowspan=\"2\" valign=\"top\">335983</th>\n",
       "      <th>1</th>\n",
       "      <td>[JDP Oram, MEK Hussey, ML Hayden, MS Dhoni, PA...</td>\n",
       "      <td>[B Lee, IK Pathan, JR Hopes, K Goel, PP Chawla...</td>\n",
       "      <td>NaN</td>\n",
       "      <td>NaN</td>\n",
       "      <td>NaN</td>\n",
       "      <td>NaN</td>\n",
       "    </tr>\n",
       "    <tr>\n",
       "      <th>2</th>\n",
       "      <td>[IK Pathan, JR Hopes, K Goel, KC Sangakkara, S...</td>\n",
       "      <td>[JDP Oram, Joginder Sharma, M Muralitharan, MS...</td>\n",
       "      <td>NaN</td>\n",
       "      <td>NaN</td>\n",
       "      <td>NaN</td>\n",
       "      <td>NaN</td>\n",
       "    </tr>\n",
       "    <tr>\n",
       "      <th>335984</th>\n",
       "      <th>1</th>\n",
       "      <td>[D Salunkhe, DS Lehmann, M Kaif, M Rawat, RA J...</td>\n",
       "      <td>[B Geeves, DL Vettori, GD McGrath, MF Maharoof...</td>\n",
       "      <td>NaN</td>\n",
       "      <td>NaN</td>\n",
       "      <td>NaN</td>\n",
       "      <td>NaN</td>\n",
       "    </tr>\n",
       "  </tbody>\n",
       "</table>\n",
       "</div>"
      ],
      "text/plain": [
       "                                                            batsmen  \\\n",
       "match_id innings                                                      \n",
       "335982   1        [BB McCullum, DJ Hussey, Mohammad Hafeez, RT P...   \n",
       "         2        [AA Noffke, B Akhil, CL White, JH Kallis, MV B...   \n",
       "335983   1        [JDP Oram, MEK Hussey, ML Hayden, MS Dhoni, PA...   \n",
       "         2        [IK Pathan, JR Hopes, K Goel, KC Sangakkara, S...   \n",
       "335984   1        [D Salunkhe, DS Lehmann, M Kaif, M Rawat, RA J...   \n",
       "\n",
       "                                                            bowlers  \\\n",
       "match_id innings                                                      \n",
       "335982   1        [AA Noffke, CL White, JH Kallis, P Kumar, SB J...   \n",
       "         2        [AB Agarkar, AB Dinda, I Sharma, LR Shukla, SC...   \n",
       "335983   1        [B Lee, IK Pathan, JR Hopes, K Goel, PP Chawla...   \n",
       "         2        [JDP Oram, Joginder Sharma, M Muralitharan, MS...   \n",
       "335984   1        [B Geeves, DL Vettori, GD McGrath, MF Maharoof...   \n",
       "\n",
       "                  total_runs                 batting_team  \\\n",
       "match_id innings                                            \n",
       "335982   1              67.0        Kolkata Knight Riders   \n",
       "         2              28.0  Royal Challengers Bangalore   \n",
       "335983   1               NaN                          NaN   \n",
       "         2               NaN                          NaN   \n",
       "335984   1               NaN                          NaN   \n",
       "\n",
       "                                 bowling_team                  venue  \n",
       "match_id innings                                                      \n",
       "335982   1        Royal Challengers Bangalore  M Chinnaswamy Stadium  \n",
       "         2              Kolkata Knight Riders  M Chinnaswamy Stadium  \n",
       "335983   1                                NaN                    NaN  \n",
       "         2                                NaN                    NaN  \n",
       "335984   1                                NaN                    NaN  "
      ]
     },
     "execution_count": 98,
     "metadata": {},
     "output_type": "execute_result"
    }
   ],
   "source": [
    "concat_data.head()"
   ]
  },
  {
   "cell_type": "code",
   "execution_count": 99,
   "id": "usual-garbage",
   "metadata": {},
   "outputs": [
    {
     "data": {
      "text/plain": [
       "1293"
      ]
     },
     "execution_count": 99,
     "metadata": {},
     "output_type": "execute_result"
    }
   ],
   "source": [
    "len(concat_data)"
   ]
  },
  {
   "cell_type": "code",
   "execution_count": 100,
   "id": "sealed-shareware",
   "metadata": {},
   "outputs": [],
   "source": [
    "concat_data = concat_data[concat_data['total_runs'].notna()]"
   ]
  },
  {
   "cell_type": "code",
   "execution_count": 101,
   "id": "ready-shock",
   "metadata": {},
   "outputs": [
    {
     "data": {
      "text/plain": [
       "409"
      ]
     },
     "execution_count": 101,
     "metadata": {},
     "output_type": "execute_result"
    }
   ],
   "source": [
    "len(concat_data)"
   ]
  },
  {
   "cell_type": "code",
   "execution_count": 103,
   "id": "julian-motorcycle",
   "metadata": {},
   "outputs": [
    {
     "data": {
      "text/html": [
       "<div>\n",
       "<style scoped>\n",
       "    .dataframe tbody tr th:only-of-type {\n",
       "        vertical-align: middle;\n",
       "    }\n",
       "\n",
       "    .dataframe tbody tr th {\n",
       "        vertical-align: top;\n",
       "    }\n",
       "\n",
       "    .dataframe thead th {\n",
       "        text-align: right;\n",
       "    }\n",
       "</style>\n",
       "<table border=\"1\" class=\"dataframe\">\n",
       "  <thead>\n",
       "    <tr style=\"text-align: right;\">\n",
       "      <th></th>\n",
       "      <th></th>\n",
       "      <th>batsmen</th>\n",
       "      <th>bowlers</th>\n",
       "      <th>total_runs</th>\n",
       "      <th>batting_team</th>\n",
       "      <th>bowling_team</th>\n",
       "      <th>venue</th>\n",
       "    </tr>\n",
       "    <tr>\n",
       "      <th>match_id</th>\n",
       "      <th>innings</th>\n",
       "      <th></th>\n",
       "      <th></th>\n",
       "      <th></th>\n",
       "      <th></th>\n",
       "      <th></th>\n",
       "      <th></th>\n",
       "    </tr>\n",
       "  </thead>\n",
       "  <tbody>\n",
       "    <tr>\n",
       "      <th rowspan=\"2\" valign=\"top\">335982</th>\n",
       "      <th>1</th>\n",
       "      <td>[BB McCullum, DJ Hussey, Mohammad Hafeez, RT P...</td>\n",
       "      <td>[AA Noffke, CL White, JH Kallis, P Kumar, SB J...</td>\n",
       "      <td>67.0</td>\n",
       "      <td>Kolkata Knight Riders</td>\n",
       "      <td>Royal Challengers Bangalore</td>\n",
       "      <td>M Chinnaswamy Stadium</td>\n",
       "    </tr>\n",
       "    <tr>\n",
       "      <th>2</th>\n",
       "      <td>[AA Noffke, B Akhil, CL White, JH Kallis, MV B...</td>\n",
       "      <td>[AB Agarkar, AB Dinda, I Sharma, LR Shukla, SC...</td>\n",
       "      <td>28.0</td>\n",
       "      <td>Royal Challengers Bangalore</td>\n",
       "      <td>Kolkata Knight Riders</td>\n",
       "      <td>M Chinnaswamy Stadium</td>\n",
       "    </tr>\n",
       "    <tr>\n",
       "      <th rowspan=\"2\" valign=\"top\">335989</th>\n",
       "      <th>1</th>\n",
       "      <td>[JDP Oram, MEK Hussey, ML Hayden, MS Dhoni, PA...</td>\n",
       "      <td>[A Nehra, AM Nayar, DJ Bravo, DS Kulkarni, Har...</td>\n",
       "      <td>60.0</td>\n",
       "      <td>Chennai Super Kings</td>\n",
       "      <td>Mumbai Indians</td>\n",
       "      <td>MA Chidambaram Stadium</td>\n",
       "    </tr>\n",
       "    <tr>\n",
       "      <th>2</th>\n",
       "      <td>[A Nehra, AM Nayar, DJ Bravo, Harbhajan Singh,...</td>\n",
       "      <td>[JDP Oram, Joginder Sharma, M Muralitharan, MS...</td>\n",
       "      <td>54.0</td>\n",
       "      <td>Mumbai Indians</td>\n",
       "      <td>Chennai Super Kings</td>\n",
       "      <td>MA Chidambaram Stadium</td>\n",
       "    </tr>\n",
       "    <tr>\n",
       "      <th rowspan=\"2\" valign=\"top\">335992</th>\n",
       "      <th>1</th>\n",
       "      <td>[JH Kallis, LRPL Taylor, MV Boucher, P Kumar, ...</td>\n",
       "      <td>[MM Patel, SK Trivedi, SK Warne, SR Watson, So...</td>\n",
       "      <td>58.0</td>\n",
       "      <td>Royal Challengers Bangalore</td>\n",
       "      <td>Rajasthan Royals</td>\n",
       "      <td>M Chinnaswamy Stadium</td>\n",
       "    </tr>\n",
       "    <tr>\n",
       "      <th>2</th>\n",
       "      <td>[GC Smith, M Kaif, M Rawat, SR Watson, YK Pathan]</td>\n",
       "      <td>[A Kumble, JH Kallis, P Kumar, R Vinay Kumar, ...</td>\n",
       "      <td>46.0</td>\n",
       "      <td>Rajasthan Royals</td>\n",
       "      <td>Royal Challengers Bangalore</td>\n",
       "      <td>M Chinnaswamy Stadium</td>\n",
       "    </tr>\n",
       "    <tr>\n",
       "      <th rowspan=\"2\" valign=\"top\">335993</th>\n",
       "      <th>1</th>\n",
       "      <td>[AB Agarkar, AB Dinda, BB McCullum, DJ Hussey,...</td>\n",
       "      <td>[JDP Oram, Joginder Sharma, M Muralitharan, MS...</td>\n",
       "      <td>62.0</td>\n",
       "      <td>Kolkata Knight Riders</td>\n",
       "      <td>Chennai Super Kings</td>\n",
       "      <td>MA Chidambaram Stadium</td>\n",
       "    </tr>\n",
       "    <tr>\n",
       "      <th>2</th>\n",
       "      <td>[ML Hayden, MS Dhoni, PA Patel]</td>\n",
       "      <td>[AB Agarkar, AB Dinda, DJ Hussey, I Sharma, LR...</td>\n",
       "      <td>52.0</td>\n",
       "      <td>Chennai Super Kings</td>\n",
       "      <td>Kolkata Knight Riders</td>\n",
       "      <td>MA Chidambaram Stadium</td>\n",
       "    </tr>\n",
       "    <tr>\n",
       "      <th rowspan=\"2\" valign=\"top\">335996</th>\n",
       "      <th>1</th>\n",
       "      <td>[JDP Oram, MEK Hussey, ML Hayden, MS Dhoni, PA...</td>\n",
       "      <td>[B Akhil, DW Steyn, JH Kallis, P Kumar, Z Khan]</td>\n",
       "      <td>38.0</td>\n",
       "      <td>Chennai Super Kings</td>\n",
       "      <td>Royal Challengers Bangalore</td>\n",
       "      <td>M Chinnaswamy Stadium</td>\n",
       "    </tr>\n",
       "    <tr>\n",
       "      <th>2</th>\n",
       "      <td>[B Akhil, B Chipli, DW Steyn, JH Kallis, LRPL ...</td>\n",
       "      <td>[JA Morkel, JDP Oram, Joginder Sharma, MS Gony...</td>\n",
       "      <td>47.0</td>\n",
       "      <td>Royal Challengers Bangalore</td>\n",
       "      <td>Chennai Super Kings</td>\n",
       "      <td>M Chinnaswamy Stadium</td>\n",
       "    </tr>\n",
       "    <tr>\n",
       "      <th rowspan=\"2\" valign=\"top\">335997</th>\n",
       "      <th>1</th>\n",
       "      <td>[AB Agarkar, BB McCullum, DB Das, DJ Hussey, I...</td>\n",
       "      <td>[A Nehra, CRD Fernando, DJ Bravo, DS Kulkarni,...</td>\n",
       "      <td>41.0</td>\n",
       "      <td>Kolkata Knight Riders</td>\n",
       "      <td>Mumbai Indians</td>\n",
       "      <td>Eden Gardens</td>\n",
       "    </tr>\n",
       "    <tr>\n",
       "      <th>2</th>\n",
       "      <td>[AM Rahane, DJ Bravo, MK Pandey, RV Uthappa, S...</td>\n",
       "      <td>[AB Agarkar, AB Dinda, I Sharma, LR Shukla, M ...</td>\n",
       "      <td>41.0</td>\n",
       "      <td>Mumbai Indians</td>\n",
       "      <td>Kolkata Knight Riders</td>\n",
       "      <td>Eden Gardens</td>\n",
       "    </tr>\n",
       "    <tr>\n",
       "      <th rowspan=\"2\" valign=\"top\">336001</th>\n",
       "      <th>1</th>\n",
       "      <td>[JA Morkel, Joginder Sharma, MS Dhoni, PA Pate...</td>\n",
       "      <td>[GD McGrath, Mohammad Asif, PJ Sangwan, R Bhat...</td>\n",
       "      <td>50.0</td>\n",
       "      <td>Chennai Super Kings</td>\n",
       "      <td>Delhi Capitals</td>\n",
       "      <td>MA Chidambaram Stadium</td>\n",
       "    </tr>\n",
       "    <tr>\n",
       "      <th>2</th>\n",
       "      <td>[AB de Villiers, G Gambhir, S Dhawan, V Sehwag]</td>\n",
       "      <td>[JA Morkel, Joginder Sharma, M Muralitharan, M...</td>\n",
       "      <td>65.0</td>\n",
       "      <td>Delhi Capitals</td>\n",
       "      <td>Chennai Super Kings</td>\n",
       "      <td>MA Chidambaram Stadium</td>\n",
       "    </tr>\n",
       "    <tr>\n",
       "      <th>336006</th>\n",
       "      <th>1</th>\n",
       "      <td>[A Kumble, CL White, DT Patil, DW Steyn, JH Ka...</td>\n",
       "      <td>[Gagandeep Singh, IK Pathan, JR Hopes, PP Chaw...</td>\n",
       "      <td>29.0</td>\n",
       "      <td>Royal Challengers Bangalore</td>\n",
       "      <td>Punjab Kings</td>\n",
       "      <td>M Chinnaswamy Stadium</td>\n",
       "    </tr>\n",
       "  </tbody>\n",
       "</table>\n",
       "</div>"
      ],
      "text/plain": [
       "                                                            batsmen  \\\n",
       "match_id innings                                                      \n",
       "335982   1        [BB McCullum, DJ Hussey, Mohammad Hafeez, RT P...   \n",
       "         2        [AA Noffke, B Akhil, CL White, JH Kallis, MV B...   \n",
       "335989   1        [JDP Oram, MEK Hussey, ML Hayden, MS Dhoni, PA...   \n",
       "         2        [A Nehra, AM Nayar, DJ Bravo, Harbhajan Singh,...   \n",
       "335992   1        [JH Kallis, LRPL Taylor, MV Boucher, P Kumar, ...   \n",
       "         2        [GC Smith, M Kaif, M Rawat, SR Watson, YK Pathan]   \n",
       "335993   1        [AB Agarkar, AB Dinda, BB McCullum, DJ Hussey,...   \n",
       "         2                          [ML Hayden, MS Dhoni, PA Patel]   \n",
       "335996   1        [JDP Oram, MEK Hussey, ML Hayden, MS Dhoni, PA...   \n",
       "         2        [B Akhil, B Chipli, DW Steyn, JH Kallis, LRPL ...   \n",
       "335997   1        [AB Agarkar, BB McCullum, DB Das, DJ Hussey, I...   \n",
       "         2        [AM Rahane, DJ Bravo, MK Pandey, RV Uthappa, S...   \n",
       "336001   1        [JA Morkel, Joginder Sharma, MS Dhoni, PA Pate...   \n",
       "         2          [AB de Villiers, G Gambhir, S Dhawan, V Sehwag]   \n",
       "336006   1        [A Kumble, CL White, DT Patil, DW Steyn, JH Ka...   \n",
       "\n",
       "                                                            bowlers  \\\n",
       "match_id innings                                                      \n",
       "335982   1        [AA Noffke, CL White, JH Kallis, P Kumar, SB J...   \n",
       "         2        [AB Agarkar, AB Dinda, I Sharma, LR Shukla, SC...   \n",
       "335989   1        [A Nehra, AM Nayar, DJ Bravo, DS Kulkarni, Har...   \n",
       "         2        [JDP Oram, Joginder Sharma, M Muralitharan, MS...   \n",
       "335992   1        [MM Patel, SK Trivedi, SK Warne, SR Watson, So...   \n",
       "         2        [A Kumble, JH Kallis, P Kumar, R Vinay Kumar, ...   \n",
       "335993   1        [JDP Oram, Joginder Sharma, M Muralitharan, MS...   \n",
       "         2        [AB Agarkar, AB Dinda, DJ Hussey, I Sharma, LR...   \n",
       "335996   1          [B Akhil, DW Steyn, JH Kallis, P Kumar, Z Khan]   \n",
       "         2        [JA Morkel, JDP Oram, Joginder Sharma, MS Gony...   \n",
       "335997   1        [A Nehra, CRD Fernando, DJ Bravo, DS Kulkarni,...   \n",
       "         2        [AB Agarkar, AB Dinda, I Sharma, LR Shukla, M ...   \n",
       "336001   1        [GD McGrath, Mohammad Asif, PJ Sangwan, R Bhat...   \n",
       "         2        [JA Morkel, Joginder Sharma, M Muralitharan, M...   \n",
       "336006   1        [Gagandeep Singh, IK Pathan, JR Hopes, PP Chaw...   \n",
       "\n",
       "                  total_runs                 batting_team  \\\n",
       "match_id innings                                            \n",
       "335982   1              67.0        Kolkata Knight Riders   \n",
       "         2              28.0  Royal Challengers Bangalore   \n",
       "335989   1              60.0          Chennai Super Kings   \n",
       "         2              54.0               Mumbai Indians   \n",
       "335992   1              58.0  Royal Challengers Bangalore   \n",
       "         2              46.0             Rajasthan Royals   \n",
       "335993   1              62.0        Kolkata Knight Riders   \n",
       "         2              52.0          Chennai Super Kings   \n",
       "335996   1              38.0          Chennai Super Kings   \n",
       "         2              47.0  Royal Challengers Bangalore   \n",
       "335997   1              41.0        Kolkata Knight Riders   \n",
       "         2              41.0               Mumbai Indians   \n",
       "336001   1              50.0          Chennai Super Kings   \n",
       "         2              65.0               Delhi Capitals   \n",
       "336006   1              29.0  Royal Challengers Bangalore   \n",
       "\n",
       "                                 bowling_team                   venue  \n",
       "match_id innings                                                       \n",
       "335982   1        Royal Challengers Bangalore   M Chinnaswamy Stadium  \n",
       "         2              Kolkata Knight Riders   M Chinnaswamy Stadium  \n",
       "335989   1                     Mumbai Indians  MA Chidambaram Stadium  \n",
       "         2                Chennai Super Kings  MA Chidambaram Stadium  \n",
       "335992   1                   Rajasthan Royals   M Chinnaswamy Stadium  \n",
       "         2        Royal Challengers Bangalore   M Chinnaswamy Stadium  \n",
       "335993   1                Chennai Super Kings  MA Chidambaram Stadium  \n",
       "         2              Kolkata Knight Riders  MA Chidambaram Stadium  \n",
       "335996   1        Royal Challengers Bangalore   M Chinnaswamy Stadium  \n",
       "         2                Chennai Super Kings   M Chinnaswamy Stadium  \n",
       "335997   1                     Mumbai Indians            Eden Gardens  \n",
       "         2              Kolkata Knight Riders            Eden Gardens  \n",
       "336001   1                     Delhi Capitals  MA Chidambaram Stadium  \n",
       "         2                Chennai Super Kings  MA Chidambaram Stadium  \n",
       "336006   1                       Punjab Kings   M Chinnaswamy Stadium  "
      ]
     },
     "execution_count": 103,
     "metadata": {},
     "output_type": "execute_result"
    }
   ],
   "source": [
    "concat_data.head(15)"
   ]
  },
  {
   "cell_type": "code",
   "execution_count": 112,
   "id": "twelve-central",
   "metadata": {},
   "outputs": [],
   "source": [
    "#for i in range(len(concat_data['batsmen'])):\n",
    "#    concat_data['batsmen'][i] = ','.join(concat_data['batsmen'][i])"
   ]
  },
  {
   "cell_type": "code",
   "execution_count": 111,
   "id": "positive-pickup",
   "metadata": {},
   "outputs": [
    {
     "data": {
      "text/plain": [
       "array(['BB McCullum,DJ Hussey,Mohammad Hafeez,RT Ponting,SC Ganguly',\n",
       "       'AA Noffke,B Akhil,CL White,JH Kallis,MV Boucher,P Kumar,R Dravid,SB Joshi,V Kohli,W Jaffer,Z Khan',\n",
       "       'JDP Oram,MEK Hussey,ML Hayden,MS Dhoni,PA Patel,S Badrinath,SK Raina',\n",
       "       'A Nehra,AM Nayar,DJ Bravo,Harbhajan Singh,L Ronchi,MA Khote,RV Uthappa,SM Pollock,ST Jayasuriya',\n",
       "       'JH Kallis,LRPL Taylor,MV Boucher,P Kumar,R Dravid,R Vinay Kumar,S Chanderpaul,SB Joshi,V Kohli,Z Khan',\n",
       "       'GC Smith,M Kaif,M Rawat,SR Watson,YK Pathan',\n",
       "       'AB Agarkar,AB Dinda,BB McCullum,DJ Hussey,I Sharma,LR Shukla,M Kartik,Mohammad Hafeez,RT Ponting,SC Ganguly,WP Saha',\n",
       "       'ML Hayden,MS Dhoni,PA Patel',\n",
       "       'JDP Oram,MEK Hussey,ML Hayden,MS Dhoni,PA Patel,SK Raina',\n",
       "       'B Akhil,B Chipli,DW Steyn,JH Kallis,LRPL Taylor,MV Boucher,P Kumar,R Dravid,V Kohli,W Jaffer,Z Khan',\n",
       "       'AB Agarkar,BB McCullum,DB Das,DJ Hussey,I Sharma,LR Shukla,M Kartik,Mohammad Hafeez,RT Ponting,SC Ganguly',\n",
       "       'AM Rahane,DJ Bravo,MK Pandey,RV Uthappa,ST Jayasuriya',\n",
       "       'JA Morkel,Joginder Sharma,MS Dhoni,PA Patel,S Badrinath,S Vidyut,SK Raina,SP Fleming',\n",
       "       'AB de Villiers,G Gambhir,S Dhawan,V Sehwag',\n",
       "       'A Kumble,CL White,DT Patil,DW Steyn,JH Kallis,Misbah-ul-Haq,P Kumar,R Dravid,V Kohli,W Jaffer,Z Khan',\n",
       "       'DPMD Jayawardene,IK Pathan,JR Hopes,RR Sarwan,SE Marsh,Yuvraj Singh',\n",
       "       'A Chopra,BJ Hodge,DJ Hussey,LR Shukla,M Kartik,SC Ganguly,T Taibu,Umar Gul,WP Saha',\n",
       "       'CL White,J Arunkumar,MV Boucher,P Kumar,R Dravid,S Chanderpaul',\n",
       "       'A Kumble,B Akhil,CL White,MV Boucher,Misbah-ul-Haq,P Kumar,R Dravid,R Vinay Kumar,SP Goswami,V Kohli',\n",
       "       'RV Uthappa,SR Tendulkar,ST Jayasuriya',\n",
       "       'JA Morkel,MS Dhoni,S Badrinath,S Vidyut,SK Raina,SP Fleming',\n",
       "       'DPMD Jayawardene,IK Pathan,JR Hopes,K Goel,PP Chawla,RR Sarwan,S Sreesanth,SE Marsh,U Kaul,VRV Singh,Yuvraj Singh',\n",
       "       'A Chopra,DJ Hussey,Iqbal Abdulla,LR Shukla,SC Ganguly,Salman Butt,T Taibu,WP Saha',\n",
       "       'A Mishra,AB de Villiers,G Gambhir,GD McGrath,MF Maharoof,MK Tiwary,PJ Sangwan,S Dhawan,TM Dilshan,V Sehwag,VY Mahesh',\n",
       "       'DB Das,DJ Hussey,LR Shukla,Mohammad Hafeez,SC Ganguly,Salman Butt,WP Saha',\n",
       "       'PA Patel,SP Fleming',\n",
       "       'B Akhil,B Chipli,CL White,JH Kallis,Misbah-ul-Haq,P Kumar,R Dravid,SP Goswami,Z Khan',\n",
       "       'AB de Villiers,G Gambhir,KD Karthik,MF Maharoof,S Dhawan,TM Dilshan,V Sehwag',\n",
       "       'AB Agarkar,DB Das,DJ Hussey,I Sharma,LR Shukla,Mohammad Hafeez,SC Ganguly,Salman Butt,Umar Gul,WP Saha',\n",
       "       'GC Smith,M Kaif,SA Asnodkar,SR Watson,Sohail Tanvir,YK Pathan',\n",
       "       'A Kumble,B Akhil,JH Kallis,MV Boucher,Misbah-ul-Haq,P Kumar,R Dravid,R Vinay Kumar,SP Goswami,V Kohli',\n",
       "       'JA Morkel,L Balaji,M Ntini,MS Dhoni,MS Gony,PA Patel,S Badrinath,S Vidyut,SK Raina,SP Fleming',\n",
       "       'GC Smith,Kamran Akmal,M Kaif,SA Asnodkar,T Kohli,YK Pathan',\n",
       "       'A Mukund,JA Morkel,MS Dhoni,MS Gony,PA Patel,S Badrinath,SK Raina,SP Fleming',\n",
       "       'DPMD Jayawardene,IK Pathan,JR Hopes,KC Sangakkara,PP Chawla,SE Marsh,TM Srivastava,Yuvraj Singh',\n",
       "       'A Chopra,DB Das,DJ Hussey,I Sharma,LR Shukla,SC Ganguly,Salman Butt,Umar Gul,WP Saha',\n",
       "       'EJG Morgan,JH Kallis,MK Pandey,P Kumar,R Dravid,RE van der Merwe,RV Uthappa,SP Goswami,V Kohli',\n",
       "       'BJ Hodge,CA Pujara,MK Tiwary,OA Shah,SC Ganguly',\n",
       "       'DPMD Jayawardene,IK Pathan,MS Bisla,RS Bopara,Yuvraj Singh',\n",
       "       'JH Kallis,MK Pandey,RV Uthappa,V Kohli',\n",
       "       'M Vijay,ML Hayden,MS Dhoni,S Badrinath,SK Raina',\n",
       "       'AD Mathews,BJ Hodge,I Sharma,LR Shukla,M Kartik,MK Tiwary,OA Shah,RS Gavaskar,SC Ganguly,SE Bond,WP Saha',\n",
       "       'AA Jhunjhunwala,DR Martyn,M Morkel,MJ Lumb,MM Patel,NV Ojha,P Dogra,S Narwal,SK Trivedi,SK Warne,YK Pathan',\n",
       "       'JH Kallis,MK Pandey',\n",
       "       'DPMD Jayawardene,IK Pathan,J Theron,KC Sangakkara,M Kaif,MS Bisla,PP Chawla,RR Powar,RS Bopara,Yuvraj Singh',\n",
       "       'JA Morkel,M Vijay,ML Hayden,MS Gony,PA Patel,R Ashwin,S Badrinath,SK Raina',\n",
       "       'JA Morkel,ML Hayden,SK Raina',\n",
       "       'DPMD Jayawardene,IK Pathan,Yuvraj Singh',\n",
       "       'EJG Morgan,JH Kallis,MK Pandey,MV Boucher,R Dravid,RV Uthappa,V Kohli',\n",
       "       'GJ Bailey,JA Morkel,L Balaji,M Vijay,ML Hayden,PA Patel,R Ashwin,S Badrinath,SK Raina',\n",
       "       'AB McDonald,AB de Villiers,DA Warner,KD Karthik,KM Jadhav,V Sehwag',\n",
       "       'A Kumble,DW Steyn,EJG Morgan,JH Kallis,MK Pandey,MV Boucher,P Kumar,R Dravid,R Vinay Kumar,RV Uthappa,V Kohli',\n",
       "       'CL White,JH Kallis,KP Pietersen,MK Pandey,RV Uthappa,V Kohli',\n",
       "       'C Ganapathy,JA Morkel,M Vijay,ML Hayden,MS Dhoni,S Badrinath,SK Raina',\n",
       "       'JA Morkel,M Vijay,ML Hayden,MS Dhoni,S Anirudha,S Badrinath,SK Raina',\n",
       "       'AA Jhunjhunwala,AS Raut,FY Fazal,MJ Lumb,NV Ojha,SR Watson,YK Pathan',\n",
       "       'AD Mathews,CH Gayle,DJ Hussey,MK Tiwary,SC Ganguly',\n",
       "       'DPMD Jayawardene,KC Sangakkara,MS Bisla,Yuvraj Singh',\n",
       "       'M Vijay,MEK Hussey,ML Hayden,MS Dhoni,S Badrinath,SK Raina',\n",
       "       'AN Ahmed,AT Rayudu,DJ Bravo,Harbhajan Singh,KA Pollard,R McLaren,R Sathish,S Dhawan,SR Tendulkar,SS Tiwary',\n",
       "       'AD Mathews,BB McCullum,CH Gayle,MK Tiwary,SC Ganguly',\n",
       "       'A Mishra,DA Warner,DL Vettori,G Gambhir,KD Karthik,KM Jadhav,MF Maharoof,PD Collingwood,R Bhatia,V Sehwag',\n",
       "       'AB Agarkar,AB Dinda,AD Mathews,BAW Mendis,BB McCullum,CA Pujara,CH Gayle,I Sharma,MK Tiwary,SC Ganguly,WP Saha',\n",
       "       'JH Kallis,LRPL Taylor,R Dravid,RV Uthappa,S Sriram',\n",
       "       'AB Agarkar,AD Mathews,BB McCullum,CH Gayle,DJ Hussey,Iqbal Abdulla,LR Shukla,MK Tiwary,SC Ganguly,WP Saha',\n",
       "       'M Vijay,ML Hayden,SK Raina',\n",
       "       'DE Bollinger,JA Morkel,L Balaji,M Vijay,MEK Hussey,ML Hayden,MS Dhoni,R Ashwin,S Badrinath,SK Raina',\n",
       "       'DA Warner,G Gambhir,KD Karthik,M Manhas,TM Dilshan,V Sehwag',\n",
       "       'AM Nayar,AT Rayudu,JP Duminy,KA Pollard,R McLaren,SR Tendulkar',\n",
       "       'A Kumble,DW Steyn,JH Kallis,KP Pietersen,LRPL Taylor,MK Pandey,Pankaj Singh,R Dravid,R Vinay Kumar,RV Uthappa,V Kohli',\n",
       "       'AC Voges,AJ Finch,AS Raut,FY Fazal,Kamran Khan,NV Ojha,P Dogra,SK Trivedi,SK Warne,SR Watson,YK Pathan',\n",
       "       'BB McCullum,CA Pujara,CH Gayle,SC Ganguly',\n",
       "       'AP Tare,AT Rayudu,DJ Bravo,JP Duminy,R McLaren,R Sathish,S Dhawan,SS Tiwary,STR Binny',\n",
       "       'BB McCullum,DJ Hussey,SC Ganguly',\n",
       "       'JA Morkel,M Vijay,MS Dhoni,S Anirudha,SB Styris,SK Raina',\n",
       "       'EJG Morgan,G Gambhir,Iqbal Abdulla,JH Kallis,LR Shukla,MK Tiwary,MS Bisla,R Bhatia,YK Pathan',\n",
       "       'AB de Villiers,AUK Pathan,MA Agarwal,SS Tiwary,TM Dilshan,V Kohli',\n",
       "       'AT Rayudu,DJ Jacobs,SR Tendulkar',\n",
       "       'JA Morkel,M Vijay,MEK Hussey,MS Dhoni,S Badrinath,SK Raina',\n",
       "       'AB de Villiers,AUK Pathan,CA Pujara,DL Vettori,JJ van der Wath,MA Agarwal,SS Tiwary,TM Dilshan,V Kohli',\n",
       "       'A Singh,AG Paunikar,AL Menaria,AM Rahane,AS Raut,FY Fazal,LRPL Taylor,SK Trivedi,SK Warne,SR Watson,SW Tait',\n",
       "       'G Gambhir,JH Kallis,MK Tiwary,MS Bisla',\n",
       "       'BJ Haddin,EJG Morgan,G Gambhir,JH Kallis,MK Tiwary,YK Pathan',\n",
       "       'CH Gayle,TM Dilshan,V Kohli',\n",
       "       'AC Gilchrist,AM Nayar,Bipul Sharma,DJ Hussey,KD Karthik,P Kumar,PC Valthaty,SE Marsh',\n",
       "       'EJG Morgan,G Gambhir,JH Kallis,MK Tiwary',\n",
       "       'AL Menaria,AM Rahane,DH Yagnik,J Botha,LRPL Taylor,R Dravid,SR Watson,STR Binny',\n",
       "       'JA Morkel,M Vijay,MEK Hussey,SK Raina',\n",
       "       'A Mithun,AB de Villiers,AUK Pathan,CH Gayle,M Kaif,SS Tiwary,TM Dilshan,V Kohli',\n",
       "       'AC Gilchrist,AM Nayar,KD Karthik,L Ablish,P Kumar,PC Valthaty,PP Chawla,R McLaren,RJ Harris,SE Marsh,Sunny Singh',\n",
       "       'JA Morkel,M Vijay,MEK Hussey,S Badrinath,SK Raina',\n",
       "       'M Vijay,MEK Hussey,MS Dhoni,S Badrinath,SK Raina,WP Saha',\n",
       "       'AB McDonald,CA Ingram,DA Warner,IK Pathan,JR Hopes,NV Ojha,Y Nagar,Y Venugopal Rao',\n",
       "       'EJG Morgan,G Gambhir,JH Kallis,MK Tiwary,MV Boucher,YK Pathan',\n",
       "       'A Mithun,AB de Villiers,CH Gayle,KB Arun Karthik,LA Pomersbach,M Kaif,SS Tiwary,V Kohli',\n",
       "       'DJ Bravo,JA Morkel,M Vijay,MEK Hussey,MS Dhoni,R Ashwin,S Badrinath,SB Jakati,SK Raina,WP Saha',\n",
       "       'AB de Villiers,CH Gayle,SS Tiwary,V Kohli',\n",
       "       'G Gambhir,JH Kallis,MK Tiwary,R Bhatia,RN ten Doeschate,SP Goswami,Shakib Al Hasan,YK Pathan',\n",
       "       'AT Rayudu,Harbhajan Singh,JEC Franklin,KA Pollard,RG Sharma,SR Tendulkar,TL Suman',\n",
       "       'AB de Villiers,CH Gayle,LA Pomersbach,MA Agarwal,SS Tiwary,V Kohli',\n",
       "       'AC Blizzard,AN Ahmed,AT Rayudu,Harbhajan Singh,JEC Franklin,KA Pollard,R Sathish,RG Sharma,SL Malinga,SR Tendulkar',\n",
       "       'DJ Bravo,JA Morkel,M Vijay,MEK Hussey,MS Dhoni,S Badrinath,SK Raina',\n",
       "       'A Mithun,AB de Villiers,CH Gayle,DL Vettori,J Syed Mohammad,LA Pomersbach,MA Agarwal,SS Tiwary,V Kohli,Z Khan',\n",
       "       'DE Bollinger,DJ Bravo,F du Plessis,JA Morkel,M Vijay,MS Dhoni,R Ashwin,RA Jadeja,S Badrinath,SB Jakati,SK Raina',\n",
       "       'AT Rayudu,JEC Franklin,RE Levi,RG Sharma,SR Tendulkar',\n",
       "       'B Lee,BB McCullum,DB Das,G Gambhir,Iqbal Abdulla,JH Kallis,LR Shukla,MK Tiwary,R Bhatia,YK Pathan',\n",
       "       'AJ Finch,GJ Maxwell,IK Pathan,V Sehwag',\n",
       "       'AB McDonald,AB de Villiers,CA Pujara,DL Vettori,HV Patel,MA Agarwal,R Vinay Kumar,SS Tiwary,V Kohli',\n",
       "       'AJ Finch,DAJ Bracewell,GJ Maxwell,IK Pathan,M Morkel,NV Ojha,V Sehwag,Y Nagar,Y Venugopal Rao',\n",
       "       'B Lee,G Gambhir,JH Kallis,LR Shukla,MK Tiwary,MS Bisla,R Bhatia,RN ten Doeschate,Shakib Al Hasan,YK Pathan',\n",
       "       'AB de Villiers,CA Pujara,CH Gayle,DL Vettori,HV Patel,MA Agarwal,R Vinay Kumar,SS Tiwary,V Kohli,Z Khan',\n",
       "       'AB de Villiers,CA Pujara,CH Gayle,DL Vettori,MA Agarwal,R Vinay Kumar,RR Bhatkal,SS Tiwary,V Kohli,Z Khan',\n",
       "       'DJ Bravo,F du Plessis,JA Morkel,M Vijay,MS Dhoni,RA Jadeja,SK Raina',\n",
       "       'AL Menaria,AM Rahane,BJ Hodge,J Botha,OA Shah,R Dravid,SP Goswami',\n",
       "       'G Gambhir,JH Kallis,MK Tiwary,MS Bisla,RN ten Doeschate,Shakib Al Hasan,YK Pathan',\n",
       "       'AC Gilchrist,AD Mascarenhas,BA Bhatt,Bipul Sharma,DJ Hussey,Harmeet Singh,Mandeep Singh,P Dogra,P Kumar,PP Chawla,SE Marsh',\n",
       "       'DB Das,G Gambhir,JH Kallis,MK Tiwary,MS Bisla,R Bhatia,RN ten Doeschate,Shakib Al Hasan,YK Pathan',\n",
       "       'AM Rahane,BJ Hodge,OA Shah,R Dravid',\n",
       "       'AB de Villiers,CH Gayle,DL Vettori,M Kaif,M Muralitharan,MA Agarwal,R Vinay Kumar,S Aravind,SS Tiwary,V Kohli,Z Khan',\n",
       "       'AL Menaria,AM Rahane,BJ Hodge,OA Shah,R Dravid',\n",
       "       'DJ Bravo,F du Plessis,MS Dhoni,S Badrinath,SK Raina',\n",
       "       'Azhar Mahmood,Bipul Sharma,DA Miller,DJ Hussey,Mandeep Singh,N Saini,P Awana,P Kumar,PP Chawla,SE Marsh',\n",
       "       'DJ Bravo,F du Plessis,JA Morkel,KMDN Kulasekara,MS Dhoni,R Ashwin,RA Jadeja,S Badrinath,SK Raina,WP Saha',\n",
       "       'BB McCullum,G Gambhir,JH Kallis,MK Tiwary,YK Pathan',\n",
       "       'AB de Villiers,CH Gayle,DL Vettori,MA Agarwal,R Vinay Kumar,SS Tiwary,TM Dilshan,V Kohli',\n",
       "       'DJ Bravo,F du Plessis,JA Morkel,MEK Hussey,MS Dhoni,RA Jadeja,SK Raina',\n",
       "       'BB McCullum,DB Das,G Gambhir,JH Kallis,LR Shukla,MK Tiwary,YK Pathan',\n",
       "       'AB McDonald,AB de Villiers,AUK Pathan,CH Gayle,MA Agarwal,SS Tiwary,V Kohli',\n",
       "       'AM Nayar,Azhar Mahmood,DJ Hussey,Mandeep Singh,N Saini,P Dogra,PP Chawla,SE Marsh',\n",
       "       'HH Gibbs,RG Sharma,SR Tendulkar',\n",
       "       'DB Das,G Gambhir,JH Kallis,MK Tiwary,MS Bisla,YK Pathan',\n",
       "       'DA Warner,DPMD Jayawardene,IK Pathan,NV Ojha,V Sehwag,Y Nagar,Y Venugopal Rao',\n",
       "       'M Vijay,MEK Hussey,SK Raina',\n",
       "       'AB de Villiers,CH Gayle,MA Agarwal,R Vinay Kumar,SS Tiwary,TM Dilshan,V Kohli,Z Khan',\n",
       "       'AT Rayudu,DR Smith,HH Gibbs,KA Pollard,KD Karthik,RG Sharma,SR Tendulkar',\n",
       "       'BB McCullum,DB Das,G Gambhir,JH Kallis,LR Shukla,MK Tiwary,R Bhatia,YK Pathan',\n",
       "       'DJ Bravo,F du Plessis,M Vijay,MEK Hussey,MS Dhoni,RA Jadeja,SK Raina',\n",
       "       'DJ Bravo,M Vijay,MEK Hussey,MS Dhoni,RA Jadeja,S Badrinath,SK Raina',\n",
       "       'AT Rayudu,DR Smith,DS Kulkarni,Harbhajan Singh,JEC Franklin,KA Pollard,KD Karthik,RG Sharma,RP Singh,SL Malinga,SR Tendulkar',\n",
       "       'DJ Bravo,JA Morkel,M Vijay,MEK Hussey,MS Dhoni,SK Raina',\n",
       "       'AD Russell,DA Warner,DPMD Jayawardene,LRPL Taylor,NV Ojha,P Negi,Sunny Gupta,UT Yadav,V Sehwag,VR Aaron,Y Venugopal Rao',\n",
       "       'M Vijay,MEK Hussey,MS Dhoni,SK Raina',\n",
       "       'G Gambhir,JH Kallis,LR Shukla,MK Tiwary,MS Bisla,Shakib Al Hasan,YK Pathan',\n",
       "       'A Nehra,AD Russell,DA Warner,DPMD Jayawardene,IK Pathan,J Botha,MC Juneja,NV Ojha,S Nadeem,UBT Chand,UT Yadav',\n",
       "       'EJG Morgan,G Gambhir,JH Kallis,MK Tiwary,MS Bisla,YK Pathan',\n",
       "       'CH Gayle,DT Christian,KB Arun Karthik,KK Nair,MA Agarwal,TM Dilshan,V Kohli',\n",
       "       'AT Rayudu,Harbhajan Singh,KA Pollard,KD Karthik,RG Sharma,RT Ponting,SR Tendulkar',\n",
       "       'AT Rayudu,DR Smith,Harbhajan Singh,KA Pollard,KD Karthik,RG Sharma,RT Ponting,SR Tendulkar',\n",
       "       'AS Rajpoot,B Laughlin,DJ Bravo,DP Nannes,M Vijay,MEK Hussey,MS Dhoni,R Ashwin,RA Jadeja,S Badrinath,SK Raina',\n",
       "       'EJG Morgan,G Gambhir,JH Kallis,MK Tiwary,MS Bisla,PJ Sangwan,R Bhatia,R McLaren,SP Narine,YK Pathan',\n",
       "       'AB de Villiers,CH Gayle,MA Agarwal,V Kohli',\n",
       "       'AB de Villiers,CH Gayle,DT Christian,KB Arun Karthik,MA Agarwal,R Rampaul,V Kohli',\n",
       "       'CH Morris,DJ Bravo,M Vijay,MEK Hussey,MS Dhoni,RA Jadeja,S Badrinath,SK Raina',\n",
       "       'EJG Morgan,G Gambhir,JH Kallis,MS Bisla,YK Pathan',\n",
       "       'A Ashish Reddy,A Mishra,CL White,DB Ravi Teja,GH Vihari,KC Sangakkara,KV Sharma,NLTC Perera,PA Patel',\n",
       "       'BJ Rohrer,DA Warner,DPMD Jayawardene,IK Pathan,KM Jadhav,MC Juneja,V Sehwag',\n",
       "       'AB McDonald,AB de Villiers,CH Gayle,J Syed Mohammad,KB Arun Karthik,KL Rahul,R Rampaul,R Vinay Kumar,V Kohli',\n",
       "       'AB de Villiers,CH Gayle', 'BJ Rohrer,DA Warner,IK Pathan',\n",
       "       'DB Das,EJG Morgan,G Gambhir,JH Kallis,L Balaji,LR Shukla,MK Tiwary,R Bhatia,SMSM Senanayake,SP Narine,YK Pathan',\n",
       "       'DJ Bravo,M Vijay,MEK Hussey,MS Dhoni,R Ashwin,RA Jadeja,S Badrinath,SK Raina',\n",
       "       'A Chandila,AM Rahane,BJ Hodge,DH Yagnik,JP Faulkner,R Dravid,S Sreesanth,SK Trivedi,SR Watson,STR Binny,SW Tait',\n",
       "       'AB de Villiers,CH Gayle,SS Tiwary,TM Dilshan,V Kohli',\n",
       "       'AM Rahane,BJ Hodge,DH Yagnik,R Dravid,SR Watson,STR Binny',\n",
       "       'CH Morris,DJ Bravo,M Vijay,MEK Hussey,MS Dhoni,RA Jadeja,SK Raina',\n",
       "       'DB Das,EJG Morgan,G Gambhir,JH Kallis,MK Tiwary,R Bhatia,YK Pathan',\n",
       "       'AT Rayudu,DR Smith,Harbhajan Singh,KA Pollard,KD Karthik,RG Sharma,SR Tendulkar',\n",
       "       'A Ashish Reddy,A Mishra,CL White,DJG Sammy,GH Vihari,Q de Kock,S Dhawan,X Thalaivan Sargunam',\n",
       "       'AC Gilchrist,Azhar Mahmood,DA Miller,DJ Hussey,Gurkeerat Singh,M Vohra,Mandeep Singh,PP Chawla',\n",
       "       'EJG Morgan,G Gambhir,JH Kallis,MS Bisla,SMSM Senanayake,YK Pathan',\n",
       "       'MEK Hussey,MS Dhoni,RA Jadeja,SK Raina,WP Saha',\n",
       "       'BB McCullum,EJG Morgan,G Gambhir,JH Kallis,MS Bisla,YK Pathan',\n",
       "       'JA Morkel,MEK Hussey,MS Dhoni,RA Jadeja,SK Raina,WP Saha',\n",
       "       'DA Miller,DJ Hussey,Gurkeerat Singh,LA Pomersbach,MS Gony,Mandeep Singh,R Sathish,SE Marsh',\n",
       "       'AM Rahane,DH Yagnik,JP Faulkner,OA Shah,R Dravid,SR Watson,STR Binny,SV Samson',\n",
       "       'G Gambhir,JH Kallis,MS Bisla,YK Pathan',\n",
       "       'AB de Villiers,CA Pujara,CH Gayle,KL Rahul,MC Henriques,V Kohli',\n",
       "       'AC Gilchrist,Azhar Mahmood,DA Miller,R Sathish,SE Marsh',\n",
       "       'A Ashish Reddy,BB Samantray,CL White,GH Vihari,KC Sangakkara,NLTC Perera,PA Patel,PA Reddy',\n",
       "       'AB de Villiers,CH Gayle,MA Agarwal,MC Henriques,V Kohli',\n",
       "       'DJ Bravo,M Vijay,MEK Hussey,MS Dhoni,RA Jadeja,SK Raina',\n",
       "       'A Nehra,BJ Rohrer,DA Warner,IK Pathan,J Botha,KM Jadhav,RE van der Merwe,S Kaul,UBT Chand,UT Yadav,V Sehwag',\n",
       "       'AB de Villiers,CH Gayle,MC Henriques,V Kohli',\n",
       "       'AM Rahane,BJ Hodge,DH Yagnik,KK Cooper,R Dravid,SR Watson,STR Binny,SV Samson',\n",
       "       'AP Tare,AT Rayudu,DR Smith,Harbhajan Singh,KA Pollard,KD Karthik,R Dhawan,RG Sharma',\n",
       "       'AP Tare,AT Rayudu,DR Smith,Harbhajan Singh,KA Pollard,KD Karthik,MG Johnson,PP Ojha,R Dhawan,RG Sharma,SL Malinga',\n",
       "       'CH Morris,DJ Bravo,JA Morkel,M Vijay,MEK Hussey,MM Sharma,MS Dhoni,R Ashwin,RA Jadeja,S Badrinath,SK Raina',\n",
       "       'AJ Finch,DA Warner,DJG Sammy,IK Pathan,KL Rahul,KV Sharma,NV Ojha,S Dhawan',\n",
       "       'AB de Villiers,CH Gayle,HV Patel,MA Starc,PA Patel,RR Rossouw,V Kohli,Yuvraj Singh',\n",
       "       'AR Patel,DA Miller,GJ Bailey,GJ Maxwell,L Balaji,MG Johnson,Mandeep Singh,Shivam Sharma,V Sehwag,WP Saha',\n",
       "       'AB de Villiers,CH Gayle,HV Patel,JA Morkel,MA Starc,PA Patel,S Rana,V Kohli,VR Aaron,YS Chahal,Yuvraj Singh',\n",
       "       'AB de Villiers,CH Gayle,JA Morkel,PA Patel,V Kohli,VH Zol,Yuvraj Singh',\n",
       "       'AM Rahane,JP Faulkner,KK Nair,SPD Smith,SR Watson,STR Binny,SV Samson',\n",
       "       'AB de Villiers,CH Gayle,PA Patel,S Rana,V Kohli,Yuvraj Singh',\n",
       "       'JP Duminy,KD Karthik,KM Jadhav,KP Pietersen,M Vijay,MA Agarwal,Mohammed Shami,Q de Kock,R Shukla',\n",
       "       'BB McCullum,DR Smith,F du Plessis,MS Dhoni,RA Jadeja,SK Raina',\n",
       "       'G Gambhir,MK Pandey,RV Uthappa,Shakib Al Hasan',\n",
       "       'G Gambhir,MK Pandey,RN ten Doeschate,RV Uthappa,Shakib Al Hasan,YK Pathan',\n",
       "       'AB de Villiers,CH Gayle,MA Starc,S Rana,V Kohli,YV Takawale,Yuvraj Singh',\n",
       "       'AB de Villiers,MA Starc,RR Rossouw,S Rana,V Kohli,VH Zol,YV Takawale,Yuvraj Singh',\n",
       "       'DR Smith,F du Plessis,MS Dhoni,SK Raina',\n",
       "       'DA Warner,DJG Sammy,JO Holder,KV Sharma,NV Ojha,Parvez Rasool,S Anirudha,S Dhawan,Y Venugopal Rao',\n",
       "       'G Gambhir,MK Pandey,R Vinay Kumar,RN ten Doeschate,RV Uthappa,SA Yadav,Shakib Al Hasan,YK Pathan',\n",
       "       'G Gambhir,M Morkel,MK Pandey,PP Chawla,RN ten Doeschate,RV Uthappa,SA Yadav,SP Narine,Shakib Al Hasan,YK Pathan',\n",
       "       'AR Patel,DA Miller,GJ Bailey,GJ Maxwell,Karanveer Singh,M Vohra,MG Johnson,R Dhawan,V Sehwag,WP Saha',\n",
       "       'DA Miller,GJ Bailey,GJ Maxwell,M Vohra,V Sehwag,WP Saha',\n",
       "       'G Gambhir,MK Pandey,PP Chawla,RN ten Doeschate,RV Uthappa,SA Yadav,SP Narine,Shakib Al Hasan,YK Pathan',\n",
       "       'AJ Finch,AP Tare,AT Rayudu,CJ Anderson,RG Sharma',\n",
       "       'G Gambhir,MK Pandey,RV Uthappa,SA Yadav,YK Pathan',\n",
       "       'BB McCullum,DJ Bravo,DR Smith,F du Plessis,MM Sharma,MS Dhoni,R Ashwin,RA Jadeja,SK Raina',\n",
       "       'A Mishra,CM Gautam,DJ Muthuswami,Imran Tahir,JA Morkel,JP Duminy,KM Jadhav,MA Agarwal,NM Coulter-Nile,SS Iyer,Yuvraj Singh',\n",
       "       'BB McCullum,DJ Bravo,DR Smith,MS Dhoni,RA Jadeja,SK Raina',\n",
       "       'DA Warner,KL Rahul,KS Williamson,KV Sharma,NV Ojha,Parvez Rasool,RS Bopara,S Dhawan',\n",
       "       'AD Russell,G Gambhir,MK Pandey,PP Chawla,RV Uthappa,SA Yadav,Shakib Al Hasan,YK Pathan',\n",
       "       'AB de Villiers,AN Ahmed,CH Gayle,DJG Sammy,HV Patel,KD Karthik,Mandeep Singh,SA Abbott,V Kohli',\n",
       "       'AB de Villiers,AN Ahmed,CH Gayle,DJG Sammy,HV Patel,KD Karthik,Mandeep Singh,SA Abbott,V Kohli,VR Aaron,YS Chahal',\n",
       "       'DA Warner,KL Rahul,KS Williamson,S Dhawan',\n",
       "       'A Nehra,BB McCullum,DJ Bravo,DR Smith,F du Plessis,MM Sharma,MS Dhoni,P Negi,RA Jadeja,RG More,SK Raina',\n",
       "       'AD Russell,G Gambhir,MK Pandey,RV Uthappa,SA Yadav',\n",
       "       'AT Rayudu,HH Pandya,Harbhajan Singh,KA Pollard,LMP Simmons,PA Patel,RG Sharma,UBT Chand',\n",
       "       'AB de Villiers,AN Ahmed,CH Gayle,D Wiese,Iqbal Abdulla,KD Karthik,MS Bisla,RR Rossouw,V Kohli',\n",
       "       'A Nehra,BB McCullum,DJ Bravo,DR Smith,F du Plessis,MM Sharma,MS Dhoni,R Ashwin,RA Jadeja,SK Raina',\n",
       "       'AB de Villiers,D Wiese,HV Patel,KD Karthik,MA Starc,MS Bisla,RR Rossouw,SN Khan,V Kohli',\n",
       "       'BB McCullum,DR Smith,MS Dhoni,RA Jadeja,SK Raina',\n",
       "       'AR Patel,Anureet Singh,DA Miller,GJ Bailey,Karanveer Singh,M Vijay,MG Johnson,SE Marsh,Sandeep Sharma,V Sehwag,WP Saha',\n",
       "       'AD Russell,G Gambhir,J Botha,MK Pandey,PP Chawla,RV Uthappa,SA Yadav,YK Pathan',\n",
       "       'AD Mathews,JA Morkel,JP Duminy,KM Jadhav,MK Tiwary,SS Iyer,SS Tiwary,Yuvraj Singh',\n",
       "       'AB de Villiers,CH Gayle,D Wiese,HV Patel,KD Karthik,Mandeep Singh,SN Khan,V Kohli',\n",
       "       'BB McCullum,DJ Bravo,DR Smith,F du Plessis,MS Dhoni,R Ashwin,RA Jadeja,SK Raina',\n",
       "       'AD Russell,G Gambhir,GB Hogg,MK Pandey,PJ Cummins,PP Chawla,RN ten Doeschate,RV Uthappa,SA Yadav,UT Yadav,YK Pathan',\n",
       "       'AD Russell,G Gambhir,RN ten Doeschate,RV Uthappa,SA Yadav,YK Pathan',\n",
       "       'AB de Villiers,CH Gayle,D Wiese,Mandeep Singh,V Kohli',\n",
       "       'A Nehra,BB McCullum,DJ Bravo,DR Smith,F du Plessis,MM Sharma,MS Dhoni,P Negi,RA Jadeja,SK Raina',\n",
       "       'AB de Villiers,D Wiese,HV Patel,Iqbal Abdulla,KD Karthik,MA Starc,Mandeep Singh,NJ Maddinson,SN Khan,V Kohli,YS Chahal',\n",
       "       'AD Russell,G Gambhir,J Botha,MK Pandey,PP Chawla,RN ten Doeschate,RV Uthappa,SA Yadav,YK Pathan',\n",
       "       'B Kumar,Bipul Sharma,DA Warner,DW Steyn,EJG Morgan,GH Vihari,KV Sharma,MC Henriques,NV Ojha,P Kumar,S Dhawan',\n",
       "       'AB de Villiers,CH Gayle,KD Karthik,SN Khan,V Kohli',\n",
       "       'AR Patel,Anureet Singh,DA Miller,GJ Bailey,GJ Maxwell,Karanveer Singh,M Vijay,M Vohra,MG Johnson,Sandeep Sharma,WP Saha',\n",
       "       'BB McCullum,DR Smith,F du Plessis,MS Dhoni,P Negi,SK Raina',\n",
       "       'AT Rayudu,HH Pandya,KA Pollard,LMP Simmons,PA Patel,RG Sharma',\n",
       "       'DA Miller,GJ Bailey,GJ Maxwell,Gurkeerat Singh,M Vijay,M Vohra,WP Saha',\n",
       "       'AD Russell,G Gambhir,GB Hogg,J Botha,MK Pandey,PP Chawla,RV Uthappa,SA Yadav,SP Narine,UT Yadav,YK Pathan',\n",
       "       'BB McCullum,DJ Bravo,DR Smith,F du Plessis,MS Dhoni,P Negi,SK Raina',\n",
       "       'AM Rahane,Ankit Sharma,CH Morris,DJ Hooda,JP Faulkner,KK Nair,PV Tambe,R Bhatia,SPD Smith,SR Watson,SV Samson',\n",
       "       'AD Mathews,JP Duminy,KM Jadhav,Q de Kock,SS Iyer,SS Tiwary,Yuvraj Singh',\n",
       "       'CH Gayle,V Kohli',\n",
       "       'AT Rayudu,HH Pandya,Harbhajan Singh,KA Pollard,LMP Simmons,PA Patel,RG Sharma',\n",
       "       'DJ Bravo,DR Smith,F du Plessis,MEK Hussey,MM Sharma,MS Dhoni,P Negi,R Ashwin,RA Jadeja,SK Raina',\n",
       "       'A Mishra,CH Morris,CR Brathwaite,KK Nair,MA Agarwal,NM Coulter-Nile,P Negi,Q de Kock,SS Iyer,SV Samson,Z Khan',\n",
       "       'G Gambhir,MK Pandey,RV Uthappa',\n",
       "       'AB de Villiers,CH Gayle,KM Jadhav,SN Khan,SR Watson,V Kohli',\n",
       "       'A Ashish Reddy,DA Warner,DJ Hooda,EJG Morgan,KV Sharma,MC Henriques,NV Ojha,S Dhawan',\n",
       "       'AD Russell,C Munro,G Gambhir,MK Pandey,RV Uthappa,SA Yadav,YK Pathan',\n",
       "       'HH Pandya,JC Buttler,KA Pollard,MJ McClenaghan,PA Patel,RG Sharma',\n",
       "       'AB de Villiers,CH Gayle,D Wiese,KM Jadhav,SN Khan,SR Watson,V Kohli',\n",
       "       'JP Duminy,KK Nair,Q de Kock,SS Iyer,SV Samson',\n",
       "       'AB de Villiers,CH Gayle,KL Rahul,SR Watson,STR Binny,Sachin Baby,V Kohli,VR Aaron',\n",
       "       'AD Russell,CA Lynn,G Gambhir,MK Pandey,RV Uthappa,SA Yadav,YK Pathan',\n",
       "       'AD Russell,G Gambhir,RV Uthappa,YK Pathan',\n",
       "       'AR Patel,DA Miller,GJ Maxwell,Gurkeerat Singh,M Vijay,M Vohra,MM Sharma,MP Stoinis,Sandeep Sharma,Swapnil Singh,WP Saha',\n",
       "       'AB de Villiers,CH Gayle,KL Rahul,SR Watson,Sachin Baby,V Kohli',\n",
       "       'AT Rayudu,JC Buttler,KA Pollard,N Rana,PA Patel,RG Sharma',\n",
       "       'AD Russell,G Gambhir,MK Pandey,RV Uthappa,SA Yadav,Shakib Al Hasan,YK Pathan',\n",
       "       'AB de Villiers,CH Gayle,V Kohli',\n",
       "       'AB de Villiers,CH Gayle,KL Rahul,SR Watson,V Kohli',\n",
       "       'AR Patel,DA Miller,F Behardien,Gurkeerat Singh,HM Amla,KC Cariappa,KJ Abbott,M Vijay,MM Sharma,Sandeep Sharma,WP Saha',\n",
       "       'C Munro,G Gambhir,JO Holder,MK Pandey,RV Uthappa,SA Yadav,Shakib Al Hasan,YK Pathan',\n",
       "       'B Kumar,BB Sran,DA Warner,DJ Hooda,KS Williamson,KV Sharma,MC Henriques,NV Ojha,S Dhawan,Yuvraj Singh',\n",
       "       'B Kumar,BCJ Cutting,Bipul Sharma,DA Warner,DJ Hooda,MC Henriques,NV Ojha,S Dhawan,Yuvraj Singh',\n",
       "       'AB de Villiers,CH Gayle,CJ Jordan,Iqbal Abdulla,KL Rahul,SR Watson,STR Binny,Sachin Baby,V Kohli',\n",
       "       'CH Gayle,Iqbal Abdulla,KM Jadhav,Mandeep Singh,P Negi,SR Watson,STR Binny,TS Mills,Vishnu Vinod',\n",
       "       'A Mishra,AP Tare,CH Morris,CR Brathwaite,KK Nair,PJ Cummins,RR Pant,S Nadeem,SV Samson,SW Billings,Z Khan',\n",
       "       'AR Patel,DA Miller,GJ Maxwell,HM Amla,M Vohra,MM Sharma,MP Stoinis,Sandeep Sharma,VR Aaron,WP Saha',\n",
       "       'G Gambhir,MK Pandey,RV Uthappa,SP Narine',\n",
       "       'AB de Villiers,CH Gayle,KM Jadhav,Mandeep Singh,P Negi,STR Binny,V Kohli',\n",
       "       'HH Pandya,JC Buttler,KA Pollard,KH Pandya,MJ McClenaghan,N Rana,PA Patel,RG Sharma',\n",
       "       'C de Grandhomme,CR Woakes,G Gambhir,MK Pandey,RV Uthappa,SA Yadav,SP Narine,YK Pathan',\n",
       "       'BCJ Cutting,Bipul Sharma,DA Warner,DJ Hooda,MC Henriques,NV Ojha,S Dhawan,Yuvraj Singh',\n",
       "       'C de Grandhomme,CR Woakes,G Gambhir,Kuldeep Yadav,MK Pandey,NM Coulter-Nile,RV Uthappa,SA Yadav,SP Narine,UT Yadav,YK Pathan',\n",
       "       'AB de Villiers,CH Gayle,KM Jadhav,Mandeep Singh,P Negi,S Aravind,S Badree,STR Binny,TS Mills,V Kohli,YS Chahal',\n",
       "       'AR Bawne,CH Morris,CJ Anderson,KK Nair,PJ Cummins,RR Pant,SS Iyer,SV Samson',\n",
       "       'G Gambhir,MK Pandey,RV Uthappa,SP Jackson,SP Narine',\n",
       "       'AR Patel,GJ Maxwell,HM Amla,M Vohra,MJ Guptill,MM Sharma,SE Marsh,VR Aaron,WP Saha',\n",
       "       'A Choudhary,AB de Villiers,CH Gayle,KM Jadhav,Mandeep Singh,P Negi,S Aravind,S Badree,SR Watson,V Kohli,YS Chahal',\n",
       "       'AB de Villiers,CH Gayle,KM Jadhav,Mandeep Singh,P Negi,S Aravind,TM Head,V Kohli',\n",
       "       'C de Grandhomme,CA Lynn,G Gambhir,MK Pandey,SP Narine,YK Pathan',\n",
       "       'AT Rayudu,HH Pandya,KA Pollard,KH Pandya,LMP Simmons,RG Sharma,SS Tiwary',\n",
       "       'C de Grandhomme,CA Lynn,G Gambhir,Kuldeep Yadav,MK Pandey,RV Uthappa,SP Narine,TA Boult,UT Yadav,YK Pathan',\n",
       "       'Bipul Sharma,CJ Jordan,DA Warner,KS Williamson,NV Ojha,S Dhawan,V Shankar,Yuvraj Singh',\n",
       "       'CA Lynn,G Gambhir,IR Jaggi,RV Uthappa,YK Pathan',\n",
       "       'AS Rajpoot,C de Grandhomme,CA Lynn,G Gambhir,IR Jaggi,NM Coulter-Nile,PP Chawla,RV Uthappa,SA Yadav,SP Narine,UT Yadav',\n",
       "       'AT Rayudu,KA Pollard,KH Pandya,LMP Simmons,PA Patel,RG Sharma',\n",
       "       'AB de Villiers,BB McCullum,CR Woakes,Mandeep Singh,Q de Kock,SN Khan,V Kohli,Washington Sundar',\n",
       "       'AD Russell,CA Lynn,KD Karthik,N Rana,R Vinay Kumar,RK Singh,RV Uthappa,SP Narine',\n",
       "       'AD Russell,CA Lynn,KD Karthik,N Rana,RK Singh,RV Uthappa,SP Narine,TK Curran',\n",
       "       'AT Rayudu,DJ Bravo,MS Dhoni,RA Jadeja,SK Raina,SR Watson,SW Billings',\n",
       "       'AJ Finch,AJ Tye,AR Patel,KK Nair,KL Rahul,MA Agarwal,MM Sharma,MP Stoinis,Mujeeb Ur Rahman,R Ashwin,Yuvraj Singh',\n",
       "       'AD Russell,CA Lynn,KD Karthik,MG Johnson,N Rana,RV Uthappa,SP Narine,Shivam Mavi,Shubman Gill',\n",
       "       'DJ Hooda,KS Williamson,MK Pandey,S Dhawan,Shakib Al Hasan,WP Saha,YK Pathan',\n",
       "       'AM Rahane,BA Stokes,DJM Short,JC Buttler,RA Tripathi,SV Samson',\n",
       "       'AB de Villiers,BB McCullum,CR Woakes,Mandeep Singh,P Negi,Q de Kock,V Kohli,Washington Sundar',\n",
       "       'AD Russell,CA Lynn,KD Karthik,N Rana,PP Chawla,RV Uthappa,SP Narine,Shivam Mavi,Shubman Gill,TK Curran',\n",
       "       'CH Morris,G Gambhir,GJ Maxwell,JJ Roy,Mohammed Shami,R Tewatia,RR Pant,S Nadeem,SS Iyer,TA Boult,V Shankar',\n",
       "       'AD Russell,CA Lynn,KD Karthik,N Rana,PP Chawla,RV Uthappa,SP Narine,Shubman Gill,TK Curran',\n",
       "       'CH Gayle,KL Rahul,MA Agarwal',\n",
       "       'CH Morris,G Gambhir,GJ Maxwell,JJ Roy,R Tewatia,RR Pant,SS Iyer',\n",
       "       'AB de Villiers,CJ Anderson,M Vohra,Mandeep Singh,Q de Kock,V Kohli',\n",
       "       'AJ Finch,AJ Tye,BB Sran,DA Miller,KK Nair,KL Rahul,MA Agarwal,R Ashwin,Yuvraj Singh',\n",
       "       'A Mishra,DT Christian,G Gambhir,GJ Maxwell,LE Plunkett,PP Shaw,R Tewatia,RR Pant,SS Iyer',\n",
       "       'AB de Villiers,C de Grandhomme,CJ Anderson,Mandeep Singh,Mohammed Siraj,P Negi,Q de Kock,UT Yadav,V Kohli,Washington Sundar',\n",
       "       'C Munro,GJ Maxwell,PP Shaw,RR Pant,SS Iyer,V Shankar',\n",
       "       'AD Russell,CA Lynn,KD Karthik,Kuldeep Yadav,MG Johnson,N Rana,PP Chawla,RV Uthappa,SP Narine,Shivam Mavi,Shubman Gill',\n",
       "       'BB McCullum,C de Grandhomme,M Vohra,Mandeep Singh,Q de Kock,V Kohli',\n",
       "       'AD Russell,CA Lynn,KD Karthik,N Rana,RV Uthappa,SP Narine,Shubman Gill',\n",
       "       'BB McCullum,C de Grandhomme,M Vohra,Mandeep Singh,Q de Kock,TG Southee,UT Yadav,V Kohli,Washington Sundar',\n",
       "       'BCJ Cutting,HH Pandya,Ishan Kishan,JP Duminy,KA Pollard,KH Pandya,MJ McClenaghan,RG Sharma,SA Yadav',\n",
       "       'C Munro,GJ Maxwell,LE Plunkett,PP Shaw,RR Pant,SS Iyer,V Shankar',\n",
       "       'BA Stokes,DJM Short,JC Archer,JC Buttler,K Gowtham,RA Tripathi,SV Samson',\n",
       "       'AT Rayudu,F du Plessis,KV Sharma,MS Dhoni,RA Jadeja,SK Raina,SR Watson',\n",
       "       'CA Lynn,KD Karthik,RK Singh,RV Uthappa,SP Narine,Shubman Gill',\n",
       "       'BCJ Cutting,E Lewis,HH Pandya,Ishan Kishan,JP Duminy,KH Pandya,RG Sharma,SA Yadav',\n",
       "       'AD Russell,CA Lynn,KD Karthik,Kuldeep Yadav,M Prasidh Krishna,N Rana,PP Chawla,RK Singh,RV Uthappa,SP Narine,TK Curran',\n",
       "       'GJ Maxwell,HV Patel,JJ Roy,PP Shaw,RR Pant,SS Iyer,V Shankar',\n",
       "       'AD Hales,KS Williamson,S Dhawan',\n",
       "       'Abhishek Sharma,JJ Roy,PP Shaw,RR Pant,SS Iyer,V Shankar',\n",
       "       'AB de Villiers,C de Grandhomme,MM Ali,Mandeep Singh,PA Patel,SN Khan,V Kohli',\n",
       "       'AM Rahane,Anureet Singh,BA Stokes,IS Sodhi,JC Archer,JC Buttler,JD Unadkat,K Gowtham,RA Tripathi,STR Binny,SV Samson',\n",
       "       'AD Russell,CA Lynn,KD Karthik,N Rana,RV Uthappa,SP Narine',\n",
       "       'AB de Villiers,C de Grandhomme,MM Ali,Mandeep Singh,PA Patel,SN Khan,TG Southee,V Kohli',\n",
       "       'AD Hales,DJ Hooda,KS Williamson,MK Pandey,S Dhawan',\n",
       "       'Abhishek Sharma,GJ Maxwell,HV Patel,PP Shaw,RR Pant,SS Iyer,V Shankar',\n",
       "       'AT Rayudu,DJ Bravo,DL Chahar,MS Dhoni,RA Jadeja,SK Raina,SR Watson,SW Billings',\n",
       "       'Abhishek Sharma,GJ Maxwell,PP Shaw,RR Pant,SS Iyer,V Shankar',\n",
       "       'BCJ Cutting,E Lewis,HH Pandya,Ishan Kishan,JJ Bumrah,KA Pollard,KH Pandya,M Markande,Mustafizur Rahman,RG Sharma,SA Yadav',\n",
       "       'AD Russell,CA Lynn,JPR Scantlebury-Searles,KD Karthik,N Rana,PP Chawla,RV Uthappa,SP Narine,Shubman Gill',\n",
       "       'AM Rahane,H Klaasen,K Gowtham,RA Tripathi,STR Binny,SV Samson',\n",
       "       'B Kumar,CR Brathwaite,DJ Hooda,KS Williamson,Rashid Khan,S Dhawan,Shakib Al Hasan,WP Saha,YK Pathan',\n",
       "       'AD Russell,CA Lynn,KD Karthik,Kuldeep Yadav,M Prasidh Krishna,N Rana,PP Chawla,RV Uthappa,SP Narine,Shivam Mavi,Shubman Gill',\n",
       "       'AB de Villiers,C de Grandhomme,MM Ali,Mohammed Siraj,NA Saini,PA Patel,S Dube,SO Hetmyer,UT Yadav,V Kohli,YS Chahal',\n",
       "       'AT Rayudu,KM Jadhav,RA Jadeja,SK Raina,SR Watson',\n",
       "       'DA Warner,JM Bairstow,MK Pandey,V Shankar,YK Pathan',\n",
       "       'AD Russell,CA Lynn,KD Karthik,N Rana,RV Uthappa,Shubman Gill',\n",
       "       'AR Patel,CA Ingram,KMA Paul,PP Shaw,R Tewatia,RR Pant,S Dhawan,SS Iyer',\n",
       "       'AT Rayudu,DJ Bravo,KM Jadhav,MS Dhoni,SK Raina,SR Watson',\n",
       "       'CH Gayle,DA Miller,KL Rahul,MA Agarwal,Mandeep Singh,SN Khan',\n",
       "       'HH Pandya,JJ Bumrah,KA Pollard,KH Pandya,M Markande,MJ McClenaghan,Q de Kock,RG Sharma,SA Yadav,Yuvraj Singh',\n",
       "       'AB de Villiers,C de Grandhomme,MM Ali,PA Patel,S Dube,SO Hetmyer,V Kohli',\n",
       "       'AD Russell,CA Lynn,KD Karthik,Kuldeep Yadav,N Rana,NS Naik,PP Chawla,RV Uthappa,Shubman Gill',\n",
       "       'CA Ingram,GH Vihari,HV Patel,PP Shaw,RR Pant,S Dhawan,SS Iyer',\n",
       "       'PP Shaw,RR Pant,SS Iyer', 'AD Russell,KD Karthik,RV Uthappa',\n",
       "       'AT Rayudu,DJ Bravo,KM Jadhav,MS Dhoni,RA Jadeja,SK Raina,SR Watson',\n",
       "       'AM Rahane,BA Stokes,JC Archer,JC Buttler,JD Unadkat,K Gowtham,RA Tripathi,S Gopal,SPD Smith,SV Samson',\n",
       "       'AR Patel,CA Ingram,CH Morris,I Sharma,K Rabada,PP Shaw,R Tewatia,RR Pant,S Dhawan,SS Iyer',\n",
       "       'DA Warner,DJ Hooda,JM Bairstow,MK Pandey,Mohammad Nabi,V Shankar,YK Pathan',\n",
       "       'AB de Villiers,MM Ali,MP Stoinis,PA Patel,V Kohli',\n",
       "       'AT Rayudu,F du Plessis,MS Dhoni,SK Raina,SR Watson',\n",
       "       'CH Gayle,DA Miller,KL Rahul,MA Agarwal,Mandeep Singh,SM Curran,SN Khan',\n",
       "       'AB de Villiers,AD Nath,MM Ali,MP Stoinis,Mohammed Siraj,P Negi,PA Patel,TG Southee,V Kohli,YS Chahal',\n",
       "       'AR Patel,CA Ingram,CH Morris,PP Shaw,R Tewatia,RR Pant,S Dhawan,SS Iyer',\n",
       "       'AD Russell,CA Lynn,HF Gurney,KD Karthik,Kuldeep Yadav,M Prasidh Krishna,N Rana,PP Chawla,RV Uthappa,SP Narine,Shubman Gill',\n",
       "       'AT Rayudu,F du Plessis,KM Jadhav,SK Raina,SR Watson',\n",
       "       'AD Russell,CR Brathwaite,JL Denly,KD Karthik,Kuldeep Yadav,N Rana,PP Chawla,RV Uthappa,Shubman Gill',\n",
       "       'CA Ingram,PP Shaw,RR Pant,S Dhawan,SS Iyer',\n",
       "       'AD Russell,CA Lynn,KD Karthik,Kuldeep Yadav,N Rana,PP Chawla,RV Uthappa,SP Narine,Shubman Gill',\n",
       "       'AT Rayudu,F du Plessis,KM Jadhav,MS Dhoni,RA Jadeja,SK Raina,SR Watson',\n",
       "       'BCJ Cutting,HH Pandya,KA Pollard,KH Pandya,Q de Kock,RG Sharma,SA Yadav',\n",
       "       'A Mishra,AR Patel,C Munro,CH Morris,I Sharma,K Rabada,KMA Paul,PP Shaw,RR Pant,S Dhawan,SS Iyer',\n",
       "       'AD Nath,MM Ali,MP Stoinis,PA Patel,V Kohli',\n",
       "       'CH Gayle,DA Miller,GC Viljoen,Harpreet Brar,KL Rahul,MA Agarwal,Mandeep Singh,R Ashwin,SM Curran',\n",
       "       'AR Patel,CA Ingram,PP Shaw,RR Pant,S Dhawan,SE Rutherford,SS Iyer',\n",
       "       'AB de Villiers,AD Nath,DW Steyn,MM Ali,MP Stoinis,P Negi,PA Patel,UT Yadav,V Kohli',\n",
       "       'AT Rayudu,DJ Bravo,F du Plessis,KM Jadhav,MS Dhoni,RA Jadeja,SK Raina,SN Thakur,SR Watson',\n",
       "       'AT Rayudu,DJ Bravo,F du Plessis,KM Jadhav,SK Raina,SR Watson',\n",
       "       'AB de Villiers,AD Nath,MM Ali,MP Stoinis,PA Patel,V Kohli',\n",
       "       'CH Gayle,DA Miller,GC Viljoen,KL Rahul,M Ashwin,MA Agarwal,Mandeep Singh,N Pooran,R Ashwin',\n",
       "       'AD Russell,CA Lynn,CR Brathwaite,KD Karthik,N Rana,RK Singh,SP Narine,Shubman Gill',\n",
       "       'AM Rahane,BA Stokes,JC Archer,JD Unadkat,R Parag,S Gopal,SPD Smith,STR Binny,SV Samson',\n",
       "       'E Lewis,HH Pandya,KA Pollard,KH Pandya,Q de Kock,RG Sharma',\n",
       "       'AT Rayudu,DJ Bravo,DL Chahar,DR Shorey,Harbhajan Singh,Imran Tahir,KM Jadhav,M Vijay,MJ Santner,SK Raina,SR Watson',\n",
       "       'AB de Villiers,Gurkeerat Singh,H Klaasen,MP Stoinis,PA Patel,S Dube,UT Yadav,V Kohli,Washington Sundar',\n",
       "       'AD Russell,CA Lynn,KD Karthik,Shubman Gill',\n",
       "       'BB Sran,E Lewis,HH Pandya,KA Pollard,KH Pandya,Q de Kock,RD Chahar,RG Sharma,SA Yadav',\n",
       "       'AB de Villiers,Gurkeerat Singh,H Klaasen,MP Stoinis,NA Saini,P Negi,PA Patel,UT Yadav,V Kohli',\n",
       "       'LS Livingstone,SV Samson',\n",
       "       'AT Rayudu,F du Plessis,MS Dhoni,RA Jadeja,SK Raina,SR Watson',\n",
       "       'A Mishra,AR Patel,CA Ingram,CH Morris,J Suchith,PP Shaw,RR Pant,S Dhawan,SE Rutherford,SS Iyer,TA Boult',\n",
       "       'AM Rahane,IS Sodhi,K Gowtham,LS Livingstone,MK Lomror,R Parag,S Gopal,STR Binny,SV Samson,VR Aaron',\n",
       "       'B Kumar,KS Williamson,MJ Guptill,MK Pandey,Mohammad Nabi,Rashid Khan,V Shankar,WP Saha,YK Pathan',\n",
       "       'AB de Villiers,C de Grandhomme,Gurkeerat Singh,PA Patel,SO Hetmyer,UT Yadav,V Kohli,Washington Sundar',\n",
       "       'AT Rayudu,F du Plessis,M Vijay,MS Dhoni,SK Raina,SR Watson',\n",
       "       'HH Pandya,Ishan Kishan,KH Pandya,Q de Kock,RG Sharma,SA Yadav',\n",
       "       'CA Lynn,HH Pandya,Ishan Kishan,JJ Bumrah,KA Pollard,KH Pandya,M Jansen,RD Chahar,RG Sharma,SA Yadav',\n",
       "       'AB de Villiers,DT Christian,GJ Maxwell,HV Patel,KA Jamieson,Mohammed Siraj,RM Patidar,Shahbaz Ahmed,V Kohli,Washington Sundar',\n",
       "       'AT Rayudu,F du Plessis,MM Ali,MS Dhoni,RA Jadeja,RD Gaikwad,SK Raina,SM Curran',\n",
       "       'MP Stoinis,PP Shaw,RR Pant,S Dhawan,SO Hetmyer',\n",
       "       'AD Russell,EJG Morgan,KD Karthik,N Rana,RA Tripathi,Shakib Al Hasan,Shubman Gill',\n",
       "       'Abdul Samad,DA Warner,JM Bairstow,MK Pandey,Mohammad Nabi,V Shankar,WP Saha'],\n",
       "      dtype=object)"
      ]
     },
     "execution_count": 111,
     "metadata": {},
     "output_type": "execute_result"
    }
   ],
   "source": [
    "#concat_data['batsmen']"
   ]
  },
  {
   "cell_type": "code",
   "execution_count": 113,
   "id": "wooden-coach",
   "metadata": {},
   "outputs": [],
   "source": [
    "#"
   ]
  },
  {
   "cell_type": "code",
   "execution_count": 114,
   "id": "potential-mauritius",
   "metadata": {},
   "outputs": [],
   "source": [
    "#"
   ]
  },
  {
   "cell_type": "code",
   "execution_count": 115,
   "id": "recognized-geneva",
   "metadata": {},
   "outputs": [],
   "source": [
    "#"
   ]
  },
  {
   "cell_type": "code",
   "execution_count": 116,
   "id": "cooked-payment",
   "metadata": {},
   "outputs": [],
   "source": [
    "#"
   ]
  },
  {
   "cell_type": "code",
   "execution_count": 117,
   "id": "important-setup",
   "metadata": {},
   "outputs": [],
   "source": [
    "#\n"
   ]
  },
  {
   "cell_type": "code",
   "execution_count": 118,
   "id": "nasty-homework",
   "metadata": {},
   "outputs": [],
   "source": [
    "##"
   ]
  },
  {
   "cell_type": "code",
   "execution_count": 119,
   "id": "random-logging",
   "metadata": {},
   "outputs": [
    {
     "data": {
      "text/html": [
       "<div>\n",
       "<style scoped>\n",
       "    .dataframe tbody tr th:only-of-type {\n",
       "        vertical-align: middle;\n",
       "    }\n",
       "\n",
       "    .dataframe tbody tr th {\n",
       "        vertical-align: top;\n",
       "    }\n",
       "\n",
       "    .dataframe thead th {\n",
       "        text-align: right;\n",
       "    }\n",
       "</style>\n",
       "<table border=\"1\" class=\"dataframe\">\n",
       "  <thead>\n",
       "    <tr style=\"text-align: right;\">\n",
       "      <th></th>\n",
       "      <th></th>\n",
       "      <th>batsmen</th>\n",
       "      <th>bowlers</th>\n",
       "      <th>total_runs</th>\n",
       "      <th>batting_team</th>\n",
       "      <th>bowling_team</th>\n",
       "      <th>venue</th>\n",
       "    </tr>\n",
       "    <tr>\n",
       "      <th>match_id</th>\n",
       "      <th>innings</th>\n",
       "      <th></th>\n",
       "      <th></th>\n",
       "      <th></th>\n",
       "      <th></th>\n",
       "      <th></th>\n",
       "      <th></th>\n",
       "    </tr>\n",
       "  </thead>\n",
       "  <tbody>\n",
       "    <tr>\n",
       "      <th rowspan=\"2\" valign=\"top\">335982</th>\n",
       "      <th>1</th>\n",
       "      <td>BB McCullum,DJ Hussey,Mohammad Hafeez,RT Ponti...</td>\n",
       "      <td>[AA Noffke, CL White, JH Kallis, P Kumar, SB J...</td>\n",
       "      <td>67.0</td>\n",
       "      <td>Kolkata Knight Riders</td>\n",
       "      <td>Royal Challengers Bangalore</td>\n",
       "      <td>M Chinnaswamy Stadium</td>\n",
       "    </tr>\n",
       "    <tr>\n",
       "      <th>2</th>\n",
       "      <td>AA Noffke,B Akhil,CL White,JH Kallis,MV Bouche...</td>\n",
       "      <td>[AB Agarkar, AB Dinda, I Sharma, LR Shukla, SC...</td>\n",
       "      <td>28.0</td>\n",
       "      <td>Royal Challengers Bangalore</td>\n",
       "      <td>Kolkata Knight Riders</td>\n",
       "      <td>M Chinnaswamy Stadium</td>\n",
       "    </tr>\n",
       "    <tr>\n",
       "      <th rowspan=\"2\" valign=\"top\">335989</th>\n",
       "      <th>1</th>\n",
       "      <td>JDP Oram,MEK Hussey,ML Hayden,MS Dhoni,PA Pate...</td>\n",
       "      <td>[A Nehra, AM Nayar, DJ Bravo, DS Kulkarni, Har...</td>\n",
       "      <td>60.0</td>\n",
       "      <td>Chennai Super Kings</td>\n",
       "      <td>Mumbai Indians</td>\n",
       "      <td>MA Chidambaram Stadium</td>\n",
       "    </tr>\n",
       "    <tr>\n",
       "      <th>2</th>\n",
       "      <td>A Nehra,AM Nayar,DJ Bravo,Harbhajan Singh,L Ro...</td>\n",
       "      <td>[JDP Oram, Joginder Sharma, M Muralitharan, MS...</td>\n",
       "      <td>54.0</td>\n",
       "      <td>Mumbai Indians</td>\n",
       "      <td>Chennai Super Kings</td>\n",
       "      <td>MA Chidambaram Stadium</td>\n",
       "    </tr>\n",
       "    <tr>\n",
       "      <th>335992</th>\n",
       "      <th>1</th>\n",
       "      <td>JH Kallis,LRPL Taylor,MV Boucher,P Kumar,R Dra...</td>\n",
       "      <td>[MM Patel, SK Trivedi, SK Warne, SR Watson, So...</td>\n",
       "      <td>58.0</td>\n",
       "      <td>Royal Challengers Bangalore</td>\n",
       "      <td>Rajasthan Royals</td>\n",
       "      <td>M Chinnaswamy Stadium</td>\n",
       "    </tr>\n",
       "  </tbody>\n",
       "</table>\n",
       "</div>"
      ],
      "text/plain": [
       "                                                            batsmen  \\\n",
       "match_id innings                                                      \n",
       "335982   1        BB McCullum,DJ Hussey,Mohammad Hafeez,RT Ponti...   \n",
       "         2        AA Noffke,B Akhil,CL White,JH Kallis,MV Bouche...   \n",
       "335989   1        JDP Oram,MEK Hussey,ML Hayden,MS Dhoni,PA Pate...   \n",
       "         2        A Nehra,AM Nayar,DJ Bravo,Harbhajan Singh,L Ro...   \n",
       "335992   1        JH Kallis,LRPL Taylor,MV Boucher,P Kumar,R Dra...   \n",
       "\n",
       "                                                            bowlers  \\\n",
       "match_id innings                                                      \n",
       "335982   1        [AA Noffke, CL White, JH Kallis, P Kumar, SB J...   \n",
       "         2        [AB Agarkar, AB Dinda, I Sharma, LR Shukla, SC...   \n",
       "335989   1        [A Nehra, AM Nayar, DJ Bravo, DS Kulkarni, Har...   \n",
       "         2        [JDP Oram, Joginder Sharma, M Muralitharan, MS...   \n",
       "335992   1        [MM Patel, SK Trivedi, SK Warne, SR Watson, So...   \n",
       "\n",
       "                  total_runs                 batting_team  \\\n",
       "match_id innings                                            \n",
       "335982   1              67.0        Kolkata Knight Riders   \n",
       "         2              28.0  Royal Challengers Bangalore   \n",
       "335989   1              60.0          Chennai Super Kings   \n",
       "         2              54.0               Mumbai Indians   \n",
       "335992   1              58.0  Royal Challengers Bangalore   \n",
       "\n",
       "                                 bowling_team                   venue  \n",
       "match_id innings                                                       \n",
       "335982   1        Royal Challengers Bangalore   M Chinnaswamy Stadium  \n",
       "         2              Kolkata Knight Riders   M Chinnaswamy Stadium  \n",
       "335989   1                     Mumbai Indians  MA Chidambaram Stadium  \n",
       "         2                Chennai Super Kings  MA Chidambaram Stadium  \n",
       "335992   1                   Rajasthan Royals   M Chinnaswamy Stadium  "
      ]
     },
     "execution_count": 119,
     "metadata": {},
     "output_type": "execute_result"
    }
   ],
   "source": [
    "concat_data.head()"
   ]
  },
  {
   "cell_type": "code",
   "execution_count": 121,
   "id": "sunrise-directive",
   "metadata": {},
   "outputs": [],
   "source": [
    "concat_data.drop(['batsmen','bowlers'], axis=1,inplace=True)"
   ]
  },
  {
   "cell_type": "code",
   "execution_count": 122,
   "id": "painful-finland",
   "metadata": {},
   "outputs": [],
   "source": [
    "concat_data = pd.get_dummies(data=concat_data, columns=['batting_team', 'bowling_team', 'venue'])"
   ]
  },
  {
   "cell_type": "code",
   "execution_count": 123,
   "id": "running-distributor",
   "metadata": {},
   "outputs": [
    {
     "data": {
      "text/html": [
       "<div>\n",
       "<style scoped>\n",
       "    .dataframe tbody tr th:only-of-type {\n",
       "        vertical-align: middle;\n",
       "    }\n",
       "\n",
       "    .dataframe tbody tr th {\n",
       "        vertical-align: top;\n",
       "    }\n",
       "\n",
       "    .dataframe thead th {\n",
       "        text-align: right;\n",
       "    }\n",
       "</style>\n",
       "<table border=\"1\" class=\"dataframe\">\n",
       "  <thead>\n",
       "    <tr style=\"text-align: right;\">\n",
       "      <th></th>\n",
       "      <th></th>\n",
       "      <th>total_runs</th>\n",
       "      <th>batting_team_Chennai Super Kings</th>\n",
       "      <th>batting_team_Delhi Capitals</th>\n",
       "      <th>batting_team_Kolkata Knight Riders</th>\n",
       "      <th>batting_team_Mumbai Indians</th>\n",
       "      <th>batting_team_Punjab Kings</th>\n",
       "      <th>batting_team_Rajasthan Royals</th>\n",
       "      <th>batting_team_Royal Challengers Bangalore</th>\n",
       "      <th>batting_team_Sunrisers Hyderabad</th>\n",
       "      <th>bowling_team_Chennai Super Kings</th>\n",
       "      <th>...</th>\n",
       "      <th>bowling_team_Mumbai Indians</th>\n",
       "      <th>bowling_team_Punjab Kings</th>\n",
       "      <th>bowling_team_Rajasthan Royals</th>\n",
       "      <th>bowling_team_Royal Challengers Bangalore</th>\n",
       "      <th>bowling_team_Sunrisers Hyderabad</th>\n",
       "      <th>venue_Arun Jaitley Stadium</th>\n",
       "      <th>venue_Eden Gardens</th>\n",
       "      <th>venue_M Chinnaswamy Stadium</th>\n",
       "      <th>venue_MA Chidambaram Stadium</th>\n",
       "      <th>venue_Wankhede Stadium, Mumbai</th>\n",
       "    </tr>\n",
       "    <tr>\n",
       "      <th>match_id</th>\n",
       "      <th>innings</th>\n",
       "      <th></th>\n",
       "      <th></th>\n",
       "      <th></th>\n",
       "      <th></th>\n",
       "      <th></th>\n",
       "      <th></th>\n",
       "      <th></th>\n",
       "      <th></th>\n",
       "      <th></th>\n",
       "      <th></th>\n",
       "      <th></th>\n",
       "      <th></th>\n",
       "      <th></th>\n",
       "      <th></th>\n",
       "      <th></th>\n",
       "      <th></th>\n",
       "      <th></th>\n",
       "      <th></th>\n",
       "      <th></th>\n",
       "      <th></th>\n",
       "      <th></th>\n",
       "    </tr>\n",
       "  </thead>\n",
       "  <tbody>\n",
       "    <tr>\n",
       "      <th rowspan=\"2\" valign=\"top\">335982</th>\n",
       "      <th>1</th>\n",
       "      <td>67.0</td>\n",
       "      <td>0</td>\n",
       "      <td>0</td>\n",
       "      <td>1</td>\n",
       "      <td>0</td>\n",
       "      <td>0</td>\n",
       "      <td>0</td>\n",
       "      <td>0</td>\n",
       "      <td>0</td>\n",
       "      <td>0</td>\n",
       "      <td>...</td>\n",
       "      <td>0</td>\n",
       "      <td>0</td>\n",
       "      <td>0</td>\n",
       "      <td>1</td>\n",
       "      <td>0</td>\n",
       "      <td>0</td>\n",
       "      <td>0</td>\n",
       "      <td>1</td>\n",
       "      <td>0</td>\n",
       "      <td>0</td>\n",
       "    </tr>\n",
       "    <tr>\n",
       "      <th>2</th>\n",
       "      <td>28.0</td>\n",
       "      <td>0</td>\n",
       "      <td>0</td>\n",
       "      <td>0</td>\n",
       "      <td>0</td>\n",
       "      <td>0</td>\n",
       "      <td>0</td>\n",
       "      <td>1</td>\n",
       "      <td>0</td>\n",
       "      <td>0</td>\n",
       "      <td>...</td>\n",
       "      <td>0</td>\n",
       "      <td>0</td>\n",
       "      <td>0</td>\n",
       "      <td>0</td>\n",
       "      <td>0</td>\n",
       "      <td>0</td>\n",
       "      <td>0</td>\n",
       "      <td>1</td>\n",
       "      <td>0</td>\n",
       "      <td>0</td>\n",
       "    </tr>\n",
       "    <tr>\n",
       "      <th rowspan=\"2\" valign=\"top\">335989</th>\n",
       "      <th>1</th>\n",
       "      <td>60.0</td>\n",
       "      <td>1</td>\n",
       "      <td>0</td>\n",
       "      <td>0</td>\n",
       "      <td>0</td>\n",
       "      <td>0</td>\n",
       "      <td>0</td>\n",
       "      <td>0</td>\n",
       "      <td>0</td>\n",
       "      <td>0</td>\n",
       "      <td>...</td>\n",
       "      <td>1</td>\n",
       "      <td>0</td>\n",
       "      <td>0</td>\n",
       "      <td>0</td>\n",
       "      <td>0</td>\n",
       "      <td>0</td>\n",
       "      <td>0</td>\n",
       "      <td>0</td>\n",
       "      <td>1</td>\n",
       "      <td>0</td>\n",
       "    </tr>\n",
       "    <tr>\n",
       "      <th>2</th>\n",
       "      <td>54.0</td>\n",
       "      <td>0</td>\n",
       "      <td>0</td>\n",
       "      <td>0</td>\n",
       "      <td>1</td>\n",
       "      <td>0</td>\n",
       "      <td>0</td>\n",
       "      <td>0</td>\n",
       "      <td>0</td>\n",
       "      <td>1</td>\n",
       "      <td>...</td>\n",
       "      <td>0</td>\n",
       "      <td>0</td>\n",
       "      <td>0</td>\n",
       "      <td>0</td>\n",
       "      <td>0</td>\n",
       "      <td>0</td>\n",
       "      <td>0</td>\n",
       "      <td>0</td>\n",
       "      <td>1</td>\n",
       "      <td>0</td>\n",
       "    </tr>\n",
       "    <tr>\n",
       "      <th>335992</th>\n",
       "      <th>1</th>\n",
       "      <td>58.0</td>\n",
       "      <td>0</td>\n",
       "      <td>0</td>\n",
       "      <td>0</td>\n",
       "      <td>0</td>\n",
       "      <td>0</td>\n",
       "      <td>0</td>\n",
       "      <td>1</td>\n",
       "      <td>0</td>\n",
       "      <td>0</td>\n",
       "      <td>...</td>\n",
       "      <td>0</td>\n",
       "      <td>0</td>\n",
       "      <td>1</td>\n",
       "      <td>0</td>\n",
       "      <td>0</td>\n",
       "      <td>0</td>\n",
       "      <td>0</td>\n",
       "      <td>1</td>\n",
       "      <td>0</td>\n",
       "      <td>0</td>\n",
       "    </tr>\n",
       "  </tbody>\n",
       "</table>\n",
       "<p>5 rows × 22 columns</p>\n",
       "</div>"
      ],
      "text/plain": [
       "                  total_runs  batting_team_Chennai Super Kings  \\\n",
       "match_id innings                                                 \n",
       "335982   1              67.0                                 0   \n",
       "         2              28.0                                 0   \n",
       "335989   1              60.0                                 1   \n",
       "         2              54.0                                 0   \n",
       "335992   1              58.0                                 0   \n",
       "\n",
       "                  batting_team_Delhi Capitals  \\\n",
       "match_id innings                                \n",
       "335982   1                                  0   \n",
       "         2                                  0   \n",
       "335989   1                                  0   \n",
       "         2                                  0   \n",
       "335992   1                                  0   \n",
       "\n",
       "                  batting_team_Kolkata Knight Riders  \\\n",
       "match_id innings                                       \n",
       "335982   1                                         1   \n",
       "         2                                         0   \n",
       "335989   1                                         0   \n",
       "         2                                         0   \n",
       "335992   1                                         0   \n",
       "\n",
       "                  batting_team_Mumbai Indians  batting_team_Punjab Kings  \\\n",
       "match_id innings                                                           \n",
       "335982   1                                  0                          0   \n",
       "         2                                  0                          0   \n",
       "335989   1                                  0                          0   \n",
       "         2                                  1                          0   \n",
       "335992   1                                  0                          0   \n",
       "\n",
       "                  batting_team_Rajasthan Royals  \\\n",
       "match_id innings                                  \n",
       "335982   1                                    0   \n",
       "         2                                    0   \n",
       "335989   1                                    0   \n",
       "         2                                    0   \n",
       "335992   1                                    0   \n",
       "\n",
       "                  batting_team_Royal Challengers Bangalore  \\\n",
       "match_id innings                                             \n",
       "335982   1                                               0   \n",
       "         2                                               1   \n",
       "335989   1                                               0   \n",
       "         2                                               0   \n",
       "335992   1                                               1   \n",
       "\n",
       "                  batting_team_Sunrisers Hyderabad  \\\n",
       "match_id innings                                     \n",
       "335982   1                                       0   \n",
       "         2                                       0   \n",
       "335989   1                                       0   \n",
       "         2                                       0   \n",
       "335992   1                                       0   \n",
       "\n",
       "                  bowling_team_Chennai Super Kings  ...  \\\n",
       "match_id innings                                    ...   \n",
       "335982   1                                       0  ...   \n",
       "         2                                       0  ...   \n",
       "335989   1                                       0  ...   \n",
       "         2                                       1  ...   \n",
       "335992   1                                       0  ...   \n",
       "\n",
       "                  bowling_team_Mumbai Indians  bowling_team_Punjab Kings  \\\n",
       "match_id innings                                                           \n",
       "335982   1                                  0                          0   \n",
       "         2                                  0                          0   \n",
       "335989   1                                  1                          0   \n",
       "         2                                  0                          0   \n",
       "335992   1                                  0                          0   \n",
       "\n",
       "                  bowling_team_Rajasthan Royals  \\\n",
       "match_id innings                                  \n",
       "335982   1                                    0   \n",
       "         2                                    0   \n",
       "335989   1                                    0   \n",
       "         2                                    0   \n",
       "335992   1                                    1   \n",
       "\n",
       "                  bowling_team_Royal Challengers Bangalore  \\\n",
       "match_id innings                                             \n",
       "335982   1                                               1   \n",
       "         2                                               0   \n",
       "335989   1                                               0   \n",
       "         2                                               0   \n",
       "335992   1                                               0   \n",
       "\n",
       "                  bowling_team_Sunrisers Hyderabad  \\\n",
       "match_id innings                                     \n",
       "335982   1                                       0   \n",
       "         2                                       0   \n",
       "335989   1                                       0   \n",
       "         2                                       0   \n",
       "335992   1                                       0   \n",
       "\n",
       "                  venue_Arun Jaitley Stadium  venue_Eden Gardens  \\\n",
       "match_id innings                                                   \n",
       "335982   1                                 0                   0   \n",
       "         2                                 0                   0   \n",
       "335989   1                                 0                   0   \n",
       "         2                                 0                   0   \n",
       "335992   1                                 0                   0   \n",
       "\n",
       "                  venue_M Chinnaswamy Stadium  venue_MA Chidambaram Stadium  \\\n",
       "match_id innings                                                              \n",
       "335982   1                                  1                             0   \n",
       "         2                                  1                             0   \n",
       "335989   1                                  0                             1   \n",
       "         2                                  0                             1   \n",
       "335992   1                                  1                             0   \n",
       "\n",
       "                  venue_Wankhede Stadium, Mumbai  \n",
       "match_id innings                                  \n",
       "335982   1                                     0  \n",
       "         2                                     0  \n",
       "335989   1                                     0  \n",
       "         2                                     0  \n",
       "335992   1                                     0  \n",
       "\n",
       "[5 rows x 22 columns]"
      ]
     },
     "execution_count": 123,
     "metadata": {},
     "output_type": "execute_result"
    }
   ],
   "source": [
    "concat_data.head()"
   ]
  },
  {
   "cell_type": "code",
   "execution_count": 124,
   "id": "stylish-designer",
   "metadata": {},
   "outputs": [],
   "source": [
    "from sklearn.model_selection import train_test_split\n",
    "from sklearn.linear_model import Lasso\n",
    "from sklearn.model_selection import GridSearchCV"
   ]
  },
  {
   "cell_type": "code",
   "execution_count": 144,
   "id": "incorrect-forum",
   "metadata": {},
   "outputs": [
    {
     "ename": "AttributeError",
     "evalue": "'DataFrame' object has no attribute 'rows'",
     "output_type": "error",
     "traceback": [
      "\u001b[1;31m---------------------------------------------------------------------------\u001b[0m",
      "\u001b[1;31mAttributeError\u001b[0m                            Traceback (most recent call last)",
      "\u001b[1;32m<ipython-input-144-13721e4db0d7>\u001b[0m in \u001b[0;36m<module>\u001b[1;34m\u001b[0m\n\u001b[0;32m      1\u001b[0m \u001b[1;31m#concat_data.drop('match_id',axis=1,inplace=True)\u001b[0m\u001b[1;33m\u001b[0m\u001b[1;33m\u001b[0m\u001b[1;33m\u001b[0m\u001b[0m\n\u001b[0;32m      2\u001b[0m \u001b[1;31m#concat_data.columns = concat_data.columns.droplevel()\u001b[0m\u001b[1;33m\u001b[0m\u001b[1;33m\u001b[0m\u001b[1;33m\u001b[0m\u001b[0m\n\u001b[1;32m----> 3\u001b[1;33m \u001b[0mconcat_data\u001b[0m\u001b[1;33m.\u001b[0m\u001b[0mrows\u001b[0m\u001b[1;33m\u001b[0m\u001b[1;33m\u001b[0m\u001b[0m\n\u001b[0m",
      "\u001b[1;32m~\\Anaconda3\\lib\\site-packages\\pandas\\core\\generic.py\u001b[0m in \u001b[0;36m__getattr__\u001b[1;34m(self, name)\u001b[0m\n\u001b[0;32m   5065\u001b[0m             \u001b[1;32mif\u001b[0m \u001b[0mself\u001b[0m\u001b[1;33m.\u001b[0m\u001b[0m_info_axis\u001b[0m\u001b[1;33m.\u001b[0m\u001b[0m_can_hold_identifiers_and_holds_name\u001b[0m\u001b[1;33m(\u001b[0m\u001b[0mname\u001b[0m\u001b[1;33m)\u001b[0m\u001b[1;33m:\u001b[0m\u001b[1;33m\u001b[0m\u001b[1;33m\u001b[0m\u001b[0m\n\u001b[0;32m   5066\u001b[0m                 \u001b[1;32mreturn\u001b[0m \u001b[0mself\u001b[0m\u001b[1;33m[\u001b[0m\u001b[0mname\u001b[0m\u001b[1;33m]\u001b[0m\u001b[1;33m\u001b[0m\u001b[1;33m\u001b[0m\u001b[0m\n\u001b[1;32m-> 5067\u001b[1;33m             \u001b[1;32mreturn\u001b[0m \u001b[0mobject\u001b[0m\u001b[1;33m.\u001b[0m\u001b[0m__getattribute__\u001b[0m\u001b[1;33m(\u001b[0m\u001b[0mself\u001b[0m\u001b[1;33m,\u001b[0m \u001b[0mname\u001b[0m\u001b[1;33m)\u001b[0m\u001b[1;33m\u001b[0m\u001b[1;33m\u001b[0m\u001b[0m\n\u001b[0m\u001b[0;32m   5068\u001b[0m \u001b[1;33m\u001b[0m\u001b[0m\n\u001b[0;32m   5069\u001b[0m     \u001b[1;32mdef\u001b[0m \u001b[0m__setattr__\u001b[0m\u001b[1;33m(\u001b[0m\u001b[0mself\u001b[0m\u001b[1;33m,\u001b[0m \u001b[0mname\u001b[0m\u001b[1;33m,\u001b[0m \u001b[0mvalue\u001b[0m\u001b[1;33m)\u001b[0m\u001b[1;33m:\u001b[0m\u001b[1;33m\u001b[0m\u001b[1;33m\u001b[0m\u001b[0m\n",
      "\u001b[1;31mAttributeError\u001b[0m: 'DataFrame' object has no attribute 'rows'"
     ]
    }
   ],
   "source": [
    "#concat_data.drop('match_id',axis=1,inplace=True)\n",
    "#concat_data.columns = concat_data.columns.droplevel()\n",
    "concat_data.rows"
   ]
  },
  {
   "cell_type": "code",
   "execution_count": 126,
   "id": "medium-latvia",
   "metadata": {},
   "outputs": [],
   "source": [
    "X = concat_data.drop('total_runs',axis=1)"
   ]
  },
  {
   "cell_type": "code",
   "execution_count": 129,
   "id": "proprietary-breathing",
   "metadata": {},
   "outputs": [],
   "source": [
    "y = concat_data['total_runs']"
   ]
  },
  {
   "cell_type": "code",
   "execution_count": 130,
   "id": "included-wellington",
   "metadata": {},
   "outputs": [],
   "source": [
    "X_train, X_test, y_train, y_test = train_test_split(X, y, test_size=0.20)"
   ]
  },
  {
   "cell_type": "code",
   "execution_count": 152,
   "id": "novel-tobacco",
   "metadata": {},
   "outputs": [],
   "source": [
    "lasso=Lasso()\n",
    "parameters={'alpha':[1e-15,1e-10,1e-8,1e-3,1e-2,1,5,10,20,30,35,40]}\n",
    "lasso_regressor=GridSearchCV(lasso,parameters,scoring='r2',cv=5)"
   ]
  },
  {
   "cell_type": "code",
   "execution_count": 153,
   "id": "heavy-cathedral",
   "metadata": {},
   "outputs": [
    {
     "name": "stdout",
     "output_type": "stream",
     "text": [
      "{'alpha': 1}\n",
      "-0.05030196798736699\n"
     ]
    },
    {
     "name": "stderr",
     "output_type": "stream",
     "text": [
      "C:\\Users\\DELL\\Anaconda3\\lib\\site-packages\\sklearn\\linear_model\\coordinate_descent.py:475: ConvergenceWarning: Objective did not converge. You might want to increase the number of iterations. Duality gap: 471.47809286636766, tolerance: 4.801317241379311\n",
      "  positive)\n",
      "C:\\Users\\DELL\\Anaconda3\\lib\\site-packages\\sklearn\\linear_model\\coordinate_descent.py:475: ConvergenceWarning: Objective did not converge. You might want to increase the number of iterations. Duality gap: 1771.4410289569787, tolerance: 4.264413793103448\n",
      "  positive)\n",
      "C:\\Users\\DELL\\Anaconda3\\lib\\site-packages\\sklearn\\linear_model\\coordinate_descent.py:475: ConvergenceWarning: Objective did not converge. You might want to increase the number of iterations. Duality gap: 989.8985810449376, tolerance: 3.958847328244275\n",
      "  positive)\n",
      "C:\\Users\\DELL\\Anaconda3\\lib\\site-packages\\sklearn\\linear_model\\coordinate_descent.py:475: ConvergenceWarning: Objective did not converge. You might want to increase the number of iterations. Duality gap: 1106.306556052099, tolerance: 4.496436641221375\n",
      "  positive)\n",
      "C:\\Users\\DELL\\Anaconda3\\lib\\site-packages\\sklearn\\linear_model\\coordinate_descent.py:475: ConvergenceWarning: Objective did not converge. You might want to increase the number of iterations. Duality gap: 2287.9172464756994, tolerance: 4.495690458015267\n",
      "  positive)\n",
      "C:\\Users\\DELL\\Anaconda3\\lib\\site-packages\\sklearn\\linear_model\\coordinate_descent.py:475: ConvergenceWarning: Objective did not converge. You might want to increase the number of iterations. Duality gap: 774.8894695846466, tolerance: 4.801317241379311\n",
      "  positive)\n",
      "C:\\Users\\DELL\\Anaconda3\\lib\\site-packages\\sklearn\\linear_model\\coordinate_descent.py:475: ConvergenceWarning: Objective did not converge. You might want to increase the number of iterations. Duality gap: 715.7919612911719, tolerance: 4.264413793103448\n",
      "  positive)\n",
      "C:\\Users\\DELL\\Anaconda3\\lib\\site-packages\\sklearn\\linear_model\\coordinate_descent.py:475: ConvergenceWarning: Objective did not converge. You might want to increase the number of iterations. Duality gap: 832.86287112438, tolerance: 3.958847328244275\n",
      "  positive)\n",
      "C:\\Users\\DELL\\Anaconda3\\lib\\site-packages\\sklearn\\linear_model\\coordinate_descent.py:475: ConvergenceWarning: Objective did not converge. You might want to increase the number of iterations. Duality gap: 409.77798846583755, tolerance: 4.496436641221375\n",
      "  positive)\n",
      "C:\\Users\\DELL\\Anaconda3\\lib\\site-packages\\sklearn\\linear_model\\coordinate_descent.py:475: ConvergenceWarning: Objective did not converge. You might want to increase the number of iterations. Duality gap: 2523.8084799604694, tolerance: 4.495690458015267\n",
      "  positive)\n",
      "C:\\Users\\DELL\\Anaconda3\\lib\\site-packages\\sklearn\\linear_model\\coordinate_descent.py:475: ConvergenceWarning: Objective did not converge. You might want to increase the number of iterations. Duality gap: 774.8880829523405, tolerance: 4.801317241379311\n",
      "  positive)\n",
      "C:\\Users\\DELL\\Anaconda3\\lib\\site-packages\\sklearn\\linear_model\\coordinate_descent.py:475: ConvergenceWarning: Objective did not converge. You might want to increase the number of iterations. Duality gap: 715.7913960191872, tolerance: 4.264413793103448\n",
      "  positive)\n",
      "C:\\Users\\DELL\\Anaconda3\\lib\\site-packages\\sklearn\\linear_model\\coordinate_descent.py:475: ConvergenceWarning: Objective did not converge. You might want to increase the number of iterations. Duality gap: 832.8632957558439, tolerance: 3.958847328244275\n",
      "  positive)\n",
      "C:\\Users\\DELL\\Anaconda3\\lib\\site-packages\\sklearn\\linear_model\\coordinate_descent.py:475: ConvergenceWarning: Objective did not converge. You might want to increase the number of iterations. Duality gap: 409.78117530970485, tolerance: 4.496436641221375\n",
      "  positive)\n",
      "C:\\Users\\DELL\\Anaconda3\\lib\\site-packages\\sklearn\\linear_model\\coordinate_descent.py:475: ConvergenceWarning: Objective did not converge. You might want to increase the number of iterations. Duality gap: 2523.8076873968894, tolerance: 4.495690458015267\n",
      "  positive)\n"
     ]
    }
   ],
   "source": [
    "lasso_regressor.fit(X_train,y_train)\n",
    "print(lasso_regressor.best_params_)\n",
    "print(lasso_regressor.best_score_)\n",
    "prediction = lasso_regressor.predict(X_test)"
   ]
  },
  {
   "cell_type": "code",
   "execution_count": 150,
   "id": "initial-market",
   "metadata": {},
   "outputs": [],
   "source": [
    "from sklearn.metrics import SCORERS"
   ]
  },
  {
   "cell_type": "code",
   "execution_count": 151,
   "id": "going-leadership",
   "metadata": {},
   "outputs": [
    {
     "data": {
      "text/plain": [
       "dict_keys(['explained_variance', 'r2', 'max_error', 'neg_median_absolute_error', 'neg_mean_absolute_error', 'neg_mean_squared_error', 'neg_mean_squared_log_error', 'accuracy', 'roc_auc', 'balanced_accuracy', 'average_precision', 'neg_log_loss', 'brier_score_loss', 'adjusted_rand_score', 'homogeneity_score', 'completeness_score', 'v_measure_score', 'mutual_info_score', 'adjusted_mutual_info_score', 'normalized_mutual_info_score', 'fowlkes_mallows_score', 'precision', 'precision_macro', 'precision_micro', 'precision_samples', 'precision_weighted', 'recall', 'recall_macro', 'recall_micro', 'recall_samples', 'recall_weighted', 'f1', 'f1_macro', 'f1_micro', 'f1_samples', 'f1_weighted', 'jaccard', 'jaccard_macro', 'jaccard_micro', 'jaccard_samples', 'jaccard_weighted'])"
      ]
     },
     "execution_count": 151,
     "metadata": {},
     "output_type": "execute_result"
    }
   ],
   "source": [
    "SCORERS.keys()"
   ]
  },
  {
   "cell_type": "code",
   "execution_count": 156,
   "id": "joint-offer",
   "metadata": {},
   "outputs": [
    {
     "name": "stdout",
     "output_type": "stream",
     "text": [
      "AxesSubplot(0.125,0.125;0.775x0.755)\n",
      "MAE: 9.701387334974267\n",
      "MSE: 170.4821461197526\n",
      "RMSE: 13.056881178893855\n"
     ]
    },
    {
     "data": {
      "image/png": "[encoded data removed]",
      "text/plain": [
       "<Figure size 432x288 with 1 Axes>"
      ]
     },
     "metadata": {
      "needs_background": "light"
     },
     "output_type": "display_data"
    }
   ],
   "source": [
    "from sklearn import metrics\n",
    "print(sns.distplot(y_test-prediction))\n",
    "print('MAE:', metrics.mean_absolute_error(y_test, prediction))\n",
    "print('MSE:', metrics.mean_squared_error(y_test, prediction))\n",
    "print('RMSE:', np.sqrt(metrics.mean_squared_error(y_test, prediction)))"
   ]
  },
  {
   "cell_type": "code",
   "execution_count": null,
   "id": "veterinary-desperate",
   "metadata": {},
   "outputs": [],
   "source": []
  }
 ],
 "metadata": {
  "kernelspec": {
   "display_name": "Python 3",
   "language": "python",
   "name": "python3"
  },
  "language_info": {
   "codemirror_mode": {
    "name": "ipython",
    "version": 3
   },
   "file_extension": ".py",
   "mimetype": "text/x-python",
   "name": "python",
   "nbconvert_exporter": "python",
   "pygments_lexer": "ipython3",
   "version": "3.7.3"
  }
 },
 "nbformat": 4,
 "nbformat_minor": 5
}
